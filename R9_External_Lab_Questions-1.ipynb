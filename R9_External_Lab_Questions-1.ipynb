{
 "cells": [
  {
   "cell_type": "markdown",
   "metadata": {
    "colab_type": "text",
    "id": "WPJHV_CIn6Bg"
   },
   "source": [
    "## Problem: \n",
    "\n",
    "Seismic data is collected using reflection seismology, or seismic reflection. The method requires a controlled seismic source of energy, such as compressed air or a seismic vibrator, and sensors record the reflection from rock interfaces within the subsurface. The recorded data is then processed to create a 3D view of earth’s interior. Reflection seismology is similar to X-ray, sonar and echolocation.\n",
    "\n",
    "A seismic image is produced from imaging the reflection coming from rock boundaries. The seismic image shows the boundaries between different rock types. In theory, the strength of reflection is directly proportional to the difference in the physical properties on either sides of the interface. While seismic images show rock boundaries, they don't say much about the rock themselves; some rocks are easy to identify while some are difficult.\n",
    "\n",
    "There are several areas of the world where there are vast quantities of salt in the subsurface. One of the challenges of seismic imaging is to identify the part of subsurface which is salt. Salt has characteristics that makes it both simple and hard to identify. Salt density is usually 2.14 g/cc which is lower than most surrounding rocks. The seismic velocity of salt is 4.5 km/sec, which is usually faster than its surrounding rocks. This difference creates a sharp reflection at the salt-sediment interface. Usually salt is an amorphous rock without much internal structure. This means that there is typically not much reflectivity inside the salt, unless there are sediments trapped inside it. The unusually high seismic velocity of salt can create problems with seismic imaging.\n",
    "\n",
    "### Data\n",
    "The data is a set of images chosen at various locations chosen at random in the subsurface. The images are 101 x 101 pixels and each pixel is classified as either salt or sediment. In addition to the seismic images, the depth of the imaged location is provided for each image. The goal of the competition is to segment regions that contain salt.\n",
    "\n",
    "#### Source: \n",
    "https://www.kaggle.com/c/tgs-salt-identification-challenge\n",
    "\n",
    "\n",
    "### Note: \n",
    "Accept the terms and download data from the above link"
   ]
  },
  {
   "cell_type": "markdown",
   "metadata": {
    "colab_type": "text",
    "id": "3OKrTNUtn-od"
   },
   "source": [
    "### Aim: \n",
    "\n",
    "In this, you are asked to segment salt deposits beneath the Earth’s surface. Given a set of seismic images that are 101 x 101 pixels each and each pixel we need to classify as either salt or sediment. Our goal is to segment regions that contain salt. A seismic image is produced from imaging the reflection coming from rock boundaries. The seismic image shows the boundaries between different rock types. "
   ]
  },
  {
   "cell_type": "markdown",
   "metadata": {
    "colab_type": "text",
    "id": "ZUOAF8WWoA1x"
   },
   "source": [
    "### Broad Steps:\n",
    "\n",
    "1. Download the dataset\n",
    "2. Upload to Drive\n",
    "3. Import from drive to colab\n",
    "4. Load the images and create training data."
   ]
  },
  {
   "cell_type": "code",
   "execution_count": 0,
   "metadata": {
    "colab": {},
    "colab_type": "code",
    "id": "-b0qpqITzeye"
   },
   "outputs": [],
   "source": [
    "import os\n",
    "import random\n",
    "import pandas as pd\n",
    "import numpy as np\n",
    "import matplotlib.pyplot as plt\n",
    "plt.style.use(\"ggplot\")\n",
    "%matplotlib inline\n",
    "from tqdm import tqdm_notebook, tnrange\n",
    "from itertools import chain\n",
    "from skimage.io import imread, imshow, concatenate_images\n",
    "from skimage.transform import resize\n",
    "from skimage.morphology import label\n",
    "from sklearn.model_selection import train_test_split\n",
    "import tensorflow as tf\n",
    "from keras.models import Model, load_model\n",
    "from keras.layers import Input, BatchNormalization, Activation, Dense, Dropout\n",
    "from keras.layers.core import Lambda, RepeatVector, Reshape\n",
    "from keras.layers.convolutional import Conv2D, Conv2DTranspose\n",
    "from keras.layers.pooling import MaxPooling2D, GlobalMaxPool2D\n",
    "from keras.layers.merge import concatenate, add\n",
    "from keras.callbacks import EarlyStopping, ModelCheckpoint, ReduceLROnPlateau\n",
    "from keras.optimizers import Adam\n",
    "from keras.preprocessing.image import ImageDataGenerator, array_to_img, img_to_array, load_img"
   ]
  },
  {
   "cell_type": "code",
   "execution_count": 0,
   "metadata": {
    "colab": {
     "base_uri": "https://localhost:8080/",
     "height": 122
    },
    "colab_type": "code",
    "id": "6qiCvW9coD_E",
    "outputId": "54729524-d51a-4f11-e353-bc009363f356"
   },
   "outputs": [
    {
     "name": "stdout",
     "output_type": "stream",
     "text": [
      "Go to this URL in a browser: https://accounts.google.com/o/oauth2/auth?client_id=947318989803-6bn6qk8qdgf4n4g3pfee6491hc0brc4i.apps.googleusercontent.com&redirect_uri=urn%3aietf%3awg%3aoauth%3a2.0%3aoob&response_type=code&scope=email%20https%3a%2f%2fwww.googleapis.com%2fauth%2fdocs.test%20https%3a%2f%2fwww.googleapis.com%2fauth%2fdrive%20https%3a%2f%2fwww.googleapis.com%2fauth%2fdrive.photos.readonly%20https%3a%2f%2fwww.googleapis.com%2fauth%2fpeopleapi.readonly\n",
      "\n",
      "Enter your authorization code:\n",
      "··········\n",
      "Mounted at ../content/gdrive\n"
     ]
    }
   ],
   "source": [
    "from google.colab import drive\n",
    "drive.mount('../content/gdrive')"
   ]
  },
  {
   "cell_type": "markdown",
   "metadata": {
    "colab_type": "text",
    "id": "B4IaUgploION"
   },
   "source": [
    "### 1.Set your project path where you have your data and related files for this lab."
   ]
  },
  {
   "cell_type": "code",
   "execution_count": 0,
   "metadata": {
    "colab": {},
    "colab_type": "code",
    "id": "0tPkbXWyoK-z"
   },
   "outputs": [],
   "source": [
    "import os\n",
    "os.chdir('/content/gdrive/My Drive/R9 External/')\n",
    "path = '.'"
   ]
  },
  {
   "cell_type": "code",
   "execution_count": 0,
   "metadata": {
    "colab": {
     "base_uri": "https://localhost:8080/",
     "height": 34
    },
    "colab_type": "code",
    "id": "Kxy5LexhoLMT",
    "outputId": "73305e6c-cdd1-4d1b-dd08-daf02db1a637"
   },
   "outputs": [
    {
     "data": {
      "text/plain": [
       "'/content/gdrive/My Drive/R9 External'"
      ]
     },
     "execution_count": 37,
     "metadata": {
      "tags": []
     },
     "output_type": "execute_result"
    }
   ],
   "source": [
    "pwd"
   ]
  },
  {
   "cell_type": "code",
   "execution_count": 0,
   "metadata": {
    "colab": {
     "base_uri": "https://localhost:8080/",
     "height": 34
    },
    "colab_type": "code",
    "id": "qNSCgOEp-01h",
    "outputId": "3d230c99-67ea-4f9b-a1e3-fc0d82837191"
   },
   "outputs": [
    {
     "data": {
      "text/plain": [
       "'/content/gdrive/My Drive/R9 External/'"
      ]
     },
     "execution_count": 39,
     "metadata": {
      "tags": []
     },
     "output_type": "execute_result"
    }
   ],
   "source": [
    "project_path = '/content/gdrive/My Drive/R9 External/'\n",
    "project_path"
   ]
  },
  {
   "cell_type": "markdown",
   "metadata": {
    "colab_type": "text",
    "id": "g15qSXZSoSuL"
   },
   "source": [
    "### 2. Set the necessary parameters"
   ]
  },
  {
   "cell_type": "markdown",
   "metadata": {
    "colab_type": "text",
    "id": "Dzrz2Or_HdxR"
   },
   "source": [
    "## Setup"
   ]
  },
  {
   "cell_type": "code",
   "execution_count": 0,
   "metadata": {
    "colab": {},
    "colab_type": "code",
    "id": "3IEaEnuzoW2a"
   },
   "outputs": [],
   "source": [
    "im_width = 128      #width of your train image\n",
    "im_height = 128     #hight of your train image\n",
    "#border =        \n",
    "path_train = project_path + 'train/'   #Path for your train data"
   ]
  },
  {
   "cell_type": "code",
   "execution_count": 0,
   "metadata": {
    "colab": {
     "base_uri": "https://localhost:8080/",
     "height": 34
    },
    "colab_type": "code",
    "id": "uZQyyn55oKW-",
    "outputId": "9d36d905-298b-40ad-83be-1687a8593aae"
   },
   "outputs": [
    {
     "data": {
      "text/plain": [
       "'/content/gdrive/My Drive/R9 External/train/'"
      ]
     },
     "execution_count": 40,
     "metadata": {
      "tags": []
     },
     "output_type": "execute_result"
    }
   ],
   "source": [
    "path_train"
   ]
  },
  {
   "cell_type": "markdown",
   "metadata": {
    "colab_type": "text",
    "id": "Q3IoS6RCoZPh"
   },
   "source": [
    "# 3. Make directory for train data at in your project/lab folder.\n",
    "\n",
    "Hint - use !mkdir function."
   ]
  },
  {
   "cell_type": "code",
   "execution_count": 0,
   "metadata": {
    "colab": {},
    "colab_type": "code",
    "id": "MRPpQ2QrocBQ"
   },
   "outputs": [],
   "source": [
    "mkdir train"
   ]
  },
  {
   "cell_type": "code",
   "execution_count": 0,
   "metadata": {
    "colab": {
     "base_uri": "https://localhost:8080/",
     "height": 34
    },
    "colab_type": "code",
    "id": "RWATodbkocN9",
    "outputId": "24032b7c-7dee-423b-c24f-a12307b18875"
   },
   "outputs": [
    {
     "name": "stdout",
     "output_type": "stream",
     "text": [
      "\u001b[0m\u001b[01;34mdata\u001b[0m/  data.zip  R9_External_Lab_Questions-1.ipynb  \u001b[01;34mtrain\u001b[0m/  train.zip\n"
     ]
    }
   ],
   "source": [
    "ls"
   ]
  },
  {
   "cell_type": "markdown",
   "metadata": {
    "colab_type": "text",
    "id": "fRbC22DGoeb7"
   },
   "source": [
    "# 4. Extract your train images to the train directory you have just created above. \n",
    "train.zip and test.zip files available at your google drive/local system.\n",
    "\n",
    "As a good practice - Upload or copy the data at your project path folder.\n",
    "\n",
    "Make sure you are providing the right project_path."
   ]
  },
  {
   "cell_type": "code",
   "execution_count": 0,
   "metadata": {
    "colab": {},
    "colab_type": "code",
    "id": "5BtPznFbogjG"
   },
   "outputs": [],
   "source": [
    "#For simplicity we have added the required code here.\n",
    "from zipfile import ZipFile\n",
    "\n",
    "with ZipFile(project_path + 'train.zip', 'r') as zf:\n",
    "  zf.extractall('train/')\n"
   ]
  },
  {
   "cell_type": "code",
   "execution_count": 0,
   "metadata": {
    "colab": {},
    "colab_type": "code",
    "id": "7YZ2prb9oiX4"
   },
   "outputs": [],
   "source": [
    "#The train file have both images and masks with the same names_ids."
   ]
  },
  {
   "cell_type": "markdown",
   "metadata": {
    "colab_type": "text",
    "id": "iwCH81ZWomLA"
   },
   "source": [
    "### 5. Get the list of names of images and masks and name the list imagelist and masklist.\n",
    "\n",
    "Hint - Use os.listdir() funtions."
   ]
  },
  {
   "cell_type": "code",
   "execution_count": 0,
   "metadata": {
    "colab": {
     "base_uri": "https://localhost:8080/",
     "height": 34
    },
    "colab_type": "code",
    "id": "Clt5ya_JoplC",
    "outputId": "4dbe28b5-48af-450a-9842-f8fe9ef42870"
   },
   "outputs": [
    {
     "data": {
      "text/plain": [
       "['images', 'masks']"
      ]
     },
     "execution_count": 9,
     "metadata": {
      "tags": []
     },
     "output_type": "execute_result"
    }
   ],
   "source": [
    "os.listdir(path_train)"
   ]
  },
  {
   "cell_type": "code",
   "execution_count": 0,
   "metadata": {
    "colab": {},
    "colab_type": "code",
    "id": "0fBdYAVl_lJU"
   },
   "outputs": [],
   "source": [
    "imagelist = os.listdir(path_train+'/images/')\n",
    "masklist = os.listdir(path_train+'/masks/')"
   ]
  },
  {
   "cell_type": "code",
   "execution_count": 0,
   "metadata": {
    "colab": {
     "base_uri": "https://localhost:8080/",
     "height": 85
    },
    "colab_type": "code",
    "id": "-vHPQoHVoppK",
    "outputId": "9acb2af5-976e-4022-d3b0-f1ae88846c1b"
   },
   "outputs": [
    {
     "name": "stdout",
     "output_type": "stream",
     "text": [
      "9ae45b19d3.png\n",
      "9ae45b19d3.png\n",
      "e8757626a1.png\n",
      "e8757626a1.png\n"
     ]
    }
   ],
   "source": [
    "#Test your list names by printing some of the names as given below.\n",
    "print(imagelist[-1])\n",
    "print(masklist[-1])\n",
    "print(imagelist[10])\n",
    "print(masklist[10])"
   ]
  },
  {
   "cell_type": "markdown",
   "metadata": {
    "colab_type": "text",
    "id": "1t8raFq5ous8"
   },
   "source": [
    "# 6. Read and test your images and respective masks.\n",
    "\n",
    "Hint -\n",
    "\n",
    "import  matplotlib.pyplot as plt\n",
    "\n",
    "import cv2\n",
    "\n",
    "plt.imshow(cv2.imread('path of image'))\n",
    "\n",
    "plt.imshow(cv2.imread('path of mask'))\n"
   ]
  },
  {
   "cell_type": "code",
   "execution_count": 0,
   "metadata": {
    "colab": {
     "base_uri": "https://localhost:8080/",
     "height": 285
    },
    "colab_type": "code",
    "id": "1gGpCSPpovvH",
    "outputId": "912642b3-b6fd-4560-8a0a-3035a71ead0c"
   },
   "outputs": [
    {
     "data": {
      "text/plain": [
       "<matplotlib.image.AxesImage at 0x7f49e0024940>"
      ]
     },
     "execution_count": 23,
     "metadata": {
      "tags": []
     },
     "output_type": "execute_result"
    },
    {
     "data": {
      "image/png": "[encoded data removed]",
      "text/plain": [
       "<Figure size 432x288 with 1 Axes>"
      ]
     },
     "metadata": {
      "tags": []
     },
     "output_type": "display_data"
    }
   ],
   "source": [
    "import matplotlib.pyplot as plt\n",
    "import cv2\n",
    "plt.imshow(cv2.imread(path_train+'/images/'+imagelist[-1]))"
   ]
  },
  {
   "cell_type": "code",
   "execution_count": 0,
   "metadata": {
    "colab": {
     "base_uri": "https://localhost:8080/",
     "height": 285
    },
    "colab_type": "code",
    "id": "9E-McW2toyaR",
    "outputId": "e9556ff1-9355-4e8b-fbd8-f2d85e47279d"
   },
   "outputs": [
    {
     "data": {
      "text/plain": [
       "<matplotlib.image.AxesImage at 0x7f49c24b0780>"
      ]
     },
     "execution_count": 24,
     "metadata": {
      "tags": []
     },
     "output_type": "execute_result"
    },
    {
     "data": {
      "image/png": "[encoded data removed]",
      "text/plain": [
       "<Figure size 432x288 with 1 Axes>"
      ]
     },
     "metadata": {
      "tags": []
     },
     "output_type": "display_data"
    }
   ],
   "source": [
    "plt.imshow(cv2.imread(path_train+'/masks/'+masklist[-1]))"
   ]
  },
  {
   "cell_type": "code",
   "execution_count": 0,
   "metadata": {
    "colab": {
     "base_uri": "https://localhost:8080/",
     "height": 285
    },
    "colab_type": "code",
    "id": "SwBmVXe2_xY8",
    "outputId": "19eaf82d-c571-4615-c59a-7e2c7cf2b38d"
   },
   "outputs": [
    {
     "data": {
      "text/plain": [
       "<matplotlib.image.AxesImage at 0x7f49c241c588>"
      ]
     },
     "execution_count": 25,
     "metadata": {
      "tags": []
     },
     "output_type": "execute_result"
    },
    {
     "data": {
      "image/png": "[encoded data removed]",
      "text/plain": [
       "<Figure size 432x288 with 1 Axes>"
      ]
     },
     "metadata": {
      "tags": []
     },
     "output_type": "display_data"
    }
   ],
   "source": [
    "plt.imshow(cv2.imread(path_train+'/images/'+imagelist[10]))"
   ]
  },
  {
   "cell_type": "code",
   "execution_count": 0,
   "metadata": {
    "colab": {
     "base_uri": "https://localhost:8080/",
     "height": 285
    },
    "colab_type": "code",
    "id": "5mdROf9l_zwE",
    "outputId": "1bb6ef77-84fb-447a-c233-e53acaa50318"
   },
   "outputs": [
    {
     "data": {
      "text/plain": [
       "<matplotlib.image.AxesImage at 0x7f49e1a18780>"
      ]
     },
     "execution_count": 26,
     "metadata": {
      "tags": []
     },
     "output_type": "execute_result"
    },
    {
     "data": {
      "image/png": "[encoded data removed]",
      "text/plain": [
       "<Figure size 432x288 with 1 Axes>"
      ]
     },
     "metadata": {
      "tags": []
     },
     "output_type": "display_data"
    }
   ],
   "source": [
    "plt.imshow(cv2.imread(path_train+'/masks/'+masklist[10]))"
   ]
  },
  {
   "cell_type": "code",
   "execution_count": 0,
   "metadata": {
    "colab": {
     "base_uri": "https://localhost:8080/",
     "height": 34
    },
    "colab_type": "code",
    "id": "3oNEGp1U_2-p",
    "outputId": "733c320b-cca9-48fc-bed8-da709a8b9f5f"
   },
   "outputs": [
    {
     "data": {
      "text/plain": [
       "(101, 101, 3)"
      ]
     },
     "execution_count": 27,
     "metadata": {
      "tags": []
     },
     "output_type": "execute_result"
    }
   ],
   "source": [
    "cv2.imread(path_train+'/masks/'+masklist[10]).shape"
   ]
  },
  {
   "cell_type": "code",
   "execution_count": 0,
   "metadata": {
    "colab": {},
    "colab_type": "code",
    "id": "Q8sRxowb_3XY"
   },
   "outputs": [],
   "source": [
    "image_10 = cv2.imread(path_train+'/masks/'+masklist[10])"
   ]
  },
  {
   "cell_type": "code",
   "execution_count": 0,
   "metadata": {
    "colab": {},
    "colab_type": "code",
    "id": "0ztu3hCj_3cR"
   },
   "outputs": [],
   "source": [
    "image_resize_10 = cv2.resize(image_10,(128,128))"
   ]
  },
  {
   "cell_type": "code",
   "execution_count": 0,
   "metadata": {
    "colab": {
     "base_uri": "https://localhost:8080/",
     "height": 34
    },
    "colab_type": "code",
    "id": "JHrR0CD-_3fX",
    "outputId": "61a13587-9d73-42df-aa4b-9215d7525b35"
   },
   "outputs": [
    {
     "data": {
      "text/plain": [
       "(128, 128, 3)"
      ]
     },
     "execution_count": 30,
     "metadata": {
      "tags": []
     },
     "output_type": "execute_result"
    }
   ],
   "source": [
    "image_resize_10.shape"
   ]
  },
  {
   "cell_type": "code",
   "execution_count": 0,
   "metadata": {
    "colab": {
     "base_uri": "https://localhost:8080/",
     "height": 285
    },
    "colab_type": "code",
    "id": "lr7D_-LY_3ae",
    "outputId": "b5f86f23-724b-49a4-f1b9-591923ca0181"
   },
   "outputs": [
    {
     "data": {
      "text/plain": [
       "<matplotlib.image.AxesImage at 0x7f49c23bcf98>"
      ]
     },
     "execution_count": 31,
     "metadata": {
      "tags": []
     },
     "output_type": "execute_result"
    },
    {
     "data": {
      "image/png": "[encoded data removed]",
      "text/plain": [
       "<Figure size 432x288 with 1 Axes>"
      ]
     },
     "metadata": {
      "tags": []
     },
     "output_type": "display_data"
    }
   ],
   "source": [
    "plt.imshow(image_resize_10)"
   ]
  },
  {
   "cell_type": "code",
   "execution_count": 0,
   "metadata": {
    "colab": {
     "base_uri": "https://localhost:8080/",
     "height": 850
    },
    "colab_type": "code",
    "id": "RzCbzne1AE_u",
    "outputId": "35a5d2c7-6217-4ab0-8ea3-c2ffd6fe39c0"
   },
   "outputs": [
    {
     "data": {
      "text/plain": [
       "array([[[0, 0, 0],\n",
       "        [0, 0, 0],\n",
       "        [0, 0, 0],\n",
       "        ...,\n",
       "        [0, 0, 0],\n",
       "        [0, 0, 0],\n",
       "        [0, 0, 0]],\n",
       "\n",
       "       [[0, 0, 0],\n",
       "        [0, 0, 0],\n",
       "        [0, 0, 0],\n",
       "        ...,\n",
       "        [0, 0, 0],\n",
       "        [0, 0, 0],\n",
       "        [0, 0, 0]],\n",
       "\n",
       "       [[0, 0, 0],\n",
       "        [0, 0, 0],\n",
       "        [0, 0, 0],\n",
       "        ...,\n",
       "        [0, 0, 0],\n",
       "        [0, 0, 0],\n",
       "        [0, 0, 0]],\n",
       "\n",
       "       ...,\n",
       "\n",
       "       [[0, 0, 0],\n",
       "        [0, 0, 0],\n",
       "        [0, 0, 0],\n",
       "        ...,\n",
       "        [0, 0, 0],\n",
       "        [0, 0, 0],\n",
       "        [0, 0, 0]],\n",
       "\n",
       "       [[0, 0, 0],\n",
       "        [0, 0, 0],\n",
       "        [0, 0, 0],\n",
       "        ...,\n",
       "        [0, 0, 0],\n",
       "        [0, 0, 0],\n",
       "        [0, 0, 0]],\n",
       "\n",
       "       [[0, 0, 0],\n",
       "        [0, 0, 0],\n",
       "        [0, 0, 0],\n",
       "        ...,\n",
       "        [0, 0, 0],\n",
       "        [0, 0, 0],\n",
       "        [0, 0, 0]]], dtype=uint8)"
      ]
     },
     "execution_count": 32,
     "metadata": {
      "tags": []
     },
     "output_type": "execute_result"
    }
   ],
   "source": [
    "image_resize_10.squeeze()"
   ]
  },
  {
   "cell_type": "markdown",
   "metadata": {
    "colab_type": "text",
    "id": "_qFeroMNoylc"
   },
   "source": [
    "# 7. Create your training data.\n",
    "\n",
    "Hints - \n",
    "\n",
    "image_path = os.path.join(project_path +'path of your image directory' +n )\n",
    "\n",
    "mask_path = os.path.join(project_path +'path of your mask directory'+n )"
   ]
  },
  {
   "cell_type": "code",
   "execution_count": 0,
   "metadata": {
    "colab": {},
    "colab_type": "code",
    "id": "lX0ife28zezD"
   },
   "outputs": [],
   "source": [
    "import numpy as np\n",
    "from PIL import Image"
   ]
  },
  {
   "cell_type": "code",
   "execution_count": 0,
   "metadata": {
    "colab": {
     "base_uri": "https://localhost:8080/",
     "height": 34
    },
    "colab_type": "code",
    "id": "seheYxTBo32V",
    "outputId": "8653516b-de35-4206-a1bb-b5baa28d9def"
   },
   "outputs": [
    {
     "name": "stdout",
     "output_type": "stream",
     "text": [
      "Done!\n"
     ]
    }
   ],
   "source": [
    "def get_data():\n",
    "    X = np.zeros(((len(imagelist), im_height, im_width, 3)), dtype=np.float32) # Create an array for image\n",
    "    y = np.zeros(((len(masklist), 16, 16, 3)), dtype=np.float32) #Create an array for mask\n",
    "    \n",
    "    for n in imagelist: \n",
    "        #print(n)\n",
    "        k = imagelist.index(n)\n",
    "        ##Add image_path\n",
    "        image_path =  os.path.join(path_train+'/images/')\n",
    "        ##Add mask_path\n",
    "        mask_path = os.path.join(path_train+'/masks/')                                                           \n",
    "        \n",
    "        # Load images and resize to (128,128,1)\n",
    "        img = Image.open(image_path+n)\n",
    "        img = img.resize((128,128))\n",
    "        resized_img = np.reshape(img.convert('L'), (128,128,1))\n",
    "        #img = cv2.imread(image_path+n)\n",
    "        #resized_img = cv2.resize(img,(128,128))\n",
    "        #print(resized_img.shape)\n",
    "        \n",
    "        # Load masks and resize to (128,128,1)\n",
    "        msk = Image.open(mask_path+n)\n",
    "        msk = msk.resize((16,16))\n",
    "        resized_mask = np.reshape(msk.convert('L'), (16,16,1))\n",
    "        \n",
    "        #msk = cv2.imread(mask_path+n)\n",
    "        #resized_mask = cv2.resize(msk,(128,128))\n",
    "        #print(resized_mask.shape)\n",
    "        \n",
    "        # Save images\n",
    "        X[k, ..., 0] = resized_img.squeeze() / 255\n",
    "        #X[k] = resized_img.squeeze()/255\n",
    "        y[k] = resized_mask/255\n",
    "    print('Done!')\n",
    "    return X,y\n",
    "    '''if train:\n",
    "        return X, y\n",
    "    else:\n",
    "        return X'''\n",
    "    \n",
    "X, y = get_data()"
   ]
  },
  {
   "cell_type": "code",
   "execution_count": 0,
   "metadata": {
    "colab": {
     "base_uri": "https://localhost:8080/",
     "height": 34
    },
    "colab_type": "code",
    "id": "KqUTEdLmASB9",
    "outputId": "2707145e-303d-4f31-8f88-5e325476791c"
   },
   "outputs": [
    {
     "data": {
      "text/plain": [
       "(4000, 128, 128, 3)"
      ]
     },
     "execution_count": 46,
     "metadata": {
      "tags": []
     },
     "output_type": "execute_result"
    }
   ],
   "source": [
    "X.shape"
   ]
  },
  {
   "cell_type": "code",
   "execution_count": 0,
   "metadata": {
    "colab": {
     "base_uri": "https://localhost:8080/",
     "height": 34
    },
    "colab_type": "code",
    "id": "L8OWy-xCASJ2",
    "outputId": "6e25685e-3c08-4b67-a4e3-954eaa213f46"
   },
   "outputs": [
    {
     "data": {
      "text/plain": [
       "(4000, 16, 16, 3)"
      ]
     },
     "execution_count": 47,
     "metadata": {
      "tags": []
     },
     "output_type": "execute_result"
    }
   ],
   "source": [
    "y.shape"
   ]
  },
  {
   "cell_type": "code",
   "execution_count": 0,
   "metadata": {
    "colab": {},
    "colab_type": "code",
    "id": "kt6zXJPHo35y"
   },
   "outputs": [],
   "source": [
    "# Split train and valid\n",
    "from sklearn.model_selection import train_test_split\n",
    "X_train, X_valid, y_train, y_valid = train_test_split(X, y, test_size=0.15, random_state=2019)"
   ]
  },
  {
   "cell_type": "code",
   "execution_count": 0,
   "metadata": {
    "colab": {
     "base_uri": "https://localhost:8080/",
     "height": 34
    },
    "colab_type": "code",
    "id": "NFbpuuldzezM",
    "outputId": "f964a3f0-5a87-4e8d-f0af-e21db3bf845e"
   },
   "outputs": [
    {
     "data": {
      "text/plain": [
       "(3400, 128, 128, 3)"
      ]
     },
     "execution_count": 49,
     "metadata": {
      "tags": []
     },
     "output_type": "execute_result"
    }
   ],
   "source": [
    "X_train.shape"
   ]
  },
  {
   "cell_type": "code",
   "execution_count": 0,
   "metadata": {
    "colab": {
     "base_uri": "https://localhost:8080/",
     "height": 34
    },
    "colab_type": "code",
    "id": "xwCbg0qkAbH4",
    "outputId": "489aac8c-22f1-4d71-dd9f-6cdcabd0ed84"
   },
   "outputs": [
    {
     "data": {
      "text/plain": [
       "(600, 128, 128, 3)"
      ]
     },
     "execution_count": 50,
     "metadata": {
      "tags": []
     },
     "output_type": "execute_result"
    }
   ],
   "source": [
    "X_valid.shape"
   ]
  },
  {
   "cell_type": "code",
   "execution_count": 0,
   "metadata": {
    "colab": {
     "base_uri": "https://localhost:8080/",
     "height": 34
    },
    "colab_type": "code",
    "id": "C2L4S_jMAbSL",
    "outputId": "b3595532-392d-4542-fa2e-0d8320f17277"
   },
   "outputs": [
    {
     "data": {
      "text/plain": [
       "(3400, 16, 16, 3)"
      ]
     },
     "execution_count": 51,
     "metadata": {
      "tags": []
     },
     "output_type": "execute_result"
    }
   ],
   "source": [
    "y_train.shape"
   ]
  },
  {
   "cell_type": "code",
   "execution_count": 0,
   "metadata": {
    "colab": {
     "base_uri": "https://localhost:8080/",
     "height": 34
    },
    "colab_type": "code",
    "id": "Rwr92MAtAbZo",
    "outputId": "a2255b3a-ade2-499e-f7c4-5b615d14e67b"
   },
   "outputs": [
    {
     "data": {
      "text/plain": [
       "(600, 16, 16, 3)"
      ]
     },
     "execution_count": 52,
     "metadata": {
      "tags": []
     },
     "output_type": "execute_result"
    }
   ],
   "source": [
    "y_valid.shape"
   ]
  },
  {
   "cell_type": "code",
   "execution_count": 0,
   "metadata": {
    "colab": {
     "base_uri": "https://localhost:8080/",
     "height": 336
    },
    "colab_type": "code",
    "id": "mh_SRFGro6wr",
    "outputId": "80f6e675-03b7-485f-f48a-faff4dab9240"
   },
   "outputs": [
    {
     "name": "stdout",
     "output_type": "stream",
     "text": [
      "3198\n"
     ]
    },
    {
     "data": {
      "image/png": "[encoded data removed]",
      "text/plain": [
       "<Figure size 720x720 with 2 Axes>"
      ]
     },
     "metadata": {
      "tags": []
     },
     "output_type": "display_data"
    }
   ],
   "source": [
    "## Test your data whether it looks fine - Random check\n",
    "import random \n",
    "# Check if training data looks all right\n",
    "ix = random.randint(0, len(X_train))\n",
    "print(ix)\n",
    "has_mask = y_train[ix].max() > 0\n",
    "\n",
    "fig, ax = plt.subplots(1, 2, figsize=(10, 10))\n",
    "\n",
    "ax[0].imshow(X_train[ix, ..., 0], cmap='seismic', interpolation='bilinear')\n",
    "if has_mask:\n",
    "    ax[0].contour(y_train[ix].squeeze(), colors='k', levels=[0.5])\n",
    "ax[0].set_title('Seismic')\n",
    "\n",
    "ax[1].imshow(y_train[ix].squeeze(), interpolation='bilinear', cmap='gray')\n",
    "ax[1].set_title('Salt');"
   ]
  },
  {
   "cell_type": "code",
   "execution_count": 0,
   "metadata": {
    "colab": {
     "base_uri": "https://localhost:8080/",
     "height": 285
    },
    "colab_type": "code",
    "id": "aqMLP_Jwo8K5",
    "outputId": "05bda708-f114-4d84-ad1c-c0bc4f5dd42d"
   },
   "outputs": [
    {
     "data": {
      "text/plain": [
       "<matplotlib.image.AxesImage at 0x7f33dfbecf28>"
      ]
     },
     "execution_count": 57,
     "metadata": {
      "tags": []
     },
     "output_type": "execute_result"
    },
    {
     "data": {
      "image/png": "[encoded data removed]",
      "text/plain": [
       "<Figure size 432x288 with 1 Axes>"
      ]
     },
     "metadata": {
      "tags": []
     },
     "output_type": "display_data"
    }
   ],
   "source": [
    "plt.imshow(X[2140])"
   ]
  },
  {
   "cell_type": "code",
   "execution_count": 0,
   "metadata": {
    "colab": {
     "base_uri": "https://localhost:8080/",
     "height": 282
    },
    "colab_type": "code",
    "id": "_-JXuxrRo8a6",
    "outputId": "6ac954ad-8b90-4fb1-9d6f-d29ef25488e6"
   },
   "outputs": [
    {
     "data": {
      "text/plain": [
       "<matplotlib.image.AxesImage at 0x7f33dfbcdfd0>"
      ]
     },
     "execution_count": 58,
     "metadata": {
      "tags": []
     },
     "output_type": "execute_result"
    },
    {
     "data": {
      "image/png": "[encoded data removed]",
      "text/plain": [
       "<Figure size 432x288 with 1 Axes>"
      ]
     },
     "metadata": {
      "tags": []
     },
     "output_type": "display_data"
    }
   ],
   "source": [
    "plt.imshow(y[2140])"
   ]
  },
  {
   "cell_type": "markdown",
   "metadata": {
    "colab_type": "text",
    "id": "yllJR0PQpm4M"
   },
   "source": [
    "# Text generation using a RNN"
   ]
  },
  {
   "cell_type": "markdown",
   "metadata": {
    "colab_type": "text",
    "id": "2W6g03QsptwG"
   },
   "source": [
    "Given a sequence of words from this data, train a model to predict the next word in the sequence. Longer sequences of text can be generated by calling the model repeatedly."
   ]
  },
  {
   "cell_type": "markdown",
   "metadata": {
    "colab_type": "text",
    "id": "hbd3E0IuHwjz"
   },
   "source": [
    "**Mount your Google Drive**"
   ]
  },
  {
   "cell_type": "code",
   "execution_count": 0,
   "metadata": {
    "colab": {
     "base_uri": "https://localhost:8080/",
     "height": 34
    },
    "colab_type": "code",
    "id": "8_uTQu4nIGzm",
    "outputId": "50cfd535-76e8-4d03-aa00-6c8653ee92d7"
   },
   "outputs": [
    {
     "data": {
      "text/plain": [
       "'/content/gdrive/My Drive/R9 External/'"
      ]
     },
     "execution_count": 53,
     "metadata": {
      "tags": []
     },
     "output_type": "execute_result"
    }
   ],
   "source": [
    "project_path = '/content/gdrive/My Drive/R9 External/'\n",
    "project_path"
   ]
  },
  {
   "cell_type": "code",
   "execution_count": 0,
   "metadata": {
    "colab": {},
    "colab_type": "code",
    "id": "6AtNuvIFDRhJ"
   },
   "outputs": [],
   "source": [
    "import os\n",
    "os.chdir(project_path)"
   ]
  },
  {
   "cell_type": "code",
   "execution_count": 0,
   "metadata": {
    "colab": {},
    "colab_type": "code",
    "id": "izmpHQUvDUKB"
   },
   "outputs": [],
   "source": [
    "mkdir data"
   ]
  },
  {
   "cell_type": "code",
   "execution_count": 0,
   "metadata": {
    "colab": {
     "base_uri": "https://localhost:8080/",
     "height": 34
    },
    "colab_type": "code",
    "id": "Il92mQiCDUNY",
    "outputId": "2407c6d3-e206-470b-e69d-6ea1a4202139"
   },
   "outputs": [
    {
     "name": "stdout",
     "output_type": "stream",
     "text": [
      "\u001b[0m\u001b[01;34mdata\u001b[0m/  data.zip  R9_External_Lab_Questions-1.ipynb  \u001b[01;34mtrain\u001b[0m/  train.zip\n"
     ]
    }
   ],
   "source": [
    "ls"
   ]
  },
  {
   "cell_type": "code",
   "execution_count": 0,
   "metadata": {
    "colab": {
     "base_uri": "https://localhost:8080/",
     "height": 34
    },
    "colab_type": "code",
    "id": "l_aAjxa4DZK8",
    "outputId": "0cf8ca7e-565f-4651-de48-a3dc05d1555a"
   },
   "outputs": [
    {
     "data": {
      "text/plain": [
       "['train.zip', 'data.zip', 'train', 'R9_External_Lab_Questions-1.ipynb', 'data']"
      ]
     },
     "execution_count": 17,
     "metadata": {
      "tags": []
     },
     "output_type": "execute_result"
    }
   ],
   "source": [
    "import os\n",
    "os.listdir(project_path)"
   ]
  },
  {
   "cell_type": "code",
   "execution_count": 0,
   "metadata": {
    "colab": {},
    "colab_type": "code",
    "id": "VfSmQVwKDZO3"
   },
   "outputs": [],
   "source": [
    "from zipfile import ZipFile\n",
    "\n",
    "with ZipFile(project_path + 'data.zip', 'r') as zf:\n",
    "  zf.extractall('data/')"
   ]
  },
  {
   "cell_type": "markdown",
   "metadata": {
    "colab_type": "text",
    "id": "fnIX_mLXHdxS"
   },
   "source": [
    "### Import Keras and other libraries"
   ]
  },
  {
   "cell_type": "code",
   "execution_count": 0,
   "metadata": {
    "colab": {},
    "colab_type": "code",
    "id": "0TmrQuvpHdxU"
   },
   "outputs": [],
   "source": [
    "import glob\n",
    "\n",
    "from sklearn.utils import shuffle\n",
    "import numpy as np\n",
    "\n",
    "from keras.preprocessing.text import Tokenizer\n",
    "from keras.models import Sequential, load_model\n",
    "from keras.layers import LSTM, Dense, Dropout, Embedding, Masking, Bidirectional\n",
    "from keras.optimizers import Adam\n",
    "from keras import backend"
   ]
  },
  {
   "cell_type": "markdown",
   "metadata": {
    "colab_type": "text",
    "id": "zKBXQflGlPjG"
   },
   "source": [
    "## Download data\n",
    "Reference: Data is collected from http://www.gutenberg.org\n",
    "\n",
    "For the lab purpose, you can load the dataset provided by Great Learning"
   ]
  },
  {
   "cell_type": "markdown",
   "metadata": {
    "colab_type": "text",
    "id": "s321mV4DHdxZ"
   },
   "source": [
    "### Load the Oscar Wilde dataset\n",
    "\n",
    "Store all the \".txt\" file names in a list"
   ]
  },
  {
   "cell_type": "code",
   "execution_count": 0,
   "metadata": {
    "colab": {
     "base_uri": "https://localhost:8080/",
     "height": 544
    },
    "colab_type": "code",
    "id": "VUanlzNJHdxa",
    "outputId": "1a234946-2f49-4470-ff72-ac46da0a2332"
   },
   "outputs": [
    {
     "data": {
      "text/plain": [
       "['/content/gdrive/My Drive/R9 External/data/data/For Love of the King.txt',\n",
       " '/content/gdrive/My Drive/R9 External/data/data/Salomé A tragedy in one act.txt',\n",
       " '/content/gdrive/My Drive/R9 External/data/data/Impressions of America.txt',\n",
       " '/content/gdrive/My Drive/R9 External/data/data/The Canterville Ghost.txt',\n",
       " '/content/gdrive/My Drive/R9 External/data/data/A House of Pomegranates.txt',\n",
       " '/content/gdrive/My Drive/R9 External/data/data/Miscellaneous Aphorisms_ The Soul of Man.txt',\n",
       " '/content/gdrive/My Drive/R9 External/data/data/A Woman of No Importance a play.txt',\n",
       " '/content/gdrive/My Drive/R9 External/data/data/Essays and Lectures.txt',\n",
       " '/content/gdrive/My Drive/R9 External/data/data/The Happy Prince and other tales.txt',\n",
       " '/content/gdrive/My Drive/R9 External/data/data/Rose Leaf and Apple Leaf.txt',\n",
       " '/content/gdrive/My Drive/R9 External/data/data/Vera or, The Nihilists.txt',\n",
       " '/content/gdrive/My Drive/R9 External/data/data/Lord Arthur Savile_s Crime.txt',\n",
       " '/content/gdrive/My Drive/R9 External/data/data/Poems with the Ballad of Reading Gaol.txt',\n",
       " '/content/gdrive/My Drive/R9 External/data/data/Selected poems of oscar wilde including The Ballad of Reading Gaol.txt',\n",
       " '/content/gdrive/My Drive/R9 External/data/data/Charmides and Other Poems.txt',\n",
       " '/content/gdrive/My Drive/R9 External/data/data/An Ideal Husband.txt',\n",
       " '/content/gdrive/My Drive/R9 External/data/data/The Duchess of Padua.txt',\n",
       " '/content/gdrive/My Drive/R9 External/data/data/Oscar Wilde Miscellaneous.txt',\n",
       " '/content/gdrive/My Drive/R9 External/data/data/The Ballad of Reading Gaol.txt',\n",
       " '/content/gdrive/My Drive/R9 External/data/data/Shorter Prose Pieces.txt',\n",
       " '/content/gdrive/My Drive/R9 External/data/data/Children in Prison and Other Cruelties of Prison Life.txt',\n",
       " '/content/gdrive/My Drive/R9 External/data/data/Reviews.txt',\n",
       " '/content/gdrive/My Drive/R9 External/data/data/A Critic in Pall Mall.txt',\n",
       " '/content/gdrive/My Drive/R9 External/data/data/De Profundis.txt',\n",
       " '/content/gdrive/My Drive/R9 External/data/data/Miscellanies.txt',\n",
       " '/content/gdrive/My Drive/R9 External/data/data/The Importance of Being Earnest.txt',\n",
       " '/content/gdrive/My Drive/R9 External/data/data/Selected prose of oscar wilde with a Preface by Robert Ross.txt',\n",
       " '/content/gdrive/My Drive/R9 External/data/data/The Soul of Man.txt',\n",
       " '/content/gdrive/My Drive/R9 External/data/data/Lady Windermere_s Fan.txt',\n",
       " '/content/gdrive/My Drive/R9 External/data/data/Intentions.txt',\n",
       " '/content/gdrive/My Drive/R9 External/data/data/The Picture of Dorian Gray.txt']"
      ]
     },
     "execution_count": 59,
     "metadata": {
      "tags": []
     },
     "output_type": "execute_result"
    }
   ],
   "source": [
    "import glob\n",
    "ds_path = project_path+'data/data/'\n",
    "fileList = glob.glob(ds_path+'*.txt')\n",
    "fileList"
   ]
  },
  {
   "cell_type": "markdown",
   "metadata": {
    "colab_type": "text",
    "id": "glr4hv6uZkL-"
   },
   "source": [
    "### Read the data\n",
    "\n",
    "Read contents of every file from the list and append the text in a new list"
   ]
  },
  {
   "cell_type": "code",
   "execution_count": 0,
   "metadata": {
    "colab": {},
    "colab_type": "code",
    "id": "zLrMMjrkRt9x"
   },
   "outputs": [],
   "source": [
    "codetext = []\n",
    "bookranges = []\n",
    "for file in fileList:\n",
    "    text = open(file, \"r\")\n",
    "    start = len(codetext)\n",
    "    codetext.append(text.read())\n",
    "    end = len(codetext)\n",
    "    bookranges.append({\"start\": start, \"end\": end, \"name\": file.rsplit(\"/\", 1)[-1]})\n",
    "    text.close()"
   ]
  },
  {
   "cell_type": "markdown",
   "metadata": {
    "colab_type": "text",
    "id": "jMX-Fu-GHdxj"
   },
   "source": [
    "## Process the text\n",
    "Initialize and fit the tokenizer"
   ]
  },
  {
   "cell_type": "code",
   "execution_count": 0,
   "metadata": {
    "colab": {},
    "colab_type": "code",
    "id": "zQf1AV8wHdxl"
   },
   "outputs": [],
   "source": [
    "tokenizer = Tokenizer(lower=True, filters='!\"#$%&()*+,-./:;<=>?@[\\\\]^_`{|}~\\t\\n')\n",
    "tokenizer.fit_on_texts(codetext)"
   ]
  },
  {
   "cell_type": "markdown",
   "metadata": {
    "colab_type": "text",
    "id": "vpZ0A2-xHdxp"
   },
   "source": [
    "### Vectorize the text\n",
    "\n",
    "Before training, we need to map strings to a numerical representation. Create two lookup tables: one mapping words to numbers, and another for numbers to words."
   ]
  },
  {
   "cell_type": "code",
   "execution_count": 0,
   "metadata": {
    "colab": {},
    "colab_type": "code",
    "id": "_Nsq-rSPHdxq"
   },
   "outputs": [],
   "source": [
    "word_idx = tokenizer.word_index\n",
    "idx_word = tokenizer.index_word"
   ]
  },
  {
   "cell_type": "markdown",
   "metadata": {
    "colab_type": "text",
    "id": "YMYdjx4aHdxu"
   },
   "source": [
    "Get the word count for every word and also get the total number of words."
   ]
  },
  {
   "cell_type": "code",
   "execution_count": 0,
   "metadata": {
    "colab": {},
    "colab_type": "code",
    "id": "ioEZ2c21Hdxw"
   },
   "outputs": [],
   "source": [
    "word_counts = tokenizer.word_counts\n",
    "num_words = len(word_idx) + 1"
   ]
  },
  {
   "cell_type": "markdown",
   "metadata": {
    "colab_type": "text",
    "id": "dWUBr9rHHdx0"
   },
   "source": [
    "Convert text to sequence of numbers"
   ]
  },
  {
   "cell_type": "code",
   "execution_count": 0,
   "metadata": {
    "colab": {},
    "colab_type": "code",
    "id": "dwLl0BWKHdx2"
   },
   "outputs": [],
   "source": [
    "sequences = tokenizer.texts_to_sequences(codetext)"
   ]
  },
  {
   "cell_type": "markdown",
   "metadata": {
    "colab_type": "text",
    "id": "GkpK8McUHdx6"
   },
   "source": [
    "### Generate Features and Labels"
   ]
  },
  {
   "cell_type": "code",
   "execution_count": 0,
   "metadata": {
    "colab": {},
    "colab_type": "code",
    "id": "zxhQamjwHdx7"
   },
   "outputs": [],
   "source": [
    "features = []\n",
    "labels = []\n",
    "\n",
    "training_length = 50\n",
    "# Iterate through the sequences of tokens\n",
    "for seq in sequences:\n",
    "    # Create multiple training examples from each sequence\n",
    "    for i in range(training_length, training_length+300):\n",
    "        # Extract the features and label\n",
    "        extract = seq[i - training_length: i - training_length + 20]\n",
    "\n",
    "        # Set the features and label\n",
    "        features.append(extract[:-1])\n",
    "        labels.append(extract[-1])"
   ]
  },
  {
   "cell_type": "markdown",
   "metadata": {
    "colab_type": "text",
    "id": "bbmsf23Bymwe"
   },
   "source": [
    "### The prediction task"
   ]
  },
  {
   "cell_type": "markdown",
   "metadata": {
    "colab_type": "text",
    "id": "wssHQ1oGymwe"
   },
   "source": [
    "Given a word, or a sequence of words, what is the most probable next word? This is the task we're training the model to perform. The input to the model will be a sequence of words, and we train the model to predict the output—the following word at each time step.\n",
    "\n",
    "Since RNNs maintain an internal state that depends on the previously seen elements, given all the words computed until this moment, what is the next word?"
   ]
  },
  {
   "cell_type": "markdown",
   "metadata": {
    "colab_type": "text",
    "id": "T2bsVOl7HdyA"
   },
   "source": [
    "### Generate training and testing data"
   ]
  },
  {
   "cell_type": "code",
   "execution_count": 0,
   "metadata": {
    "colab": {},
    "colab_type": "code",
    "id": "j7-IsvynHdyB"
   },
   "outputs": [],
   "source": [
    "from sklearn.utils import shuffle\n",
    "import numpy as np\n",
    "\n",
    "features, labels = shuffle(features, labels, random_state=1)\n",
    "\n",
    "# Decide on number of samples for training\n",
    "train_end = int(0.7 * len(labels))\n",
    "\n",
    "train_features = np.array(features[:train_end])\n",
    "valid_features = np.array(features[train_end:])\n",
    "\n",
    "train_labels = labels[:train_end]\n",
    "valid_labels = labels[train_end:]\n",
    "\n",
    "# Convert to arrays\n",
    "X_train, X_valid = np.array(train_features), np.array(valid_features)\n",
    "\n",
    "# Using int8 for memory savings\n",
    "y_train = np.zeros((len(train_labels), num_words), dtype=np.int8)\n",
    "y_valid = np.zeros((len(valid_labels), num_words), dtype=np.int8)\n",
    "\n",
    "# One hot encoding of labels\n",
    "for example_index, word_index in enumerate(train_labels):\n",
    "    y_train[example_index, word_index] = 1\n",
    "\n",
    "for example_index, word_index in enumerate(valid_labels):\n",
    "    y_valid[example_index, word_index] = 1"
   ]
  },
  {
   "cell_type": "markdown",
   "metadata": {
    "colab_type": "text",
    "id": "juT1mZrUHdyE"
   },
   "source": [
    "This is just to check the features and labels"
   ]
  },
  {
   "cell_type": "code",
   "execution_count": 0,
   "metadata": {
    "colab": {
     "base_uri": "https://localhost:8080/",
     "height": 153
    },
    "colab_type": "code",
    "id": "wkdmNbgjHdyF",
    "outputId": "b04794da-e16a-4414-c9f7-b33f8fabb45a"
   },
   "outputs": [
    {
     "name": "stdout",
     "output_type": "stream",
     "text": [
      "Features: room in algernon's flat in half moon street the room is luxuriously and artistically furnished the sound of a\n",
      "\n",
      "Label: piano\n",
      "\n",
      "Features: a woman of no importance a play author oscar wilde release date september 16 2014 ebook 854 this file\n",
      "\n",
      "Label: was\n",
      "\n"
     ]
    }
   ],
   "source": [
    "for i, sequence in enumerate(X_train[:2]):\n",
    "    text = []\n",
    "#     print(i, sequence)\n",
    "    for idx in sequence:\n",
    "        text.append(idx_word[idx])\n",
    "        \n",
    "    print('Features: ' + ' '.join(text)+'\\n')\n",
    "    print('Label: ' + idx_word[np.argmax(y_train[i])] + '\\n')"
   ]
  },
  {
   "cell_type": "markdown",
   "metadata": {
    "colab_type": "text",
    "id": "r6oUuElIMgVx"
   },
   "source": [
    "## Build The Model"
   ]
  },
  {
   "cell_type": "markdown",
   "metadata": {
    "colab_type": "text",
    "id": "m8gPwEjRzf-Z"
   },
   "source": [
    "Use `keras.Sequential` to define the model. For this simple example three layers are used to define our model:\n",
    "\n",
    "* `keras.layers.Embedding`: The input layer. A trainable lookup table that will map the numbers of each character to a vector with `embedding_dim` dimensions;\n",
    "* `keras.layers.LSTM`: A type of RNN with size `units=rnn_units` (You can also use a GRU layer here.)\n",
    "* `keras.layers.Dense`: The output layer, with `num_words` outputs."
   ]
  },
  {
   "cell_type": "code",
   "execution_count": 0,
   "metadata": {
    "colab": {
     "base_uri": "https://localhost:8080/",
     "height": 323
    },
    "colab_type": "code",
    "id": "GKpCQFZLHdyN",
    "outputId": "8b6a37ab-444a-4e5f-d52a-1048fd5038e7"
   },
   "outputs": [
    {
     "name": "stdout",
     "output_type": "stream",
     "text": [
      "Model: \"sequential_2\"\n",
      "_________________________________________________________________\n",
      "Layer (type)                 Output Shape              Param #   \n",
      "=================================================================\n",
      "embedding_2 (Embedding)      (None, None, 100)         3283900   \n",
      "_________________________________________________________________\n",
      "lstm_2 (LSTM)                (None, 64)                42240     \n",
      "_________________________________________________________________\n",
      "dense_3 (Dense)              (None, 64)                4160      \n",
      "_________________________________________________________________\n",
      "dropout_2 (Dropout)          (None, 64)                0         \n",
      "_________________________________________________________________\n",
      "dense_4 (Dense)              (None, 32839)             2134535   \n",
      "=================================================================\n",
      "Total params: 5,464,835\n",
      "Trainable params: 5,464,835\n",
      "Non-trainable params: 0\n",
      "_________________________________________________________________\n"
     ]
    }
   ],
   "source": [
    "rnn_model = Sequential()\n",
    "\n",
    "# Embedding layer\n",
    "rnn_model.add(\n",
    "    Embedding(\n",
    "        input_dim=len(word_idx) + 1,\n",
    "        output_dim=100,\n",
    "        weights=None,\n",
    "        trainable=True))\n",
    "\n",
    "# Recurrent layer\n",
    "rnn_model.add(\n",
    "    LSTM(\n",
    "        64, return_sequences=False, dropout=0.1,\n",
    "        recurrent_dropout=0.1))\n",
    "\n",
    "# Fully connected layer\n",
    "rnn_model.add(Dense(64, activation='relu'))\n",
    "\n",
    "# Dropout for regularization\n",
    "rnn_model.add(Dropout(0.5))\n",
    "\n",
    "# Output layer\n",
    "rnn_model.add(Dense(num_words, activation='softmax'))\n",
    "\n",
    "# Compile the model\n",
    "rnn_model.compile(\n",
    "    optimizer='adam', loss='categorical_crossentropy', metrics=['accuracy'])\n",
    "\n",
    "rnn_model.summary()"
   ]
  },
  {
   "cell_type": "markdown",
   "metadata": {
    "colab_type": "text",
    "id": "vL3tUp1UHdyS"
   },
   "source": [
    "For each word the model looks up the embedding, runs the LSTM one timestep with the embedding as input, and applies the dense layer to generate logits predicting the log-liklihood of the next word."
   ]
  },
  {
   "cell_type": "markdown",
   "metadata": {
    "colab_type": "text",
    "id": "LJL0Q0YPY6Ee"
   },
   "source": [
    "## Train the model"
   ]
  },
  {
   "cell_type": "code",
   "execution_count": 0,
   "metadata": {
    "colab": {
     "base_uri": "https://localhost:8080/",
     "height": 1000
    },
    "colab_type": "code",
    "id": "6o84puBcHdyV",
    "outputId": "e86f08fe-9110-4ac8-808a-cba2da8f124b"
   },
   "outputs": [
    {
     "name": "stdout",
     "output_type": "stream",
     "text": [
      "WARNING:tensorflow:From /usr/local/lib/python3.6/dist-packages/tensorflow_core/python/ops/math_grad.py:1424: where (from tensorflow.python.ops.array_ops) is deprecated and will be removed in a future version.\n",
      "Instructions for updating:\n",
      "Use tf.where in 2.0, which has the same broadcast rule as np.where\n",
      "WARNING:tensorflow:From /usr/local/lib/python3.6/dist-packages/keras/backend/tensorflow_backend.py:1033: The name tf.assign_add is deprecated. Please use tf.compat.v1.assign_add instead.\n",
      "\n",
      "WARNING:tensorflow:From /usr/local/lib/python3.6/dist-packages/keras/backend/tensorflow_backend.py:1020: The name tf.assign is deprecated. Please use tf.compat.v1.assign instead.\n",
      "\n",
      "WARNING:tensorflow:From /usr/local/lib/python3.6/dist-packages/keras/backend/tensorflow_backend.py:3005: The name tf.Session is deprecated. Please use tf.compat.v1.Session instead.\n",
      "\n",
      "Epoch 1/500\n",
      "WARNING:tensorflow:From /usr/local/lib/python3.6/dist-packages/keras/backend/tensorflow_backend.py:190: The name tf.get_default_session is deprecated. Please use tf.compat.v1.get_default_session instead.\n",
      "\n",
      "WARNING:tensorflow:From /usr/local/lib/python3.6/dist-packages/keras/backend/tensorflow_backend.py:197: The name tf.ConfigProto is deprecated. Please use tf.compat.v1.ConfigProto instead.\n",
      "\n",
      "WARNING:tensorflow:From /usr/local/lib/python3.6/dist-packages/keras/backend/tensorflow_backend.py:207: The name tf.global_variables is deprecated. Please use tf.compat.v1.global_variables instead.\n",
      "\n",
      "WARNING:tensorflow:From /usr/local/lib/python3.6/dist-packages/keras/backend/tensorflow_backend.py:216: The name tf.is_variable_initialized is deprecated. Please use tf.compat.v1.is_variable_initialized instead.\n",
      "\n",
      "WARNING:tensorflow:From /usr/local/lib/python3.6/dist-packages/keras/backend/tensorflow_backend.py:223: The name tf.variables_initializer is deprecated. Please use tf.compat.v1.variables_initializer instead.\n",
      "\n",
      "6510/6510 [==============================] - 22s 3ms/step - loss: 8.1832 - acc: 0.0582\n",
      "Epoch 2/500\n",
      "6510/6510 [==============================] - 20s 3ms/step - loss: 6.7205 - acc: 0.0608\n",
      "Epoch 3/500\n",
      "6510/6510 [==============================] - 20s 3ms/step - loss: 6.4523 - acc: 0.0607\n",
      "Epoch 4/500\n",
      "6510/6510 [==============================] - 20s 3ms/step - loss: 6.2808 - acc: 0.0616\n",
      "Epoch 5/500\n",
      "6510/6510 [==============================] - 20s 3ms/step - loss: 6.1395 - acc: 0.0685\n",
      "Epoch 6/500\n",
      "6510/6510 [==============================] - 20s 3ms/step - loss: 6.0068 - acc: 0.0699\n",
      "Epoch 7/500\n",
      "6510/6510 [==============================] - 20s 3ms/step - loss: 5.8781 - acc: 0.0725\n",
      "Epoch 8/500\n",
      "6510/6510 [==============================] - 20s 3ms/step - loss: 5.7595 - acc: 0.0777\n",
      "Epoch 9/500\n",
      "6510/6510 [==============================] - 20s 3ms/step - loss: 5.6444 - acc: 0.0813\n",
      "Epoch 10/500\n",
      "6510/6510 [==============================] - 20s 3ms/step - loss: 5.5519 - acc: 0.0859\n",
      "Epoch 11/500\n",
      "6510/6510 [==============================] - 20s 3ms/step - loss: 5.4607 - acc: 0.0906\n",
      "Epoch 12/500\n",
      "6510/6510 [==============================] - 20s 3ms/step - loss: 5.3584 - acc: 0.0985\n",
      "Epoch 13/500\n",
      "6510/6510 [==============================] - 20s 3ms/step - loss: 5.2604 - acc: 0.1054\n",
      "Epoch 14/500\n",
      "6510/6510 [==============================] - 20s 3ms/step - loss: 5.1301 - acc: 0.1143\n",
      "Epoch 15/500\n",
      "6510/6510 [==============================] - 20s 3ms/step - loss: 4.9948 - acc: 0.1312\n",
      "Epoch 16/500\n",
      "6510/6510 [==============================] - 20s 3ms/step - loss: 4.8790 - acc: 0.1418\n",
      "Epoch 17/500\n",
      "6510/6510 [==============================] - 20s 3ms/step - loss: 4.7597 - acc: 0.1573\n",
      "Epoch 18/500\n",
      "6510/6510 [==============================] - 20s 3ms/step - loss: 4.6539 - acc: 0.1728\n",
      "Epoch 19/500\n",
      "6510/6510 [==============================] - 20s 3ms/step - loss: 4.5499 - acc: 0.1874\n",
      "Epoch 20/500\n",
      "6510/6510 [==============================] - 20s 3ms/step - loss: 4.4294 - acc: 0.2045\n",
      "Epoch 21/500\n",
      "6510/6510 [==============================] - 20s 3ms/step - loss: 4.3422 - acc: 0.2144\n",
      "Epoch 22/500\n",
      "6510/6510 [==============================] - 20s 3ms/step - loss: 4.2484 - acc: 0.2290\n",
      "Epoch 23/500\n",
      "6510/6510 [==============================] - 20s 3ms/step - loss: 4.1365 - acc: 0.2487\n",
      "Epoch 24/500\n",
      "6510/6510 [==============================] - 20s 3ms/step - loss: 4.0327 - acc: 0.2607\n",
      "Epoch 25/500\n",
      "6510/6510 [==============================] - 20s 3ms/step - loss: 3.9303 - acc: 0.2734\n",
      "Epoch 26/500\n",
      "6510/6510 [==============================] - 20s 3ms/step - loss: 3.8466 - acc: 0.2894\n",
      "Epoch 27/500\n",
      "6510/6510 [==============================] - 20s 3ms/step - loss: 3.7324 - acc: 0.3037\n",
      "Epoch 28/500\n",
      "6510/6510 [==============================] - 20s 3ms/step - loss: 3.6502 - acc: 0.3121\n",
      "Epoch 29/500\n",
      "6510/6510 [==============================] - 20s 3ms/step - loss: 3.5519 - acc: 0.3255\n",
      "Epoch 30/500\n",
      "6510/6510 [==============================] - 20s 3ms/step - loss: 3.4754 - acc: 0.3406\n",
      "Epoch 31/500\n",
      "6510/6510 [==============================] - 20s 3ms/step - loss: 3.4078 - acc: 0.3425\n",
      "Epoch 32/500\n",
      "6510/6510 [==============================] - 20s 3ms/step - loss: 3.3218 - acc: 0.3584\n",
      "Epoch 33/500\n",
      "6510/6510 [==============================] - 20s 3ms/step - loss: 3.2453 - acc: 0.3619\n",
      "Epoch 34/500\n",
      "6510/6510 [==============================] - 20s 3ms/step - loss: 3.1654 - acc: 0.3685\n",
      "Epoch 35/500\n",
      "6510/6510 [==============================] - 20s 3ms/step - loss: 3.0945 - acc: 0.3799\n",
      "Epoch 36/500\n",
      "6510/6510 [==============================] - 20s 3ms/step - loss: 3.0525 - acc: 0.3811\n",
      "Epoch 37/500\n",
      "6510/6510 [==============================] - 20s 3ms/step - loss: 2.9752 - acc: 0.3945\n",
      "Epoch 38/500\n",
      "6510/6510 [==============================] - 20s 3ms/step - loss: 2.9134 - acc: 0.3997\n",
      "Epoch 39/500\n",
      "6510/6510 [==============================] - 20s 3ms/step - loss: 2.8546 - acc: 0.4005\n",
      "Epoch 40/500\n",
      "6510/6510 [==============================] - 20s 3ms/step - loss: 2.8116 - acc: 0.4111\n",
      "Epoch 41/500\n",
      "6510/6510 [==============================] - 20s 3ms/step - loss: 2.7402 - acc: 0.4144\n",
      "Epoch 42/500\n",
      "6510/6510 [==============================] - 20s 3ms/step - loss: 2.7148 - acc: 0.4243\n",
      "Epoch 43/500\n",
      "6510/6510 [==============================] - 20s 3ms/step - loss: 2.6224 - acc: 0.4358\n",
      "Epoch 44/500\n",
      "6510/6510 [==============================] - 20s 3ms/step - loss: 2.5951 - acc: 0.4320\n",
      "Epoch 45/500\n",
      "6510/6510 [==============================] - 20s 3ms/step - loss: 2.5475 - acc: 0.4445\n",
      "Epoch 46/500\n",
      "6510/6510 [==============================] - 20s 3ms/step - loss: 2.5088 - acc: 0.4490\n",
      "Epoch 47/500\n",
      "6510/6510 [==============================] - 20s 3ms/step - loss: 2.4238 - acc: 0.4576\n",
      "Epoch 48/500\n",
      "6510/6510 [==============================] - 20s 3ms/step - loss: 2.3995 - acc: 0.4584\n",
      "Epoch 49/500\n",
      "6510/6510 [==============================] - 20s 3ms/step - loss: 2.3457 - acc: 0.4679\n",
      "Epoch 50/500\n",
      "6510/6510 [==============================] - 20s 3ms/step - loss: 2.3133 - acc: 0.4725\n",
      "Epoch 51/500\n",
      "6510/6510 [==============================] - 20s 3ms/step - loss: 2.2660 - acc: 0.4829\n",
      "Epoch 52/500\n",
      "6510/6510 [==============================] - 20s 3ms/step - loss: 2.2590 - acc: 0.4814\n",
      "Epoch 53/500\n",
      "6510/6510 [==============================] - 20s 3ms/step - loss: 2.2064 - acc: 0.4869\n",
      "Epoch 54/500\n",
      "6510/6510 [==============================] - 20s 3ms/step - loss: 2.1238 - acc: 0.5031\n",
      "Epoch 55/500\n",
      "6510/6510 [==============================] - 20s 3ms/step - loss: 2.1265 - acc: 0.4980\n",
      "Epoch 56/500\n",
      "6510/6510 [==============================] - 20s 3ms/step - loss: 2.0783 - acc: 0.5046\n",
      "Epoch 57/500\n",
      "6510/6510 [==============================] - 20s 3ms/step - loss: 2.0426 - acc: 0.5117\n",
      "Epoch 58/500\n",
      "6510/6510 [==============================] - 20s 3ms/step - loss: 2.0147 - acc: 0.5137\n",
      "Epoch 59/500\n",
      "6510/6510 [==============================] - 20s 3ms/step - loss: 1.9761 - acc: 0.5163\n",
      "Epoch 60/500\n",
      "6510/6510 [==============================] - 20s 3ms/step - loss: 1.9443 - acc: 0.5220\n",
      "Epoch 61/500\n",
      "6510/6510 [==============================] - 20s 3ms/step - loss: 1.8935 - acc: 0.5384\n",
      "Epoch 62/500\n",
      "6510/6510 [==============================] - 20s 3ms/step - loss: 1.8680 - acc: 0.5393\n",
      "Epoch 63/500\n",
      "6510/6510 [==============================] - 20s 3ms/step - loss: 1.8437 - acc: 0.5438\n",
      "Epoch 64/500\n",
      "6510/6510 [==============================] - 20s 3ms/step - loss: 1.8271 - acc: 0.5458\n",
      "Epoch 65/500\n",
      "6510/6510 [==============================] - 20s 3ms/step - loss: 1.7875 - acc: 0.5453\n",
      "Epoch 66/500\n",
      "6510/6510 [==============================] - 20s 3ms/step - loss: 1.7803 - acc: 0.5571\n",
      "Epoch 67/500\n",
      "6510/6510 [==============================] - 20s 3ms/step - loss: 1.7352 - acc: 0.5667\n",
      "Epoch 68/500\n",
      "6510/6510 [==============================] - 20s 3ms/step - loss: 1.7129 - acc: 0.5728\n",
      "Epoch 69/500\n",
      "6510/6510 [==============================] - 20s 3ms/step - loss: 1.6929 - acc: 0.5674\n",
      "Epoch 70/500\n",
      "6510/6510 [==============================] - 20s 3ms/step - loss: 1.6693 - acc: 0.5734\n",
      "Epoch 71/500\n",
      "6510/6510 [==============================] - 20s 3ms/step - loss: 1.6567 - acc: 0.5776\n",
      "Epoch 72/500\n",
      "6510/6510 [==============================] - 20s 3ms/step - loss: 1.6292 - acc: 0.5837\n",
      "Epoch 73/500\n",
      "6510/6510 [==============================] - 20s 3ms/step - loss: 1.5934 - acc: 0.5849\n",
      "Epoch 74/500\n",
      "6510/6510 [==============================] - 20s 3ms/step - loss: 1.6188 - acc: 0.5748\n",
      "Epoch 75/500\n",
      "6510/6510 [==============================] - 20s 3ms/step - loss: 1.5617 - acc: 0.5925\n",
      "Epoch 76/500\n",
      "6510/6510 [==============================] - 20s 3ms/step - loss: 1.5371 - acc: 0.5943\n",
      "Epoch 77/500\n",
      "6510/6510 [==============================] - 20s 3ms/step - loss: 1.5423 - acc: 0.6018\n",
      "Epoch 78/500\n",
      "6510/6510 [==============================] - 20s 3ms/step - loss: 1.4937 - acc: 0.6108\n",
      "Epoch 79/500\n",
      "6510/6510 [==============================] - 20s 3ms/step - loss: 1.4637 - acc: 0.6160\n",
      "Epoch 80/500\n",
      "6510/6510 [==============================] - 20s 3ms/step - loss: 1.4521 - acc: 0.6103\n",
      "Epoch 81/500\n",
      "6510/6510 [==============================] - 20s 3ms/step - loss: 1.4528 - acc: 0.6147\n",
      "Epoch 82/500\n",
      "6510/6510 [==============================] - 20s 3ms/step - loss: 1.4400 - acc: 0.6230\n",
      "Epoch 83/500\n",
      "6510/6510 [==============================] - 20s 3ms/step - loss: 1.4176 - acc: 0.6235\n",
      "Epoch 84/500\n",
      "6510/6510 [==============================] - 20s 3ms/step - loss: 1.3986 - acc: 0.6250\n",
      "Epoch 85/500\n",
      "6510/6510 [==============================] - 20s 3ms/step - loss: 1.3840 - acc: 0.6244\n",
      "Epoch 86/500\n",
      "6510/6510 [==============================] - 20s 3ms/step - loss: 1.3682 - acc: 0.6372\n",
      "Epoch 87/500\n",
      "6510/6510 [==============================] - 20s 3ms/step - loss: 1.3462 - acc: 0.6367\n",
      "Epoch 88/500\n",
      "6510/6510 [==============================] - 20s 3ms/step - loss: 1.3514 - acc: 0.6373\n",
      "Epoch 89/500\n",
      "6510/6510 [==============================] - 20s 3ms/step - loss: 1.3332 - acc: 0.6415\n",
      "Epoch 90/500\n",
      "6510/6510 [==============================] - 20s 3ms/step - loss: 1.2967 - acc: 0.6524\n",
      "Epoch 91/500\n",
      "6510/6510 [==============================] - 20s 3ms/step - loss: 1.3149 - acc: 0.6528\n",
      "Epoch 92/500\n",
      "6510/6510 [==============================] - 20s 3ms/step - loss: 1.2901 - acc: 0.6470\n",
      "Epoch 93/500\n",
      "6510/6510 [==============================] - 20s 3ms/step - loss: 1.2567 - acc: 0.6561\n",
      "Epoch 94/500\n",
      "6510/6510 [==============================] - 20s 3ms/step - loss: 1.2590 - acc: 0.6582\n",
      "Epoch 95/500\n",
      "6510/6510 [==============================] - 20s 3ms/step - loss: 1.2426 - acc: 0.6641\n",
      "Epoch 96/500\n",
      "6510/6510 [==============================] - 20s 3ms/step - loss: 1.2255 - acc: 0.6555\n",
      "Epoch 97/500\n",
      "6510/6510 [==============================] - 20s 3ms/step - loss: 1.2250 - acc: 0.6622\n",
      "Epoch 98/500\n",
      "6510/6510 [==============================] - 20s 3ms/step - loss: 1.2192 - acc: 0.6682\n",
      "Epoch 99/500\n",
      "6510/6510 [==============================] - 20s 3ms/step - loss: 1.2290 - acc: 0.6631\n",
      "Epoch 100/500\n",
      "6510/6510 [==============================] - 20s 3ms/step - loss: 1.1823 - acc: 0.6737\n",
      "Epoch 101/500\n",
      "6510/6510 [==============================] - 20s 3ms/step - loss: 1.1867 - acc: 0.6713\n",
      "Epoch 102/500\n",
      "6510/6510 [==============================] - 20s 3ms/step - loss: 1.1751 - acc: 0.6704\n",
      "Epoch 103/500\n",
      "6510/6510 [==============================] - 20s 3ms/step - loss: 1.1643 - acc: 0.6727\n",
      "Epoch 104/500\n",
      "6510/6510 [==============================] - 20s 3ms/step - loss: 1.1616 - acc: 0.6805\n",
      "Epoch 105/500\n",
      "6510/6510 [==============================] - 20s 3ms/step - loss: 1.1363 - acc: 0.6843\n",
      "Epoch 106/500\n",
      "6510/6510 [==============================] - 20s 3ms/step - loss: 1.1449 - acc: 0.6734\n",
      "Epoch 107/500\n",
      "6510/6510 [==============================] - 20s 3ms/step - loss: 1.1197 - acc: 0.6848\n",
      "Epoch 108/500\n",
      "6510/6510 [==============================] - 20s 3ms/step - loss: 1.1320 - acc: 0.6868\n",
      "Epoch 109/500\n",
      "6510/6510 [==============================] - 20s 3ms/step - loss: 1.0936 - acc: 0.6923\n",
      "Epoch 110/500\n",
      "6510/6510 [==============================] - 20s 3ms/step - loss: 1.0905 - acc: 0.6889\n",
      "Epoch 111/500\n",
      "6510/6510 [==============================] - 20s 3ms/step - loss: 1.0487 - acc: 0.7045\n",
      "Epoch 112/500\n",
      "6510/6510 [==============================] - 20s 3ms/step - loss: 1.0755 - acc: 0.6998\n",
      "Epoch 113/500\n",
      "6510/6510 [==============================] - 20s 3ms/step - loss: 1.0962 - acc: 0.6951\n",
      "Epoch 114/500\n",
      "6510/6510 [==============================] - 20s 3ms/step - loss: 1.0492 - acc: 0.7003\n",
      "Epoch 115/500\n",
      "6510/6510 [==============================] - 20s 3ms/step - loss: 1.0714 - acc: 0.6937\n",
      "Epoch 116/500\n",
      "6510/6510 [==============================] - 20s 3ms/step - loss: 1.0491 - acc: 0.7043\n",
      "Epoch 117/500\n",
      "6510/6510 [==============================] - 20s 3ms/step - loss: 1.0585 - acc: 0.6997\n",
      "Epoch 118/500\n",
      "6510/6510 [==============================] - 20s 3ms/step - loss: 1.0540 - acc: 0.6971\n",
      "Epoch 119/500\n",
      "6510/6510 [==============================] - 20s 3ms/step - loss: 1.0190 - acc: 0.7154\n",
      "Epoch 120/500\n",
      "6510/6510 [==============================] - 20s 3ms/step - loss: 1.0254 - acc: 0.7037\n",
      "Epoch 121/500\n",
      "6510/6510 [==============================] - 20s 3ms/step - loss: 1.0291 - acc: 0.7077\n",
      "Epoch 122/500\n",
      "6510/6510 [==============================] - 20s 3ms/step - loss: 1.0260 - acc: 0.7038\n",
      "Epoch 123/500\n",
      "6510/6510 [==============================] - 20s 3ms/step - loss: 1.0112 - acc: 0.7126\n",
      "Epoch 124/500\n",
      "6510/6510 [==============================] - 20s 3ms/step - loss: 0.9830 - acc: 0.7115\n",
      "Epoch 125/500\n",
      "6510/6510 [==============================] - 20s 3ms/step - loss: 0.9920 - acc: 0.7146\n",
      "Epoch 126/500\n",
      "6510/6510 [==============================] - 20s 3ms/step - loss: 0.9678 - acc: 0.7209\n",
      "Epoch 127/500\n",
      "6510/6510 [==============================] - 20s 3ms/step - loss: 0.9675 - acc: 0.7186\n",
      "Epoch 128/500\n",
      "6510/6510 [==============================] - 20s 3ms/step - loss: 0.9730 - acc: 0.7220\n",
      "Epoch 129/500\n",
      "6510/6510 [==============================] - 20s 3ms/step - loss: 0.9527 - acc: 0.7237\n",
      "Epoch 130/500\n",
      "6510/6510 [==============================] - 20s 3ms/step - loss: 0.9691 - acc: 0.7200\n",
      "Epoch 131/500\n",
      "6510/6510 [==============================] - 20s 3ms/step - loss: 0.9484 - acc: 0.7238\n",
      "Epoch 132/500\n",
      "6510/6510 [==============================] - 20s 3ms/step - loss: 0.9213 - acc: 0.7333\n",
      "Epoch 133/500\n",
      "6510/6510 [==============================] - 20s 3ms/step - loss: 0.9318 - acc: 0.7339\n",
      "Epoch 134/500\n",
      "6510/6510 [==============================] - 20s 3ms/step - loss: 0.9312 - acc: 0.7306\n",
      "Epoch 135/500\n",
      "6510/6510 [==============================] - 20s 3ms/step - loss: 0.9266 - acc: 0.7356\n",
      "Epoch 136/500\n",
      "6510/6510 [==============================] - 20s 3ms/step - loss: 0.9315 - acc: 0.7280\n",
      "Epoch 137/500\n",
      "6510/6510 [==============================] - 20s 3ms/step - loss: 0.8975 - acc: 0.7386\n",
      "Epoch 138/500\n",
      "6510/6510 [==============================] - 20s 3ms/step - loss: 0.9155 - acc: 0.7301\n",
      "Epoch 139/500\n",
      "6510/6510 [==============================] - 20s 3ms/step - loss: 0.9100 - acc: 0.7396\n",
      "Epoch 140/500\n",
      "6510/6510 [==============================] - 20s 3ms/step - loss: 0.9016 - acc: 0.7376\n",
      "Epoch 141/500\n",
      "6510/6510 [==============================] - 20s 3ms/step - loss: 0.9031 - acc: 0.7382\n",
      "Epoch 142/500\n",
      "6510/6510 [==============================] - 20s 3ms/step - loss: 0.9021 - acc: 0.7333\n",
      "Epoch 143/500\n",
      "6510/6510 [==============================] - 20s 3ms/step - loss: 0.8812 - acc: 0.7401\n",
      "Epoch 144/500\n",
      "6510/6510 [==============================] - 20s 3ms/step - loss: 0.8492 - acc: 0.7515\n",
      "Epoch 145/500\n",
      "6510/6510 [==============================] - 20s 3ms/step - loss: 0.8859 - acc: 0.7402\n",
      "Epoch 146/500\n",
      "6510/6510 [==============================] - 20s 3ms/step - loss: 0.8608 - acc: 0.7488\n",
      "Epoch 147/500\n",
      "6510/6510 [==============================] - 20s 3ms/step - loss: 0.8571 - acc: 0.7502\n",
      "Epoch 148/500\n",
      "6510/6510 [==============================] - 20s 3ms/step - loss: 0.8489 - acc: 0.7512\n",
      "Epoch 149/500\n",
      "6510/6510 [==============================] - 20s 3ms/step - loss: 0.8879 - acc: 0.7349\n",
      "Epoch 150/500\n",
      "6510/6510 [==============================] - 20s 3ms/step - loss: 0.8317 - acc: 0.7562\n",
      "Epoch 151/500\n",
      "6510/6510 [==============================] - 20s 3ms/step - loss: 0.8613 - acc: 0.7498\n",
      "Epoch 152/500\n",
      "6510/6510 [==============================] - 20s 3ms/step - loss: 0.8404 - acc: 0.7492\n",
      "Epoch 153/500\n",
      "6510/6510 [==============================] - 20s 3ms/step - loss: 0.8368 - acc: 0.7538\n",
      "Epoch 154/500\n",
      "6510/6510 [==============================] - 20s 3ms/step - loss: 0.8415 - acc: 0.7507\n",
      "Epoch 155/500\n",
      "6510/6510 [==============================] - 20s 3ms/step - loss: 0.8343 - acc: 0.7530\n",
      "Epoch 156/500\n",
      "6510/6510 [==============================] - 20s 3ms/step - loss: 0.8358 - acc: 0.7535\n",
      "Epoch 157/500\n",
      "6510/6510 [==============================] - 20s 3ms/step - loss: 0.8103 - acc: 0.7504\n",
      "Epoch 158/500\n",
      "6510/6510 [==============================] - 20s 3ms/step - loss: 0.8219 - acc: 0.7533\n",
      "Epoch 159/500\n",
      "6510/6510 [==============================] - 20s 3ms/step - loss: 0.8095 - acc: 0.7613\n",
      "Epoch 160/500\n",
      "6510/6510 [==============================] - 20s 3ms/step - loss: 0.7853 - acc: 0.7690\n",
      "Epoch 161/500\n",
      "6510/6510 [==============================] - 20s 3ms/step - loss: 0.8197 - acc: 0.7556\n",
      "Epoch 162/500\n",
      "6510/6510 [==============================] - 20s 3ms/step - loss: 0.8239 - acc: 0.7488\n",
      "Epoch 163/500\n",
      "6510/6510 [==============================] - 20s 3ms/step - loss: 0.8218 - acc: 0.7578\n",
      "Epoch 164/500\n",
      "6510/6510 [==============================] - 20s 3ms/step - loss: 0.7831 - acc: 0.7650\n",
      "Epoch 165/500\n",
      "6510/6510 [==============================] - 20s 3ms/step - loss: 0.7792 - acc: 0.7654\n",
      "Epoch 166/500\n",
      "6510/6510 [==============================] - 20s 3ms/step - loss: 0.7889 - acc: 0.7624\n",
      "Epoch 167/500\n",
      "6510/6510 [==============================] - 20s 3ms/step - loss: 0.7923 - acc: 0.7611\n",
      "Epoch 168/500\n",
      "6510/6510 [==============================] - 20s 3ms/step - loss: 0.7696 - acc: 0.7690\n",
      "Epoch 169/500\n",
      "6510/6510 [==============================] - 20s 3ms/step - loss: 0.7733 - acc: 0.7601\n",
      "Epoch 170/500\n",
      "6510/6510 [==============================] - 20s 3ms/step - loss: 0.7796 - acc: 0.7727\n",
      "Epoch 171/500\n",
      "6510/6510 [==============================] - 20s 3ms/step - loss: 0.7600 - acc: 0.7748\n",
      "Epoch 172/500\n",
      "6510/6510 [==============================] - 20s 3ms/step - loss: 0.7520 - acc: 0.7731\n",
      "Epoch 173/500\n",
      "6510/6510 [==============================] - 20s 3ms/step - loss: 0.7867 - acc: 0.7680\n",
      "Epoch 174/500\n",
      "6510/6510 [==============================] - 20s 3ms/step - loss: 0.7508 - acc: 0.7765\n",
      "Epoch 175/500\n",
      "6510/6510 [==============================] - 20s 3ms/step - loss: 0.7538 - acc: 0.7768\n",
      "Epoch 176/500\n",
      "6510/6510 [==============================] - 20s 3ms/step - loss: 0.7551 - acc: 0.7725\n",
      "Epoch 177/500\n",
      "6510/6510 [==============================] - 20s 3ms/step - loss: 0.7619 - acc: 0.7719\n",
      "Epoch 178/500\n",
      "6510/6510 [==============================] - 20s 3ms/step - loss: 0.7636 - acc: 0.7711\n",
      "Epoch 179/500\n",
      "6510/6510 [==============================] - 20s 3ms/step - loss: 0.7622 - acc: 0.7737\n",
      "Epoch 180/500\n",
      "6510/6510 [==============================] - 20s 3ms/step - loss: 0.7422 - acc: 0.7802\n",
      "Epoch 181/500\n",
      "6510/6510 [==============================] - 20s 3ms/step - loss: 0.7494 - acc: 0.7760\n",
      "Epoch 182/500\n",
      "6510/6510 [==============================] - 20s 3ms/step - loss: 0.7404 - acc: 0.7708\n",
      "Epoch 183/500\n",
      "6510/6510 [==============================] - 20s 3ms/step - loss: 0.7208 - acc: 0.7857\n",
      "Epoch 184/500\n",
      "6510/6510 [==============================] - 20s 3ms/step - loss: 0.7154 - acc: 0.7883\n",
      "Epoch 185/500\n",
      "6510/6510 [==============================] - 20s 3ms/step - loss: 0.7179 - acc: 0.7831\n",
      "Epoch 186/500\n",
      "6510/6510 [==============================] - 20s 3ms/step - loss: 0.7397 - acc: 0.7773\n",
      "Epoch 187/500\n",
      "6510/6510 [==============================] - 20s 3ms/step - loss: 0.7271 - acc: 0.7854\n",
      "Epoch 188/500\n",
      "6510/6510 [==============================] - 20s 3ms/step - loss: 0.7229 - acc: 0.7857\n",
      "Epoch 189/500\n",
      "6510/6510 [==============================] - 20s 3ms/step - loss: 0.7074 - acc: 0.7846\n",
      "Epoch 190/500\n",
      "6510/6510 [==============================] - 20s 3ms/step - loss: 0.7144 - acc: 0.7900\n",
      "Epoch 191/500\n",
      "6510/6510 [==============================] - 20s 3ms/step - loss: 0.7167 - acc: 0.7839\n",
      "Epoch 192/500\n",
      "6510/6510 [==============================] - 20s 3ms/step - loss: 0.7115 - acc: 0.7903\n",
      "Epoch 193/500\n",
      "6510/6510 [==============================] - 20s 3ms/step - loss: 0.7152 - acc: 0.7863\n",
      "Epoch 194/500\n",
      "6510/6510 [==============================] - 20s 3ms/step - loss: 0.7020 - acc: 0.7879\n",
      "Epoch 195/500\n",
      "6510/6510 [==============================] - 20s 3ms/step - loss: 0.6870 - acc: 0.7942\n",
      "Epoch 196/500\n",
      "6510/6510 [==============================] - 20s 3ms/step - loss: 0.6664 - acc: 0.7928\n",
      "Epoch 197/500\n",
      "6510/6510 [==============================] - 20s 3ms/step - loss: 0.7031 - acc: 0.7871\n",
      "Epoch 198/500\n",
      "6510/6510 [==============================] - 20s 3ms/step - loss: 0.6906 - acc: 0.7877\n",
      "Epoch 199/500\n",
      "6510/6510 [==============================] - 20s 3ms/step - loss: 0.6721 - acc: 0.7965\n",
      "Epoch 200/500\n",
      "6510/6510 [==============================] - 20s 3ms/step - loss: 0.6792 - acc: 0.7980\n",
      "Epoch 201/500\n",
      "6510/6510 [==============================] - 20s 3ms/step - loss: 0.6912 - acc: 0.7917\n",
      "Epoch 202/500\n",
      "6510/6510 [==============================] - 21s 3ms/step - loss: 0.6873 - acc: 0.7903\n",
      "Epoch 203/500\n",
      "6510/6510 [==============================] - 20s 3ms/step - loss: 0.6556 - acc: 0.8011\n",
      "Epoch 204/500\n",
      "6510/6510 [==============================] - 20s 3ms/step - loss: 0.6924 - acc: 0.7928\n",
      "Epoch 205/500\n",
      "6510/6510 [==============================] - 20s 3ms/step - loss: 0.6728 - acc: 0.7900\n",
      "Epoch 206/500\n",
      "6510/6510 [==============================] - 20s 3ms/step - loss: 0.6616 - acc: 0.7995\n",
      "Epoch 207/500\n",
      "6510/6510 [==============================] - 20s 3ms/step - loss: 0.6624 - acc: 0.7969\n",
      "Epoch 208/500\n",
      "6510/6510 [==============================] - 20s 3ms/step - loss: 0.6826 - acc: 0.7889\n",
      "Epoch 209/500\n",
      "6510/6510 [==============================] - 20s 3ms/step - loss: 0.6730 - acc: 0.7962\n",
      "Epoch 210/500\n",
      "6510/6510 [==============================] - 20s 3ms/step - loss: 0.6565 - acc: 0.8009\n",
      "Epoch 211/500\n",
      "6510/6510 [==============================] - 20s 3ms/step - loss: 0.6516 - acc: 0.7991\n",
      "Epoch 212/500\n",
      "6510/6510 [==============================] - 20s 3ms/step - loss: 0.6559 - acc: 0.8026\n",
      "Epoch 213/500\n",
      "6510/6510 [==============================] - 20s 3ms/step - loss: 0.6436 - acc: 0.8046\n",
      "Epoch 214/500\n",
      "6510/6510 [==============================] - 20s 3ms/step - loss: 0.6364 - acc: 0.8146\n",
      "Epoch 215/500\n",
      "6510/6510 [==============================] - 20s 3ms/step - loss: 0.6423 - acc: 0.8060\n",
      "Epoch 216/500\n",
      "6510/6510 [==============================] - 20s 3ms/step - loss: 0.6321 - acc: 0.8028\n",
      "Epoch 217/500\n",
      "6510/6510 [==============================] - 21s 3ms/step - loss: 0.6510 - acc: 0.7985\n",
      "Epoch 218/500\n",
      "6510/6510 [==============================] - 20s 3ms/step - loss: 0.6450 - acc: 0.8054\n",
      "Epoch 219/500\n",
      "6510/6510 [==============================] - 20s 3ms/step - loss: 0.6420 - acc: 0.8005\n",
      "Epoch 220/500\n",
      "6510/6510 [==============================] - 20s 3ms/step - loss: 0.6578 - acc: 0.7986\n",
      "Epoch 221/500\n",
      "6510/6510 [==============================] - 20s 3ms/step - loss: 0.6564 - acc: 0.8002\n",
      "Epoch 222/500\n",
      "6510/6510 [==============================] - 20s 3ms/step - loss: 0.6495 - acc: 0.8011\n",
      "Epoch 223/500\n",
      "6510/6510 [==============================] - 20s 3ms/step - loss: 0.6119 - acc: 0.8120\n",
      "Epoch 224/500\n",
      "6510/6510 [==============================] - 20s 3ms/step - loss: 0.6442 - acc: 0.8034\n",
      "Epoch 225/500\n",
      "6510/6510 [==============================] - 20s 3ms/step - loss: 0.6311 - acc: 0.8080\n",
      "Epoch 226/500\n",
      "6510/6510 [==============================] - 20s 3ms/step - loss: 0.6315 - acc: 0.8068\n",
      "Epoch 227/500\n",
      "6510/6510 [==============================] - 20s 3ms/step - loss: 0.6313 - acc: 0.8058\n",
      "Epoch 228/500\n",
      "6510/6510 [==============================] - 20s 3ms/step - loss: 0.6202 - acc: 0.8069\n",
      "Epoch 229/500\n",
      "6510/6510 [==============================] - 20s 3ms/step - loss: 0.6238 - acc: 0.8097\n",
      "Epoch 230/500\n",
      "6510/6510 [==============================] - 20s 3ms/step - loss: 0.6300 - acc: 0.8046\n",
      "Epoch 231/500\n",
      "6510/6510 [==============================] - 20s 3ms/step - loss: 0.6125 - acc: 0.8109\n",
      "Epoch 232/500\n",
      "6510/6510 [==============================] - 20s 3ms/step - loss: 0.6170 - acc: 0.8094\n",
      "Epoch 233/500\n",
      "6510/6510 [==============================] - 20s 3ms/step - loss: 0.6314 - acc: 0.8032\n",
      "Epoch 234/500\n",
      "6510/6510 [==============================] - 20s 3ms/step - loss: 0.6107 - acc: 0.8132\n",
      "Epoch 235/500\n",
      "6510/6510 [==============================] - 20s 3ms/step - loss: 0.5916 - acc: 0.8203\n",
      "Epoch 236/500\n",
      "6510/6510 [==============================] - 20s 3ms/step - loss: 0.6209 - acc: 0.8114\n",
      "Epoch 237/500\n",
      "6510/6510 [==============================] - 20s 3ms/step - loss: 0.6128 - acc: 0.8127\n",
      "Epoch 238/500\n",
      "6510/6510 [==============================] - 20s 3ms/step - loss: 0.6068 - acc: 0.8134\n",
      "Epoch 239/500\n",
      "6510/6510 [==============================] - 20s 3ms/step - loss: 0.5944 - acc: 0.8175\n",
      "Epoch 240/500\n",
      "6510/6510 [==============================] - 20s 3ms/step - loss: 0.6049 - acc: 0.8144\n",
      "Epoch 241/500\n",
      "6510/6510 [==============================] - 20s 3ms/step - loss: 0.6158 - acc: 0.8075\n",
      "Epoch 242/500\n",
      "6510/6510 [==============================] - 20s 3ms/step - loss: 0.6129 - acc: 0.8121\n",
      "Epoch 243/500\n",
      "6510/6510 [==============================] - 20s 3ms/step - loss: 0.6036 - acc: 0.8151\n",
      "Epoch 244/500\n",
      "6510/6510 [==============================] - 20s 3ms/step - loss: 0.6002 - acc: 0.8169\n",
      "Epoch 245/500\n",
      "6510/6510 [==============================] - 20s 3ms/step - loss: 0.5944 - acc: 0.8220\n",
      "Epoch 246/500\n",
      "6510/6510 [==============================] - 20s 3ms/step - loss: 0.5903 - acc: 0.8174\n",
      "Epoch 247/500\n",
      "6510/6510 [==============================] - 20s 3ms/step - loss: 0.5852 - acc: 0.8192\n",
      "Epoch 248/500\n",
      "6510/6510 [==============================] - 21s 3ms/step - loss: 0.5795 - acc: 0.8190\n",
      "Epoch 249/500\n",
      "6510/6510 [==============================] - 20s 3ms/step - loss: 0.5983 - acc: 0.8141\n",
      "Epoch 250/500\n",
      "6510/6510 [==============================] - 20s 3ms/step - loss: 0.5867 - acc: 0.8207\n",
      "Epoch 251/500\n",
      "6510/6510 [==============================] - 20s 3ms/step - loss: 0.5897 - acc: 0.8198\n",
      "Epoch 252/500\n",
      "6510/6510 [==============================] - 20s 3ms/step - loss: 0.5783 - acc: 0.8217\n",
      "Epoch 253/500\n",
      "6510/6510 [==============================] - 20s 3ms/step - loss: 0.5997 - acc: 0.8134\n",
      "Epoch 254/500\n",
      "6510/6510 [==============================] - 20s 3ms/step - loss: 0.5940 - acc: 0.8166\n",
      "Epoch 255/500\n",
      "6510/6510 [==============================] - 20s 3ms/step - loss: 0.5566 - acc: 0.8276\n",
      "Epoch 256/500\n",
      "6510/6510 [==============================] - 20s 3ms/step - loss: 0.5571 - acc: 0.8293\n",
      "Epoch 257/500\n",
      "6510/6510 [==============================] - 20s 3ms/step - loss: 0.5786 - acc: 0.8247\n",
      "Epoch 258/500\n",
      "6510/6510 [==============================] - 20s 3ms/step - loss: 0.5649 - acc: 0.8293\n",
      "Epoch 259/500\n",
      "6510/6510 [==============================] - 20s 3ms/step - loss: 0.5678 - acc: 0.8257\n",
      "Epoch 260/500\n",
      "6510/6510 [==============================] - 20s 3ms/step - loss: 0.5677 - acc: 0.8237\n",
      "Epoch 261/500\n",
      "6510/6510 [==============================] - 20s 3ms/step - loss: 0.5621 - acc: 0.8273\n",
      "Epoch 262/500\n",
      "6510/6510 [==============================] - 20s 3ms/step - loss: 0.5742 - acc: 0.8232\n",
      "Epoch 263/500\n",
      "6510/6510 [==============================] - 20s 3ms/step - loss: 0.5610 - acc: 0.8255\n",
      "Epoch 264/500\n",
      "6510/6510 [==============================] - 20s 3ms/step - loss: 0.5820 - acc: 0.8226\n",
      "Epoch 265/500\n",
      "6510/6510 [==============================] - 20s 3ms/step - loss: 0.5676 - acc: 0.8186\n",
      "Epoch 266/500\n",
      "6510/6510 [==============================] - 20s 3ms/step - loss: 0.5673 - acc: 0.8304\n",
      "Epoch 267/500\n",
      "6510/6510 [==============================] - 20s 3ms/step - loss: 0.5776 - acc: 0.8197\n",
      "Epoch 268/500\n",
      "6510/6510 [==============================] - 20s 3ms/step - loss: 0.5636 - acc: 0.8292\n",
      "Epoch 269/500\n",
      "6510/6510 [==============================] - 20s 3ms/step - loss: 0.5549 - acc: 0.8287\n",
      "Epoch 270/500\n",
      "6510/6510 [==============================] - 20s 3ms/step - loss: 0.5662 - acc: 0.8276\n",
      "Epoch 271/500\n",
      "6510/6510 [==============================] - 20s 3ms/step - loss: 0.5453 - acc: 0.8352\n",
      "Epoch 272/500\n",
      "6510/6510 [==============================] - 20s 3ms/step - loss: 0.5603 - acc: 0.8306\n",
      "Epoch 273/500\n",
      "6510/6510 [==============================] - 20s 3ms/step - loss: 0.5768 - acc: 0.8207\n",
      "Epoch 274/500\n",
      "6510/6510 [==============================] - 20s 3ms/step - loss: 0.5544 - acc: 0.8261\n",
      "Epoch 275/500\n",
      "6510/6510 [==============================] - 20s 3ms/step - loss: 0.5566 - acc: 0.8235\n",
      "Epoch 276/500\n",
      "6510/6510 [==============================] - 20s 3ms/step - loss: 0.5355 - acc: 0.8339\n",
      "Epoch 277/500\n",
      "6510/6510 [==============================] - 20s 3ms/step - loss: 0.5471 - acc: 0.8273\n",
      "Epoch 278/500\n",
      "6510/6510 [==============================] - 20s 3ms/step - loss: 0.5433 - acc: 0.8339\n",
      "Epoch 279/500\n",
      "6510/6510 [==============================] - 20s 3ms/step - loss: 0.5711 - acc: 0.8233\n",
      "Epoch 280/500\n",
      "6510/6510 [==============================] - 20s 3ms/step - loss: 0.5534 - acc: 0.8286\n",
      "Epoch 281/500\n",
      "6510/6510 [==============================] - 20s 3ms/step - loss: 0.5344 - acc: 0.8373\n",
      "Epoch 282/500\n",
      "6510/6510 [==============================] - 20s 3ms/step - loss: 0.5460 - acc: 0.8295\n",
      "Epoch 283/500\n",
      "6510/6510 [==============================] - 20s 3ms/step - loss: 0.5511 - acc: 0.8296\n",
      "Epoch 284/500\n",
      "6510/6510 [==============================] - 20s 3ms/step - loss: 0.5256 - acc: 0.8376\n",
      "Epoch 285/500\n",
      "6510/6510 [==============================] - 20s 3ms/step - loss: 0.5266 - acc: 0.8335\n",
      "Epoch 286/500\n",
      "6510/6510 [==============================] - 20s 3ms/step - loss: 0.5525 - acc: 0.8260\n",
      "Epoch 287/500\n",
      "6510/6510 [==============================] - 20s 3ms/step - loss: 0.5337 - acc: 0.8384\n",
      "Epoch 288/500\n",
      "6510/6510 [==============================] - 20s 3ms/step - loss: 0.5634 - acc: 0.8201\n",
      "Epoch 289/500\n",
      "6510/6510 [==============================] - 20s 3ms/step - loss: 0.5448 - acc: 0.8330\n",
      "Epoch 290/500\n",
      "6510/6510 [==============================] - 20s 3ms/step - loss: 0.5120 - acc: 0.8449\n",
      "Epoch 291/500\n",
      "6510/6510 [==============================] - 20s 3ms/step - loss: 0.5145 - acc: 0.8378\n",
      "Epoch 292/500\n",
      "6510/6510 [==============================] - 20s 3ms/step - loss: 0.5306 - acc: 0.8347\n",
      "Epoch 293/500\n",
      "6510/6510 [==============================] - 20s 3ms/step - loss: 0.5101 - acc: 0.8384\n",
      "Epoch 294/500\n",
      "6510/6510 [==============================] - 21s 3ms/step - loss: 0.5413 - acc: 0.8307\n",
      "Epoch 295/500\n",
      "6510/6510 [==============================] - 20s 3ms/step - loss: 0.5178 - acc: 0.8350\n",
      "Epoch 296/500\n",
      "6510/6510 [==============================] - 20s 3ms/step - loss: 0.5142 - acc: 0.8393\n",
      "Epoch 297/500\n",
      "6510/6510 [==============================] - 20s 3ms/step - loss: 0.5239 - acc: 0.8363\n",
      "Epoch 298/500\n",
      "6510/6510 [==============================] - 20s 3ms/step - loss: 0.5214 - acc: 0.8330\n",
      "Epoch 299/500\n",
      "6510/6510 [==============================] - 20s 3ms/step - loss: 0.5202 - acc: 0.8349\n",
      "Epoch 300/500\n",
      "6510/6510 [==============================] - 20s 3ms/step - loss: 0.5155 - acc: 0.8418\n",
      "Epoch 301/500\n",
      "6510/6510 [==============================] - 20s 3ms/step - loss: 0.5296 - acc: 0.8363\n",
      "Epoch 302/500\n",
      "6510/6510 [==============================] - 20s 3ms/step - loss: 0.5236 - acc: 0.8376\n",
      "Epoch 303/500\n",
      "6510/6510 [==============================] - 20s 3ms/step - loss: 0.5119 - acc: 0.8352\n",
      "Epoch 304/500\n",
      "6510/6510 [==============================] - 20s 3ms/step - loss: 0.5114 - acc: 0.8369\n",
      "Epoch 305/500\n",
      "6510/6510 [==============================] - 20s 3ms/step - loss: 0.5118 - acc: 0.8367\n",
      "Epoch 306/500\n",
      "6510/6510 [==============================] - 20s 3ms/step - loss: 0.5132 - acc: 0.8370\n",
      "Epoch 307/500\n",
      "6510/6510 [==============================] - 20s 3ms/step - loss: 0.5046 - acc: 0.8402\n",
      "Epoch 308/500\n",
      "6510/6510 [==============================] - 20s 3ms/step - loss: 0.5215 - acc: 0.8395\n",
      "Epoch 309/500\n",
      "6510/6510 [==============================] - 20s 3ms/step - loss: 0.5210 - acc: 0.8384\n",
      "Epoch 310/500\n",
      "6510/6510 [==============================] - 21s 3ms/step - loss: 0.5011 - acc: 0.8442\n",
      "Epoch 311/500\n",
      "6510/6510 [==============================] - 20s 3ms/step - loss: 0.5227 - acc: 0.8416\n",
      "Epoch 312/500\n",
      "6510/6510 [==============================] - 20s 3ms/step - loss: 0.5114 - acc: 0.8386\n",
      "Epoch 313/500\n",
      "6510/6510 [==============================] - 20s 3ms/step - loss: 0.5072 - acc: 0.8429\n",
      "Epoch 314/500\n",
      "6510/6510 [==============================] - 20s 3ms/step - loss: 0.5306 - acc: 0.8367\n",
      "Epoch 315/500\n",
      "6510/6510 [==============================] - 20s 3ms/step - loss: 0.5148 - acc: 0.8442\n",
      "Epoch 316/500\n",
      "6510/6510 [==============================] - 20s 3ms/step - loss: 0.4853 - acc: 0.8507\n",
      "Epoch 317/500\n",
      "6510/6510 [==============================] - 20s 3ms/step - loss: 0.4937 - acc: 0.8481\n",
      "Epoch 318/500\n",
      "6510/6510 [==============================] - 20s 3ms/step - loss: 0.4917 - acc: 0.8441\n",
      "Epoch 319/500\n",
      "6510/6510 [==============================] - 20s 3ms/step - loss: 0.5082 - acc: 0.8407\n",
      "Epoch 320/500\n",
      "6510/6510 [==============================] - 20s 3ms/step - loss: 0.4758 - acc: 0.8518\n",
      "Epoch 321/500\n",
      "6510/6510 [==============================] - 20s 3ms/step - loss: 0.4891 - acc: 0.8430\n",
      "Epoch 322/500\n",
      "6510/6510 [==============================] - 20s 3ms/step - loss: 0.5009 - acc: 0.8442\n",
      "Epoch 323/500\n",
      "6510/6510 [==============================] - 20s 3ms/step - loss: 0.5053 - acc: 0.8404\n",
      "Epoch 324/500\n",
      "6510/6510 [==============================] - 20s 3ms/step - loss: 0.5020 - acc: 0.8404\n",
      "Epoch 325/500\n",
      "6510/6510 [==============================] - 21s 3ms/step - loss: 0.4987 - acc: 0.8442\n",
      "Epoch 326/500\n",
      "6510/6510 [==============================] - 20s 3ms/step - loss: 0.4815 - acc: 0.8504\n",
      "Epoch 327/500\n",
      "6510/6510 [==============================] - 20s 3ms/step - loss: 0.4749 - acc: 0.8536\n",
      "Epoch 328/500\n",
      "6510/6510 [==============================] - 20s 3ms/step - loss: 0.4991 - acc: 0.8389\n",
      "Epoch 329/500\n",
      "6510/6510 [==============================] - 20s 3ms/step - loss: 0.4832 - acc: 0.8462\n",
      "Epoch 330/500\n",
      "6510/6510 [==============================] - 20s 3ms/step - loss: 0.4630 - acc: 0.8510\n",
      "Epoch 331/500\n",
      "6510/6510 [==============================] - 20s 3ms/step - loss: 0.4763 - acc: 0.8476\n",
      "Epoch 332/500\n",
      "6510/6510 [==============================] - 20s 3ms/step - loss: 0.5059 - acc: 0.8402\n",
      "Epoch 333/500\n",
      "6510/6510 [==============================] - 20s 3ms/step - loss: 0.4864 - acc: 0.8473\n",
      "Epoch 334/500\n",
      "6510/6510 [==============================] - 20s 3ms/step - loss: 0.4786 - acc: 0.8470\n",
      "Epoch 335/500\n",
      "6510/6510 [==============================] - 20s 3ms/step - loss: 0.4815 - acc: 0.8484\n",
      "Epoch 336/500\n",
      "6510/6510 [==============================] - 20s 3ms/step - loss: 0.4793 - acc: 0.8461\n",
      "Epoch 337/500\n",
      "6510/6510 [==============================] - 20s 3ms/step - loss: 0.4838 - acc: 0.8485\n",
      "Epoch 338/500\n",
      "6510/6510 [==============================] - 20s 3ms/step - loss: 0.4996 - acc: 0.8441\n",
      "Epoch 339/500\n",
      "6510/6510 [==============================] - 20s 3ms/step - loss: 0.5059 - acc: 0.8382\n",
      "Epoch 340/500\n",
      "6510/6510 [==============================] - 20s 3ms/step - loss: 0.4647 - acc: 0.8524\n",
      "Epoch 341/500\n",
      "6510/6510 [==============================] - 20s 3ms/step - loss: 0.4745 - acc: 0.8450\n",
      "Epoch 342/500\n",
      "6510/6510 [==============================] - 20s 3ms/step - loss: 0.4941 - acc: 0.8390\n",
      "Epoch 343/500\n",
      "6510/6510 [==============================] - 20s 3ms/step - loss: 0.4643 - acc: 0.8519\n",
      "Epoch 344/500\n",
      "6510/6510 [==============================] - 20s 3ms/step - loss: 0.4747 - acc: 0.8504\n",
      "Epoch 345/500\n",
      "6510/6510 [==============================] - 20s 3ms/step - loss: 0.4974 - acc: 0.8419\n",
      "Epoch 346/500\n",
      "6510/6510 [==============================] - 20s 3ms/step - loss: 0.4674 - acc: 0.8564\n",
      "Epoch 347/500\n",
      "6510/6510 [==============================] - 20s 3ms/step - loss: 0.4889 - acc: 0.8461\n",
      "Epoch 348/500\n",
      "6510/6510 [==============================] - 20s 3ms/step - loss: 0.4923 - acc: 0.8445\n",
      "Epoch 349/500\n",
      "6510/6510 [==============================] - 20s 3ms/step - loss: 0.4886 - acc: 0.8456\n",
      "Epoch 350/500\n",
      "6510/6510 [==============================] - 20s 3ms/step - loss: 0.4836 - acc: 0.8473\n",
      "Epoch 351/500\n",
      "6510/6510 [==============================] - 20s 3ms/step - loss: 0.4706 - acc: 0.8530\n",
      "Epoch 352/500\n",
      "6510/6510 [==============================] - 20s 3ms/step - loss: 0.4740 - acc: 0.8504\n",
      "Epoch 353/500\n",
      "6510/6510 [==============================] - 20s 3ms/step - loss: 0.4711 - acc: 0.8495\n",
      "Epoch 354/500\n",
      "6510/6510 [==============================] - 20s 3ms/step - loss: 0.4718 - acc: 0.8492\n",
      "Epoch 355/500\n",
      "6510/6510 [==============================] - 20s 3ms/step - loss: 0.4623 - acc: 0.8528\n",
      "Epoch 356/500\n",
      "6510/6510 [==============================] - 20s 3ms/step - loss: 0.4664 - acc: 0.8571\n",
      "Epoch 357/500\n",
      "6510/6510 [==============================] - 20s 3ms/step - loss: 0.4556 - acc: 0.8561\n",
      "Epoch 358/500\n",
      "6510/6510 [==============================] - 20s 3ms/step - loss: 0.4667 - acc: 0.8538\n",
      "Epoch 359/500\n",
      "6510/6510 [==============================] - 20s 3ms/step - loss: 0.4905 - acc: 0.8459\n",
      "Epoch 360/500\n",
      "6510/6510 [==============================] - 20s 3ms/step - loss: 0.4422 - acc: 0.8591\n",
      "Epoch 361/500\n",
      "6510/6510 [==============================] - 20s 3ms/step - loss: 0.4622 - acc: 0.8558\n",
      "Epoch 362/500\n",
      "6510/6510 [==============================] - 20s 3ms/step - loss: 0.4575 - acc: 0.8535\n",
      "Epoch 363/500\n",
      "6510/6510 [==============================] - 20s 3ms/step - loss: 0.4680 - acc: 0.8516\n",
      "Epoch 364/500\n",
      "6510/6510 [==============================] - 20s 3ms/step - loss: 0.4543 - acc: 0.8594\n",
      "Epoch 365/500\n",
      "6510/6510 [==============================] - 20s 3ms/step - loss: 0.4582 - acc: 0.8555\n",
      "Epoch 366/500\n",
      "6510/6510 [==============================] - 20s 3ms/step - loss: 0.4798 - acc: 0.8461\n",
      "Epoch 367/500\n",
      "6510/6510 [==============================] - 20s 3ms/step - loss: 0.4759 - acc: 0.8492\n",
      "Epoch 368/500\n",
      "6510/6510 [==============================] - 20s 3ms/step - loss: 0.4703 - acc: 0.8522\n",
      "Epoch 369/500\n",
      "6510/6510 [==============================] - 20s 3ms/step - loss: 0.4454 - acc: 0.8633\n",
      "Epoch 370/500\n",
      "6510/6510 [==============================] - 20s 3ms/step - loss: 0.4844 - acc: 0.8490\n",
      "Epoch 371/500\n",
      "6510/6510 [==============================] - 20s 3ms/step - loss: 0.4600 - acc: 0.8535\n",
      "Epoch 372/500\n",
      "6510/6510 [==============================] - 21s 3ms/step - loss: 0.4330 - acc: 0.8616\n",
      "Epoch 373/500\n",
      "6510/6510 [==============================] - 20s 3ms/step - loss: 0.4698 - acc: 0.8541\n",
      "Epoch 374/500\n",
      "6510/6510 [==============================] - 20s 3ms/step - loss: 0.4564 - acc: 0.8605\n",
      "Epoch 375/500\n",
      "6510/6510 [==============================] - 20s 3ms/step - loss: 0.4627 - acc: 0.8548\n",
      "Epoch 376/500\n",
      "6510/6510 [==============================] - 20s 3ms/step - loss: 0.4439 - acc: 0.8598\n",
      "Epoch 377/500\n",
      "6510/6510 [==============================] - 20s 3ms/step - loss: 0.4485 - acc: 0.8568\n",
      "Epoch 378/500\n",
      "6510/6510 [==============================] - 20s 3ms/step - loss: 0.4430 - acc: 0.8599\n",
      "Epoch 379/500\n",
      "6510/6510 [==============================] - 20s 3ms/step - loss: 0.4306 - acc: 0.8625\n",
      "Epoch 380/500\n",
      "6510/6510 [==============================] - 20s 3ms/step - loss: 0.4623 - acc: 0.8541\n",
      "Epoch 381/500\n",
      "6510/6510 [==============================] - 20s 3ms/step - loss: 0.4597 - acc: 0.8567\n",
      "Epoch 382/500\n",
      "6510/6510 [==============================] - 20s 3ms/step - loss: 0.4356 - acc: 0.8654\n",
      "Epoch 383/500\n",
      "6510/6510 [==============================] - 20s 3ms/step - loss: 0.4351 - acc: 0.8634\n",
      "Epoch 384/500\n",
      "6510/6510 [==============================] - 20s 3ms/step - loss: 0.4560 - acc: 0.8576\n",
      "Epoch 385/500\n",
      "6510/6510 [==============================] - 20s 3ms/step - loss: 0.4513 - acc: 0.8614\n",
      "Epoch 386/500\n",
      "6510/6510 [==============================] - 20s 3ms/step - loss: 0.4383 - acc: 0.8588\n",
      "Epoch 387/500\n",
      "6510/6510 [==============================] - 21s 3ms/step - loss: 0.4294 - acc: 0.8607\n",
      "Epoch 388/500\n",
      "6510/6510 [==============================] - 20s 3ms/step - loss: 0.4263 - acc: 0.8641\n",
      "Epoch 389/500\n",
      "6510/6510 [==============================] - 20s 3ms/step - loss: 0.4485 - acc: 0.8568\n",
      "Epoch 390/500\n",
      "6510/6510 [==============================] - 20s 3ms/step - loss: 0.4427 - acc: 0.8587\n",
      "Epoch 391/500\n",
      "6510/6510 [==============================] - 20s 3ms/step - loss: 0.4472 - acc: 0.8616\n",
      "Epoch 392/500\n",
      "6510/6510 [==============================] - 20s 3ms/step - loss: 0.4319 - acc: 0.8627\n",
      "Epoch 393/500\n",
      "6510/6510 [==============================] - 20s 3ms/step - loss: 0.4352 - acc: 0.8619\n",
      "Epoch 394/500\n",
      "6510/6510 [==============================] - 20s 3ms/step - loss: 0.4429 - acc: 0.8567\n",
      "Epoch 395/500\n",
      "6510/6510 [==============================] - 20s 3ms/step - loss: 0.4214 - acc: 0.8634\n",
      "Epoch 396/500\n",
      "6510/6510 [==============================] - 20s 3ms/step - loss: 0.4404 - acc: 0.8582\n",
      "Epoch 397/500\n",
      "6510/6510 [==============================] - 20s 3ms/step - loss: 0.4400 - acc: 0.8568\n",
      "Epoch 398/500\n",
      "6510/6510 [==============================] - 20s 3ms/step - loss: 0.4298 - acc: 0.8667\n",
      "Epoch 399/500\n",
      "6510/6510 [==============================] - 20s 3ms/step - loss: 0.4432 - acc: 0.8585\n",
      "Epoch 400/500\n",
      "6510/6510 [==============================] - 20s 3ms/step - loss: 0.4223 - acc: 0.8667\n",
      "Epoch 401/500\n",
      "6510/6510 [==============================] - 20s 3ms/step - loss: 0.4350 - acc: 0.8599\n",
      "Epoch 402/500\n",
      "6510/6510 [==============================] - 20s 3ms/step - loss: 0.4204 - acc: 0.8648\n",
      "Epoch 403/500\n",
      "6510/6510 [==============================] - 20s 3ms/step - loss: 0.4044 - acc: 0.8714\n",
      "Epoch 404/500\n",
      "6510/6510 [==============================] - 20s 3ms/step - loss: 0.4447 - acc: 0.8593\n",
      "Epoch 405/500\n",
      "6510/6510 [==============================] - 20s 3ms/step - loss: 0.4155 - acc: 0.8662\n",
      "Epoch 406/500\n",
      "6510/6510 [==============================] - 20s 3ms/step - loss: 0.4300 - acc: 0.8633\n",
      "Epoch 407/500\n",
      "6510/6510 [==============================] - 20s 3ms/step - loss: 0.4421 - acc: 0.8602\n",
      "Epoch 408/500\n",
      "6510/6510 [==============================] - 20s 3ms/step - loss: 0.4360 - acc: 0.8651\n",
      "Epoch 409/500\n",
      "6510/6510 [==============================] - 20s 3ms/step - loss: 0.4200 - acc: 0.8650\n",
      "Epoch 410/500\n",
      "6510/6510 [==============================] - 20s 3ms/step - loss: 0.4240 - acc: 0.8673\n",
      "Epoch 411/500\n",
      "6510/6510 [==============================] - 20s 3ms/step - loss: 0.4356 - acc: 0.8571\n",
      "Epoch 412/500\n",
      "6510/6510 [==============================] - 20s 3ms/step - loss: 0.4398 - acc: 0.8636\n",
      "Epoch 413/500\n",
      "6510/6510 [==============================] - 20s 3ms/step - loss: 0.4185 - acc: 0.8680\n",
      "Epoch 414/500\n",
      "6510/6510 [==============================] - 20s 3ms/step - loss: 0.4357 - acc: 0.8625\n",
      "Epoch 415/500\n",
      "6510/6510 [==============================] - 20s 3ms/step - loss: 0.4177 - acc: 0.8680\n",
      "Epoch 416/500\n",
      "6510/6510 [==============================] - 20s 3ms/step - loss: 0.4479 - acc: 0.8613\n",
      "Epoch 417/500\n",
      "6510/6510 [==============================] - 20s 3ms/step - loss: 0.4244 - acc: 0.8650\n",
      "Epoch 418/500\n",
      "6510/6510 [==============================] - 20s 3ms/step - loss: 0.4305 - acc: 0.8665\n",
      "Epoch 419/500\n",
      "6510/6510 [==============================] - 20s 3ms/step - loss: 0.4427 - acc: 0.8558\n",
      "Epoch 420/500\n",
      "6510/6510 [==============================] - 20s 3ms/step - loss: 0.4095 - acc: 0.8757\n",
      "Epoch 421/500\n",
      "6510/6510 [==============================] - 20s 3ms/step - loss: 0.4365 - acc: 0.8648\n",
      "Epoch 422/500\n",
      "6510/6510 [==============================] - 20s 3ms/step - loss: 0.4337 - acc: 0.8637\n",
      "Epoch 423/500\n",
      "6510/6510 [==============================] - 20s 3ms/step - loss: 0.4355 - acc: 0.8650\n",
      "Epoch 424/500\n",
      "6510/6510 [==============================] - 20s 3ms/step - loss: 0.4133 - acc: 0.8685\n",
      "Epoch 425/500\n",
      "6510/6510 [==============================] - 20s 3ms/step - loss: 0.4249 - acc: 0.8648\n",
      "Epoch 426/500\n",
      "6510/6510 [==============================] - 20s 3ms/step - loss: 0.4198 - acc: 0.8631\n",
      "Epoch 427/500\n",
      "6510/6510 [==============================] - 20s 3ms/step - loss: 0.4153 - acc: 0.8679\n",
      "Epoch 428/500\n",
      "6510/6510 [==============================] - 20s 3ms/step - loss: 0.4027 - acc: 0.8717\n",
      "Epoch 429/500\n",
      "6510/6510 [==============================] - 20s 3ms/step - loss: 0.3930 - acc: 0.8722\n",
      "Epoch 430/500\n",
      "6510/6510 [==============================] - 20s 3ms/step - loss: 0.4084 - acc: 0.8730\n",
      "Epoch 431/500\n",
      "6510/6510 [==============================] - 20s 3ms/step - loss: 0.4083 - acc: 0.8671\n",
      "Epoch 432/500\n",
      "6510/6510 [==============================] - 20s 3ms/step - loss: 0.4288 - acc: 0.8642\n",
      "Epoch 433/500\n",
      "6510/6510 [==============================] - 20s 3ms/step - loss: 0.4154 - acc: 0.8704\n",
      "Epoch 434/500\n",
      "6510/6510 [==============================] - 20s 3ms/step - loss: 0.4161 - acc: 0.8697\n",
      "Epoch 435/500\n",
      "6510/6510 [==============================] - 20s 3ms/step - loss: 0.4242 - acc: 0.8699\n",
      "Epoch 436/500\n",
      "6510/6510 [==============================] - 20s 3ms/step - loss: 0.4115 - acc: 0.8676\n",
      "Epoch 437/500\n",
      "6510/6510 [==============================] - 20s 3ms/step - loss: 0.4099 - acc: 0.8688\n",
      "Epoch 438/500\n",
      "6510/6510 [==============================] - 20s 3ms/step - loss: 0.4127 - acc: 0.8700\n",
      "Epoch 439/500\n",
      "6510/6510 [==============================] - 20s 3ms/step - loss: 0.4125 - acc: 0.8687\n",
      "Epoch 440/500\n",
      "6510/6510 [==============================] - 20s 3ms/step - loss: 0.3817 - acc: 0.8763\n",
      "Epoch 441/500\n",
      "6510/6510 [==============================] - 20s 3ms/step - loss: 0.4185 - acc: 0.8670\n",
      "Epoch 442/500\n",
      "6510/6510 [==============================] - 20s 3ms/step - loss: 0.4254 - acc: 0.8657\n",
      "Epoch 443/500\n",
      "6510/6510 [==============================] - 20s 3ms/step - loss: 0.4119 - acc: 0.8693\n",
      "Epoch 444/500\n",
      "6510/6510 [==============================] - 20s 3ms/step - loss: 0.4079 - acc: 0.8705\n",
      "Epoch 445/500\n",
      "6510/6510 [==============================] - 20s 3ms/step - loss: 0.3976 - acc: 0.8743\n",
      "Epoch 446/500\n",
      "6510/6510 [==============================] - 20s 3ms/step - loss: 0.4207 - acc: 0.8633\n",
      "Epoch 447/500\n",
      "6510/6510 [==============================] - 20s 3ms/step - loss: 0.4076 - acc: 0.8674\n",
      "Epoch 448/500\n",
      "6510/6510 [==============================] - 20s 3ms/step - loss: 0.3954 - acc: 0.8767\n",
      "Epoch 449/500\n",
      "6510/6510 [==============================] - 20s 3ms/step - loss: 0.3938 - acc: 0.8717\n",
      "Epoch 450/500\n",
      "6510/6510 [==============================] - 20s 3ms/step - loss: 0.4014 - acc: 0.8708\n",
      "Epoch 451/500\n",
      "6510/6510 [==============================] - 20s 3ms/step - loss: 0.4005 - acc: 0.8717\n",
      "Epoch 452/500\n",
      "6510/6510 [==============================] - 20s 3ms/step - loss: 0.3860 - acc: 0.8806\n",
      "Epoch 453/500\n",
      "6510/6510 [==============================] - 20s 3ms/step - loss: 0.3955 - acc: 0.8739\n",
      "Epoch 454/500\n",
      "6510/6510 [==============================] - 20s 3ms/step - loss: 0.3923 - acc: 0.8771\n",
      "Epoch 455/500\n",
      "6510/6510 [==============================] - 20s 3ms/step - loss: 0.3964 - acc: 0.8728\n",
      "Epoch 456/500\n",
      "6510/6510 [==============================] - 20s 3ms/step - loss: 0.3976 - acc: 0.8733\n",
      "Epoch 457/500\n",
      "6510/6510 [==============================] - 20s 3ms/step - loss: 0.3993 - acc: 0.8720\n",
      "Epoch 458/500\n",
      "6510/6510 [==============================] - 20s 3ms/step - loss: 0.4074 - acc: 0.8747\n",
      "Epoch 459/500\n",
      "6510/6510 [==============================] - 20s 3ms/step - loss: 0.3821 - acc: 0.8747\n",
      "Epoch 460/500\n",
      "6510/6510 [==============================] - 20s 3ms/step - loss: 0.3862 - acc: 0.8771\n",
      "Epoch 461/500\n",
      "6510/6510 [==============================] - 20s 3ms/step - loss: 0.4017 - acc: 0.8713\n",
      "Epoch 462/500\n",
      "6510/6510 [==============================] - 20s 3ms/step - loss: 0.3931 - acc: 0.8739\n",
      "Epoch 463/500\n",
      "6510/6510 [==============================] - 20s 3ms/step - loss: 0.3909 - acc: 0.8747\n",
      "Epoch 464/500\n",
      "6510/6510 [==============================] - 20s 3ms/step - loss: 0.3859 - acc: 0.8768\n",
      "Epoch 465/500\n",
      "6510/6510 [==============================] - 20s 3ms/step - loss: 0.3805 - acc: 0.8837\n",
      "Epoch 466/500\n",
      "6510/6510 [==============================] - 20s 3ms/step - loss: 0.3848 - acc: 0.8779\n",
      "Epoch 467/500\n",
      "6510/6510 [==============================] - 20s 3ms/step - loss: 0.3817 - acc: 0.8788\n",
      "Epoch 468/500\n",
      "6510/6510 [==============================] - 20s 3ms/step - loss: 0.3599 - acc: 0.8826\n",
      "Epoch 469/500\n",
      "6510/6510 [==============================] - 20s 3ms/step - loss: 0.3840 - acc: 0.8785\n",
      "Epoch 470/500\n",
      "6510/6510 [==============================] - 20s 3ms/step - loss: 0.3857 - acc: 0.8776\n",
      "Epoch 471/500\n",
      "6510/6510 [==============================] - 20s 3ms/step - loss: 0.4090 - acc: 0.8748\n",
      "Epoch 472/500\n",
      "6510/6510 [==============================] - 20s 3ms/step - loss: 0.4023 - acc: 0.8702\n",
      "Epoch 473/500\n",
      "6510/6510 [==============================] - 20s 3ms/step - loss: 0.3964 - acc: 0.8751\n",
      "Epoch 474/500\n",
      "6510/6510 [==============================] - 20s 3ms/step - loss: 0.3991 - acc: 0.8756\n",
      "Epoch 475/500\n",
      "6510/6510 [==============================] - 20s 3ms/step - loss: 0.3787 - acc: 0.8759\n",
      "Epoch 476/500\n",
      "6510/6510 [==============================] - 20s 3ms/step - loss: 0.3840 - acc: 0.8780\n",
      "Epoch 477/500\n",
      "6510/6510 [==============================] - 20s 3ms/step - loss: 0.3801 - acc: 0.8808\n",
      "Epoch 478/500\n",
      "6510/6510 [==============================] - 20s 3ms/step - loss: 0.3742 - acc: 0.8785\n",
      "Epoch 479/500\n",
      "6510/6510 [==============================] - 21s 3ms/step - loss: 0.3785 - acc: 0.8817\n",
      "Epoch 480/500\n",
      "6510/6510 [==============================] - 20s 3ms/step - loss: 0.3845 - acc: 0.8802\n",
      "Epoch 481/500\n",
      "6510/6510 [==============================] - 20s 3ms/step - loss: 0.3797 - acc: 0.8808\n",
      "Epoch 482/500\n",
      "6510/6510 [==============================] - 20s 3ms/step - loss: 0.3752 - acc: 0.8793\n",
      "Epoch 483/500\n",
      "6510/6510 [==============================] - 20s 3ms/step - loss: 0.3779 - acc: 0.8777\n",
      "Epoch 484/500\n",
      "6510/6510 [==============================] - 20s 3ms/step - loss: 0.3934 - acc: 0.8725\n",
      "Epoch 485/500\n",
      "6510/6510 [==============================] - 20s 3ms/step - loss: 0.3913 - acc: 0.8757\n",
      "Epoch 486/500\n",
      "6510/6510 [==============================] - 20s 3ms/step - loss: 0.3780 - acc: 0.8776\n",
      "Epoch 487/500\n",
      "6510/6510 [==============================] - 20s 3ms/step - loss: 0.3976 - acc: 0.8713\n",
      "Epoch 488/500\n",
      "6510/6510 [==============================] - 20s 3ms/step - loss: 0.3803 - acc: 0.8794\n",
      "Epoch 489/500\n",
      "6510/6510 [==============================] - 20s 3ms/step - loss: 0.3690 - acc: 0.8810\n",
      "Epoch 490/500\n",
      "6510/6510 [==============================] - 21s 3ms/step - loss: 0.3826 - acc: 0.8786\n",
      "Epoch 491/500\n",
      "6510/6510 [==============================] - 20s 3ms/step - loss: 0.3820 - acc: 0.8816\n",
      "Epoch 492/500\n",
      "6510/6510 [==============================] - 20s 3ms/step - loss: 0.3781 - acc: 0.8794\n",
      "Epoch 493/500\n",
      "6510/6510 [==============================] - 20s 3ms/step - loss: 0.3772 - acc: 0.8808\n",
      "Epoch 494/500\n",
      "6510/6510 [==============================] - 20s 3ms/step - loss: 0.3598 - acc: 0.8853\n",
      "Epoch 495/500\n",
      "6510/6510 [==============================] - 20s 3ms/step - loss: 0.3678 - acc: 0.8803\n",
      "Epoch 496/500\n",
      "6510/6510 [==============================] - 20s 3ms/step - loss: 0.3582 - acc: 0.8810\n",
      "Epoch 497/500\n",
      "6510/6510 [==============================] - 20s 3ms/step - loss: 0.3791 - acc: 0.8788\n",
      "Epoch 498/500\n",
      "6510/6510 [==============================] - 20s 3ms/step - loss: 0.3748 - acc: 0.8780\n",
      "Epoch 499/500\n",
      "6510/6510 [==============================] - 20s 3ms/step - loss: 0.3746 - acc: 0.8817\n",
      "Epoch 500/500\n",
      "6510/6510 [==============================] - 20s 3ms/step - loss: 0.3563 - acc: 0.8876\n"
     ]
    }
   ],
   "source": [
    "h = rnn_model.fit(X_train, y_train, epochs = 500, batch_size = 50, \n",
    "          verbose = 1)## Train the model"
   ]
  },
  {
   "cell_type": "markdown",
   "metadata": {
    "colab_type": "text",
    "id": "82716QWAJrXG"
   },
   "source": [
    "### Save Model"
   ]
  },
  {
   "cell_type": "code",
   "execution_count": 0,
   "metadata": {
    "colab": {},
    "colab_type": "code",
    "id": "_8MFkQgYJm-D"
   },
   "outputs": [],
   "source": [
    "rnn_model.save('./data/model_500epochs.h5')"
   ]
  },
  {
   "cell_type": "markdown",
   "metadata": {
    "colab_type": "text",
    "id": "4AYVKydVJv5C"
   },
   "source": [
    "## If you have already trained the model and saved it, you can load a pretrained model"
   ]
  },
  {
   "cell_type": "code",
   "execution_count": 0,
   "metadata": {
    "colab": {},
    "colab_type": "code",
    "id": "IqsQUz04J0GP"
   },
   "outputs": [],
   "source": [
    "rnn_save_model = load_model('/content/gdrive/My Drive/R9 External/data/model_500epochs.h5')"
   ]
  },
  {
   "cell_type": "markdown",
   "metadata": {
    "colab_type": "text",
    "id": "ZFe2Y0SJJ3Hb"
   },
   "source": [
    "### Note: After loading the model run  model.fit()  to continue training form there, if required."
   ]
  },
  {
   "cell_type": "code",
   "execution_count": 0,
   "metadata": {
    "colab": {
     "base_uri": "https://localhost:8080/",
     "height": 1000
    },
    "colab_type": "code",
    "id": "e9yLm_xnJ5JV",
    "outputId": "e353a760-7a12-4a64-b3f3-ef769741a966"
   },
   "outputs": [
    {
     "name": "stdout",
     "output_type": "stream",
     "text": [
      "Train on 6510 samples, validate on 2790 samples\n",
      "Epoch 1/500\n",
      "6510/6510 [==============================] - 8s 1ms/step - loss: 0.3620 - acc: 0.8856 - val_loss: 9.0100 - val_acc: 0.3710\n",
      "Epoch 2/500\n",
      "6510/6510 [==============================] - 6s 919us/step - loss: 0.3670 - acc: 0.8814 - val_loss: 8.9958 - val_acc: 0.3692\n",
      "Epoch 3/500\n",
      "6510/6510 [==============================] - 6s 889us/step - loss: 0.3757 - acc: 0.8817 - val_loss: 8.9953 - val_acc: 0.3656\n",
      "Epoch 4/500\n",
      "6510/6510 [==============================] - 6s 857us/step - loss: 0.3707 - acc: 0.8797 - val_loss: 9.0252 - val_acc: 0.3663\n",
      "Epoch 5/500\n",
      "6510/6510 [==============================] - 6s 856us/step - loss: 0.3788 - acc: 0.8808 - val_loss: 9.0199 - val_acc: 0.3656\n",
      "Epoch 6/500\n",
      "6510/6510 [==============================] - 6s 881us/step - loss: 0.3854 - acc: 0.8788 - val_loss: 8.9970 - val_acc: 0.3695\n",
      "Epoch 7/500\n",
      "6510/6510 [==============================] - 6s 887us/step - loss: 0.3681 - acc: 0.8791 - val_loss: 9.0117 - val_acc: 0.3670\n",
      "Epoch 8/500\n",
      "6510/6510 [==============================] - 6s 889us/step - loss: 0.3672 - acc: 0.8811 - val_loss: 8.9931 - val_acc: 0.3695\n",
      "Epoch 9/500\n",
      "6510/6510 [==============================] - 6s 907us/step - loss: 0.3599 - acc: 0.8866 - val_loss: 8.9750 - val_acc: 0.3703\n",
      "Epoch 10/500\n",
      "6510/6510 [==============================] - 6s 884us/step - loss: 0.3627 - acc: 0.8828 - val_loss: 8.9581 - val_acc: 0.3695\n",
      "Epoch 11/500\n",
      "6510/6510 [==============================] - 6s 894us/step - loss: 0.3705 - acc: 0.8860 - val_loss: 8.9736 - val_acc: 0.3670\n",
      "Epoch 12/500\n",
      "6510/6510 [==============================] - 6s 895us/step - loss: 0.3570 - acc: 0.8879 - val_loss: 8.9780 - val_acc: 0.3706\n",
      "Epoch 13/500\n",
      "6510/6510 [==============================] - 6s 898us/step - loss: 0.3543 - acc: 0.8889 - val_loss: 8.9904 - val_acc: 0.3688\n",
      "Epoch 14/500\n",
      "6510/6510 [==============================] - 6s 889us/step - loss: 0.3859 - acc: 0.8799 - val_loss: 8.9752 - val_acc: 0.3685\n",
      "Epoch 15/500\n",
      "6510/6510 [==============================] - 6s 880us/step - loss: 0.3647 - acc: 0.8843 - val_loss: 8.9836 - val_acc: 0.3688\n",
      "Epoch 16/500\n",
      "6510/6510 [==============================] - 6s 889us/step - loss: 0.3562 - acc: 0.8863 - val_loss: 8.9919 - val_acc: 0.3692\n",
      "Epoch 17/500\n",
      "6510/6510 [==============================] - 6s 866us/step - loss: 0.3809 - acc: 0.8800 - val_loss: 8.9792 - val_acc: 0.3699\n",
      "Epoch 18/500\n",
      "6510/6510 [==============================] - 6s 870us/step - loss: 0.3623 - acc: 0.8828 - val_loss: 8.9762 - val_acc: 0.3681\n",
      "Epoch 19/500\n",
      "6510/6510 [==============================] - 6s 886us/step - loss: 0.3846 - acc: 0.8796 - val_loss: 8.9743 - val_acc: 0.3681\n",
      "Epoch 20/500\n",
      "6510/6510 [==============================] - 6s 912us/step - loss: 0.3702 - acc: 0.8785 - val_loss: 9.0081 - val_acc: 0.3670\n",
      "Epoch 21/500\n",
      "6510/6510 [==============================] - 6s 923us/step - loss: 0.3655 - acc: 0.8813 - val_loss: 9.0074 - val_acc: 0.3674\n",
      "Epoch 22/500\n",
      "6510/6510 [==============================] - 6s 902us/step - loss: 0.3623 - acc: 0.8826 - val_loss: 8.9977 - val_acc: 0.3663\n",
      "Epoch 23/500\n",
      "6510/6510 [==============================] - 6s 919us/step - loss: 0.3694 - acc: 0.8846 - val_loss: 8.9895 - val_acc: 0.3706\n",
      "Epoch 24/500\n",
      "6510/6510 [==============================] - 6s 927us/step - loss: 0.3628 - acc: 0.8866 - val_loss: 8.9991 - val_acc: 0.3681\n",
      "Epoch 25/500\n",
      "6510/6510 [==============================] - 6s 870us/step - loss: 0.3486 - acc: 0.8906 - val_loss: 8.9917 - val_acc: 0.3656\n",
      "Epoch 26/500\n",
      "6510/6510 [==============================] - 6s 864us/step - loss: 0.3488 - acc: 0.8859 - val_loss: 8.9922 - val_acc: 0.3663\n",
      "Epoch 27/500\n",
      "6510/6510 [==============================] - 6s 868us/step - loss: 0.3324 - acc: 0.8923 - val_loss: 8.9782 - val_acc: 0.3724\n",
      "Epoch 28/500\n",
      "6510/6510 [==============================] - 6s 862us/step - loss: 0.3513 - acc: 0.8871 - val_loss: 8.9935 - val_acc: 0.3720\n",
      "Epoch 29/500\n",
      "6510/6510 [==============================] - 6s 892us/step - loss: 0.3670 - acc: 0.8823 - val_loss: 9.0145 - val_acc: 0.3692\n",
      "Epoch 30/500\n",
      "6510/6510 [==============================] - 6s 873us/step - loss: 0.3585 - acc: 0.8860 - val_loss: 8.9870 - val_acc: 0.3692\n",
      "Epoch 31/500\n",
      "6510/6510 [==============================] - 6s 857us/step - loss: 0.3658 - acc: 0.8803 - val_loss: 8.9945 - val_acc: 0.3692\n",
      "Epoch 32/500\n",
      "6510/6510 [==============================] - 6s 860us/step - loss: 0.3562 - acc: 0.8863 - val_loss: 8.9966 - val_acc: 0.3692\n",
      "Epoch 33/500\n",
      "6510/6510 [==============================] - 6s 847us/step - loss: 0.3633 - acc: 0.8828 - val_loss: 9.0400 - val_acc: 0.3674\n",
      "Epoch 34/500\n",
      "6510/6510 [==============================] - 6s 851us/step - loss: 0.3662 - acc: 0.8836 - val_loss: 9.0302 - val_acc: 0.3692\n",
      "Epoch 35/500\n",
      "6510/6510 [==============================] - 6s 857us/step - loss: 0.3664 - acc: 0.8837 - val_loss: 9.0244 - val_acc: 0.3659\n",
      "Epoch 36/500\n",
      "6510/6510 [==============================] - 6s 851us/step - loss: 0.3490 - acc: 0.8871 - val_loss: 9.0383 - val_acc: 0.3634\n",
      "Epoch 37/500\n",
      "6510/6510 [==============================] - 6s 856us/step - loss: 0.3559 - acc: 0.8860 - val_loss: 9.0271 - val_acc: 0.3624\n",
      "Epoch 38/500\n",
      "6510/6510 [==============================] - 6s 848us/step - loss: 0.3573 - acc: 0.8859 - val_loss: 9.0385 - val_acc: 0.3649\n",
      "Epoch 39/500\n",
      "6510/6510 [==============================] - 6s 852us/step - loss: 0.3517 - acc: 0.8856 - val_loss: 9.0147 - val_acc: 0.3674\n",
      "Epoch 40/500\n",
      "6510/6510 [==============================] - 6s 847us/step - loss: 0.3462 - acc: 0.8873 - val_loss: 9.0105 - val_acc: 0.3667\n",
      "Epoch 41/500\n",
      "6510/6510 [==============================] - 6s 856us/step - loss: 0.3518 - acc: 0.8859 - val_loss: 9.0339 - val_acc: 0.3663\n",
      "Epoch 42/500\n",
      "6510/6510 [==============================] - 6s 852us/step - loss: 0.3462 - acc: 0.8866 - val_loss: 9.0551 - val_acc: 0.3620\n",
      "Epoch 43/500\n",
      "6510/6510 [==============================] - 6s 852us/step - loss: 0.3616 - acc: 0.8819 - val_loss: 9.0668 - val_acc: 0.3649\n",
      "Epoch 44/500\n",
      "6510/6510 [==============================] - 6s 854us/step - loss: 0.3709 - acc: 0.8856 - val_loss: 9.0506 - val_acc: 0.3645\n",
      "Epoch 45/500\n",
      "6510/6510 [==============================] - 6s 853us/step - loss: 0.3645 - acc: 0.8860 - val_loss: 9.0574 - val_acc: 0.3609\n",
      "Epoch 46/500\n",
      "6510/6510 [==============================] - 6s 846us/step - loss: 0.3402 - acc: 0.8906 - val_loss: 9.0283 - val_acc: 0.3652\n",
      "Epoch 47/500\n",
      "6510/6510 [==============================] - 6s 848us/step - loss: 0.3467 - acc: 0.8894 - val_loss: 9.0565 - val_acc: 0.3631\n",
      "Epoch 48/500\n",
      "6510/6510 [==============================] - 5s 840us/step - loss: 0.3405 - acc: 0.8874 - val_loss: 9.0233 - val_acc: 0.3638\n",
      "Epoch 49/500\n",
      "6510/6510 [==============================] - 5s 841us/step - loss: 0.3591 - acc: 0.8866 - val_loss: 9.0405 - val_acc: 0.3634\n",
      "Epoch 50/500\n",
      "6510/6510 [==============================] - 5s 841us/step - loss: 0.3513 - acc: 0.8920 - val_loss: 9.0519 - val_acc: 0.3638\n",
      "Epoch 51/500\n",
      "6510/6510 [==============================] - 5s 843us/step - loss: 0.3547 - acc: 0.8888 - val_loss: 9.0436 - val_acc: 0.3631\n",
      "Epoch 52/500\n",
      "6510/6510 [==============================] - 5s 844us/step - loss: 0.3731 - acc: 0.8797 - val_loss: 9.0560 - val_acc: 0.3627\n",
      "Epoch 53/500\n",
      "6510/6510 [==============================] - 5s 837us/step - loss: 0.3523 - acc: 0.8888 - val_loss: 9.0648 - val_acc: 0.3638\n",
      "Epoch 54/500\n",
      "6510/6510 [==============================] - 5s 836us/step - loss: 0.3554 - acc: 0.8849 - val_loss: 9.0868 - val_acc: 0.3638\n",
      "Epoch 55/500\n",
      "6510/6510 [==============================] - 5s 836us/step - loss: 0.3459 - acc: 0.8906 - val_loss: 9.0572 - val_acc: 0.3663\n",
      "Epoch 56/500\n",
      "6510/6510 [==============================] - 6s 867us/step - loss: 0.3353 - acc: 0.8911 - val_loss: 9.0440 - val_acc: 0.3649\n",
      "Epoch 57/500\n",
      "6510/6510 [==============================] - 6s 864us/step - loss: 0.3539 - acc: 0.8820 - val_loss: 9.0226 - val_acc: 0.3670\n",
      "Epoch 58/500\n",
      "6510/6510 [==============================] - 6s 854us/step - loss: 0.3465 - acc: 0.8909 - val_loss: 9.0533 - val_acc: 0.3681\n",
      "Epoch 59/500\n",
      "6510/6510 [==============================] - 6s 845us/step - loss: 0.3549 - acc: 0.8880 - val_loss: 9.0513 - val_acc: 0.3670\n",
      "Epoch 60/500\n",
      "6510/6510 [==============================] - 5s 844us/step - loss: 0.3550 - acc: 0.8822 - val_loss: 9.0440 - val_acc: 0.3663\n",
      "Epoch 61/500\n",
      "6510/6510 [==============================] - 5s 840us/step - loss: 0.3635 - acc: 0.8839 - val_loss: 9.0406 - val_acc: 0.3656\n",
      "Epoch 62/500\n",
      "6510/6510 [==============================] - 5s 838us/step - loss: 0.3529 - acc: 0.8868 - val_loss: 9.0434 - val_acc: 0.3656\n",
      "Epoch 63/500\n",
      "6510/6510 [==============================] - 5s 838us/step - loss: 0.3439 - acc: 0.8891 - val_loss: 9.0398 - val_acc: 0.3659\n",
      "Epoch 64/500\n",
      "6510/6510 [==============================] - 5s 837us/step - loss: 0.3330 - acc: 0.8955 - val_loss: 9.0227 - val_acc: 0.3634\n",
      "Epoch 65/500\n",
      "6510/6510 [==============================] - 5s 834us/step - loss: 0.3755 - acc: 0.8791 - val_loss: 9.0269 - val_acc: 0.3659\n",
      "Epoch 66/500\n",
      "6510/6510 [==============================] - 5s 834us/step - loss: 0.3227 - acc: 0.8911 - val_loss: 9.0340 - val_acc: 0.3642\n",
      "Epoch 67/500\n",
      "6510/6510 [==============================] - 5s 830us/step - loss: 0.3441 - acc: 0.8949 - val_loss: 9.0049 - val_acc: 0.3649\n",
      "Epoch 68/500\n",
      "6510/6510 [==============================] - 5s 832us/step - loss: 0.3477 - acc: 0.8897 - val_loss: 9.0251 - val_acc: 0.3659\n",
      "Epoch 69/500\n",
      "6510/6510 [==============================] - 5s 839us/step - loss: 0.3561 - acc: 0.8860 - val_loss: 9.0141 - val_acc: 0.3699\n",
      "Epoch 70/500\n",
      "6510/6510 [==============================] - 5s 831us/step - loss: 0.3275 - acc: 0.8932 - val_loss: 9.0346 - val_acc: 0.3663\n",
      "Epoch 71/500\n",
      "6510/6510 [==============================] - 5s 836us/step - loss: 0.3414 - acc: 0.8896 - val_loss: 9.0320 - val_acc: 0.3681\n",
      "Epoch 72/500\n",
      "6510/6510 [==============================] - 5s 834us/step - loss: 0.3583 - acc: 0.8829 - val_loss: 9.0240 - val_acc: 0.3706\n",
      "Epoch 73/500\n",
      "6510/6510 [==============================] - 5s 839us/step - loss: 0.3524 - acc: 0.8876 - val_loss: 9.0493 - val_acc: 0.3685\n",
      "Epoch 74/500\n",
      "6510/6510 [==============================] - 5s 842us/step - loss: 0.3716 - acc: 0.8822 - val_loss: 9.0544 - val_acc: 0.3699\n",
      "Epoch 75/500\n",
      "6510/6510 [==============================] - 5s 836us/step - loss: 0.3520 - acc: 0.8874 - val_loss: 9.0742 - val_acc: 0.3685\n",
      "Epoch 76/500\n",
      "6510/6510 [==============================] - 5s 835us/step - loss: 0.3532 - acc: 0.8831 - val_loss: 9.0650 - val_acc: 0.3663\n",
      "Epoch 77/500\n",
      "6510/6510 [==============================] - 5s 837us/step - loss: 0.3440 - acc: 0.8888 - val_loss: 9.0708 - val_acc: 0.3685\n",
      "Epoch 78/500\n",
      "6510/6510 [==============================] - 5s 833us/step - loss: 0.3402 - acc: 0.8876 - val_loss: 9.0591 - val_acc: 0.3670\n",
      "Epoch 79/500\n",
      "6510/6510 [==============================] - 5s 828us/step - loss: 0.3501 - acc: 0.8891 - val_loss: 9.0708 - val_acc: 0.3649\n",
      "Epoch 80/500\n",
      "6510/6510 [==============================] - 5s 830us/step - loss: 0.3484 - acc: 0.8889 - val_loss: 9.0368 - val_acc: 0.3663\n",
      "Epoch 81/500\n",
      "6510/6510 [==============================] - 5s 824us/step - loss: 0.3538 - acc: 0.8834 - val_loss: 9.0435 - val_acc: 0.3681\n",
      "Epoch 82/500\n",
      "6510/6510 [==============================] - 5s 822us/step - loss: 0.3455 - acc: 0.8851 - val_loss: 9.0552 - val_acc: 0.3692\n",
      "Epoch 83/500\n",
      "6510/6510 [==============================] - 5s 823us/step - loss: 0.3314 - acc: 0.8954 - val_loss: 9.0488 - val_acc: 0.3659\n",
      "Epoch 84/500\n",
      "6510/6510 [==============================] - 5s 836us/step - loss: 0.3476 - acc: 0.8888 - val_loss: 9.0571 - val_acc: 0.3685\n",
      "Epoch 85/500\n",
      "6510/6510 [==============================] - 5s 833us/step - loss: 0.3332 - acc: 0.8919 - val_loss: 9.0739 - val_acc: 0.3659\n",
      "Epoch 86/500\n",
      "6510/6510 [==============================] - 5s 825us/step - loss: 0.3376 - acc: 0.8879 - val_loss: 9.0480 - val_acc: 0.3659\n",
      "Epoch 87/500\n",
      "6510/6510 [==============================] - 5s 825us/step - loss: 0.3518 - acc: 0.8888 - val_loss: 9.0163 - val_acc: 0.3670\n",
      "Epoch 88/500\n",
      "6510/6510 [==============================] - 5s 829us/step - loss: 0.3271 - acc: 0.8937 - val_loss: 9.0248 - val_acc: 0.3670\n",
      "Epoch 89/500\n",
      "6510/6510 [==============================] - 5s 830us/step - loss: 0.3306 - acc: 0.8935 - val_loss: 9.0458 - val_acc: 0.3677\n",
      "Epoch 90/500\n",
      "6510/6510 [==============================] - 5s 817us/step - loss: 0.3270 - acc: 0.8902 - val_loss: 9.0256 - val_acc: 0.3699\n",
      "Epoch 91/500\n",
      "6510/6510 [==============================] - 5s 818us/step - loss: 0.3387 - acc: 0.8916 - val_loss: 9.0202 - val_acc: 0.3699\n",
      "Epoch 92/500\n",
      "6510/6510 [==============================] - 5s 823us/step - loss: 0.3426 - acc: 0.8886 - val_loss: 9.0084 - val_acc: 0.3685\n",
      "Epoch 93/500\n",
      "6510/6510 [==============================] - 5s 820us/step - loss: 0.3287 - acc: 0.8952 - val_loss: 9.0311 - val_acc: 0.3703\n",
      "Epoch 94/500\n",
      "6510/6510 [==============================] - 5s 817us/step - loss: 0.3305 - acc: 0.8934 - val_loss: 9.0459 - val_acc: 0.3692\n",
      "Epoch 95/500\n",
      "6510/6510 [==============================] - 5s 827us/step - loss: 0.3493 - acc: 0.8873 - val_loss: 9.0555 - val_acc: 0.3699\n",
      "Epoch 96/500\n",
      "6510/6510 [==============================] - 5s 841us/step - loss: 0.3327 - acc: 0.8934 - val_loss: 9.0710 - val_acc: 0.3670\n",
      "Epoch 97/500\n",
      "6510/6510 [==============================] - 5s 820us/step - loss: 0.3172 - acc: 0.8972 - val_loss: 9.0882 - val_acc: 0.3670\n",
      "Epoch 98/500\n",
      "6510/6510 [==============================] - 5s 812us/step - loss: 0.3222 - acc: 0.8978 - val_loss: 9.0765 - val_acc: 0.3685\n",
      "Epoch 99/500\n",
      "6510/6510 [==============================] - 5s 812us/step - loss: 0.3242 - acc: 0.8975 - val_loss: 9.0861 - val_acc: 0.3692\n",
      "Epoch 100/500\n",
      "6510/6510 [==============================] - 5s 820us/step - loss: 0.3300 - acc: 0.8945 - val_loss: 9.0849 - val_acc: 0.3670\n",
      "Epoch 101/500\n",
      "6510/6510 [==============================] - 5s 824us/step - loss: 0.3216 - acc: 0.8960 - val_loss: 9.0661 - val_acc: 0.3703\n",
      "Epoch 102/500\n",
      "6510/6510 [==============================] - 5s 830us/step - loss: 0.3365 - acc: 0.8919 - val_loss: 9.0785 - val_acc: 0.3677\n",
      "Epoch 103/500\n",
      "6510/6510 [==============================] - 5s 830us/step - loss: 0.3498 - acc: 0.8857 - val_loss: 9.0585 - val_acc: 0.3699\n",
      "Epoch 104/500\n",
      "6510/6510 [==============================] - 5s 831us/step - loss: 0.3290 - acc: 0.8946 - val_loss: 9.0586 - val_acc: 0.3706\n",
      "Epoch 105/500\n",
      "6510/6510 [==============================] - 5s 826us/step - loss: 0.3326 - acc: 0.8931 - val_loss: 9.0713 - val_acc: 0.3688\n",
      "Epoch 106/500\n",
      "6510/6510 [==============================] - 5s 825us/step - loss: 0.3207 - acc: 0.8960 - val_loss: 9.0664 - val_acc: 0.3692\n",
      "Epoch 107/500\n",
      "6510/6510 [==============================] - 5s 816us/step - loss: 0.3387 - acc: 0.8923 - val_loss: 9.0357 - val_acc: 0.3706\n",
      "Epoch 108/500\n",
      "6510/6510 [==============================] - 5s 815us/step - loss: 0.3318 - acc: 0.8949 - val_loss: 9.0531 - val_acc: 0.3706\n",
      "Epoch 109/500\n",
      "6510/6510 [==============================] - 5s 814us/step - loss: 0.3220 - acc: 0.8992 - val_loss: 9.0587 - val_acc: 0.3695\n",
      "Epoch 110/500\n",
      "6510/6510 [==============================] - 5s 818us/step - loss: 0.3091 - acc: 0.9005 - val_loss: 9.0612 - val_acc: 0.3699\n",
      "Epoch 111/500\n",
      "6510/6510 [==============================] - 5s 813us/step - loss: 0.3567 - acc: 0.8874 - val_loss: 9.0807 - val_acc: 0.3681\n",
      "Epoch 112/500\n",
      "6510/6510 [==============================] - 5s 818us/step - loss: 0.3412 - acc: 0.8909 - val_loss: 9.0560 - val_acc: 0.3703\n",
      "Epoch 113/500\n",
      "6510/6510 [==============================] - 5s 842us/step - loss: 0.3194 - acc: 0.8994 - val_loss: 9.0464 - val_acc: 0.3706\n",
      "Epoch 114/500\n",
      "6510/6510 [==============================] - 5s 842us/step - loss: 0.3276 - acc: 0.8908 - val_loss: 9.0490 - val_acc: 0.3713\n",
      "Epoch 115/500\n",
      "6510/6510 [==============================] - 5s 826us/step - loss: 0.3380 - acc: 0.8929 - val_loss: 9.0602 - val_acc: 0.3713\n",
      "Epoch 116/500\n",
      "6510/6510 [==============================] - 5s 820us/step - loss: 0.3199 - acc: 0.8991 - val_loss: 9.0506 - val_acc: 0.3713\n",
      "Epoch 117/500\n",
      "6510/6510 [==============================] - 5s 820us/step - loss: 0.3230 - acc: 0.8982 - val_loss: 9.0461 - val_acc: 0.3731\n",
      "Epoch 118/500\n",
      "6510/6510 [==============================] - 5s 822us/step - loss: 0.3265 - acc: 0.8940 - val_loss: 9.0548 - val_acc: 0.3692\n",
      "Epoch 119/500\n",
      "6510/6510 [==============================] - 5s 819us/step - loss: 0.3308 - acc: 0.8948 - val_loss: 9.0566 - val_acc: 0.3713\n",
      "Epoch 120/500\n",
      "6510/6510 [==============================] - 5s 815us/step - loss: 0.3168 - acc: 0.8982 - val_loss: 9.0843 - val_acc: 0.3670\n",
      "Epoch 121/500\n",
      "6510/6510 [==============================] - 5s 810us/step - loss: 0.3226 - acc: 0.8962 - val_loss: 9.0853 - val_acc: 0.3652\n",
      "Epoch 122/500\n",
      "6510/6510 [==============================] - 5s 817us/step - loss: 0.3258 - acc: 0.8988 - val_loss: 9.0928 - val_acc: 0.3677\n",
      "Epoch 123/500\n",
      "6510/6510 [==============================] - 5s 817us/step - loss: 0.3440 - acc: 0.8920 - val_loss: 9.0595 - val_acc: 0.3706\n",
      "Epoch 124/500\n",
      "6510/6510 [==============================] - 5s 814us/step - loss: 0.3196 - acc: 0.8982 - val_loss: 9.0547 - val_acc: 0.3695\n",
      "Epoch 125/500\n",
      "6510/6510 [==============================] - 5s 817us/step - loss: 0.3216 - acc: 0.8978 - val_loss: 9.0637 - val_acc: 0.3717\n",
      "Epoch 126/500\n",
      "6510/6510 [==============================] - 5s 808us/step - loss: 0.3316 - acc: 0.8966 - val_loss: 9.0572 - val_acc: 0.3695\n",
      "Epoch 127/500\n",
      "6510/6510 [==============================] - 5s 812us/step - loss: 0.3243 - acc: 0.8940 - val_loss: 9.0594 - val_acc: 0.3645\n",
      "Epoch 128/500\n",
      "6510/6510 [==============================] - 5s 819us/step - loss: 0.3207 - acc: 0.8959 - val_loss: 9.0580 - val_acc: 0.3677\n",
      "Epoch 129/500\n",
      "6510/6510 [==============================] - 5s 816us/step - loss: 0.3169 - acc: 0.8978 - val_loss: 9.0575 - val_acc: 0.3670\n",
      "Epoch 130/500\n",
      "6510/6510 [==============================] - 5s 813us/step - loss: 0.3294 - acc: 0.8889 - val_loss: 9.0564 - val_acc: 0.3670\n",
      "Epoch 131/500\n",
      "6510/6510 [==============================] - 5s 821us/step - loss: 0.3256 - acc: 0.8920 - val_loss: 9.0772 - val_acc: 0.3688\n",
      "Epoch 132/500\n",
      "6510/6510 [==============================] - 5s 817us/step - loss: 0.3286 - acc: 0.8978 - val_loss: 9.0630 - val_acc: 0.3746\n",
      "Epoch 133/500\n",
      "6510/6510 [==============================] - 5s 825us/step - loss: 0.3148 - acc: 0.8992 - val_loss: 9.0817 - val_acc: 0.3688\n",
      "Epoch 134/500\n",
      "6510/6510 [==============================] - 5s 824us/step - loss: 0.3251 - acc: 0.8908 - val_loss: 9.0444 - val_acc: 0.3713\n",
      "Epoch 135/500\n",
      "6510/6510 [==============================] - 5s 816us/step - loss: 0.3230 - acc: 0.8983 - val_loss: 9.0507 - val_acc: 0.3724\n",
      "Epoch 136/500\n",
      "6510/6510 [==============================] - 5s 810us/step - loss: 0.3233 - acc: 0.8997 - val_loss: 9.0714 - val_acc: 0.3692\n",
      "Epoch 137/500\n",
      "6510/6510 [==============================] - 5s 814us/step - loss: 0.3107 - acc: 0.9025 - val_loss: 9.0831 - val_acc: 0.3670\n",
      "Epoch 138/500\n",
      "6510/6510 [==============================] - 5s 812us/step - loss: 0.3265 - acc: 0.8917 - val_loss: 9.0665 - val_acc: 0.3695\n",
      "Epoch 139/500\n",
      "6510/6510 [==============================] - 5s 816us/step - loss: 0.3360 - acc: 0.8916 - val_loss: 9.0815 - val_acc: 0.3688\n",
      "Epoch 140/500\n",
      "6510/6510 [==============================] - 5s 825us/step - loss: 0.3343 - acc: 0.8935 - val_loss: 9.0600 - val_acc: 0.3692\n",
      "Epoch 141/500\n",
      "6510/6510 [==============================] - 5s 822us/step - loss: 0.3185 - acc: 0.8962 - val_loss: 9.0748 - val_acc: 0.3681\n",
      "Epoch 142/500\n",
      "6510/6510 [==============================] - 5s 824us/step - loss: 0.3253 - acc: 0.8934 - val_loss: 9.0576 - val_acc: 0.3710\n",
      "Epoch 143/500\n",
      "6510/6510 [==============================] - 5s 815us/step - loss: 0.3259 - acc: 0.8919 - val_loss: 9.0494 - val_acc: 0.3681\n",
      "Epoch 144/500\n",
      "6510/6510 [==============================] - 5s 811us/step - loss: 0.3298 - acc: 0.8960 - val_loss: 9.0774 - val_acc: 0.3688\n",
      "Epoch 145/500\n",
      "6510/6510 [==============================] - 5s 814us/step - loss: 0.3192 - acc: 0.8942 - val_loss: 9.0707 - val_acc: 0.3717\n",
      "Epoch 146/500\n",
      "6510/6510 [==============================] - 5s 814us/step - loss: 0.3195 - acc: 0.8935 - val_loss: 9.0866 - val_acc: 0.3717\n",
      "Epoch 147/500\n",
      "6510/6510 [==============================] - 5s 813us/step - loss: 0.3053 - acc: 0.8994 - val_loss: 9.0760 - val_acc: 0.3706\n",
      "Epoch 148/500\n",
      "6510/6510 [==============================] - 5s 824us/step - loss: 0.3230 - acc: 0.8977 - val_loss: 9.0837 - val_acc: 0.3685\n",
      "Epoch 149/500\n",
      "6510/6510 [==============================] - 5s 826us/step - loss: 0.3293 - acc: 0.8948 - val_loss: 9.0911 - val_acc: 0.3663\n",
      "Epoch 150/500\n",
      "6510/6510 [==============================] - 5s 812us/step - loss: 0.3053 - acc: 0.9020 - val_loss: 9.0932 - val_acc: 0.3688\n",
      "Epoch 151/500\n",
      "6510/6510 [==============================] - 5s 819us/step - loss: 0.3132 - acc: 0.8991 - val_loss: 9.1105 - val_acc: 0.3663\n",
      "Epoch 152/500\n",
      "6510/6510 [==============================] - 5s 820us/step - loss: 0.3075 - acc: 0.8978 - val_loss: 9.0766 - val_acc: 0.3685\n",
      "Epoch 153/500\n",
      "6510/6510 [==============================] - 5s 816us/step - loss: 0.3215 - acc: 0.8946 - val_loss: 9.0751 - val_acc: 0.3677\n",
      "Epoch 154/500\n",
      "6510/6510 [==============================] - 5s 810us/step - loss: 0.3200 - acc: 0.8994 - val_loss: 9.0777 - val_acc: 0.3692\n",
      "Epoch 155/500\n",
      "6510/6510 [==============================] - 5s 814us/step - loss: 0.3102 - acc: 0.9014 - val_loss: 9.0849 - val_acc: 0.3670\n",
      "Epoch 156/500\n",
      "6510/6510 [==============================] - 5s 811us/step - loss: 0.3114 - acc: 0.8998 - val_loss: 9.0969 - val_acc: 0.3688\n",
      "Epoch 157/500\n",
      "6510/6510 [==============================] - 5s 813us/step - loss: 0.3144 - acc: 0.9009 - val_loss: 9.1050 - val_acc: 0.3667\n",
      "Epoch 158/500\n",
      "6510/6510 [==============================] - 5s 815us/step - loss: 0.3306 - acc: 0.8928 - val_loss: 9.1132 - val_acc: 0.3674\n",
      "Epoch 159/500\n",
      "6510/6510 [==============================] - 5s 813us/step - loss: 0.3180 - acc: 0.8991 - val_loss: 9.1176 - val_acc: 0.3685\n",
      "Epoch 160/500\n",
      "6510/6510 [==============================] - 5s 805us/step - loss: 0.3261 - acc: 0.8975 - val_loss: 9.0981 - val_acc: 0.3677\n",
      "Epoch 161/500\n",
      "6510/6510 [==============================] - 5s 806us/step - loss: 0.3255 - acc: 0.8957 - val_loss: 9.0998 - val_acc: 0.3649\n",
      "Epoch 162/500\n",
      "6510/6510 [==============================] - 5s 809us/step - loss: 0.3396 - acc: 0.8896 - val_loss: 9.1110 - val_acc: 0.3631\n",
      "Epoch 163/500\n",
      "6510/6510 [==============================] - 5s 822us/step - loss: 0.3279 - acc: 0.8931 - val_loss: 9.1238 - val_acc: 0.3674\n",
      "Epoch 164/500\n",
      "6510/6510 [==============================] - 5s 825us/step - loss: 0.3181 - acc: 0.8988 - val_loss: 9.1001 - val_acc: 0.3674\n",
      "Epoch 165/500\n",
      "6510/6510 [==============================] - 5s 809us/step - loss: 0.3164 - acc: 0.9026 - val_loss: 9.1208 - val_acc: 0.3706\n",
      "Epoch 166/500\n",
      "6510/6510 [==============================] - 5s 804us/step - loss: 0.3006 - acc: 0.9045 - val_loss: 9.1248 - val_acc: 0.3670\n",
      "Epoch 167/500\n",
      "6510/6510 [==============================] - 5s 804us/step - loss: 0.3085 - acc: 0.9009 - val_loss: 9.1495 - val_acc: 0.3656\n",
      "Epoch 168/500\n",
      "6510/6510 [==============================] - 5s 806us/step - loss: 0.3193 - acc: 0.8962 - val_loss: 9.1497 - val_acc: 0.3631\n",
      "Epoch 169/500\n",
      "6510/6510 [==============================] - 5s 805us/step - loss: 0.3195 - acc: 0.8977 - val_loss: 9.1442 - val_acc: 0.3656\n",
      "Epoch 170/500\n",
      "6510/6510 [==============================] - 5s 805us/step - loss: 0.3189 - acc: 0.9029 - val_loss: 9.1206 - val_acc: 0.3670\n",
      "Epoch 171/500\n",
      "6510/6510 [==============================] - 5s 816us/step - loss: 0.3157 - acc: 0.8945 - val_loss: 9.1121 - val_acc: 0.3685\n",
      "Epoch 172/500\n",
      "6510/6510 [==============================] - 5s 825us/step - loss: 0.3234 - acc: 0.8989 - val_loss: 9.1080 - val_acc: 0.3685\n",
      "Epoch 173/500\n",
      "6510/6510 [==============================] - 5s 824us/step - loss: 0.3313 - acc: 0.8952 - val_loss: 9.1423 - val_acc: 0.3670\n",
      "Epoch 174/500\n",
      "6510/6510 [==============================] - 5s 807us/step - loss: 0.3136 - acc: 0.8995 - val_loss: 9.1567 - val_acc: 0.3667\n",
      "Epoch 175/500\n",
      "6510/6510 [==============================] - 5s 837us/step - loss: 0.3334 - acc: 0.8957 - val_loss: 9.1425 - val_acc: 0.3688\n",
      "Epoch 176/500\n",
      "6510/6510 [==============================] - 5s 818us/step - loss: 0.3280 - acc: 0.8942 - val_loss: 9.1342 - val_acc: 0.3663\n",
      "Epoch 177/500\n",
      "6510/6510 [==============================] - 5s 803us/step - loss: 0.3135 - acc: 0.8948 - val_loss: 9.1302 - val_acc: 0.3677\n",
      "Epoch 178/500\n",
      "6510/6510 [==============================] - 5s 810us/step - loss: 0.3298 - acc: 0.8977 - val_loss: 9.1196 - val_acc: 0.3710\n",
      "Epoch 179/500\n",
      "6510/6510 [==============================] - 5s 811us/step - loss: 0.3075 - acc: 0.9017 - val_loss: 9.1242 - val_acc: 0.3713\n",
      "Epoch 180/500\n",
      "6510/6510 [==============================] - 5s 804us/step - loss: 0.3180 - acc: 0.8988 - val_loss: 9.1031 - val_acc: 0.3677\n",
      "Epoch 181/500\n",
      "6510/6510 [==============================] - 5s 804us/step - loss: 0.3092 - acc: 0.9008 - val_loss: 9.1051 - val_acc: 0.3703\n",
      "Epoch 182/500\n",
      "6510/6510 [==============================] - 5s 808us/step - loss: 0.3055 - acc: 0.9006 - val_loss: 9.1093 - val_acc: 0.3703\n",
      "Epoch 183/500\n",
      "6510/6510 [==============================] - 5s 805us/step - loss: 0.3304 - acc: 0.8946 - val_loss: 9.1252 - val_acc: 0.3713\n",
      "Epoch 184/500\n",
      "6510/6510 [==============================] - 5s 804us/step - loss: 0.3069 - acc: 0.9041 - val_loss: 9.1238 - val_acc: 0.3692\n",
      "Epoch 185/500\n",
      "6510/6510 [==============================] - 5s 807us/step - loss: 0.3157 - acc: 0.9023 - val_loss: 9.1419 - val_acc: 0.3663\n",
      "Epoch 186/500\n",
      "6510/6510 [==============================] - 5s 807us/step - loss: 0.3070 - acc: 0.9003 - val_loss: 9.1510 - val_acc: 0.3674\n",
      "Epoch 187/500\n",
      "6510/6510 [==============================] - 5s 809us/step - loss: 0.3180 - acc: 0.8995 - val_loss: 9.1735 - val_acc: 0.3688\n",
      "Epoch 188/500\n",
      "6510/6510 [==============================] - 5s 815us/step - loss: 0.3289 - acc: 0.8945 - val_loss: 9.1547 - val_acc: 0.3710\n",
      "Epoch 189/500\n",
      "6510/6510 [==============================] - 5s 808us/step - loss: 0.3004 - acc: 0.9017 - val_loss: 9.1494 - val_acc: 0.3688\n",
      "Epoch 190/500\n",
      "6510/6510 [==============================] - 5s 803us/step - loss: 0.3121 - acc: 0.8991 - val_loss: 9.1383 - val_acc: 0.3677\n",
      "Epoch 191/500\n",
      "6510/6510 [==============================] - 5s 810us/step - loss: 0.3128 - acc: 0.8971 - val_loss: 9.1431 - val_acc: 0.3681\n",
      "Epoch 192/500\n",
      "6510/6510 [==============================] - 5s 804us/step - loss: 0.3184 - acc: 0.8974 - val_loss: 9.1340 - val_acc: 0.3677\n",
      "Epoch 193/500\n",
      "6510/6510 [==============================] - 5s 812us/step - loss: 0.2931 - acc: 0.9046 - val_loss: 9.1262 - val_acc: 0.3717\n",
      "Epoch 194/500\n",
      "6510/6510 [==============================] - 5s 812us/step - loss: 0.3037 - acc: 0.9055 - val_loss: 9.1451 - val_acc: 0.3699\n",
      "Epoch 195/500\n",
      "6510/6510 [==============================] - 5s 813us/step - loss: 0.3183 - acc: 0.8986 - val_loss: 9.1350 - val_acc: 0.3699\n",
      "Epoch 196/500\n",
      "6510/6510 [==============================] - 5s 802us/step - loss: 0.3086 - acc: 0.9043 - val_loss: 9.1505 - val_acc: 0.3688\n",
      "Epoch 197/500\n",
      "6510/6510 [==============================] - 5s 807us/step - loss: 0.3311 - acc: 0.8954 - val_loss: 9.1387 - val_acc: 0.3710\n",
      "Epoch 198/500\n",
      "6510/6510 [==============================] - 5s 805us/step - loss: 0.3154 - acc: 0.9003 - val_loss: 9.1505 - val_acc: 0.3695\n",
      "Epoch 199/500\n",
      "6510/6510 [==============================] - 5s 821us/step - loss: 0.3118 - acc: 0.9014 - val_loss: 9.1337 - val_acc: 0.3695\n",
      "Epoch 200/500\n",
      "6510/6510 [==============================] - 5s 820us/step - loss: 0.3172 - acc: 0.8965 - val_loss: 9.1363 - val_acc: 0.3703\n",
      "Epoch 201/500\n",
      "6510/6510 [==============================] - 5s 807us/step - loss: 0.3329 - acc: 0.8929 - val_loss: 9.0999 - val_acc: 0.3724\n",
      "Epoch 202/500\n",
      "6510/6510 [==============================] - 5s 803us/step - loss: 0.3144 - acc: 0.8977 - val_loss: 9.1208 - val_acc: 0.3685\n",
      "Epoch 203/500\n",
      "6510/6510 [==============================] - 5s 801us/step - loss: 0.2951 - acc: 0.9031 - val_loss: 9.1345 - val_acc: 0.3652\n",
      "Epoch 204/500\n",
      "6510/6510 [==============================] - 5s 803us/step - loss: 0.2977 - acc: 0.9035 - val_loss: 9.1229 - val_acc: 0.3703\n",
      "Epoch 205/500\n",
      "6510/6510 [==============================] - 5s 805us/step - loss: 0.3106 - acc: 0.9003 - val_loss: 9.1400 - val_acc: 0.3692\n",
      "Epoch 206/500\n",
      "6510/6510 [==============================] - 5s 806us/step - loss: 0.3012 - acc: 0.9025 - val_loss: 9.1414 - val_acc: 0.3699\n",
      "Epoch 207/500\n",
      "6510/6510 [==============================] - 5s 810us/step - loss: 0.2987 - acc: 0.9058 - val_loss: 9.1448 - val_acc: 0.3688\n",
      "Epoch 208/500\n",
      "6510/6510 [==============================] - 5s 807us/step - loss: 0.3144 - acc: 0.9017 - val_loss: 9.1451 - val_acc: 0.3713\n",
      "Epoch 209/500\n",
      "6510/6510 [==============================] - 5s 815us/step - loss: 0.2980 - acc: 0.9012 - val_loss: 9.1524 - val_acc: 0.3703\n",
      "Epoch 210/500\n",
      "6510/6510 [==============================] - 5s 816us/step - loss: 0.2928 - acc: 0.9063 - val_loss: 9.1642 - val_acc: 0.3699\n",
      "Epoch 211/500\n",
      "6510/6510 [==============================] - 5s 804us/step - loss: 0.2948 - acc: 0.9071 - val_loss: 9.1520 - val_acc: 0.3674\n",
      "Epoch 212/500\n",
      "6510/6510 [==============================] - 5s 807us/step - loss: 0.3139 - acc: 0.8974 - val_loss: 9.1557 - val_acc: 0.3667\n",
      "Epoch 213/500\n",
      "6510/6510 [==============================] - 5s 798us/step - loss: 0.3239 - acc: 0.8972 - val_loss: 9.1699 - val_acc: 0.3667\n",
      "Epoch 214/500\n",
      "6510/6510 [==============================] - 5s 803us/step - loss: 0.3077 - acc: 0.9035 - val_loss: 9.1668 - val_acc: 0.3670\n",
      "Epoch 215/500\n",
      "6510/6510 [==============================] - 5s 805us/step - loss: 0.3150 - acc: 0.8988 - val_loss: 9.1752 - val_acc: 0.3652\n",
      "Epoch 216/500\n",
      "6510/6510 [==============================] - 5s 804us/step - loss: 0.3100 - acc: 0.9034 - val_loss: 9.1424 - val_acc: 0.3677\n",
      "Epoch 217/500\n",
      "6510/6510 [==============================] - 5s 806us/step - loss: 0.3126 - acc: 0.9005 - val_loss: 9.1642 - val_acc: 0.3659\n",
      "Epoch 218/500\n",
      "6510/6510 [==============================] - 5s 803us/step - loss: 0.3182 - acc: 0.8994 - val_loss: 9.1549 - val_acc: 0.3677\n",
      "Epoch 219/500\n",
      "6510/6510 [==============================] - 5s 808us/step - loss: 0.2986 - acc: 0.9018 - val_loss: 9.1634 - val_acc: 0.3674\n",
      "Epoch 220/500\n",
      "6510/6510 [==============================] - 5s 804us/step - loss: 0.3071 - acc: 0.9006 - val_loss: 9.1321 - val_acc: 0.3692\n",
      "Epoch 221/500\n",
      "6510/6510 [==============================] - 5s 804us/step - loss: 0.3058 - acc: 0.9058 - val_loss: 9.1455 - val_acc: 0.3706\n",
      "Epoch 222/500\n",
      "6510/6510 [==============================] - 5s 801us/step - loss: 0.3085 - acc: 0.9006 - val_loss: 9.1253 - val_acc: 0.3706\n",
      "Epoch 223/500\n",
      "6510/6510 [==============================] - 5s 807us/step - loss: 0.2965 - acc: 0.9032 - val_loss: 9.1434 - val_acc: 0.3692\n",
      "Epoch 224/500\n",
      "6510/6510 [==============================] - 5s 810us/step - loss: 0.3089 - acc: 0.9000 - val_loss: 9.1210 - val_acc: 0.3717\n",
      "Epoch 225/500\n",
      "6510/6510 [==============================] - 5s 811us/step - loss: 0.3074 - acc: 0.9035 - val_loss: 9.1403 - val_acc: 0.3692\n",
      "Epoch 226/500\n",
      "6510/6510 [==============================] - 5s 805us/step - loss: 0.3189 - acc: 0.8988 - val_loss: 9.1513 - val_acc: 0.3692\n",
      "Epoch 227/500\n",
      "6510/6510 [==============================] - 5s 797us/step - loss: 0.2955 - acc: 0.9029 - val_loss: 9.1272 - val_acc: 0.3692\n",
      "Epoch 228/500\n",
      "6510/6510 [==============================] - 5s 801us/step - loss: 0.3235 - acc: 0.8969 - val_loss: 9.1227 - val_acc: 0.3695\n",
      "Epoch 229/500\n",
      "6510/6510 [==============================] - 5s 797us/step - loss: 0.3244 - acc: 0.8951 - val_loss: 9.1238 - val_acc: 0.3735\n",
      "Epoch 230/500\n",
      "6510/6510 [==============================] - 5s 803us/step - loss: 0.3122 - acc: 0.8998 - val_loss: 9.1211 - val_acc: 0.3728\n",
      "Epoch 231/500\n",
      "6510/6510 [==============================] - 5s 833us/step - loss: 0.3087 - acc: 0.9025 - val_loss: 9.1241 - val_acc: 0.3738\n",
      "Epoch 232/500\n",
      "6510/6510 [==============================] - 5s 824us/step - loss: 0.2904 - acc: 0.9041 - val_loss: 9.1402 - val_acc: 0.3713\n",
      "Epoch 233/500\n",
      "6510/6510 [==============================] - 5s 800us/step - loss: 0.3138 - acc: 0.9003 - val_loss: 9.1333 - val_acc: 0.3735\n",
      "Epoch 234/500\n",
      "6510/6510 [==============================] - 5s 802us/step - loss: 0.2921 - acc: 0.9060 - val_loss: 9.1280 - val_acc: 0.3731\n",
      "Epoch 235/500\n",
      "6510/6510 [==============================] - 5s 802us/step - loss: 0.2902 - acc: 0.9040 - val_loss: 9.1355 - val_acc: 0.3695\n",
      "Epoch 236/500\n",
      "6510/6510 [==============================] - 5s 803us/step - loss: 0.2930 - acc: 0.9060 - val_loss: 9.1572 - val_acc: 0.3703\n",
      "Epoch 237/500\n",
      "6510/6510 [==============================] - 5s 800us/step - loss: 0.3211 - acc: 0.8969 - val_loss: 9.1283 - val_acc: 0.3692\n",
      "Epoch 238/500\n",
      "6510/6510 [==============================] - 5s 805us/step - loss: 0.2945 - acc: 0.9046 - val_loss: 9.1153 - val_acc: 0.3713\n",
      "Epoch 239/500\n",
      "6510/6510 [==============================] - 5s 807us/step - loss: 0.2859 - acc: 0.9049 - val_loss: 9.1237 - val_acc: 0.3728\n",
      "Epoch 240/500\n",
      "6510/6510 [==============================] - 5s 811us/step - loss: 0.2884 - acc: 0.9055 - val_loss: 9.1274 - val_acc: 0.3717\n",
      "Epoch 241/500\n",
      "6510/6510 [==============================] - 5s 804us/step - loss: 0.2983 - acc: 0.9035 - val_loss: 9.1369 - val_acc: 0.3703\n",
      "Epoch 242/500\n",
      "6510/6510 [==============================] - 5s 804us/step - loss: 0.2961 - acc: 0.9034 - val_loss: 9.1506 - val_acc: 0.3681\n",
      "Epoch 243/500\n",
      "6510/6510 [==============================] - 5s 798us/step - loss: 0.3029 - acc: 0.9026 - val_loss: 9.1714 - val_acc: 0.3677\n",
      "Epoch 244/500\n",
      "6510/6510 [==============================] - 5s 800us/step - loss: 0.2905 - acc: 0.9081 - val_loss: 9.1481 - val_acc: 0.3703\n",
      "Epoch 245/500\n",
      "6510/6510 [==============================] - 5s 804us/step - loss: 0.2893 - acc: 0.9041 - val_loss: 9.1529 - val_acc: 0.3699\n",
      "Epoch 246/500\n",
      "6510/6510 [==============================] - 5s 804us/step - loss: 0.3018 - acc: 0.9046 - val_loss: 9.1629 - val_acc: 0.3692\n",
      "Epoch 247/500\n",
      "6510/6510 [==============================] - 5s 811us/step - loss: 0.2764 - acc: 0.9089 - val_loss: 9.1802 - val_acc: 0.3699\n",
      "Epoch 248/500\n",
      "6510/6510 [==============================] - 5s 807us/step - loss: 0.3075 - acc: 0.9060 - val_loss: 9.1641 - val_acc: 0.3677\n",
      "Epoch 249/500\n",
      "6510/6510 [==============================] - 5s 804us/step - loss: 0.2820 - acc: 0.9100 - val_loss: 9.1647 - val_acc: 0.3688\n",
      "Epoch 250/500\n",
      "6510/6510 [==============================] - 5s 805us/step - loss: 0.3099 - acc: 0.9045 - val_loss: 9.1580 - val_acc: 0.3685\n",
      "Epoch 251/500\n",
      "6510/6510 [==============================] - 5s 803us/step - loss: 0.2844 - acc: 0.9072 - val_loss: 9.1419 - val_acc: 0.3688\n",
      "Epoch 252/500\n",
      "6510/6510 [==============================] - 5s 802us/step - loss: 0.2800 - acc: 0.9083 - val_loss: 9.1492 - val_acc: 0.3695\n",
      "Epoch 253/500\n",
      "6510/6510 [==============================] - 5s 803us/step - loss: 0.3029 - acc: 0.9057 - val_loss: 9.1423 - val_acc: 0.3706\n",
      "Epoch 254/500\n",
      "6510/6510 [==============================] - 5s 811us/step - loss: 0.2969 - acc: 0.9063 - val_loss: 9.1547 - val_acc: 0.3710\n",
      "Epoch 255/500\n",
      "6510/6510 [==============================] - 5s 814us/step - loss: 0.3019 - acc: 0.9057 - val_loss: 9.1437 - val_acc: 0.3695\n",
      "Epoch 256/500\n",
      "6510/6510 [==============================] - 5s 819us/step - loss: 0.2867 - acc: 0.9084 - val_loss: 9.1519 - val_acc: 0.3695\n",
      "Epoch 257/500\n",
      "6510/6510 [==============================] - 5s 815us/step - loss: 0.2905 - acc: 0.9092 - val_loss: 9.1537 - val_acc: 0.3703\n",
      "Epoch 258/500\n",
      "6510/6510 [==============================] - 5s 814us/step - loss: 0.2996 - acc: 0.9031 - val_loss: 9.1723 - val_acc: 0.3699\n",
      "Epoch 259/500\n",
      "6510/6510 [==============================] - 5s 814us/step - loss: 0.2790 - acc: 0.9088 - val_loss: 9.1477 - val_acc: 0.3710\n",
      "Epoch 260/500\n",
      "6510/6510 [==============================] - 5s 811us/step - loss: 0.3108 - acc: 0.9008 - val_loss: 9.1299 - val_acc: 0.3710\n",
      "Epoch 261/500\n",
      "6510/6510 [==============================] - 5s 802us/step - loss: 0.2974 - acc: 0.9035 - val_loss: 9.1505 - val_acc: 0.3699\n",
      "Epoch 262/500\n",
      "6510/6510 [==============================] - 5s 805us/step - loss: 0.2874 - acc: 0.9049 - val_loss: 9.1553 - val_acc: 0.3703\n",
      "Epoch 263/500\n",
      "6510/6510 [==============================] - 5s 799us/step - loss: 0.2944 - acc: 0.9029 - val_loss: 9.1507 - val_acc: 0.3685\n",
      "Epoch 264/500\n",
      "6510/6510 [==============================] - 5s 805us/step - loss: 0.3005 - acc: 0.9054 - val_loss: 9.1473 - val_acc: 0.3699\n",
      "Epoch 265/500\n",
      "6510/6510 [==============================] - 5s 810us/step - loss: 0.2770 - acc: 0.9109 - val_loss: 9.1638 - val_acc: 0.3692\n",
      "Epoch 266/500\n",
      "6510/6510 [==============================] - 5s 805us/step - loss: 0.2898 - acc: 0.9060 - val_loss: 9.1528 - val_acc: 0.3699\n",
      "Epoch 267/500\n",
      "6510/6510 [==============================] - 5s 805us/step - loss: 0.2894 - acc: 0.9037 - val_loss: 9.1387 - val_acc: 0.3720\n",
      "Epoch 268/500\n",
      "6510/6510 [==============================] - 5s 808us/step - loss: 0.2837 - acc: 0.9060 - val_loss: 9.1354 - val_acc: 0.3677\n",
      "Epoch 269/500\n",
      "6510/6510 [==============================] - 5s 805us/step - loss: 0.2890 - acc: 0.9080 - val_loss: 9.1511 - val_acc: 0.3685\n",
      "Epoch 270/500\n",
      "6510/6510 [==============================] - 5s 807us/step - loss: 0.2951 - acc: 0.9051 - val_loss: 9.1476 - val_acc: 0.3710\n",
      "Epoch 271/500\n",
      "6510/6510 [==============================] - 5s 817us/step - loss: 0.2978 - acc: 0.9072 - val_loss: 9.1320 - val_acc: 0.3699\n",
      "Epoch 272/500\n",
      "6510/6510 [==============================] - 5s 825us/step - loss: 0.2928 - acc: 0.9086 - val_loss: 9.1422 - val_acc: 0.3703\n",
      "Epoch 273/500\n",
      "6510/6510 [==============================] - 5s 808us/step - loss: 0.2891 - acc: 0.9094 - val_loss: 9.1736 - val_acc: 0.3677\n",
      "Epoch 274/500\n",
      "6510/6510 [==============================] - 5s 805us/step - loss: 0.3040 - acc: 0.9025 - val_loss: 9.1552 - val_acc: 0.3724\n",
      "Epoch 275/500\n",
      "6510/6510 [==============================] - 5s 818us/step - loss: 0.2935 - acc: 0.9038 - val_loss: 9.1393 - val_acc: 0.3692\n",
      "Epoch 276/500\n",
      "6510/6510 [==============================] - 6s 847us/step - loss: 0.2937 - acc: 0.9077 - val_loss: 9.1133 - val_acc: 0.3717\n",
      "Epoch 277/500\n",
      "6510/6510 [==============================] - 5s 839us/step - loss: 0.2906 - acc: 0.9048 - val_loss: 9.1284 - val_acc: 0.3720\n",
      "Epoch 278/500\n",
      "6510/6510 [==============================] - 6s 852us/step - loss: 0.2859 - acc: 0.9072 - val_loss: 9.1425 - val_acc: 0.3717\n",
      "Epoch 279/500\n",
      "6510/6510 [==============================] - 5s 830us/step - loss: 0.2883 - acc: 0.9061 - val_loss: 9.1551 - val_acc: 0.3699\n",
      "Epoch 280/500\n",
      "6510/6510 [==============================] - 5s 839us/step - loss: 0.3057 - acc: 0.9011 - val_loss: 9.1464 - val_acc: 0.3724\n",
      "Epoch 281/500\n",
      "6510/6510 [==============================] - 6s 848us/step - loss: 0.2988 - acc: 0.9020 - val_loss: 9.1757 - val_acc: 0.3692\n",
      "Epoch 282/500\n",
      "6510/6510 [==============================] - 5s 833us/step - loss: 0.3121 - acc: 0.9006 - val_loss: 9.1677 - val_acc: 0.3699\n",
      "Epoch 283/500\n",
      "6510/6510 [==============================] - 5s 818us/step - loss: 0.2876 - acc: 0.9054 - val_loss: 9.1905 - val_acc: 0.3695\n",
      "Epoch 284/500\n",
      "6510/6510 [==============================] - 5s 808us/step - loss: 0.2975 - acc: 0.8975 - val_loss: 9.1741 - val_acc: 0.3692\n",
      "Epoch 285/500\n",
      "6510/6510 [==============================] - 5s 816us/step - loss: 0.2972 - acc: 0.9084 - val_loss: 9.1692 - val_acc: 0.3695\n",
      "Epoch 286/500\n",
      "6510/6510 [==============================] - 5s 814us/step - loss: 0.2954 - acc: 0.9069 - val_loss: 9.1834 - val_acc: 0.3685\n",
      "Epoch 287/500\n",
      "6510/6510 [==============================] - 5s 812us/step - loss: 0.2807 - acc: 0.9061 - val_loss: 9.1733 - val_acc: 0.3692\n",
      "Epoch 288/500\n",
      "6510/6510 [==============================] - 5s 812us/step - loss: 0.3025 - acc: 0.9035 - val_loss: 9.1670 - val_acc: 0.3656\n",
      "Epoch 289/500\n",
      "6510/6510 [==============================] - 5s 827us/step - loss: 0.2753 - acc: 0.9104 - val_loss: 9.1601 - val_acc: 0.3695\n",
      "Epoch 290/500\n",
      "6510/6510 [==============================] - 5s 829us/step - loss: 0.2823 - acc: 0.9078 - val_loss: 9.1524 - val_acc: 0.3695\n",
      "Epoch 291/500\n",
      "6510/6510 [==============================] - 5s 818us/step - loss: 0.2884 - acc: 0.9086 - val_loss: 9.1766 - val_acc: 0.3663\n",
      "Epoch 292/500\n",
      "6510/6510 [==============================] - 5s 807us/step - loss: 0.2800 - acc: 0.9089 - val_loss: 9.1845 - val_acc: 0.3656\n",
      "Epoch 293/500\n",
      "6510/6510 [==============================] - 5s 809us/step - loss: 0.2703 - acc: 0.9117 - val_loss: 9.1708 - val_acc: 0.3670\n",
      "Epoch 294/500\n",
      "6510/6510 [==============================] - 5s 801us/step - loss: 0.2800 - acc: 0.9098 - val_loss: 9.1643 - val_acc: 0.3692\n",
      "Epoch 295/500\n",
      "6510/6510 [==============================] - 5s 811us/step - loss: 0.2989 - acc: 0.9041 - val_loss: 9.1477 - val_acc: 0.3699\n",
      "Epoch 296/500\n",
      "6510/6510 [==============================] - 5s 805us/step - loss: 0.3001 - acc: 0.9032 - val_loss: 9.1530 - val_acc: 0.3695\n",
      "Epoch 297/500\n",
      "6510/6510 [==============================] - 5s 805us/step - loss: 0.2922 - acc: 0.9074 - val_loss: 9.1468 - val_acc: 0.3706\n",
      "Epoch 298/500\n",
      "6510/6510 [==============================] - 5s 806us/step - loss: 0.2803 - acc: 0.9086 - val_loss: 9.1407 - val_acc: 0.3717\n",
      "Epoch 299/500\n",
      "6510/6510 [==============================] - 5s 808us/step - loss: 0.2786 - acc: 0.9112 - val_loss: 9.1590 - val_acc: 0.3717\n",
      "Epoch 300/500\n",
      "6510/6510 [==============================] - 5s 814us/step - loss: 0.2864 - acc: 0.9055 - val_loss: 9.1736 - val_acc: 0.3688\n",
      "Epoch 301/500\n",
      "6510/6510 [==============================] - 5s 816us/step - loss: 0.2734 - acc: 0.9097 - val_loss: 9.1687 - val_acc: 0.3724\n",
      "Epoch 302/500\n",
      "6510/6510 [==============================] - 5s 804us/step - loss: 0.2749 - acc: 0.9132 - val_loss: 9.1714 - val_acc: 0.3717\n",
      "Epoch 303/500\n",
      "6510/6510 [==============================] - 5s 805us/step - loss: 0.2668 - acc: 0.9103 - val_loss: 9.1672 - val_acc: 0.3713\n",
      "Epoch 304/500\n",
      "6510/6510 [==============================] - 5s 802us/step - loss: 0.2698 - acc: 0.9092 - val_loss: 9.1784 - val_acc: 0.3692\n",
      "Epoch 305/500\n",
      "6510/6510 [==============================] - 5s 802us/step - loss: 0.2713 - acc: 0.9114 - val_loss: 9.1876 - val_acc: 0.3699\n",
      "Epoch 306/500\n",
      "6510/6510 [==============================] - 5s 798us/step - loss: 0.2861 - acc: 0.9115 - val_loss: 9.2044 - val_acc: 0.3710\n",
      "Epoch 307/500\n",
      "6510/6510 [==============================] - 5s 810us/step - loss: 0.3046 - acc: 0.9031 - val_loss: 9.1853 - val_acc: 0.3681\n",
      "Epoch 308/500\n",
      "6510/6510 [==============================] - 5s 806us/step - loss: 0.2832 - acc: 0.9088 - val_loss: 9.1745 - val_acc: 0.3703\n",
      "Epoch 309/500\n",
      "6510/6510 [==============================] - 5s 804us/step - loss: 0.2825 - acc: 0.9101 - val_loss: 9.1850 - val_acc: 0.3688\n",
      "Epoch 310/500\n",
      "6510/6510 [==============================] - 5s 809us/step - loss: 0.2737 - acc: 0.9124 - val_loss: 9.1836 - val_acc: 0.3659\n",
      "Epoch 311/500\n",
      "6510/6510 [==============================] - 5s 808us/step - loss: 0.2721 - acc: 0.9138 - val_loss: 9.1919 - val_acc: 0.3699\n",
      "Epoch 312/500\n",
      "6510/6510 [==============================] - 5s 802us/step - loss: 0.2861 - acc: 0.9057 - val_loss: 9.1769 - val_acc: 0.3685\n",
      "Epoch 313/500\n",
      "6510/6510 [==============================] - 5s 805us/step - loss: 0.2814 - acc: 0.9100 - val_loss: 9.1750 - val_acc: 0.3681\n",
      "Epoch 314/500\n",
      "6510/6510 [==============================] - 5s 801us/step - loss: 0.2878 - acc: 0.9092 - val_loss: 9.1750 - val_acc: 0.3695\n",
      "Epoch 315/500\n",
      "6510/6510 [==============================] - 5s 814us/step - loss: 0.2688 - acc: 0.9132 - val_loss: 9.1841 - val_acc: 0.3688\n",
      "Epoch 316/500\n",
      "6510/6510 [==============================] - 5s 816us/step - loss: 0.2840 - acc: 0.9061 - val_loss: 9.1868 - val_acc: 0.3681\n",
      "Epoch 317/500\n",
      "6510/6510 [==============================] - 5s 814us/step - loss: 0.2818 - acc: 0.9081 - val_loss: 9.2120 - val_acc: 0.3667\n",
      "Epoch 318/500\n",
      "6510/6510 [==============================] - 5s 811us/step - loss: 0.2698 - acc: 0.9111 - val_loss: 9.2225 - val_acc: 0.3681\n",
      "Epoch 319/500\n",
      "6510/6510 [==============================] - 5s 804us/step - loss: 0.3026 - acc: 0.9037 - val_loss: 9.1851 - val_acc: 0.3681\n",
      "Epoch 320/500\n",
      "6510/6510 [==============================] - 5s 806us/step - loss: 0.3003 - acc: 0.9008 - val_loss: 9.1992 - val_acc: 0.3681\n",
      "Epoch 321/500\n",
      "6510/6510 [==============================] - 5s 807us/step - loss: 0.2738 - acc: 0.9098 - val_loss: 9.1974 - val_acc: 0.3674\n",
      "Epoch 322/500\n",
      "6510/6510 [==============================] - 5s 803us/step - loss: 0.2874 - acc: 0.9037 - val_loss: 9.1941 - val_acc: 0.3688\n",
      "Epoch 323/500\n",
      "6510/6510 [==============================] - 5s 801us/step - loss: 0.2807 - acc: 0.9081 - val_loss: 9.2036 - val_acc: 0.3670\n",
      "Epoch 324/500\n",
      "6510/6510 [==============================] - 5s 803us/step - loss: 0.2708 - acc: 0.9134 - val_loss: 9.2003 - val_acc: 0.3681\n",
      "Epoch 325/500\n",
      "6510/6510 [==============================] - 5s 805us/step - loss: 0.2967 - acc: 0.9061 - val_loss: 9.2008 - val_acc: 0.3677\n",
      "Epoch 326/500\n",
      "6510/6510 [==============================] - 5s 805us/step - loss: 0.2770 - acc: 0.9069 - val_loss: 9.1803 - val_acc: 0.3670\n",
      "Epoch 327/500\n",
      "6510/6510 [==============================] - 5s 801us/step - loss: 0.2842 - acc: 0.9069 - val_loss: 9.1884 - val_acc: 0.3681\n",
      "Epoch 328/500\n",
      "6510/6510 [==============================] - 5s 807us/step - loss: 0.2694 - acc: 0.9174 - val_loss: 9.2074 - val_acc: 0.3685\n",
      "Epoch 329/500\n",
      "6510/6510 [==============================] - 5s 803us/step - loss: 0.2551 - acc: 0.9146 - val_loss: 9.2029 - val_acc: 0.3670\n",
      "Epoch 330/500\n",
      "6510/6510 [==============================] - 5s 806us/step - loss: 0.2650 - acc: 0.9151 - val_loss: 9.2023 - val_acc: 0.3699\n",
      "Epoch 331/500\n",
      "6510/6510 [==============================] - 5s 812us/step - loss: 0.2552 - acc: 0.9175 - val_loss: 9.2161 - val_acc: 0.3692\n",
      "Epoch 332/500\n",
      "6510/6510 [==============================] - 5s 810us/step - loss: 0.2879 - acc: 0.9072 - val_loss: 9.1861 - val_acc: 0.3688\n",
      "Epoch 333/500\n",
      "6510/6510 [==============================] - 5s 807us/step - loss: 0.2814 - acc: 0.9081 - val_loss: 9.1932 - val_acc: 0.3674\n",
      "Epoch 334/500\n",
      "6510/6510 [==============================] - 5s 804us/step - loss: 0.2663 - acc: 0.9155 - val_loss: 9.1708 - val_acc: 0.3703\n",
      "Epoch 335/500\n",
      "6510/6510 [==============================] - 5s 799us/step - loss: 0.2902 - acc: 0.9098 - val_loss: 9.1704 - val_acc: 0.3703\n",
      "Epoch 336/500\n",
      "6510/6510 [==============================] - 5s 807us/step - loss: 0.2771 - acc: 0.9095 - val_loss: 9.1858 - val_acc: 0.3710\n",
      "Epoch 337/500\n",
      "6510/6510 [==============================] - 5s 802us/step - loss: 0.2743 - acc: 0.9123 - val_loss: 9.1958 - val_acc: 0.3713\n",
      "Epoch 338/500\n",
      "6510/6510 [==============================] - 5s 799us/step - loss: 0.2816 - acc: 0.9061 - val_loss: 9.1998 - val_acc: 0.3688\n",
      "Epoch 339/500\n",
      "6510/6510 [==============================] - 5s 795us/step - loss: 0.2757 - acc: 0.9115 - val_loss: 9.1851 - val_acc: 0.3724\n",
      "Epoch 340/500\n",
      "6510/6510 [==============================] - 5s 803us/step - loss: 0.2696 - acc: 0.9117 - val_loss: 9.2071 - val_acc: 0.3703\n",
      "Epoch 341/500\n",
      "6510/6510 [==============================] - 5s 800us/step - loss: 0.2852 - acc: 0.9092 - val_loss: 9.1966 - val_acc: 0.3692\n",
      "Epoch 342/500\n",
      "6510/6510 [==============================] - 5s 798us/step - loss: 0.2849 - acc: 0.9120 - val_loss: 9.2048 - val_acc: 0.3692\n",
      "Epoch 343/500\n",
      "6510/6510 [==============================] - 5s 805us/step - loss: 0.2891 - acc: 0.9103 - val_loss: 9.1955 - val_acc: 0.3728\n",
      "Epoch 344/500\n",
      "6510/6510 [==============================] - 5s 809us/step - loss: 0.2818 - acc: 0.9084 - val_loss: 9.1765 - val_acc: 0.3728\n",
      "Epoch 345/500\n",
      "6510/6510 [==============================] - 5s 804us/step - loss: 0.2764 - acc: 0.9114 - val_loss: 9.1873 - val_acc: 0.3738\n",
      "Epoch 346/500\n",
      "6510/6510 [==============================] - 5s 809us/step - loss: 0.2850 - acc: 0.9086 - val_loss: 9.2011 - val_acc: 0.3695\n",
      "Epoch 347/500\n",
      "6510/6510 [==============================] - 5s 823us/step - loss: 0.2890 - acc: 0.9045 - val_loss: 9.2124 - val_acc: 0.3731\n",
      "Epoch 348/500\n",
      "6510/6510 [==============================] - 5s 817us/step - loss: 0.2727 - acc: 0.9132 - val_loss: 9.2084 - val_acc: 0.3695\n",
      "Epoch 349/500\n",
      "6510/6510 [==============================] - 5s 827us/step - loss: 0.2705 - acc: 0.9134 - val_loss: 9.2376 - val_acc: 0.3695\n",
      "Epoch 350/500\n",
      "6510/6510 [==============================] - 5s 815us/step - loss: 0.2728 - acc: 0.9157 - val_loss: 9.2134 - val_acc: 0.3677\n",
      "Epoch 351/500\n",
      "6510/6510 [==============================] - 5s 797us/step - loss: 0.2725 - acc: 0.9143 - val_loss: 9.2208 - val_acc: 0.3667\n",
      "Epoch 352/500\n",
      "6510/6510 [==============================] - 5s 799us/step - loss: 0.2785 - acc: 0.9115 - val_loss: 9.2075 - val_acc: 0.3703\n",
      "Epoch 353/500\n",
      "6510/6510 [==============================] - 5s 799us/step - loss: 0.2844 - acc: 0.9118 - val_loss: 9.1941 - val_acc: 0.3706\n",
      "Epoch 354/500\n",
      "6510/6510 [==============================] - 5s 806us/step - loss: 0.2793 - acc: 0.9126 - val_loss: 9.1898 - val_acc: 0.3738\n",
      "Epoch 355/500\n",
      "6510/6510 [==============================] - 5s 804us/step - loss: 0.2742 - acc: 0.9092 - val_loss: 9.1985 - val_acc: 0.3713\n",
      "Epoch 356/500\n",
      "6510/6510 [==============================] - 5s 806us/step - loss: 0.2773 - acc: 0.9151 - val_loss: 9.1951 - val_acc: 0.3681\n",
      "Epoch 357/500\n",
      "6510/6510 [==============================] - 5s 803us/step - loss: 0.2693 - acc: 0.9123 - val_loss: 9.2014 - val_acc: 0.3731\n",
      "Epoch 358/500\n",
      "6510/6510 [==============================] - 5s 801us/step - loss: 0.2787 - acc: 0.9103 - val_loss: 9.1825 - val_acc: 0.3738\n",
      "Epoch 359/500\n",
      "6510/6510 [==============================] - 5s 797us/step - loss: 0.2845 - acc: 0.9058 - val_loss: 9.1936 - val_acc: 0.3738\n",
      "Epoch 360/500\n",
      "6510/6510 [==============================] - 5s 804us/step - loss: 0.2755 - acc: 0.9121 - val_loss: 9.1967 - val_acc: 0.3713\n",
      "Epoch 361/500\n",
      "6510/6510 [==============================] - 5s 803us/step - loss: 0.2886 - acc: 0.9075 - val_loss: 9.1931 - val_acc: 0.3724\n",
      "Epoch 362/500\n",
      "6510/6510 [==============================] - 5s 810us/step - loss: 0.2834 - acc: 0.9124 - val_loss: 9.1812 - val_acc: 0.3720\n",
      "Epoch 363/500\n",
      "6510/6510 [==============================] - 5s 804us/step - loss: 0.2598 - acc: 0.9149 - val_loss: 9.1970 - val_acc: 0.3760\n",
      "Epoch 364/500\n",
      "6510/6510 [==============================] - 5s 801us/step - loss: 0.2690 - acc: 0.9129 - val_loss: 9.2064 - val_acc: 0.3731\n",
      "Epoch 365/500\n",
      "6510/6510 [==============================] - 5s 792us/step - loss: 0.2726 - acc: 0.9100 - val_loss: 9.2186 - val_acc: 0.3713\n",
      "Epoch 366/500\n",
      "6510/6510 [==============================] - 5s 805us/step - loss: 0.2728 - acc: 0.9118 - val_loss: 9.2064 - val_acc: 0.3713\n",
      "Epoch 367/500\n",
      "6510/6510 [==============================] - 5s 807us/step - loss: 0.2595 - acc: 0.9184 - val_loss: 9.2025 - val_acc: 0.3724\n",
      "Epoch 368/500\n",
      "6510/6510 [==============================] - 5s 804us/step - loss: 0.2547 - acc: 0.9175 - val_loss: 9.2112 - val_acc: 0.3695\n",
      "Epoch 369/500\n",
      "6510/6510 [==============================] - 5s 804us/step - loss: 0.2958 - acc: 0.9095 - val_loss: 9.2316 - val_acc: 0.3695\n",
      "Epoch 370/500\n",
      "6510/6510 [==============================] - 5s 802us/step - loss: 0.2749 - acc: 0.9091 - val_loss: 9.2292 - val_acc: 0.3703\n",
      "Epoch 371/500\n",
      "6510/6510 [==============================] - 5s 801us/step - loss: 0.2581 - acc: 0.9160 - val_loss: 9.2332 - val_acc: 0.3685\n",
      "Epoch 372/500\n",
      "6510/6510 [==============================] - 5s 798us/step - loss: 0.2643 - acc: 0.9134 - val_loss: 9.2447 - val_acc: 0.3688\n",
      "Epoch 373/500\n",
      "6510/6510 [==============================] - 5s 808us/step - loss: 0.2783 - acc: 0.9123 - val_loss: 9.2198 - val_acc: 0.3681\n",
      "Epoch 374/500\n",
      "6510/6510 [==============================] - 5s 806us/step - loss: 0.2934 - acc: 0.9068 - val_loss: 9.2083 - val_acc: 0.3685\n",
      "Epoch 375/500\n",
      "6510/6510 [==============================] - 5s 802us/step - loss: 0.2693 - acc: 0.9120 - val_loss: 9.2259 - val_acc: 0.3688\n",
      "Epoch 376/500\n",
      "6510/6510 [==============================] - 5s 798us/step - loss: 0.2722 - acc: 0.9094 - val_loss: 9.2250 - val_acc: 0.3688\n",
      "Epoch 377/500\n",
      "6510/6510 [==============================] - 5s 806us/step - loss: 0.2782 - acc: 0.9086 - val_loss: 9.2157 - val_acc: 0.3699\n",
      "Epoch 378/500\n",
      "6510/6510 [==============================] - 5s 810us/step - loss: 0.2796 - acc: 0.9121 - val_loss: 9.2149 - val_acc: 0.3703\n",
      "Epoch 379/500\n",
      "6510/6510 [==============================] - 5s 806us/step - loss: 0.2850 - acc: 0.9092 - val_loss: 9.1926 - val_acc: 0.3699\n",
      "Epoch 380/500\n",
      "6510/6510 [==============================] - 5s 804us/step - loss: 0.2733 - acc: 0.9134 - val_loss: 9.2227 - val_acc: 0.3674\n",
      "Epoch 381/500\n",
      "6510/6510 [==============================] - 5s 808us/step - loss: 0.2738 - acc: 0.9114 - val_loss: 9.2239 - val_acc: 0.3717\n",
      "Epoch 382/500\n",
      "6510/6510 [==============================] - 5s 803us/step - loss: 0.2551 - acc: 0.9144 - val_loss: 9.2113 - val_acc: 0.3713\n",
      "Epoch 383/500\n",
      "6510/6510 [==============================] - 5s 809us/step - loss: 0.2735 - acc: 0.9158 - val_loss: 9.2073 - val_acc: 0.3720\n",
      "Epoch 384/500\n",
      "6510/6510 [==============================] - 5s 809us/step - loss: 0.2652 - acc: 0.9141 - val_loss: 9.2022 - val_acc: 0.3728\n",
      "Epoch 385/500\n",
      "6510/6510 [==============================] - 5s 811us/step - loss: 0.2752 - acc: 0.9118 - val_loss: 9.2095 - val_acc: 0.3685\n",
      "Epoch 386/500\n",
      "6510/6510 [==============================] - 5s 810us/step - loss: 0.2718 - acc: 0.9135 - val_loss: 9.2335 - val_acc: 0.3724\n",
      "Epoch 387/500\n",
      "6510/6510 [==============================] - 5s 810us/step - loss: 0.2716 - acc: 0.9098 - val_loss: 9.2592 - val_acc: 0.3724\n",
      "Epoch 388/500\n",
      "6510/6510 [==============================] - 5s 809us/step - loss: 0.2698 - acc: 0.9146 - val_loss: 9.2620 - val_acc: 0.3703\n",
      "Epoch 389/500\n",
      "6510/6510 [==============================] - 5s 803us/step - loss: 0.2745 - acc: 0.9115 - val_loss: 9.2374 - val_acc: 0.3720\n",
      "Epoch 390/500\n",
      "6510/6510 [==============================] - 5s 809us/step - loss: 0.2624 - acc: 0.9167 - val_loss: 9.2307 - val_acc: 0.3699\n",
      "Epoch 391/500\n",
      "6510/6510 [==============================] - 5s 810us/step - loss: 0.2738 - acc: 0.9166 - val_loss: 9.2278 - val_acc: 0.3717\n",
      "Epoch 392/500\n",
      "6510/6510 [==============================] - 5s 818us/step - loss: 0.2623 - acc: 0.9147 - val_loss: 9.2292 - val_acc: 0.3731\n",
      "Epoch 393/500\n",
      "6510/6510 [==============================] - 5s 816us/step - loss: 0.2743 - acc: 0.9121 - val_loss: 9.2335 - val_acc: 0.3713\n",
      "Epoch 394/500\n",
      "6510/6510 [==============================] - 5s 802us/step - loss: 0.2630 - acc: 0.9152 - val_loss: 9.2097 - val_acc: 0.3728\n",
      "Epoch 395/500\n",
      "6510/6510 [==============================] - 5s 801us/step - loss: 0.2828 - acc: 0.9154 - val_loss: 9.2222 - val_acc: 0.3717\n",
      "Epoch 396/500\n",
      "6510/6510 [==============================] - 5s 807us/step - loss: 0.2824 - acc: 0.9086 - val_loss: 9.2173 - val_acc: 0.3699\n",
      "Epoch 397/500\n",
      "6510/6510 [==============================] - 5s 803us/step - loss: 0.2688 - acc: 0.9149 - val_loss: 9.2368 - val_acc: 0.3713\n",
      "Epoch 398/500\n",
      "6510/6510 [==============================] - 5s 805us/step - loss: 0.2578 - acc: 0.9131 - val_loss: 9.2072 - val_acc: 0.3724\n",
      "Epoch 399/500\n",
      "6510/6510 [==============================] - 5s 804us/step - loss: 0.2599 - acc: 0.9171 - val_loss: 9.2401 - val_acc: 0.3699\n",
      "Epoch 400/500\n",
      "6510/6510 [==============================] - 5s 805us/step - loss: 0.2676 - acc: 0.9137 - val_loss: 9.2463 - val_acc: 0.3724\n",
      "Epoch 401/500\n",
      "6510/6510 [==============================] - 5s 805us/step - loss: 0.2663 - acc: 0.9132 - val_loss: 9.2590 - val_acc: 0.3724\n",
      "Epoch 402/500\n",
      "6510/6510 [==============================] - 5s 814us/step - loss: 0.2812 - acc: 0.9109 - val_loss: 9.2335 - val_acc: 0.3720\n",
      "Epoch 403/500\n",
      "6510/6510 [==============================] - 5s 810us/step - loss: 0.2700 - acc: 0.9108 - val_loss: 9.2340 - val_acc: 0.3699\n",
      "Epoch 404/500\n",
      "6510/6510 [==============================] - 5s 805us/step - loss: 0.2744 - acc: 0.9120 - val_loss: 9.2281 - val_acc: 0.3699\n",
      "Epoch 405/500\n",
      "6510/6510 [==============================] - 5s 807us/step - loss: 0.2676 - acc: 0.9135 - val_loss: 9.2616 - val_acc: 0.3717\n",
      "Epoch 406/500\n",
      "6510/6510 [==============================] - 5s 804us/step - loss: 0.2696 - acc: 0.9123 - val_loss: 9.2485 - val_acc: 0.3720\n",
      "Epoch 407/500\n",
      "6510/6510 [==============================] - 5s 813us/step - loss: 0.2762 - acc: 0.9100 - val_loss: 9.2377 - val_acc: 0.3724\n",
      "Epoch 408/500\n",
      "6510/6510 [==============================] - 5s 830us/step - loss: 0.2739 - acc: 0.9106 - val_loss: 9.2108 - val_acc: 0.3720\n",
      "Epoch 409/500\n",
      "6510/6510 [==============================] - 5s 824us/step - loss: 0.2678 - acc: 0.9141 - val_loss: 9.2165 - val_acc: 0.3735\n",
      "Epoch 410/500\n",
      "6510/6510 [==============================] - 5s 802us/step - loss: 0.2684 - acc: 0.9140 - val_loss: 9.2180 - val_acc: 0.3699\n",
      "Epoch 411/500\n",
      "6510/6510 [==============================] - 5s 805us/step - loss: 0.2819 - acc: 0.9138 - val_loss: 9.2352 - val_acc: 0.3699\n",
      "Epoch 412/500\n",
      "6510/6510 [==============================] - 5s 810us/step - loss: 0.2774 - acc: 0.9129 - val_loss: 9.2435 - val_acc: 0.3706\n",
      "Epoch 413/500\n",
      "6510/6510 [==============================] - 5s 810us/step - loss: 0.2833 - acc: 0.9103 - val_loss: 9.2435 - val_acc: 0.3710\n",
      "Epoch 414/500\n",
      "6510/6510 [==============================] - 5s 814us/step - loss: 0.2768 - acc: 0.9088 - val_loss: 9.2433 - val_acc: 0.3720\n",
      "Epoch 415/500\n",
      "6510/6510 [==============================] - 5s 808us/step - loss: 0.2635 - acc: 0.9137 - val_loss: 9.2335 - val_acc: 0.3713\n",
      "Epoch 416/500\n",
      "6510/6510 [==============================] - 5s 803us/step - loss: 0.2588 - acc: 0.9155 - val_loss: 9.2461 - val_acc: 0.3710\n",
      "Epoch 417/500\n",
      "6510/6510 [==============================] - 5s 806us/step - loss: 0.2491 - acc: 0.9154 - val_loss: 9.2637 - val_acc: 0.3699\n",
      "Epoch 418/500\n",
      "6510/6510 [==============================] - 5s 805us/step - loss: 0.2788 - acc: 0.9103 - val_loss: 9.2753 - val_acc: 0.3699\n",
      "Epoch 419/500\n",
      "6510/6510 [==============================] - 5s 807us/step - loss: 0.2684 - acc: 0.9124 - val_loss: 9.2532 - val_acc: 0.3710\n",
      "Epoch 420/500\n",
      "6510/6510 [==============================] - 5s 811us/step - loss: 0.2648 - acc: 0.9158 - val_loss: 9.2196 - val_acc: 0.3724\n",
      "Epoch 421/500\n",
      "6510/6510 [==============================] - 5s 808us/step - loss: 0.2860 - acc: 0.9138 - val_loss: 9.2046 - val_acc: 0.3713\n",
      "Epoch 422/500\n",
      "6510/6510 [==============================] - 5s 808us/step - loss: 0.2755 - acc: 0.9104 - val_loss: 9.2159 - val_acc: 0.3688\n",
      "Epoch 423/500\n",
      "6510/6510 [==============================] - 5s 816us/step - loss: 0.2792 - acc: 0.9098 - val_loss: 9.2325 - val_acc: 0.3710\n",
      "Epoch 424/500\n",
      "6510/6510 [==============================] - 5s 816us/step - loss: 0.2795 - acc: 0.9081 - val_loss: 9.2444 - val_acc: 0.3724\n",
      "Epoch 425/500\n",
      "6510/6510 [==============================] - 5s 807us/step - loss: 0.2523 - acc: 0.9197 - val_loss: 9.2666 - val_acc: 0.3713\n",
      "Epoch 426/500\n",
      "6510/6510 [==============================] - 5s 807us/step - loss: 0.2779 - acc: 0.9094 - val_loss: 9.2349 - val_acc: 0.3674\n",
      "Epoch 427/500\n",
      "6510/6510 [==============================] - 5s 811us/step - loss: 0.2837 - acc: 0.9072 - val_loss: 9.2556 - val_acc: 0.3703\n",
      "Epoch 428/500\n",
      "6510/6510 [==============================] - 5s 807us/step - loss: 0.2736 - acc: 0.9074 - val_loss: 9.2399 - val_acc: 0.3699\n",
      "Epoch 429/500\n",
      "6510/6510 [==============================] - 5s 807us/step - loss: 0.2407 - acc: 0.9181 - val_loss: 9.2437 - val_acc: 0.3724\n",
      "Epoch 430/500\n",
      "6510/6510 [==============================] - 5s 805us/step - loss: 0.2586 - acc: 0.9197 - val_loss: 9.2461 - val_acc: 0.3710\n",
      "Epoch 431/500\n",
      "6510/6510 [==============================] - 5s 815us/step - loss: 0.2736 - acc: 0.9135 - val_loss: 9.2387 - val_acc: 0.3735\n",
      "Epoch 432/500\n",
      "6510/6510 [==============================] - 5s 815us/step - loss: 0.2749 - acc: 0.9146 - val_loss: 9.2209 - val_acc: 0.3717\n",
      "Epoch 433/500\n",
      "6510/6510 [==============================] - 5s 799us/step - loss: 0.2643 - acc: 0.9177 - val_loss: 9.2340 - val_acc: 0.3731\n",
      "Epoch 434/500\n",
      "6510/6510 [==============================] - 5s 808us/step - loss: 0.2832 - acc: 0.9095 - val_loss: 9.2468 - val_acc: 0.3738\n",
      "Epoch 435/500\n",
      "6510/6510 [==============================] - 5s 807us/step - loss: 0.2768 - acc: 0.9141 - val_loss: 9.2299 - val_acc: 0.3738\n",
      "Epoch 436/500\n",
      "6510/6510 [==============================] - 5s 816us/step - loss: 0.2620 - acc: 0.9161 - val_loss: 9.2446 - val_acc: 0.3713\n",
      "Epoch 437/500\n",
      "6510/6510 [==============================] - 5s 808us/step - loss: 0.2674 - acc: 0.9129 - val_loss: 9.2590 - val_acc: 0.3713\n",
      "Epoch 438/500\n",
      "6510/6510 [==============================] - 5s 820us/step - loss: 0.2663 - acc: 0.9151 - val_loss: 9.2645 - val_acc: 0.3706\n",
      "Epoch 439/500\n",
      "6510/6510 [==============================] - 5s 821us/step - loss: 0.2691 - acc: 0.9134 - val_loss: 9.2654 - val_acc: 0.3713\n",
      "Epoch 440/500\n",
      "6510/6510 [==============================] - 5s 805us/step - loss: 0.2527 - acc: 0.9197 - val_loss: 9.2733 - val_acc: 0.3713\n",
      "Epoch 441/500\n",
      "6510/6510 [==============================] - 5s 804us/step - loss: 0.2742 - acc: 0.9075 - val_loss: 9.2683 - val_acc: 0.3720\n",
      "Epoch 442/500\n",
      "6510/6510 [==============================] - 5s 815us/step - loss: 0.2610 - acc: 0.9138 - val_loss: 9.2772 - val_acc: 0.3746\n",
      "Epoch 443/500\n",
      "6510/6510 [==============================] - 5s 810us/step - loss: 0.2618 - acc: 0.9158 - val_loss: 9.2456 - val_acc: 0.3738\n",
      "Epoch 444/500\n",
      "6510/6510 [==============================] - 5s 811us/step - loss: 0.2643 - acc: 0.9152 - val_loss: 9.2386 - val_acc: 0.3720\n",
      "Epoch 445/500\n",
      "6510/6510 [==============================] - 5s 809us/step - loss: 0.2677 - acc: 0.9140 - val_loss: 9.2763 - val_acc: 0.3699\n",
      "Epoch 446/500\n",
      "6510/6510 [==============================] - 5s 805us/step - loss: 0.2551 - acc: 0.9186 - val_loss: 9.2915 - val_acc: 0.3717\n",
      "Epoch 447/500\n",
      "6510/6510 [==============================] - 5s 809us/step - loss: 0.2618 - acc: 0.9164 - val_loss: 9.2711 - val_acc: 0.3720\n",
      "Epoch 448/500\n",
      "6510/6510 [==============================] - 5s 811us/step - loss: 0.2429 - acc: 0.9209 - val_loss: 9.2667 - val_acc: 0.3710\n",
      "Epoch 449/500\n",
      "6510/6510 [==============================] - 5s 810us/step - loss: 0.2525 - acc: 0.9183 - val_loss: 9.2788 - val_acc: 0.3706\n",
      "Epoch 450/500\n",
      "6510/6510 [==============================] - 5s 810us/step - loss: 0.2551 - acc: 0.9147 - val_loss: 9.2670 - val_acc: 0.3695\n",
      "Epoch 451/500\n",
      "6510/6510 [==============================] - 5s 809us/step - loss: 0.2677 - acc: 0.9109 - val_loss: 9.2598 - val_acc: 0.3710\n",
      "Epoch 452/500\n",
      "6510/6510 [==============================] - 5s 811us/step - loss: 0.2539 - acc: 0.9200 - val_loss: 9.2858 - val_acc: 0.3692\n",
      "Epoch 453/500\n",
      "6510/6510 [==============================] - 5s 819us/step - loss: 0.2538 - acc: 0.9171 - val_loss: 9.2422 - val_acc: 0.3735\n",
      "Epoch 454/500\n",
      "6510/6510 [==============================] - 5s 821us/step - loss: 0.2567 - acc: 0.9149 - val_loss: 9.2593 - val_acc: 0.3703\n",
      "Epoch 455/500\n",
      "6510/6510 [==============================] - 5s 815us/step - loss: 0.2711 - acc: 0.9137 - val_loss: 9.2615 - val_acc: 0.3710\n",
      "Epoch 456/500\n",
      "6510/6510 [==============================] - 5s 807us/step - loss: 0.2513 - acc: 0.9172 - val_loss: 9.2483 - val_acc: 0.3728\n",
      "Epoch 457/500\n",
      "6510/6510 [==============================] - 5s 811us/step - loss: 0.2659 - acc: 0.9131 - val_loss: 9.2697 - val_acc: 0.3703\n",
      "Epoch 458/500\n",
      "6510/6510 [==============================] - 5s 810us/step - loss: 0.2780 - acc: 0.9117 - val_loss: 9.2720 - val_acc: 0.3717\n",
      "Epoch 459/500\n",
      "6510/6510 [==============================] - 5s 814us/step - loss: 0.2699 - acc: 0.9144 - val_loss: 9.2899 - val_acc: 0.3681\n",
      "Epoch 460/500\n",
      "6510/6510 [==============================] - 5s 813us/step - loss: 0.2783 - acc: 0.9100 - val_loss: 9.2908 - val_acc: 0.3677\n",
      "Epoch 461/500\n",
      "6510/6510 [==============================] - 5s 814us/step - loss: 0.2513 - acc: 0.9167 - val_loss: 9.2570 - val_acc: 0.3692\n",
      "Epoch 462/500\n",
      "6510/6510 [==============================] - 5s 812us/step - loss: 0.2666 - acc: 0.9163 - val_loss: 9.2557 - val_acc: 0.3706\n",
      "Epoch 463/500\n",
      "6510/6510 [==============================] - 5s 808us/step - loss: 0.2683 - acc: 0.9163 - val_loss: 9.2430 - val_acc: 0.3692\n",
      "Epoch 464/500\n",
      "6510/6510 [==============================] - 5s 806us/step - loss: 0.2610 - acc: 0.9149 - val_loss: 9.2624 - val_acc: 0.3703\n",
      "Epoch 465/500\n",
      "6510/6510 [==============================] - 5s 802us/step - loss: 0.2675 - acc: 0.9151 - val_loss: 9.2544 - val_acc: 0.3710\n",
      "Epoch 466/500\n",
      "6510/6510 [==============================] - 5s 819us/step - loss: 0.2678 - acc: 0.9134 - val_loss: 9.2578 - val_acc: 0.3731\n",
      "Epoch 467/500\n",
      "6510/6510 [==============================] - 5s 828us/step - loss: 0.2620 - acc: 0.9140 - val_loss: 9.2603 - val_acc: 0.3720\n",
      "Epoch 468/500\n",
      "6510/6510 [==============================] - 5s 822us/step - loss: 0.2475 - acc: 0.9229 - val_loss: 9.2497 - val_acc: 0.3724\n",
      "Epoch 469/500\n",
      "6510/6510 [==============================] - 5s 814us/step - loss: 0.2511 - acc: 0.9206 - val_loss: 9.2701 - val_acc: 0.3735\n",
      "Epoch 470/500\n",
      "6510/6510 [==============================] - 5s 812us/step - loss: 0.2515 - acc: 0.9187 - val_loss: 9.2415 - val_acc: 0.3695\n",
      "Epoch 471/500\n",
      "6510/6510 [==============================] - 5s 808us/step - loss: 0.2639 - acc: 0.9103 - val_loss: 9.2456 - val_acc: 0.3720\n",
      "Epoch 472/500\n",
      "6510/6510 [==============================] - 5s 808us/step - loss: 0.2568 - acc: 0.9177 - val_loss: 9.2529 - val_acc: 0.3724\n",
      "Epoch 473/500\n",
      "6510/6510 [==============================] - 5s 805us/step - loss: 0.2594 - acc: 0.9144 - val_loss: 9.2301 - val_acc: 0.3753\n",
      "Epoch 474/500\n",
      "6510/6510 [==============================] - 5s 808us/step - loss: 0.2647 - acc: 0.9174 - val_loss: 9.2487 - val_acc: 0.3710\n",
      "Epoch 475/500\n",
      "6510/6510 [==============================] - 5s 806us/step - loss: 0.2630 - acc: 0.9160 - val_loss: 9.2662 - val_acc: 0.3717\n",
      "Epoch 476/500\n",
      "6510/6510 [==============================] - 5s 810us/step - loss: 0.2475 - acc: 0.9174 - val_loss: 9.2825 - val_acc: 0.3720\n",
      "Epoch 477/500\n",
      "6510/6510 [==============================] - 5s 806us/step - loss: 0.2618 - acc: 0.9184 - val_loss: 9.2829 - val_acc: 0.3695\n",
      "Epoch 478/500\n",
      "6510/6510 [==============================] - 5s 810us/step - loss: 0.2689 - acc: 0.9158 - val_loss: 9.2792 - val_acc: 0.3706\n",
      "Epoch 479/500\n",
      "6510/6510 [==============================] - 5s 807us/step - loss: 0.2606 - acc: 0.9160 - val_loss: 9.2913 - val_acc: 0.3717\n",
      "Epoch 480/500\n",
      "6510/6510 [==============================] - 5s 809us/step - loss: 0.2585 - acc: 0.9181 - val_loss: 9.2779 - val_acc: 0.3724\n",
      "Epoch 481/500\n",
      "6510/6510 [==============================] - 5s 813us/step - loss: 0.2740 - acc: 0.9141 - val_loss: 9.2783 - val_acc: 0.3728\n",
      "Epoch 482/500\n",
      "6510/6510 [==============================] - 5s 810us/step - loss: 0.2459 - acc: 0.9187 - val_loss: 9.2691 - val_acc: 0.3713\n",
      "Epoch 483/500\n",
      "6510/6510 [==============================] - 5s 813us/step - loss: 0.2392 - acc: 0.9192 - val_loss: 9.2783 - val_acc: 0.3692\n",
      "Epoch 484/500\n",
      "6510/6510 [==============================] - 5s 821us/step - loss: 0.2574 - acc: 0.9141 - val_loss: 9.2647 - val_acc: 0.3706\n",
      "Epoch 485/500\n",
      "6510/6510 [==============================] - 5s 811us/step - loss: 0.2632 - acc: 0.9171 - val_loss: 9.2542 - val_acc: 0.3720\n",
      "Epoch 486/500\n",
      "6510/6510 [==============================] - 5s 808us/step - loss: 0.2643 - acc: 0.9157 - val_loss: 9.2625 - val_acc: 0.3713\n",
      "Epoch 487/500\n",
      "6510/6510 [==============================] - 5s 815us/step - loss: 0.2556 - acc: 0.9172 - val_loss: 9.2597 - val_acc: 0.3717\n",
      "Epoch 488/500\n",
      "6510/6510 [==============================] - 5s 807us/step - loss: 0.2778 - acc: 0.9134 - val_loss: 9.2591 - val_acc: 0.3713\n",
      "Epoch 489/500\n",
      "6510/6510 [==============================] - 5s 821us/step - loss: 0.2560 - acc: 0.9189 - val_loss: 9.2641 - val_acc: 0.3713\n",
      "Epoch 490/500\n",
      "6510/6510 [==============================] - 5s 809us/step - loss: 0.2623 - acc: 0.9155 - val_loss: 9.2653 - val_acc: 0.3710\n",
      "Epoch 491/500\n",
      "6510/6510 [==============================] - 5s 807us/step - loss: 0.2518 - acc: 0.9164 - val_loss: 9.2656 - val_acc: 0.3713\n",
      "Epoch 492/500\n",
      "6510/6510 [==============================] - 5s 810us/step - loss: 0.2589 - acc: 0.9161 - val_loss: 9.2727 - val_acc: 0.3728\n",
      "Epoch 493/500\n",
      "6510/6510 [==============================] - 5s 816us/step - loss: 0.2520 - acc: 0.9206 - val_loss: 9.2712 - val_acc: 0.3699\n",
      "Epoch 494/500\n",
      "6510/6510 [==============================] - 5s 811us/step - loss: 0.2581 - acc: 0.9169 - val_loss: 9.2806 - val_acc: 0.3685\n",
      "Epoch 495/500\n",
      "6510/6510 [==============================] - 5s 809us/step - loss: 0.2641 - acc: 0.9180 - val_loss: 9.2887 - val_acc: 0.3703\n",
      "Epoch 496/500\n",
      "6510/6510 [==============================] - 5s 807us/step - loss: 0.2351 - acc: 0.9241 - val_loss: 9.2864 - val_acc: 0.3692\n",
      "Epoch 497/500\n",
      "6510/6510 [==============================] - 5s 804us/step - loss: 0.2489 - acc: 0.9183 - val_loss: 9.2779 - val_acc: 0.3713\n",
      "Epoch 498/500\n",
      "6510/6510 [==============================] - 5s 806us/step - loss: 0.2465 - acc: 0.9180 - val_loss: 9.2668 - val_acc: 0.3710\n",
      "Epoch 499/500\n",
      "6510/6510 [==============================] - 5s 810us/step - loss: 0.2456 - acc: 0.9198 - val_loss: 9.2754 - val_acc: 0.3692\n",
      "Epoch 500/500\n",
      "6510/6510 [==============================] - 5s 811us/step - loss: 0.2536 - acc: 0.9174 - val_loss: 9.2788 - val_acc: 0.3728\n"
     ]
    },
    {
     "data": {
      "text/plain": [
       "<keras.callbacks.History at 0x7f49c209b6d8>"
      ]
     },
     "execution_count": 70,
     "metadata": {
      "tags": []
     },
     "output_type": "execute_result"
    }
   ],
   "source": [
    "rnn_save_model.fit(X_train, y_train, batch_size=50, epochs=500, validation_data=(X_valid,y_valid))"
   ]
  },
  {
   "cell_type": "markdown",
   "metadata": {
    "colab_type": "text",
    "id": "EmkaxXdjHdyd"
   },
   "source": [
    "## Evaluation"
   ]
  },
  {
   "cell_type": "code",
   "execution_count": 0,
   "metadata": {
    "colab": {
     "base_uri": "https://localhost:8080/",
     "height": 119
    },
    "colab_type": "code",
    "id": "7RraFX9YHdye",
    "outputId": "474d5b7b-ffe3-4abf-f91a-af5e9e71de90"
   },
   "outputs": [
    {
     "name": "stdout",
     "output_type": "stream",
     "text": [
      "6510/6510 [==============================] - 3s 531us/step\n",
      "[0.0184611381701408, 0.9930875559556319]\n",
      "\n",
      "Model Performance: Log Loss and Accuracy on validation data\n",
      "2790/2790 [==============================] - 1s 534us/step\n",
      "[9.278793536634002, 0.3727598584467365]\n"
     ]
    }
   ],
   "source": [
    "print(rnn_save_model.evaluate(X_train, y_train, batch_size = 20))\n",
    "print('\\nModel Performance: Log Loss and Accuracy on validation data')\n",
    "print(rnn_save_model.evaluate(X_valid, y_valid, batch_size = 20))"
   ]
  },
  {
   "cell_type": "markdown",
   "metadata": {
    "colab_type": "text",
    "id": "u5CKxykLHdyj"
   },
   "source": [
    "## Generate text"
   ]
  },
  {
   "cell_type": "code",
   "execution_count": 0,
   "metadata": {
    "colab": {
     "base_uri": "https://localhost:8080/",
     "height": 156
    },
    "colab_type": "code",
    "id": "4JSW5EwKHdyk",
    "outputId": "ab4fd639-6c6c-4a81-9672-adb919015a25"
   },
   "outputs": [
    {
     "name": "stderr",
     "output_type": "stream",
     "text": [
      "/usr/local/lib/python3.6/dist-packages/ipykernel_launcher.py:36: RuntimeWarning: divide by zero encountered in log\n"
     ]
    },
    {
     "name": "stdout",
     "output_type": "stream",
     "text": [
      "Original Sequence: \n",
      "to tokio on the contrary you will stay at home and steep yourself in the work of certain japanese artists and then when you have absorbed the spirit of their style and caught their imaginative manner of vision you will go some afternoon and sit in the park or stroll\n",
      "\n",
      "\n",
      "Generated Sequence: \n",
      "for as i believed to the scenes of the play act i algernon moncrieff's flat in waste paper and conceal the artist is art's aim the critic is seventh editions of shoppe 11 to de châteaudun registered at stationers' hall and protected country the blackmailing of the emperor had garden\n"
     ]
    }
   ],
   "source": [
    "seed_length=50\n",
    "new_words=50\n",
    "diversity=1\n",
    "n_gen=1\n",
    "\n",
    "import random\n",
    "\n",
    "# Choose a random sequence\n",
    "seq = random.choice(sequences)\n",
    "\n",
    "# print seq\n",
    "\n",
    "# Choose a random starting point\n",
    "seed_idx = random.randint(0, len(seq) - seed_length - 10)\n",
    "# Ending index for seed\n",
    "end_idx = seed_idx + seed_length\n",
    "\n",
    "gen_list = []\n",
    "\n",
    "for n in range(n_gen):\n",
    "    # Extract the seed sequence\n",
    "    seed = seq[seed_idx:end_idx]\n",
    "    original_sequence = [idx_word[i] for i in seed]\n",
    "    generated = seed[:] + ['#']\n",
    "\n",
    "    # Find the actual entire sequence\n",
    "    actual = generated[:] + seq[end_idx:end_idx + new_words]\n",
    "        \n",
    "    # Keep adding new words\n",
    "    for i in range(new_words):\n",
    "\n",
    "        # Make a prediction from the seed\n",
    "        preds = rnn_save_model.predict(np.array(seed).reshape(1, -1))[0].astype(np.float64)\n",
    "\n",
    "        # Diversify\n",
    "        preds = np.log(preds) / diversity\n",
    "        exp_preds = np.exp(preds)\n",
    "\n",
    "        # Softmax\n",
    "        preds = exp_preds / sum(exp_preds)\n",
    "\n",
    "        # Choose the next word\n",
    "        probas = np.random.multinomial(1, preds, 1)[0]\n",
    "\n",
    "        next_idx = np.argmax(probas)\n",
    "\n",
    "        # New seed adds on old word\n",
    "        #             seed = seed[1:] + [next_idx]\n",
    "        seed += [next_idx]\n",
    "        generated.append(next_idx)\n",
    "    # Showing generated and actual abstract\n",
    "    n = []\n",
    "\n",
    "    for i in generated:\n",
    "        n.append(idx_word.get(i, '< --- >'))\n",
    "\n",
    "    gen_list.append(n)\n",
    "\n",
    "a = []\n",
    "\n",
    "for i in actual:\n",
    "    a.append(idx_word.get(i, '< --- >'))\n",
    "\n",
    "a = a[seed_length:]\n",
    "\n",
    "gen_list = [gen[seed_length:seed_length + len(a)] for gen in gen_list]\n",
    "\n",
    "print('Original Sequence: \\n'+' '.join(original_sequence))\n",
    "print(\"\\n\")\n",
    "# print(gen_list)\n",
    "print('Generated Sequence: \\n'+' '.join(gen_list[0][1:]))\n",
    "# print(a)"
   ]
  }
 ],
 "metadata": {
  "accelerator": "GPU",
  "colab": {
   "collapsed_sections": [],
   "name": "R9_External_Lab_Questions-1.ipynb",
   "provenance": []
  },
  "kernelspec": {
   "display_name": "Python 3",
   "language": "python",
   "name": "python3"
  },
  "language_info": {
   "codemirror_mode": {
    "name": "ipython",
    "version": 3
   },
   "file_extension": ".py",
   "mimetype": "text/x-python",
   "name": "python",
   "nbconvert_exporter": "python",
   "pygments_lexer": "ipython3",
   "version": "3.7.3"
  }
 },
 "nbformat": 4,
 "nbformat_minor": 1
}
