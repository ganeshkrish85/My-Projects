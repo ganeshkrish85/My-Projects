{
 "cells": [
  {
   "cell_type": "code",
   "execution_count": null,
   "metadata": {},
   "outputs": [],
   "source": [
    "import pandas as pd\n",
    "\n",
    "#Reading the data set\n",
    "\n",
    "sur=pd.read_csv('responses.csv')\n",
    "\n",
    "#Extracting only the relevant columns\n",
    "\n",
    "sur= sur[['Finances','Gender','Village - town','Healthy eating']]\n",
    "print(sur)"
   ]
  },
  {
   "cell_type": "code",
   "execution_count": null,
   "metadata": {},
   "outputs": [],
   "source": [
    "print(sur.info())\n",
    "\n",
    "#Finances column contains 3 missing values\n",
    "#Gender column contains 6 missing values\n",
    "#Village - town column contains 4 missing values\n",
    "#Healthy eating column contains 3 missing values"
   ]
  },
  {
   "cell_type": "code",
   "execution_count": null,
   "metadata": {},
   "outputs": [],
   "source": [
    "# Dropping rows with one missing value\n",
    "\n",
    "sur.dropna(inplace=True)\n",
    "sur.shape"
   ]
  },
  {
   "cell_type": "code",
   "execution_count": null,
   "metadata": {},
   "outputs": [],
   "source": [
    "# Outliers to the left of the dsitribution:\n",
    "out1=(sur < (q1 - 1.5 * IQR))\n",
    "print(out1)\n",
    "# We see a few outliers in Healthy eating column in the left of the distribution\n",
    "\n",
    "\n",
    "# Outliers to the right of the dsitribution:\n",
    "out2=(sur > (q3 + 1.5 * IQR))\n",
    "print(out2)\n",
    "# We don't see any outliers in the right side of the distirbution\n",
    "\n",
    "# Since these outliers are present in a categorical ordinal data, we are not removing it."
   ]
  },
  {
   "cell_type": "markdown",
   "metadata": {},
   "source": [
    "# Assesing the hypotheses using Chi Square test for the given problems"
   ]
  },
  {
   "cell_type": "code",
   "execution_count": null,
   "metadata": {},
   "outputs": [],
   "source": [
    "# The H0 (Null Hypothesis): Saving money is not gender dependent\n",
    "# The H1 (Alternative Hypothesis): Saving money is gender dependent\n",
    "\n",
    "# Creating crosstab table\n",
    "ct = pd.crosstab(sur.Gender, sur.Finances)\n",
    "\n",
    "print('Observed set of values:\\n\\n ',ct)\n",
    "\n",
    "\n",
    "#Preparing contingency table and calculating Chi square statistic\n",
    "\n",
    "from scipy.stats import chi2_contingency\n",
    "from scipy.stats import chi2\n",
    "chi2, p, dof, expected = chi2_contingency(ct)\n",
    "print('\\nExpected set of values:\\n\\n ',expected)\n",
    "print ('\\nChi- square statistic:   ',chi2)\n",
    "print ('P Value:\\t\\t ',p)\n",
    "print('\\nCritical Value is : ',9.488)\n",
    "\n",
    "if p > 0.05:\n",
    "    print('\\nFailing to Reject Null Hypothesis: Saving money is not gender dependent')\n",
    "else:\n",
    "    print('\\nRejecting Null Hypothesis: Saving money is gender dependent')"
   ]
  },
  {
   "cell_type": "code",
   "execution_count": null,
   "metadata": {},
   "outputs": [],
   "source": [
    "# The H0 (Null Hypothesis): No difference in saving money betweeen city and village\n",
    "# The H1 (Alternative Hypothesis): There is a difference in saving money betweeen city and village\n",
    "\n",
    "# Creating crosstab table\n",
    "ct1 = pd.crosstab (sur['Village - town'],sur['Finances'])\n",
    "print('Observed set of values:\\n\\n ',ct1)\n",
    "\n",
    "\n",
    "#Preparing contingency table and calculating Chi square statistic\n",
    "\n",
    "from scipy.stats import chi2_contingency\n",
    "from scipy.stats import chi2\n",
    "chi2, p, dof, expected = chi2_contingency(ct1)\n",
    "print('\\nExpected set of values:\\n\\n ',expected)\n",
    "print ('\\nChi- square statistic:   ',chi2)\n",
    "print ('P Value:\\t\\t ',p)\n",
    "print('\\nCritical Value is : ',9.488)\n",
    "\n",
    "if p > 0.05:\n",
    "    print('\\nFailing to Reject Null Hypothesis: No difference in saving money betweeen city and village')\n",
    "else:\n",
    "    print('\\nRejecting Null Hypothesis: There is a difference in saving money betweeen city and village')"
   ]
  },
  {
   "cell_type": "code",
   "execution_count": null,
   "metadata": {
    "scrolled": true
   },
   "outputs": [],
   "source": [
    "# The H0 (Null Hypothesis): Women and men have the same lifestyle\n",
    "# The H1 (Alternative Hypothesis): Women have a healthier lfiestyle than men\n",
    "\n",
    "# Creating crosstab table\n",
    "ct2 = pd.crosstab (sur.Gender,sur['Healthy eating'])\n",
    "print('Observed set of values:\\n\\n ',ct2)\n",
    "\n",
    "\n",
    "#Preparing contingency table and calculating Chi square statistic\n",
    "\n",
    "from scipy.stats import chi2_contingency\n",
    "from scipy.stats import chi2\n",
    "chi2, p, dof, expected = chi2_contingency(ct2)\n",
    "print('\\nExpected set of values:\\n\\n ',expected)\n",
    "print ('\\nChi- square statistic:   ',chi2)\n",
    "print ('P Value:\\t\\t ',p)\n",
    "print('\\nCritical Value is : ',9.488)\n",
    "\n",
    "if p > 0.05:\n",
    "    print('\\nFailing to Reject Null Hypothesis: Women and men have the same lifestyle')\n",
    "else:\n",
    "    print('\\nRejecting Null Hypothesis: Women have a healthier lfiestyle than men')"
   ]
  },
  {
   "cell_type": "code",
   "execution_count": null,
   "metadata": {},
   "outputs": [],
   "source": [
    "# The H0 (Null Hypothesis): Village people are not healthier than city people\n",
    "# The H1 (Alternative Hypothesis): Village people are healthier than city people\n",
    "\n",
    "# Creating crosstab table\n",
    "ct3 = pd.crosstab (sur['Village - town'],sur['Healthy eating'])\n",
    "print('Observed set of values:\\n\\n ',ct3)\n",
    "\n",
    "\n",
    "#Preparing contingency table and calculating Chi square statistic\n",
    "\n",
    "from scipy.stats import chi2_contingency\n",
    "from scipy.stats import chi2\n",
    "chi2, p, dof, expected = chi2_contingency(ct3)\n",
    "print('\\nExpected set of values:\\n\\n ',expected)\n",
    "print ('\\nChi- square statistic:   ',chi2)\n",
    "print ('P Value:\\t\\t ',p)\n",
    "print('\\nCritical Value is : ',9.488)\n",
    "\n",
    "if p > 0.05:\n",
    "    print('\\nFailing to Reject Null Hypothesis: Village people are not healthier than city people')\n",
    "else:\n",
    "    print('\\nRejecting Null Hypothesis: Village people are healthier than city people')"
   ]
  },
  {
   "cell_type": "markdown",
   "metadata": {},
   "source": [
    "# Assesing the hypotheses using Mann-Whitney test for the above problems"
   ]
  },
  {
   "cell_type": "code",
   "execution_count": null,
   "metadata": {},
   "outputs": [],
   "source": [
    "# The H0 (Null Hypothesis): Saving money is not gender dependent\n",
    "# The H1 (Alternative Hypothesis): Saving money is gender dependent\n",
    "\n",
    "import numpy as np\n",
    "import scipy.stats as stats\n",
    "\n",
    "# Create two groups of data\n",
    "\n",
    "male_fin=sur.loc[sur['Gender'] == 'male', 'Finances']\n",
    "female_fin=sur.loc[sur['Gender'] == 'female', 'Finances']\n",
    "\n",
    "# Calculate u and probability of a difference\n",
    "\n",
    "u_statistic, p = stats.mannwhitneyu(male_fin,female_fin)\n",
    "\n",
    "# Print results\n",
    "print ('P value:\\n',p)\n",
    "\n",
    "if p > 0.05:\n",
    "    print('\\nFailing to Reject Null Hypothesis: Saving money is not gender dependent')\n",
    "else:\n",
    "    print('\\nRejecting Null Hypothesis: Saving money is gender dependent')"
   ]
  },
  {
   "cell_type": "code",
   "execution_count": null,
   "metadata": {},
   "outputs": [],
   "source": [
    "# The H0 (Null Hypothesis): No difference in saving money betweeen city and village\n",
    "# The H1 (Alternative Hypothesis): There is a difference in saving money betweeen city and village\n",
    "\n",
    "import numpy as np\n",
    "import scipy.stats as stats\n",
    "\n",
    "# Create two groups of data\n",
    "\n",
    "city_fin=sur.loc[sur['Village - town'] == 'city', 'Finances']\n",
    "village_fin=sur.loc[sur['Village - town'] == 'village', 'Finances']\n",
    "\n",
    "# Calculate u and probability of a difference\n",
    "\n",
    "u_statistic, p = stats.mannwhitneyu(city_fin,village_fin)\n",
    "\n",
    "# Print results\n",
    "print ('P value:\\n',p)\n",
    "\n",
    "if p > 0.05:\n",
    "    print('\\nFailing to Reject Null Hypothesis: No difference in saving money betweeen city and village')\n",
    "else:\n",
    "    print('\\nRejecting Null Hypothesis: There is a difference in saving money betweeen city and village')"
   ]
  },
  {
   "cell_type": "code",
   "execution_count": null,
   "metadata": {},
   "outputs": [],
   "source": [
    "# The H0 (Null Hypothesis): Women and men have the same lifestyle\n",
    "# The H1 (Alternative Hypothesis): Women have a healthier lfiestyle than men\n",
    "\n",
    "import numpy as np\n",
    "import scipy.stats as stats\n",
    "\n",
    "# Create two groups of data\n",
    "\n",
    "male_life=sur.loc[sur['Gender'] == 'male', 'Healthy eating']\n",
    "female_life=sur.loc[sur['Gender'] == 'female', 'Healthy eating']\n",
    "\n",
    "# Calculate u and probability of a difference\n",
    "\n",
    "u_statistic, p = stats.mannwhitneyu(male_life,female_life)\n",
    "\n",
    "# Print results\n",
    "print ('P value:\\n',p)\n",
    "\n",
    "if p > 0.05:\n",
    "    print('\\nFailing to Reject Null Hypothesis: Women and men have the same lifestyle')\n",
    "else:\n",
    "    print('\\nRejecting Null Hypothesis: Women have a healthier lfiestyle than men')"
   ]
  },
  {
   "cell_type": "code",
   "execution_count": null,
   "metadata": {},
   "outputs": [],
   "source": [
    "# The H0 (Null Hypothesis): Village people are not healthier than city people\n",
    "# The H1 (Alternative Hypothesis): Village people are healthier than city people\n",
    "\n",
    "import numpy as np\n",
    "import scipy.stats as stats\n",
    "\n",
    "# Create two groups of data\n",
    "\n",
    "city_life=sur.loc[sur['Village - town'] == 'city', 'Healthy eating']\n",
    "village_life=sur.loc[sur['Village - town'] == 'village', 'Healthy eating']\n",
    "\n",
    "# Calculate u and probability of a difference\n",
    "\n",
    "u_statistic, p = stats.mannwhitneyu(city_life,village_life)\n",
    "\n",
    "# Print results\n",
    "print ('P value:\\n',p)\n",
    "\n",
    "if p > 0.05:\n",
    "    print('\\nFailing to Reject Null Hypothesis: Village people are not healthier than city people')\n",
    "else:\n",
    "    print('\\nRejecting Null Hypothesis: Village people are healthier than city people')"
   ]
  }
 ],
 "metadata": {
  "kernelspec": {
   "display_name": "Python 3",
   "language": "python",
   "name": "python3"
  },
  "language_info": {
   "codemirror_mode": {
    "name": "ipython",
    "version": 3
   },
   "file_extension": ".py",
   "mimetype": "text/x-python",
   "name": "python",
   "nbconvert_exporter": "python",
   "pygments_lexer": "ipython3",
   "version": "3.7.3"
  }
 },
 "nbformat": 4,
 "nbformat_minor": 2
}
