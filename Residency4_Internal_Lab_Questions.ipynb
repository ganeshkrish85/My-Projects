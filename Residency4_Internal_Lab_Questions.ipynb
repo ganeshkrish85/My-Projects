{
 "cells": [
  {
   "cell_type": "markdown",
   "metadata": {},
   "source": [
    "# Problem Statement"
   ]
  },
  {
   "cell_type": "markdown",
   "metadata": {},
   "source": [
    "## Feature Engineering:"
   ]
  },
  {
   "cell_type": "markdown",
   "metadata": {},
   "source": [
    "This section deals about feature importances for a given dataset. The given data set is german-credit data which helps classify whether a given person qualifies as a good credit or a bad credit. This helps the bank minimize and realize the risks involved in credit processing"
   ]
  },
  {
   "cell_type": "markdown",
   "metadata": {},
   "source": [
    "### Import the dataset and describe it"
   ]
  },
  {
   "cell_type": "code",
   "execution_count": 44,
   "metadata": {},
   "outputs": [],
   "source": [
    "#import german_credit dataset and the necessary libraries\n",
    "\n",
    "import pandas as pd\n",
    "import numpy as np\n",
    "gc=pd.read_csv('german_credit.csv')\n"
   ]
  },
  {
   "cell_type": "code",
   "execution_count": 45,
   "metadata": {},
   "outputs": [
    {
     "data": {
      "text/html": [
       "<div>\n",
       "<style scoped>\n",
       "    .dataframe tbody tr th:only-of-type {\n",
       "        vertical-align: middle;\n",
       "    }\n",
       "\n",
       "    .dataframe tbody tr th {\n",
       "        vertical-align: top;\n",
       "    }\n",
       "\n",
       "    .dataframe thead th {\n",
       "        text-align: right;\n",
       "    }\n",
       "</style>\n",
       "<table border=\"1\" class=\"dataframe\">\n",
       "  <thead>\n",
       "    <tr style=\"text-align: right;\">\n",
       "      <th></th>\n",
       "      <th>count</th>\n",
       "      <th>mean</th>\n",
       "      <th>std</th>\n",
       "      <th>min</th>\n",
       "      <th>25%</th>\n",
       "      <th>50%</th>\n",
       "      <th>75%</th>\n",
       "      <th>max</th>\n",
       "    </tr>\n",
       "  </thead>\n",
       "  <tbody>\n",
       "    <tr>\n",
       "      <th>default</th>\n",
       "      <td>1000.0</td>\n",
       "      <td>0.300</td>\n",
       "      <td>0.458487</td>\n",
       "      <td>0.0</td>\n",
       "      <td>0.0</td>\n",
       "      <td>0.0</td>\n",
       "      <td>1.00</td>\n",
       "      <td>1.0</td>\n",
       "    </tr>\n",
       "    <tr>\n",
       "      <th>duration_in_month</th>\n",
       "      <td>1000.0</td>\n",
       "      <td>20.903</td>\n",
       "      <td>12.058814</td>\n",
       "      <td>4.0</td>\n",
       "      <td>12.0</td>\n",
       "      <td>18.0</td>\n",
       "      <td>24.00</td>\n",
       "      <td>72.0</td>\n",
       "    </tr>\n",
       "    <tr>\n",
       "      <th>credit_amount</th>\n",
       "      <td>1000.0</td>\n",
       "      <td>3271.258</td>\n",
       "      <td>2822.736876</td>\n",
       "      <td>250.0</td>\n",
       "      <td>1365.5</td>\n",
       "      <td>2319.5</td>\n",
       "      <td>3972.25</td>\n",
       "      <td>18424.0</td>\n",
       "    </tr>\n",
       "    <tr>\n",
       "      <th>installment_as_income_perc</th>\n",
       "      <td>1000.0</td>\n",
       "      <td>2.973</td>\n",
       "      <td>1.118715</td>\n",
       "      <td>1.0</td>\n",
       "      <td>2.0</td>\n",
       "      <td>3.0</td>\n",
       "      <td>4.00</td>\n",
       "      <td>4.0</td>\n",
       "    </tr>\n",
       "    <tr>\n",
       "      <th>present_res_since</th>\n",
       "      <td>1000.0</td>\n",
       "      <td>2.845</td>\n",
       "      <td>1.103718</td>\n",
       "      <td>1.0</td>\n",
       "      <td>2.0</td>\n",
       "      <td>3.0</td>\n",
       "      <td>4.00</td>\n",
       "      <td>4.0</td>\n",
       "    </tr>\n",
       "    <tr>\n",
       "      <th>age</th>\n",
       "      <td>1000.0</td>\n",
       "      <td>35.546</td>\n",
       "      <td>11.375469</td>\n",
       "      <td>19.0</td>\n",
       "      <td>27.0</td>\n",
       "      <td>33.0</td>\n",
       "      <td>42.00</td>\n",
       "      <td>75.0</td>\n",
       "    </tr>\n",
       "    <tr>\n",
       "      <th>credits_this_bank</th>\n",
       "      <td>1000.0</td>\n",
       "      <td>1.407</td>\n",
       "      <td>0.577654</td>\n",
       "      <td>1.0</td>\n",
       "      <td>1.0</td>\n",
       "      <td>1.0</td>\n",
       "      <td>2.00</td>\n",
       "      <td>4.0</td>\n",
       "    </tr>\n",
       "    <tr>\n",
       "      <th>people_under_maintenance</th>\n",
       "      <td>1000.0</td>\n",
       "      <td>1.155</td>\n",
       "      <td>0.362086</td>\n",
       "      <td>1.0</td>\n",
       "      <td>1.0</td>\n",
       "      <td>1.0</td>\n",
       "      <td>1.00</td>\n",
       "      <td>2.0</td>\n",
       "    </tr>\n",
       "  </tbody>\n",
       "</table>\n",
       "</div>"
      ],
      "text/plain": [
       "                             count      mean          std    min     25%  \\\n",
       "default                     1000.0     0.300     0.458487    0.0     0.0   \n",
       "duration_in_month           1000.0    20.903    12.058814    4.0    12.0   \n",
       "credit_amount               1000.0  3271.258  2822.736876  250.0  1365.5   \n",
       "installment_as_income_perc  1000.0     2.973     1.118715    1.0     2.0   \n",
       "present_res_since           1000.0     2.845     1.103718    1.0     2.0   \n",
       "age                         1000.0    35.546    11.375469   19.0    27.0   \n",
       "credits_this_bank           1000.0     1.407     0.577654    1.0     1.0   \n",
       "people_under_maintenance    1000.0     1.155     0.362086    1.0     1.0   \n",
       "\n",
       "                               50%      75%      max  \n",
       "default                        0.0     1.00      1.0  \n",
       "duration_in_month             18.0    24.00     72.0  \n",
       "credit_amount               2319.5  3972.25  18424.0  \n",
       "installment_as_income_perc     3.0     4.00      4.0  \n",
       "present_res_since              3.0     4.00      4.0  \n",
       "age                           33.0    42.00     75.0  \n",
       "credits_this_bank              1.0     2.00      4.0  \n",
       "people_under_maintenance       1.0     1.00      2.0  "
      ]
     },
     "execution_count": 45,
     "metadata": {},
     "output_type": "execute_result"
    }
   ],
   "source": [
    "#Do a describe of the data and understand the description\n",
    "\n",
    "gc.describe().T"
   ]
  },
  {
   "cell_type": "markdown",
   "metadata": {},
   "source": [
    "Check for the correlation of the columns.\n",
    "Hint: Use corr()"
   ]
  },
  {
   "cell_type": "code",
   "execution_count": 46,
   "metadata": {},
   "outputs": [
    {
     "data": {
      "text/html": [
       "<div>\n",
       "<style scoped>\n",
       "    .dataframe tbody tr th:only-of-type {\n",
       "        vertical-align: middle;\n",
       "    }\n",
       "\n",
       "    .dataframe tbody tr th {\n",
       "        vertical-align: top;\n",
       "    }\n",
       "\n",
       "    .dataframe thead th {\n",
       "        text-align: right;\n",
       "    }\n",
       "</style>\n",
       "<table border=\"1\" class=\"dataframe\">\n",
       "  <thead>\n",
       "    <tr style=\"text-align: right;\">\n",
       "      <th></th>\n",
       "      <th>default</th>\n",
       "      <th>duration_in_month</th>\n",
       "      <th>credit_amount</th>\n",
       "      <th>installment_as_income_perc</th>\n",
       "      <th>present_res_since</th>\n",
       "      <th>age</th>\n",
       "      <th>credits_this_bank</th>\n",
       "      <th>people_under_maintenance</th>\n",
       "    </tr>\n",
       "  </thead>\n",
       "  <tbody>\n",
       "    <tr>\n",
       "      <th>default</th>\n",
       "      <td>1.000000</td>\n",
       "      <td>0.214927</td>\n",
       "      <td>0.154739</td>\n",
       "      <td>0.072404</td>\n",
       "      <td>0.002967</td>\n",
       "      <td>-0.091127</td>\n",
       "      <td>-0.045732</td>\n",
       "      <td>-0.003015</td>\n",
       "    </tr>\n",
       "    <tr>\n",
       "      <th>duration_in_month</th>\n",
       "      <td>0.214927</td>\n",
       "      <td>1.000000</td>\n",
       "      <td>0.624984</td>\n",
       "      <td>0.074749</td>\n",
       "      <td>0.034067</td>\n",
       "      <td>-0.036136</td>\n",
       "      <td>-0.011284</td>\n",
       "      <td>-0.023834</td>\n",
       "    </tr>\n",
       "    <tr>\n",
       "      <th>credit_amount</th>\n",
       "      <td>0.154739</td>\n",
       "      <td>0.624984</td>\n",
       "      <td>1.000000</td>\n",
       "      <td>-0.271316</td>\n",
       "      <td>0.028926</td>\n",
       "      <td>0.032716</td>\n",
       "      <td>0.020795</td>\n",
       "      <td>0.017142</td>\n",
       "    </tr>\n",
       "    <tr>\n",
       "      <th>installment_as_income_perc</th>\n",
       "      <td>0.072404</td>\n",
       "      <td>0.074749</td>\n",
       "      <td>-0.271316</td>\n",
       "      <td>1.000000</td>\n",
       "      <td>0.049302</td>\n",
       "      <td>0.058266</td>\n",
       "      <td>0.021669</td>\n",
       "      <td>-0.071207</td>\n",
       "    </tr>\n",
       "    <tr>\n",
       "      <th>present_res_since</th>\n",
       "      <td>0.002967</td>\n",
       "      <td>0.034067</td>\n",
       "      <td>0.028926</td>\n",
       "      <td>0.049302</td>\n",
       "      <td>1.000000</td>\n",
       "      <td>0.266419</td>\n",
       "      <td>0.089625</td>\n",
       "      <td>0.042643</td>\n",
       "    </tr>\n",
       "    <tr>\n",
       "      <th>age</th>\n",
       "      <td>-0.091127</td>\n",
       "      <td>-0.036136</td>\n",
       "      <td>0.032716</td>\n",
       "      <td>0.058266</td>\n",
       "      <td>0.266419</td>\n",
       "      <td>1.000000</td>\n",
       "      <td>0.149254</td>\n",
       "      <td>0.118201</td>\n",
       "    </tr>\n",
       "    <tr>\n",
       "      <th>credits_this_bank</th>\n",
       "      <td>-0.045732</td>\n",
       "      <td>-0.011284</td>\n",
       "      <td>0.020795</td>\n",
       "      <td>0.021669</td>\n",
       "      <td>0.089625</td>\n",
       "      <td>0.149254</td>\n",
       "      <td>1.000000</td>\n",
       "      <td>0.109667</td>\n",
       "    </tr>\n",
       "    <tr>\n",
       "      <th>people_under_maintenance</th>\n",
       "      <td>-0.003015</td>\n",
       "      <td>-0.023834</td>\n",
       "      <td>0.017142</td>\n",
       "      <td>-0.071207</td>\n",
       "      <td>0.042643</td>\n",
       "      <td>0.118201</td>\n",
       "      <td>0.109667</td>\n",
       "      <td>1.000000</td>\n",
       "    </tr>\n",
       "  </tbody>\n",
       "</table>\n",
       "</div>"
      ],
      "text/plain": [
       "                             default  duration_in_month  credit_amount  \\\n",
       "default                     1.000000           0.214927       0.154739   \n",
       "duration_in_month           0.214927           1.000000       0.624984   \n",
       "credit_amount               0.154739           0.624984       1.000000   \n",
       "installment_as_income_perc  0.072404           0.074749      -0.271316   \n",
       "present_res_since           0.002967           0.034067       0.028926   \n",
       "age                        -0.091127          -0.036136       0.032716   \n",
       "credits_this_bank          -0.045732          -0.011284       0.020795   \n",
       "people_under_maintenance   -0.003015          -0.023834       0.017142   \n",
       "\n",
       "                            installment_as_income_perc  present_res_since  \\\n",
       "default                                       0.072404           0.002967   \n",
       "duration_in_month                             0.074749           0.034067   \n",
       "credit_amount                                -0.271316           0.028926   \n",
       "installment_as_income_perc                    1.000000           0.049302   \n",
       "present_res_since                             0.049302           1.000000   \n",
       "age                                           0.058266           0.266419   \n",
       "credits_this_bank                             0.021669           0.089625   \n",
       "people_under_maintenance                     -0.071207           0.042643   \n",
       "\n",
       "                                 age  credits_this_bank  \\\n",
       "default                    -0.091127          -0.045732   \n",
       "duration_in_month          -0.036136          -0.011284   \n",
       "credit_amount               0.032716           0.020795   \n",
       "installment_as_income_perc  0.058266           0.021669   \n",
       "present_res_since           0.266419           0.089625   \n",
       "age                         1.000000           0.149254   \n",
       "credits_this_bank           0.149254           1.000000   \n",
       "people_under_maintenance    0.118201           0.109667   \n",
       "\n",
       "                            people_under_maintenance  \n",
       "default                                    -0.003015  \n",
       "duration_in_month                          -0.023834  \n",
       "credit_amount                               0.017142  \n",
       "installment_as_income_perc                 -0.071207  \n",
       "present_res_since                           0.042643  \n",
       "age                                         0.118201  \n",
       "credits_this_bank                           0.109667  \n",
       "people_under_maintenance                    1.000000  "
      ]
     },
     "execution_count": 46,
     "metadata": {},
     "output_type": "execute_result"
    }
   ],
   "source": [
    "gc.corr()"
   ]
  },
  {
   "cell_type": "markdown",
   "metadata": {},
   "source": [
    "### Prepare the model data by converting non-numeric to dummy"
   ]
  },
  {
   "cell_type": "markdown",
   "metadata": {},
   "source": [
    "#### Hint: Use get_dummies"
   ]
  },
  {
   "cell_type": "code",
   "execution_count": 47,
   "metadata": {},
   "outputs": [],
   "source": [
    "gc = pd.get_dummies( gc, columns = ['account_check_status','credit_history','purpose','savings','present_emp_since',\n",
    "'personal_status_sex','other_debtors','property','other_installment_plans','housing','job','telephone','foreign_worker'])"
   ]
  },
  {
   "cell_type": "markdown",
   "metadata": {},
   "source": [
    "### Drop the original variables which are converted to dummy"
   ]
  },
  {
   "cell_type": "code",
   "execution_count": 108,
   "metadata": {},
   "outputs": [
    {
     "data": {
      "text/plain": [
       "Index(['default', 'duration_in_month', 'credit_amount',\n",
       "       'installment_as_income_perc', 'present_res_since', 'age',\n",
       "       'credits_this_bank', 'people_under_maintenance',\n",
       "       'account_check_status_0 <= ... < 200 DM', 'account_check_status_< 0 DM',\n",
       "       'account_check_status_>= 200 DM / salary assignments for at least 1 year',\n",
       "       'account_check_status_no checking account',\n",
       "       'credit_history_all credits at this bank paid back duly',\n",
       "       'credit_history_critical account/ other credits existing (not at this bank)',\n",
       "       'credit_history_delay in paying off in the past',\n",
       "       'credit_history_existing credits paid back duly till now',\n",
       "       'credit_history_no credits taken/ all credits paid back duly',\n",
       "       'purpose_(vacation - does not exist?)', 'purpose_business',\n",
       "       'purpose_car (new)', 'purpose_car (used)',\n",
       "       'purpose_domestic appliances', 'purpose_education',\n",
       "       'purpose_furniture/equipment', 'purpose_radio/television',\n",
       "       'purpose_repairs', 'purpose_retraining', 'savings_.. >= 1000 DM ',\n",
       "       'savings_... < 100 DM', 'savings_100 <= ... < 500 DM',\n",
       "       'savings_500 <= ... < 1000 DM ', 'savings_unknown/ no savings account',\n",
       "       'present_emp_since_.. >= 7 years', 'present_emp_since_... < 1 year ',\n",
       "       'present_emp_since_1 <= ... < 4 years',\n",
       "       'present_emp_since_4 <= ... < 7 years', 'present_emp_since_unemployed',\n",
       "       'personal_status_sex_female : divorced/separated/married',\n",
       "       'personal_status_sex_male : divorced/separated',\n",
       "       'personal_status_sex_male : married/widowed',\n",
       "       'personal_status_sex_male : single', 'other_debtors_co-applicant',\n",
       "       'other_debtors_guarantor', 'other_debtors_none',\n",
       "       'property_if not A121 : building society savings agreement/ life insurance',\n",
       "       'property_if not A121/A122 : car or other, not in attribute 6',\n",
       "       'property_real estate', 'property_unknown / no property',\n",
       "       'other_installment_plans_bank', 'other_installment_plans_none',\n",
       "       'other_installment_plans_stores', 'housing_for free', 'housing_own',\n",
       "       'housing_rent',\n",
       "       'job_management/ self-employed/ highly qualified employee/ officer',\n",
       "       'job_skilled employee / official',\n",
       "       'job_unemployed/ unskilled - non-resident', 'job_unskilled - resident',\n",
       "       'telephone_none', 'telephone_yes, registered under the customers name ',\n",
       "       'foreign_worker_no', 'foreign_worker_yes'],\n",
       "      dtype='object')"
      ]
     },
     "execution_count": 108,
     "metadata": {},
     "output_type": "execute_result"
    }
   ],
   "source": [
    "#The original reference columns are already removed by get_dummies\n",
    "gc.columns"
   ]
  },
  {
   "cell_type": "markdown",
   "metadata": {},
   "source": [
    "### Split Train/Test data 70:30 ratio\n",
    "##### Hint:from sklearn.model_selection import train_test_split"
   ]
  },
  {
   "cell_type": "code",
   "execution_count": 90,
   "metadata": {},
   "outputs": [
    {
     "name": "stdout",
     "output_type": "stream",
     "text": [
      "(700, 61)\n",
      "(300, 61)\n",
      "(700,)\n",
      "(300,)\n"
     ]
    }
   ],
   "source": [
    "X = gc.drop([\"default\"], axis = 1)\n",
    "Y = gc[\"default\"]\n",
    "\n",
    "from sklearn.model_selection import train_test_split\n",
    "\n",
    "x_train, x_test, y_train, y_test = train_test_split(X, Y, test_size=0.3, random_state=1)\n",
    "print(x_train.shape)\n",
    "print(x_test.shape)\n",
    "print(y_train.shape)\n",
    "print(y_test.shape)"
   ]
  },
  {
   "cell_type": "markdown",
   "metadata": {},
   "source": [
    "### Build Random Forest Model\n",
    "#### Hint:from sklearn.ensemble import RandomForestClassifier using n_jobs=2,n_estimators=500,criterion=\"entropy\",random_state=9999"
   ]
  },
  {
   "cell_type": "code",
   "execution_count": 92,
   "metadata": {},
   "outputs": [
    {
     "data": {
      "text/plain": [
       "RandomForestClassifier(bootstrap=True, class_weight=None, criterion='entropy',\n",
       "            max_depth=None, max_features=5, max_leaf_nodes=None,\n",
       "            min_impurity_decrease=0.0, min_impurity_split=None,\n",
       "            min_samples_leaf=1, min_samples_split=2,\n",
       "            min_weight_fraction_leaf=0.0, n_estimators=500, n_jobs=2,\n",
       "            oob_score=False, random_state=9999, verbose=0,\n",
       "            warm_start=False)"
      ]
     },
     "execution_count": 92,
     "metadata": {},
     "output_type": "execute_result"
    }
   ],
   "source": [
    "from sklearn.ensemble import RandomForestClassifier\n",
    "rfcl = RandomForestClassifier(n_jobs= 2, n_estimators = 500,max_features = 5,criterion=\"entropy\", random_state= 9999)\n",
    "rfcl.fit(x_train, y_train)"
   ]
  },
  {
   "cell_type": "code",
   "execution_count": 94,
   "metadata": {},
   "outputs": [],
   "source": [
    "predicted_values = rfcl.predict(x_test)"
   ]
  },
  {
   "cell_type": "markdown",
   "metadata": {},
   "source": [
    "### Calculate Confusion Matrix and Accuracy score\n",
    "##### Hint: Use confusion_matrix and accuracy_score"
   ]
  },
  {
   "cell_type": "code",
   "execution_count": 95,
   "metadata": {},
   "outputs": [
    {
     "name": "stdout",
     "output_type": "stream",
     "text": [
      "Test accuracy is 0.7533333333333333\n"
     ]
    }
   ],
   "source": [
    "from sklearn.metrics import accuracy_score\n",
    "from sklearn.metrics import classification_report,confusion_matrix\n",
    "print (\"Test accuracy is\" , accuracy_score(y_test,predicted_values))"
   ]
  },
  {
   "cell_type": "code",
   "execution_count": 96,
   "metadata": {},
   "outputs": [
    {
     "name": "stdout",
     "output_type": "stream",
     "text": [
      "[[201  13]\n",
      " [ 61  25]]\n"
     ]
    }
   ],
   "source": [
    "print (confusion_matrix(y_test,predicted_values))"
   ]
  },
  {
   "cell_type": "markdown",
   "metadata": {},
   "source": [
    "### Show the list of the features importance"
   ]
  },
  {
   "cell_type": "markdown",
   "metadata": {},
   "source": [
    "#### Print or display the list of features in descending orders of importance"
   ]
  },
  {
   "cell_type": "code",
   "execution_count": 105,
   "metadata": {},
   "outputs": [
    {
     "data": {
      "text/html": [
       "<div>\n",
       "<style scoped>\n",
       "    .dataframe tbody tr th:only-of-type {\n",
       "        vertical-align: middle;\n",
       "    }\n",
       "\n",
       "    .dataframe tbody tr th {\n",
       "        vertical-align: top;\n",
       "    }\n",
       "\n",
       "    .dataframe thead th {\n",
       "        text-align: right;\n",
       "    }\n",
       "</style>\n",
       "<table border=\"1\" class=\"dataframe\">\n",
       "  <thead>\n",
       "    <tr style=\"text-align: right;\">\n",
       "      <th></th>\n",
       "      <th>importance</th>\n",
       "    </tr>\n",
       "  </thead>\n",
       "  <tbody>\n",
       "    <tr>\n",
       "      <th>credit_amount</th>\n",
       "      <td>0.094445</td>\n",
       "    </tr>\n",
       "    <tr>\n",
       "      <th>age</th>\n",
       "      <td>0.074606</td>\n",
       "    </tr>\n",
       "    <tr>\n",
       "      <th>duration_in_month</th>\n",
       "      <td>0.071053</td>\n",
       "    </tr>\n",
       "    <tr>\n",
       "      <th>account_check_status_no checking account</th>\n",
       "      <td>0.043568</td>\n",
       "    </tr>\n",
       "    <tr>\n",
       "      <th>installment_as_income_perc</th>\n",
       "      <td>0.037824</td>\n",
       "    </tr>\n",
       "    <tr>\n",
       "      <th>present_res_since</th>\n",
       "      <td>0.034285</td>\n",
       "    </tr>\n",
       "    <tr>\n",
       "      <th>account_check_status_&lt; 0 DM</th>\n",
       "      <td>0.029593</td>\n",
       "    </tr>\n",
       "    <tr>\n",
       "      <th>credit_history_critical account/ other credits existing (not at this bank)</th>\n",
       "      <td>0.027816</td>\n",
       "    </tr>\n",
       "    <tr>\n",
       "      <th>savings_... &lt; 100 DM</th>\n",
       "      <td>0.020065</td>\n",
       "    </tr>\n",
       "    <tr>\n",
       "      <th>credits_this_bank</th>\n",
       "      <td>0.018680</td>\n",
       "    </tr>\n",
       "    <tr>\n",
       "      <th>purpose_car (new)</th>\n",
       "      <td>0.017447</td>\n",
       "    </tr>\n",
       "    <tr>\n",
       "      <th>other_installment_plans_none</th>\n",
       "      <td>0.017097</td>\n",
       "    </tr>\n",
       "    <tr>\n",
       "      <th>account_check_status_0 &lt;= ... &lt; 200 DM</th>\n",
       "      <td>0.016134</td>\n",
       "    </tr>\n",
       "    <tr>\n",
       "      <th>personal_status_sex_male : single</th>\n",
       "      <td>0.016126</td>\n",
       "    </tr>\n",
       "    <tr>\n",
       "      <th>present_emp_since_1 &lt;= ... &lt; 4 years</th>\n",
       "      <td>0.015907</td>\n",
       "    </tr>\n",
       "    <tr>\n",
       "      <th>credit_history_existing credits paid back duly till now</th>\n",
       "      <td>0.015889</td>\n",
       "    </tr>\n",
       "    <tr>\n",
       "      <th>personal_status_sex_female : divorced/separated/married</th>\n",
       "      <td>0.015876</td>\n",
       "    </tr>\n",
       "    <tr>\n",
       "      <th>job_skilled employee / official</th>\n",
       "      <td>0.015652</td>\n",
       "    </tr>\n",
       "    <tr>\n",
       "      <th>purpose_domestic appliances</th>\n",
       "      <td>0.015402</td>\n",
       "    </tr>\n",
       "    <tr>\n",
       "      <th>telephone_none</th>\n",
       "      <td>0.015225</td>\n",
       "    </tr>\n",
       "    <tr>\n",
       "      <th>property_if not A121/A122 : car or other, not in attribute 6</th>\n",
       "      <td>0.015185</td>\n",
       "    </tr>\n",
       "    <tr>\n",
       "      <th>telephone_yes, registered under the customers name</th>\n",
       "      <td>0.015010</td>\n",
       "    </tr>\n",
       "    <tr>\n",
       "      <th>property_real estate</th>\n",
       "      <td>0.015008</td>\n",
       "    </tr>\n",
       "    <tr>\n",
       "      <th>present_emp_since_... &lt; 1 year</th>\n",
       "      <td>0.014542</td>\n",
       "    </tr>\n",
       "    <tr>\n",
       "      <th>other_installment_plans_bank</th>\n",
       "      <td>0.014303</td>\n",
       "    </tr>\n",
       "    <tr>\n",
       "      <th>housing_own</th>\n",
       "      <td>0.014102</td>\n",
       "    </tr>\n",
       "    <tr>\n",
       "      <th>savings_unknown/ no savings account</th>\n",
       "      <td>0.013838</td>\n",
       "    </tr>\n",
       "    <tr>\n",
       "      <th>present_emp_since_.. &gt;= 7 years</th>\n",
       "      <td>0.013792</td>\n",
       "    </tr>\n",
       "    <tr>\n",
       "      <th>present_emp_since_4 &lt;= ... &lt; 7 years</th>\n",
       "      <td>0.013739</td>\n",
       "    </tr>\n",
       "    <tr>\n",
       "      <th>property_if not A121 : building society savings agreement/ life insurance</th>\n",
       "      <td>0.013705</td>\n",
       "    </tr>\n",
       "    <tr>\n",
       "      <th>...</th>\n",
       "      <td>...</td>\n",
       "    </tr>\n",
       "    <tr>\n",
       "      <th>credit_history_no credits taken/ all credits paid back duly</th>\n",
       "      <td>0.012231</td>\n",
       "    </tr>\n",
       "    <tr>\n",
       "      <th>purpose_car (used)</th>\n",
       "      <td>0.012228</td>\n",
       "    </tr>\n",
       "    <tr>\n",
       "      <th>job_management/ self-employed/ highly qualified employee/ officer</th>\n",
       "      <td>0.012143</td>\n",
       "    </tr>\n",
       "    <tr>\n",
       "      <th>housing_rent</th>\n",
       "      <td>0.011609</td>\n",
       "    </tr>\n",
       "    <tr>\n",
       "      <th>job_unskilled - resident</th>\n",
       "      <td>0.011356</td>\n",
       "    </tr>\n",
       "    <tr>\n",
       "      <th>purpose_business</th>\n",
       "      <td>0.011239</td>\n",
       "    </tr>\n",
       "    <tr>\n",
       "      <th>people_under_maintenance</th>\n",
       "      <td>0.010685</td>\n",
       "    </tr>\n",
       "    <tr>\n",
       "      <th>property_unknown / no property</th>\n",
       "      <td>0.010594</td>\n",
       "    </tr>\n",
       "    <tr>\n",
       "      <th>other_debtors_none</th>\n",
       "      <td>0.010276</td>\n",
       "    </tr>\n",
       "    <tr>\n",
       "      <th>credit_history_delay in paying off in the past</th>\n",
       "      <td>0.009680</td>\n",
       "    </tr>\n",
       "    <tr>\n",
       "      <th>savings_100 &lt;= ... &lt; 500 DM</th>\n",
       "      <td>0.009184</td>\n",
       "    </tr>\n",
       "    <tr>\n",
       "      <th>other_debtors_guarantor</th>\n",
       "      <td>0.008332</td>\n",
       "    </tr>\n",
       "    <tr>\n",
       "      <th>savings_.. &gt;= 1000 DM</th>\n",
       "      <td>0.008253</td>\n",
       "    </tr>\n",
       "    <tr>\n",
       "      <th>present_emp_since_unemployed</th>\n",
       "      <td>0.008245</td>\n",
       "    </tr>\n",
       "    <tr>\n",
       "      <th>account_check_status_&gt;= 200 DM / salary assignments for at least 1 year</th>\n",
       "      <td>0.008218</td>\n",
       "    </tr>\n",
       "    <tr>\n",
       "      <th>personal_status_sex_male : married/widowed</th>\n",
       "      <td>0.008147</td>\n",
       "    </tr>\n",
       "    <tr>\n",
       "      <th>credit_history_all credits at this bank paid back duly</th>\n",
       "      <td>0.008144</td>\n",
       "    </tr>\n",
       "    <tr>\n",
       "      <th>other_debtors_co-applicant</th>\n",
       "      <td>0.008015</td>\n",
       "    </tr>\n",
       "    <tr>\n",
       "      <th>other_installment_plans_stores</th>\n",
       "      <td>0.007963</td>\n",
       "    </tr>\n",
       "    <tr>\n",
       "      <th>housing_for free</th>\n",
       "      <td>0.007066</td>\n",
       "    </tr>\n",
       "    <tr>\n",
       "      <th>personal_status_sex_male : divorced/separated</th>\n",
       "      <td>0.006494</td>\n",
       "    </tr>\n",
       "    <tr>\n",
       "      <th>savings_500 &lt;= ... &lt; 1000 DM</th>\n",
       "      <td>0.006054</td>\n",
       "    </tr>\n",
       "    <tr>\n",
       "      <th>purpose_(vacation - does not exist?)</th>\n",
       "      <td>0.006018</td>\n",
       "    </tr>\n",
       "    <tr>\n",
       "      <th>purpose_education</th>\n",
       "      <td>0.004400</td>\n",
       "    </tr>\n",
       "    <tr>\n",
       "      <th>foreign_worker_yes</th>\n",
       "      <td>0.003150</td>\n",
       "    </tr>\n",
       "    <tr>\n",
       "      <th>foreign_worker_no</th>\n",
       "      <td>0.003025</td>\n",
       "    </tr>\n",
       "    <tr>\n",
       "      <th>purpose_repairs</th>\n",
       "      <td>0.002736</td>\n",
       "    </tr>\n",
       "    <tr>\n",
       "      <th>job_unemployed/ unskilled - non-resident</th>\n",
       "      <td>0.001979</td>\n",
       "    </tr>\n",
       "    <tr>\n",
       "      <th>purpose_furniture/equipment</th>\n",
       "      <td>0.001841</td>\n",
       "    </tr>\n",
       "    <tr>\n",
       "      <th>purpose_retraining</th>\n",
       "      <td>0.001135</td>\n",
       "    </tr>\n",
       "  </tbody>\n",
       "</table>\n",
       "<p>61 rows × 1 columns</p>\n",
       "</div>"
      ],
      "text/plain": [
       "                                                    importance\n",
       "credit_amount                                         0.094445\n",
       "age                                                   0.074606\n",
       "duration_in_month                                     0.071053\n",
       "account_check_status_no checking account              0.043568\n",
       "installment_as_income_perc                            0.037824\n",
       "present_res_since                                     0.034285\n",
       "account_check_status_< 0 DM                           0.029593\n",
       "credit_history_critical account/ other credits ...    0.027816\n",
       "savings_... < 100 DM                                  0.020065\n",
       "credits_this_bank                                     0.018680\n",
       "purpose_car (new)                                     0.017447\n",
       "other_installment_plans_none                          0.017097\n",
       "account_check_status_0 <= ... < 200 DM                0.016134\n",
       "personal_status_sex_male : single                     0.016126\n",
       "present_emp_since_1 <= ... < 4 years                  0.015907\n",
       "credit_history_existing credits paid back duly ...    0.015889\n",
       "personal_status_sex_female : divorced/separated...    0.015876\n",
       "job_skilled employee / official                       0.015652\n",
       "purpose_domestic appliances                           0.015402\n",
       "telephone_none                                        0.015225\n",
       "property_if not A121/A122 : car or other, not i...    0.015185\n",
       "telephone_yes, registered under the customers n...    0.015010\n",
       "property_real estate                                  0.015008\n",
       "present_emp_since_... < 1 year                        0.014542\n",
       "other_installment_plans_bank                          0.014303\n",
       "housing_own                                           0.014102\n",
       "savings_unknown/ no savings account                   0.013838\n",
       "present_emp_since_.. >= 7 years                       0.013792\n",
       "present_emp_since_4 <= ... < 7 years                  0.013739\n",
       "property_if not A121 : building society savings...    0.013705\n",
       "...                                                        ...\n",
       "credit_history_no credits taken/ all credits pa...    0.012231\n",
       "purpose_car (used)                                    0.012228\n",
       "job_management/ self-employed/ highly qualified...    0.012143\n",
       "housing_rent                                          0.011609\n",
       "job_unskilled - resident                              0.011356\n",
       "purpose_business                                      0.011239\n",
       "people_under_maintenance                              0.010685\n",
       "property_unknown / no property                        0.010594\n",
       "other_debtors_none                                    0.010276\n",
       "credit_history_delay in paying off in the past        0.009680\n",
       "savings_100 <= ... < 500 DM                           0.009184\n",
       "other_debtors_guarantor                               0.008332\n",
       "savings_.. >= 1000 DM                                 0.008253\n",
       "present_emp_since_unemployed                          0.008245\n",
       "account_check_status_>= 200 DM / salary assignm...    0.008218\n",
       "personal_status_sex_male : married/widowed            0.008147\n",
       "credit_history_all credits at this bank paid ba...    0.008144\n",
       "other_debtors_co-applicant                            0.008015\n",
       "other_installment_plans_stores                        0.007963\n",
       "housing_for free                                      0.007066\n",
       "personal_status_sex_male : divorced/separated         0.006494\n",
       "savings_500 <= ... < 1000 DM                          0.006054\n",
       "purpose_(vacation - does not exist?)                  0.006018\n",
       "purpose_education                                     0.004400\n",
       "foreign_worker_yes                                    0.003150\n",
       "foreign_worker_no                                     0.003025\n",
       "purpose_repairs                                       0.002736\n",
       "job_unemployed/ unskilled - non-resident              0.001979\n",
       "purpose_furniture/equipment                           0.001841\n",
       "purpose_retraining                                    0.001135\n",
       "\n",
       "[61 rows x 1 columns]"
      ]
     },
     "execution_count": 105,
     "metadata": {},
     "output_type": "execute_result"
    }
   ],
   "source": [
    "feature_importances = pd.DataFrame(rfcl.feature_importances_,index = x_train.columns,columns=['importance']).sort_values('importance',ascending=False)\n",
    "feature_importances"
   ]
  },
  {
   "cell_type": "markdown",
   "metadata": {},
   "source": [
    "### K-fold cross-validation\n",
    "#### Check for k=10, 12, 15, 18, 20 and print the the cross validation score\n",
    "#### Hint: use cross_val_score from model_selection"
   ]
  },
  {
   "cell_type": "code",
   "execution_count": null,
   "metadata": {},
   "outputs": [],
   "source": [
    "#Optional"
   ]
  },
  {
   "cell_type": "markdown",
   "metadata": {},
   "source": [
    "## Unsupervised Learning:\n",
    "## KMeans Clustering"
   ]
  },
  {
   "cell_type": "markdown",
   "metadata": {},
   "source": [
    "This section deals with clustering process. \n",
    "\n",
    "The data set has information about features of silhouette extracted from the images of different cars\n",
    "Four \"Corgie\" model vehicles were used for the experiment: a double decker bus, Cheverolet van, \n",
    "Saab 9000 and an Opel Manta 400 cars. \n",
    "This particular combination of vehicles was chosen with the expectation that the bus, van and either one of the cars would be readily distinguishable, but it would be more difficult to distinguish between the cars."
   ]
  },
  {
   "cell_type": "markdown",
   "metadata": {},
   "source": [
    "### Import the libraries and vehicle dataset"
   ]
  },
  {
   "cell_type": "markdown",
   "metadata": {},
   "source": [
    "Check for NAs, missing values in the dataset"
   ]
  },
  {
   "cell_type": "code",
   "execution_count": 111,
   "metadata": {},
   "outputs": [
    {
     "data": {
      "text/html": [
       "<div>\n",
       "<style scoped>\n",
       "    .dataframe tbody tr th:only-of-type {\n",
       "        vertical-align: middle;\n",
       "    }\n",
       "\n",
       "    .dataframe tbody tr th {\n",
       "        vertical-align: top;\n",
       "    }\n",
       "\n",
       "    .dataframe thead th {\n",
       "        text-align: right;\n",
       "    }\n",
       "</style>\n",
       "<table border=\"1\" class=\"dataframe\">\n",
       "  <thead>\n",
       "    <tr style=\"text-align: right;\">\n",
       "      <th></th>\n",
       "      <th>compactness</th>\n",
       "      <th>circularity</th>\n",
       "      <th>distance_circularity</th>\n",
       "      <th>radius_ratio</th>\n",
       "      <th>pr.axis_aspect_ratio</th>\n",
       "      <th>max.length_aspect_ratio</th>\n",
       "      <th>scatter_ratio</th>\n",
       "      <th>elongatedness</th>\n",
       "      <th>pr.axis_rectangularity</th>\n",
       "      <th>max.length_rectangularity</th>\n",
       "      <th>scaled_variance</th>\n",
       "      <th>scaled_variance.1</th>\n",
       "      <th>scaled_radius_of_gyration</th>\n",
       "      <th>scaled_radius_of_gyration.1</th>\n",
       "      <th>skewness_about</th>\n",
       "      <th>skewness_about.1</th>\n",
       "      <th>skewness_about.2</th>\n",
       "      <th>hollows_ratio</th>\n",
       "      <th>class</th>\n",
       "    </tr>\n",
       "  </thead>\n",
       "  <tbody>\n",
       "    <tr>\n",
       "      <th>0</th>\n",
       "      <td>95</td>\n",
       "      <td>48.0</td>\n",
       "      <td>83.0</td>\n",
       "      <td>178.0</td>\n",
       "      <td>72.0</td>\n",
       "      <td>10</td>\n",
       "      <td>162.0</td>\n",
       "      <td>42.0</td>\n",
       "      <td>20.0</td>\n",
       "      <td>159</td>\n",
       "      <td>176.0</td>\n",
       "      <td>379.0</td>\n",
       "      <td>184.0</td>\n",
       "      <td>70.0</td>\n",
       "      <td>6.0</td>\n",
       "      <td>16.0</td>\n",
       "      <td>187.0</td>\n",
       "      <td>197</td>\n",
       "      <td>van</td>\n",
       "    </tr>\n",
       "    <tr>\n",
       "      <th>1</th>\n",
       "      <td>91</td>\n",
       "      <td>41.0</td>\n",
       "      <td>84.0</td>\n",
       "      <td>141.0</td>\n",
       "      <td>57.0</td>\n",
       "      <td>9</td>\n",
       "      <td>149.0</td>\n",
       "      <td>45.0</td>\n",
       "      <td>19.0</td>\n",
       "      <td>143</td>\n",
       "      <td>170.0</td>\n",
       "      <td>330.0</td>\n",
       "      <td>158.0</td>\n",
       "      <td>72.0</td>\n",
       "      <td>9.0</td>\n",
       "      <td>14.0</td>\n",
       "      <td>189.0</td>\n",
       "      <td>199</td>\n",
       "      <td>van</td>\n",
       "    </tr>\n",
       "  </tbody>\n",
       "</table>\n",
       "</div>"
      ],
      "text/plain": [
       "   compactness  circularity  distance_circularity  radius_ratio  \\\n",
       "0           95         48.0                  83.0         178.0   \n",
       "1           91         41.0                  84.0         141.0   \n",
       "\n",
       "   pr.axis_aspect_ratio  max.length_aspect_ratio  scatter_ratio  \\\n",
       "0                  72.0                       10          162.0   \n",
       "1                  57.0                        9          149.0   \n",
       "\n",
       "   elongatedness  pr.axis_rectangularity  max.length_rectangularity  \\\n",
       "0           42.0                    20.0                        159   \n",
       "1           45.0                    19.0                        143   \n",
       "\n",
       "   scaled_variance  scaled_variance.1  scaled_radius_of_gyration  \\\n",
       "0            176.0              379.0                      184.0   \n",
       "1            170.0              330.0                      158.0   \n",
       "\n",
       "   scaled_radius_of_gyration.1  skewness_about  skewness_about.1  \\\n",
       "0                         70.0             6.0              16.0   \n",
       "1                         72.0             9.0              14.0   \n",
       "\n",
       "   skewness_about.2  hollows_ratio class  \n",
       "0             187.0            197   van  \n",
       "1             189.0            199   van  "
      ]
     },
     "execution_count": 111,
     "metadata": {},
     "output_type": "execute_result"
    }
   ],
   "source": [
    "veh=pd.read_csv('vehicle.csv')\n",
    "veh.head(2)"
   ]
  },
  {
   "cell_type": "code",
   "execution_count": 113,
   "metadata": {},
   "outputs": [
    {
     "data": {
      "text/plain": [
       "(846, 19)"
      ]
     },
     "execution_count": 113,
     "metadata": {},
     "output_type": "execute_result"
    }
   ],
   "source": [
    "veh.shape"
   ]
  },
  {
   "cell_type": "code",
   "execution_count": 114,
   "metadata": {},
   "outputs": [],
   "source": [
    "veh = veh.drop('class' , 1)"
   ]
  },
  {
   "cell_type": "code",
   "execution_count": 115,
   "metadata": {},
   "outputs": [
    {
     "data": {
      "text/plain": [
       "(846, 18)"
      ]
     },
     "execution_count": 115,
     "metadata": {},
     "output_type": "execute_result"
    }
   ],
   "source": [
    "veh.shape"
   ]
  },
  {
   "cell_type": "code",
   "execution_count": 116,
   "metadata": {},
   "outputs": [
    {
     "data": {
      "text/html": [
       "<div>\n",
       "<style scoped>\n",
       "    .dataframe tbody tr th:only-of-type {\n",
       "        vertical-align: middle;\n",
       "    }\n",
       "\n",
       "    .dataframe tbody tr th {\n",
       "        vertical-align: top;\n",
       "    }\n",
       "\n",
       "    .dataframe thead th {\n",
       "        text-align: right;\n",
       "    }\n",
       "</style>\n",
       "<table border=\"1\" class=\"dataframe\">\n",
       "  <thead>\n",
       "    <tr style=\"text-align: right;\">\n",
       "      <th></th>\n",
       "      <th>compactness</th>\n",
       "      <th>circularity</th>\n",
       "      <th>distance_circularity</th>\n",
       "      <th>radius_ratio</th>\n",
       "      <th>pr.axis_aspect_ratio</th>\n",
       "      <th>max.length_aspect_ratio</th>\n",
       "      <th>scatter_ratio</th>\n",
       "      <th>elongatedness</th>\n",
       "      <th>pr.axis_rectangularity</th>\n",
       "      <th>max.length_rectangularity</th>\n",
       "      <th>scaled_variance</th>\n",
       "      <th>scaled_variance.1</th>\n",
       "      <th>scaled_radius_of_gyration</th>\n",
       "      <th>scaled_radius_of_gyration.1</th>\n",
       "      <th>skewness_about</th>\n",
       "      <th>skewness_about.1</th>\n",
       "      <th>skewness_about.2</th>\n",
       "      <th>hollows_ratio</th>\n",
       "    </tr>\n",
       "  </thead>\n",
       "  <tbody>\n",
       "    <tr>\n",
       "      <th>0</th>\n",
       "      <td>95</td>\n",
       "      <td>48.0</td>\n",
       "      <td>83.0</td>\n",
       "      <td>178.0</td>\n",
       "      <td>72.0</td>\n",
       "      <td>10</td>\n",
       "      <td>162.0</td>\n",
       "      <td>42.0</td>\n",
       "      <td>20.0</td>\n",
       "      <td>159</td>\n",
       "      <td>176.0</td>\n",
       "      <td>379.0</td>\n",
       "      <td>184.0</td>\n",
       "      <td>70.0</td>\n",
       "      <td>6.0</td>\n",
       "      <td>16.0</td>\n",
       "      <td>187.0</td>\n",
       "      <td>197</td>\n",
       "    </tr>\n",
       "    <tr>\n",
       "      <th>1</th>\n",
       "      <td>91</td>\n",
       "      <td>41.0</td>\n",
       "      <td>84.0</td>\n",
       "      <td>141.0</td>\n",
       "      <td>57.0</td>\n",
       "      <td>9</td>\n",
       "      <td>149.0</td>\n",
       "      <td>45.0</td>\n",
       "      <td>19.0</td>\n",
       "      <td>143</td>\n",
       "      <td>170.0</td>\n",
       "      <td>330.0</td>\n",
       "      <td>158.0</td>\n",
       "      <td>72.0</td>\n",
       "      <td>9.0</td>\n",
       "      <td>14.0</td>\n",
       "      <td>189.0</td>\n",
       "      <td>199</td>\n",
       "    </tr>\n",
       "  </tbody>\n",
       "</table>\n",
       "</div>"
      ],
      "text/plain": [
       "   compactness  circularity  distance_circularity  radius_ratio  \\\n",
       "0           95         48.0                  83.0         178.0   \n",
       "1           91         41.0                  84.0         141.0   \n",
       "\n",
       "   pr.axis_aspect_ratio  max.length_aspect_ratio  scatter_ratio  \\\n",
       "0                  72.0                       10          162.0   \n",
       "1                  57.0                        9          149.0   \n",
       "\n",
       "   elongatedness  pr.axis_rectangularity  max.length_rectangularity  \\\n",
       "0           42.0                    20.0                        159   \n",
       "1           45.0                    19.0                        143   \n",
       "\n",
       "   scaled_variance  scaled_variance.1  scaled_radius_of_gyration  \\\n",
       "0            176.0              379.0                      184.0   \n",
       "1            170.0              330.0                      158.0   \n",
       "\n",
       "   scaled_radius_of_gyration.1  skewness_about  skewness_about.1  \\\n",
       "0                         70.0             6.0              16.0   \n",
       "1                         72.0             9.0              14.0   \n",
       "\n",
       "   skewness_about.2  hollows_ratio  \n",
       "0             187.0            197  \n",
       "1             189.0            199  "
      ]
     },
     "execution_count": 116,
     "metadata": {},
     "output_type": "execute_result"
    }
   ],
   "source": [
    "veh.head(2)"
   ]
  },
  {
   "cell_type": "code",
   "execution_count": 117,
   "metadata": {},
   "outputs": [
    {
     "data": {
      "text/plain": [
       "compactness                    0\n",
       "circularity                    5\n",
       "distance_circularity           4\n",
       "radius_ratio                   6\n",
       "pr.axis_aspect_ratio           2\n",
       "max.length_aspect_ratio        0\n",
       "scatter_ratio                  1\n",
       "elongatedness                  1\n",
       "pr.axis_rectangularity         3\n",
       "max.length_rectangularity      0\n",
       "scaled_variance                3\n",
       "scaled_variance.1              2\n",
       "scaled_radius_of_gyration      2\n",
       "scaled_radius_of_gyration.1    4\n",
       "skewness_about                 6\n",
       "skewness_about.1               1\n",
       "skewness_about.2               1\n",
       "hollows_ratio                  0\n",
       "dtype: int64"
      ]
     },
     "execution_count": 117,
     "metadata": {},
     "output_type": "execute_result"
    }
   ],
   "source": [
    "veh.isna().sum()"
   ]
  },
  {
   "cell_type": "code",
   "execution_count": 118,
   "metadata": {},
   "outputs": [],
   "source": [
    "veh.dropna(axis=0, inplace = True)"
   ]
  },
  {
   "cell_type": "code",
   "execution_count": 119,
   "metadata": {},
   "outputs": [
    {
     "data": {
      "text/plain": [
       "compactness                    0\n",
       "circularity                    0\n",
       "distance_circularity           0\n",
       "radius_ratio                   0\n",
       "pr.axis_aspect_ratio           0\n",
       "max.length_aspect_ratio        0\n",
       "scatter_ratio                  0\n",
       "elongatedness                  0\n",
       "pr.axis_rectangularity         0\n",
       "max.length_rectangularity      0\n",
       "scaled_variance                0\n",
       "scaled_variance.1              0\n",
       "scaled_radius_of_gyration      0\n",
       "scaled_radius_of_gyration.1    0\n",
       "skewness_about                 0\n",
       "skewness_about.1               0\n",
       "skewness_about.2               0\n",
       "hollows_ratio                  0\n",
       "dtype: int64"
      ]
     },
     "execution_count": 119,
     "metadata": {},
     "output_type": "execute_result"
    }
   ],
   "source": [
    "veh.isna().sum()"
   ]
  },
  {
   "cell_type": "markdown",
   "metadata": {},
   "source": [
    "### Standardize the data"
   ]
  },
  {
   "cell_type": "markdown",
   "metadata": {},
   "source": [
    "#### Hint: Use zscore from scipy.stats or StandardScaler"
   ]
  },
  {
   "cell_type": "code",
   "execution_count": 121,
   "metadata": {},
   "outputs": [
    {
     "data": {
      "text/html": [
       "<div>\n",
       "<style scoped>\n",
       "    .dataframe tbody tr th:only-of-type {\n",
       "        vertical-align: middle;\n",
       "    }\n",
       "\n",
       "    .dataframe tbody tr th {\n",
       "        vertical-align: top;\n",
       "    }\n",
       "\n",
       "    .dataframe thead th {\n",
       "        text-align: right;\n",
       "    }\n",
       "</style>\n",
       "<table border=\"1\" class=\"dataframe\">\n",
       "  <thead>\n",
       "    <tr style=\"text-align: right;\">\n",
       "      <th></th>\n",
       "      <th>compactness</th>\n",
       "      <th>circularity</th>\n",
       "      <th>distance_circularity</th>\n",
       "      <th>radius_ratio</th>\n",
       "      <th>pr.axis_aspect_ratio</th>\n",
       "      <th>max.length_aspect_ratio</th>\n",
       "      <th>scatter_ratio</th>\n",
       "      <th>elongatedness</th>\n",
       "      <th>pr.axis_rectangularity</th>\n",
       "      <th>max.length_rectangularity</th>\n",
       "      <th>scaled_variance</th>\n",
       "      <th>scaled_variance.1</th>\n",
       "      <th>scaled_radius_of_gyration</th>\n",
       "      <th>scaled_radius_of_gyration.1</th>\n",
       "      <th>skewness_about</th>\n",
       "      <th>skewness_about.1</th>\n",
       "      <th>skewness_about.2</th>\n",
       "      <th>hollows_ratio</th>\n",
       "    </tr>\n",
       "  </thead>\n",
       "  <tbody>\n",
       "    <tr>\n",
       "      <th>0</th>\n",
       "      <td>0.163231</td>\n",
       "      <td>0.520408</td>\n",
       "      <td>0.060669</td>\n",
       "      <td>0.264970</td>\n",
       "      <td>1.283254</td>\n",
       "      <td>0.299721</td>\n",
       "      <td>-0.198517</td>\n",
       "      <td>0.129648</td>\n",
       "      <td>-0.217151</td>\n",
       "      <td>0.766312</td>\n",
       "      <td>-0.397397</td>\n",
       "      <td>-0.339014</td>\n",
       "      <td>0.301676</td>\n",
       "      <td>-0.321192</td>\n",
       "      <td>-0.071523</td>\n",
       "      <td>0.371287</td>\n",
       "      <td>-0.321809</td>\n",
       "      <td>0.171837</td>\n",
       "    </tr>\n",
       "    <tr>\n",
       "      <th>1</th>\n",
       "      <td>-0.322874</td>\n",
       "      <td>-0.619123</td>\n",
       "      <td>0.124067</td>\n",
       "      <td>-0.836393</td>\n",
       "      <td>-0.599253</td>\n",
       "      <td>0.085785</td>\n",
       "      <td>-0.591720</td>\n",
       "      <td>0.514333</td>\n",
       "      <td>-0.606014</td>\n",
       "      <td>-0.337462</td>\n",
       "      <td>-0.590034</td>\n",
       "      <td>-0.618754</td>\n",
       "      <td>-0.502972</td>\n",
       "      <td>-0.053505</td>\n",
       "      <td>0.538425</td>\n",
       "      <td>0.147109</td>\n",
       "      <td>0.003400</td>\n",
       "      <td>0.442318</td>\n",
       "    </tr>\n",
       "    <tr>\n",
       "      <th>2</th>\n",
       "      <td>1.256966</td>\n",
       "      <td>0.845988</td>\n",
       "      <td>1.518823</td>\n",
       "      <td>1.187734</td>\n",
       "      <td>0.530251</td>\n",
       "      <td>0.299721</td>\n",
       "      <td>1.162569</td>\n",
       "      <td>-1.152637</td>\n",
       "      <td>0.949438</td>\n",
       "      <td>0.697326</td>\n",
       "      <td>1.111591</td>\n",
       "      <td>1.122486</td>\n",
       "      <td>1.415804</td>\n",
       "      <td>0.080339</td>\n",
       "      <td>1.555006</td>\n",
       "      <td>-0.413338</td>\n",
       "      <td>-0.159204</td>\n",
       "      <td>0.036596</td>\n",
       "    </tr>\n",
       "    <tr>\n",
       "      <th>3</th>\n",
       "      <td>-0.079822</td>\n",
       "      <td>-0.619123</td>\n",
       "      <td>-0.002729</td>\n",
       "      <td>-0.300595</td>\n",
       "      <td>0.153750</td>\n",
       "      <td>0.085785</td>\n",
       "      <td>-0.742952</td>\n",
       "      <td>0.642562</td>\n",
       "      <td>-0.606014</td>\n",
       "      <td>-0.337462</td>\n",
       "      <td>-0.911095</td>\n",
       "      <td>-0.738643</td>\n",
       "      <td>-1.462359</td>\n",
       "      <td>-1.258099</td>\n",
       "      <td>-0.071523</td>\n",
       "      <td>-0.301249</td>\n",
       "      <td>1.629444</td>\n",
       "      <td>1.524243</td>\n",
       "    </tr>\n",
       "    <tr>\n",
       "      <th>4</th>\n",
       "      <td>-1.052030</td>\n",
       "      <td>-0.130753</td>\n",
       "      <td>-0.763506</td>\n",
       "      <td>1.068668</td>\n",
       "      <td>5.173770</td>\n",
       "      <td>9.285029</td>\n",
       "      <td>-0.591720</td>\n",
       "      <td>0.514333</td>\n",
       "      <td>-0.606014</td>\n",
       "      <td>-0.268476</td>\n",
       "      <td>1.689501</td>\n",
       "      <td>-0.647299</td>\n",
       "      <td>0.425468</td>\n",
       "      <td>7.307905</td>\n",
       "      <td>0.538425</td>\n",
       "      <td>-0.189159</td>\n",
       "      <td>-1.460039</td>\n",
       "      <td>-1.721531</td>\n",
       "    </tr>\n",
       "  </tbody>\n",
       "</table>\n",
       "</div>"
      ],
      "text/plain": [
       "   compactness  circularity  distance_circularity  radius_ratio  \\\n",
       "0     0.163231     0.520408              0.060669      0.264970   \n",
       "1    -0.322874    -0.619123              0.124067     -0.836393   \n",
       "2     1.256966     0.845988              1.518823      1.187734   \n",
       "3    -0.079822    -0.619123             -0.002729     -0.300595   \n",
       "4    -1.052030    -0.130753             -0.763506      1.068668   \n",
       "\n",
       "   pr.axis_aspect_ratio  max.length_aspect_ratio  scatter_ratio  \\\n",
       "0              1.283254                 0.299721      -0.198517   \n",
       "1             -0.599253                 0.085785      -0.591720   \n",
       "2              0.530251                 0.299721       1.162569   \n",
       "3              0.153750                 0.085785      -0.742952   \n",
       "4              5.173770                 9.285029      -0.591720   \n",
       "\n",
       "   elongatedness  pr.axis_rectangularity  max.length_rectangularity  \\\n",
       "0       0.129648               -0.217151                   0.766312   \n",
       "1       0.514333               -0.606014                  -0.337462   \n",
       "2      -1.152637                0.949438                   0.697326   \n",
       "3       0.642562               -0.606014                  -0.337462   \n",
       "4       0.514333               -0.606014                  -0.268476   \n",
       "\n",
       "   scaled_variance  scaled_variance.1  scaled_radius_of_gyration  \\\n",
       "0        -0.397397          -0.339014                   0.301676   \n",
       "1        -0.590034          -0.618754                  -0.502972   \n",
       "2         1.111591           1.122486                   1.415804   \n",
       "3        -0.911095          -0.738643                  -1.462359   \n",
       "4         1.689501          -0.647299                   0.425468   \n",
       "\n",
       "   scaled_radius_of_gyration.1  skewness_about  skewness_about.1  \\\n",
       "0                    -0.321192       -0.071523          0.371287   \n",
       "1                    -0.053505        0.538425          0.147109   \n",
       "2                     0.080339        1.555006         -0.413338   \n",
       "3                    -1.258099       -0.071523         -0.301249   \n",
       "4                     7.307905        0.538425         -0.189159   \n",
       "\n",
       "   skewness_about.2  hollows_ratio  \n",
       "0         -0.321809       0.171837  \n",
       "1          0.003400       0.442318  \n",
       "2         -0.159204       0.036596  \n",
       "3          1.629444       1.524243  \n",
       "4         -1.460039      -1.721531  "
      ]
     },
     "execution_count": 121,
     "metadata": {},
     "output_type": "execute_result"
    }
   ],
   "source": [
    "from scipy.stats import zscore\n",
    "\n",
    "veh_numeric=veh.apply(zscore)\n",
    "veh_numeric.head(5)"
   ]
  },
  {
   "cell_type": "markdown",
   "metadata": {},
   "source": [
    "### Create a dummy array called distortion\n"
   ]
  },
  {
   "cell_type": "code",
   "execution_count": 129,
   "metadata": {},
   "outputs": [],
   "source": [
    "distortion =[]"
   ]
  },
  {
   "cell_type": "markdown",
   "metadata": {},
   "source": [
    "### Calculating distortion - C distance\n",
    "Iterating values of k from 1 to 10 fit K means model Using c distance - Get the measure for Sum of squares error.\n",
    "#### Here, logically K-Means attempts to minimize distortion defined by the the sum of the squared distances between each observation and its closest centroid."
   ]
  },
  {
   "cell_type": "code",
   "execution_count": 130,
   "metadata": {},
   "outputs": [],
   "source": [
    "from sklearn.cluster import KMeans\n",
    "from scipy.spatial import distance\n",
    "for k in range(1, 10):\n",
    "    model = KMeans(n_clusters=k).fit(veh_numeric)\n",
    "    distortion.append(sum(np.min(distance.cdist(veh_numeric, model.cluster_centers_,'euclidean'), axis=1))/(veh_numeric.shape[0]))"
   ]
  },
  {
   "cell_type": "code",
   "execution_count": 131,
   "metadata": {},
   "outputs": [
    {
     "data": {
      "text/plain": [
       "[3.939299196727955,\n",
       " 2.966824380205441,\n",
       " 2.6428664657321073,\n",
       " 2.548719900313315,\n",
       " 2.4381132980751983,\n",
       " 2.3154735579656744,\n",
       " 2.2421006157090035,\n",
       " 2.1694693137249947,\n",
       " 2.103167276221658]"
      ]
     },
     "execution_count": 131,
     "metadata": {},
     "output_type": "execute_result"
    }
   ],
   "source": [
    "distortion"
   ]
  },
  {
   "cell_type": "markdown",
   "metadata": {},
   "source": [
    "### Plotting Elbow/ Scree Plot\n",
    "Use Matplotlib to plot the scree plot - Note: Scree plot plots distortion vs the no of clusters"
   ]
  },
  {
   "cell_type": "code",
   "execution_count": 132,
   "metadata": {},
   "outputs": [
    {
     "data": {
      "text/plain": [
       "[<matplotlib.lines.Line2D at 0xe4e4c18>]"
      ]
     },
     "execution_count": 132,
     "metadata": {},
     "output_type": "execute_result"
    },
    {
     "data": {
      "image/png": "[encoded data removed]",
      "text/plain": [
       "<Figure size 432x288 with 1 Axes>"
      ]
     },
     "metadata": {
      "needs_background": "light"
     },
     "output_type": "display_data"
    }
   ],
   "source": [
    "import matplotlib.pylab as plt\n",
    "import seaborn as sns; sns.set() \n",
    "%matplotlib inline\n",
    "plt.plot(range(1,10), distortion)"
   ]
  },
  {
   "cell_type": "markdown",
   "metadata": {},
   "source": [
    "### Find out the optimal value of K"
   ]
  },
  {
   "cell_type": "code",
   "execution_count": null,
   "metadata": {},
   "outputs": [],
   "source": [
    "#From the above graph, the optimal value of K can be chosen as 3 and the Expected class variable also has 3 possible values"
   ]
  },
  {
   "cell_type": "markdown",
   "metadata": {},
   "source": [
    "### Using optimal value of K - Cluster the data.\n",
    "Note: Since the data has more than 2 dimension we cannot visualize the data. As an alternative, we can observe the centroids and note how they are distributed across different dimensions"
   ]
  },
  {
   "cell_type": "code",
   "execution_count": 134,
   "metadata": {},
   "outputs": [],
   "source": [
    "from sklearn.cluster import KMeans"
   ]
  },
  {
   "cell_type": "code",
   "execution_count": null,
   "metadata": {},
   "outputs": [],
   "source": [
    "km = KMeans(n_clusters=3, \n",
    "            n_init=10, \n",
    "            max_iter=300,random_state=1)"
   ]
  },
  {
   "cell_type": "code",
   "execution_count": 136,
   "metadata": {},
   "outputs": [
    {
     "data": {
      "text/plain": [
       "KMeans(algorithm='auto', copy_x=True, init='k-means++', max_iter=300,\n",
       "    n_clusters=3, n_init=10, n_jobs=None, precompute_distances='auto',\n",
       "    random_state=1, tol=0.0001, verbose=0)"
      ]
     },
     "execution_count": 136,
     "metadata": {},
     "output_type": "execute_result"
    }
   ],
   "source": [
    "km.fit(veh_numeric)"
   ]
  },
  {
   "cell_type": "markdown",
   "metadata": {},
   "source": [
    "You can use kmeans.cluster\\_centers\\_ function to pull the centroid information from the instance"
   ]
  },
  {
   "cell_type": "code",
   "execution_count": 137,
   "metadata": {},
   "outputs": [
    {
     "data": {
      "text/plain": [
       "array([[-0.91987072, -0.52009251, -0.89320752, -1.06435572, -0.50042171,\n",
       "        -0.2190738 , -0.7791213 ,  0.86589322, -0.74535635, -0.484632  ,\n",
       "        -0.78240328, -0.78341064, -0.38498232,  0.83878747, -0.09524349,\n",
       "        -0.30171562, -1.05420601, -1.11069466],\n",
       "       [ 1.13076532,  1.17094237,  1.19500584,  1.01909505,  0.21505188,\n",
       "         0.34250798,  1.27180461, -1.19061224,  1.27548416,  1.09266768,\n",
       "         1.22038121,  1.28132727,  1.07954232, -0.02879497,  0.16229031,\n",
       "         0.26566456, -0.00535553,  0.18380067],\n",
       "       [-0.2339617 , -0.57387481, -0.30776905, -0.03041322,  0.2050726 ,\n",
       "        -0.11653151, -0.45904181,  0.32506329, -0.48798836, -0.53604446,\n",
       "        -0.41380935, -0.46366305, -0.60155031, -0.61924057, -0.06177969,\n",
       "         0.01066762,  0.81278556,  0.69897299]])"
      ]
     },
     "execution_count": 137,
     "metadata": {},
     "output_type": "execute_result"
    }
   ],
   "source": [
    "centroids = km.cluster_centers_\n",
    "centroids"
   ]
  },
  {
   "cell_type": "markdown",
   "metadata": {},
   "source": [
    "### Store the centroids in a dataframe with column names from the original dataset given"
   ]
  },
  {
   "cell_type": "markdown",
   "metadata": {},
   "source": [
    "Hint: Use pd.Dataframe function "
   ]
  },
  {
   "cell_type": "code",
   "execution_count": 138,
   "metadata": {},
   "outputs": [
    {
     "data": {
      "text/html": [
       "<div>\n",
       "<style scoped>\n",
       "    .dataframe tbody tr th:only-of-type {\n",
       "        vertical-align: middle;\n",
       "    }\n",
       "\n",
       "    .dataframe tbody tr th {\n",
       "        vertical-align: top;\n",
       "    }\n",
       "\n",
       "    .dataframe thead th {\n",
       "        text-align: right;\n",
       "    }\n",
       "</style>\n",
       "<table border=\"1\" class=\"dataframe\">\n",
       "  <thead>\n",
       "    <tr style=\"text-align: right;\">\n",
       "      <th></th>\n",
       "      <th>compactness</th>\n",
       "      <th>circularity</th>\n",
       "      <th>distance_circularity</th>\n",
       "      <th>radius_ratio</th>\n",
       "      <th>pr.axis_aspect_ratio</th>\n",
       "      <th>max.length_aspect_ratio</th>\n",
       "      <th>scatter_ratio</th>\n",
       "      <th>elongatedness</th>\n",
       "      <th>pr.axis_rectangularity</th>\n",
       "      <th>max.length_rectangularity</th>\n",
       "      <th>scaled_variance</th>\n",
       "      <th>scaled_variance.1</th>\n",
       "      <th>scaled_radius_of_gyration</th>\n",
       "      <th>scaled_radius_of_gyration.1</th>\n",
       "      <th>skewness_about</th>\n",
       "      <th>skewness_about.1</th>\n",
       "      <th>skewness_about.2</th>\n",
       "      <th>hollows_ratio</th>\n",
       "    </tr>\n",
       "  </thead>\n",
       "  <tbody>\n",
       "    <tr>\n",
       "      <th>0</th>\n",
       "      <td>-0.919871</td>\n",
       "      <td>-0.520093</td>\n",
       "      <td>-0.893208</td>\n",
       "      <td>-1.064356</td>\n",
       "      <td>-0.500422</td>\n",
       "      <td>-0.219074</td>\n",
       "      <td>-0.779121</td>\n",
       "      <td>0.865893</td>\n",
       "      <td>-0.745356</td>\n",
       "      <td>-0.484632</td>\n",
       "      <td>-0.782403</td>\n",
       "      <td>-0.783411</td>\n",
       "      <td>-0.384982</td>\n",
       "      <td>0.838787</td>\n",
       "      <td>-0.095243</td>\n",
       "      <td>-0.301716</td>\n",
       "      <td>-1.054206</td>\n",
       "      <td>-1.110695</td>\n",
       "    </tr>\n",
       "    <tr>\n",
       "      <th>1</th>\n",
       "      <td>1.130765</td>\n",
       "      <td>1.170942</td>\n",
       "      <td>1.195006</td>\n",
       "      <td>1.019095</td>\n",
       "      <td>0.215052</td>\n",
       "      <td>0.342508</td>\n",
       "      <td>1.271805</td>\n",
       "      <td>-1.190612</td>\n",
       "      <td>1.275484</td>\n",
       "      <td>1.092668</td>\n",
       "      <td>1.220381</td>\n",
       "      <td>1.281327</td>\n",
       "      <td>1.079542</td>\n",
       "      <td>-0.028795</td>\n",
       "      <td>0.162290</td>\n",
       "      <td>0.265665</td>\n",
       "      <td>-0.005356</td>\n",
       "      <td>0.183801</td>\n",
       "    </tr>\n",
       "    <tr>\n",
       "      <th>2</th>\n",
       "      <td>-0.233962</td>\n",
       "      <td>-0.573875</td>\n",
       "      <td>-0.307769</td>\n",
       "      <td>-0.030413</td>\n",
       "      <td>0.205073</td>\n",
       "      <td>-0.116532</td>\n",
       "      <td>-0.459042</td>\n",
       "      <td>0.325063</td>\n",
       "      <td>-0.487988</td>\n",
       "      <td>-0.536044</td>\n",
       "      <td>-0.413809</td>\n",
       "      <td>-0.463663</td>\n",
       "      <td>-0.601550</td>\n",
       "      <td>-0.619241</td>\n",
       "      <td>-0.061780</td>\n",
       "      <td>0.010668</td>\n",
       "      <td>0.812786</td>\n",
       "      <td>0.698973</td>\n",
       "    </tr>\n",
       "  </tbody>\n",
       "</table>\n",
       "</div>"
      ],
      "text/plain": [
       "   compactness  circularity  distance_circularity  radius_ratio  \\\n",
       "0    -0.919871    -0.520093             -0.893208     -1.064356   \n",
       "1     1.130765     1.170942              1.195006      1.019095   \n",
       "2    -0.233962    -0.573875             -0.307769     -0.030413   \n",
       "\n",
       "   pr.axis_aspect_ratio  max.length_aspect_ratio  scatter_ratio  \\\n",
       "0             -0.500422                -0.219074      -0.779121   \n",
       "1              0.215052                 0.342508       1.271805   \n",
       "2              0.205073                -0.116532      -0.459042   \n",
       "\n",
       "   elongatedness  pr.axis_rectangularity  max.length_rectangularity  \\\n",
       "0       0.865893               -0.745356                  -0.484632   \n",
       "1      -1.190612                1.275484                   1.092668   \n",
       "2       0.325063               -0.487988                  -0.536044   \n",
       "\n",
       "   scaled_variance  scaled_variance.1  scaled_radius_of_gyration  \\\n",
       "0        -0.782403          -0.783411                  -0.384982   \n",
       "1         1.220381           1.281327                   1.079542   \n",
       "2        -0.413809          -0.463663                  -0.601550   \n",
       "\n",
       "   scaled_radius_of_gyration.1  skewness_about  skewness_about.1  \\\n",
       "0                     0.838787       -0.095243         -0.301716   \n",
       "1                    -0.028795        0.162290          0.265665   \n",
       "2                    -0.619241       -0.061780          0.010668   \n",
       "\n",
       "   skewness_about.2  hollows_ratio  \n",
       "0         -1.054206      -1.110695  \n",
       "1         -0.005356       0.183801  \n",
       "2          0.812786       0.698973  "
      ]
     },
     "execution_count": 138,
     "metadata": {},
     "output_type": "execute_result"
    }
   ],
   "source": [
    "km_df = pd.DataFrame(centroids, columns= veh.columns)\n",
    "km_df.head()"
   ]
  },
  {
   "cell_type": "markdown",
   "metadata": {},
   "source": [
    "### Use kmeans.labels_ function to print out the labels of the classes"
   ]
  },
  {
   "cell_type": "code",
   "execution_count": 139,
   "metadata": {},
   "outputs": [
    {
     "data": {
      "text/plain": [
       "array([2, 2, 1, 2, 0, 2, 2, 2, 2, 2, 2, 2, 2, 1, 0, 2, 1, 0, 0, 2, 2, 1,\n",
       "       2, 0, 1, 1, 0, 2, 2, 2, 1, 2, 0, 1, 1, 0, 1, 0, 0, 2, 1, 0, 0, 0,\n",
       "       0, 2, 0, 2, 1, 2, 1, 2, 2, 0, 1, 0, 1, 0, 0, 0, 2, 0, 1, 2, 1, 1,\n",
       "       2, 0, 2, 1, 2, 0, 0, 1, 2, 0, 2, 1, 2, 0, 2, 0, 1, 2, 1, 2, 0, 1,\n",
       "       0, 0, 1, 0, 0, 2, 2, 0, 1, 1, 0, 0, 1, 2, 2, 0, 0, 0, 2, 1, 1, 2,\n",
       "       0, 0, 2, 0, 0, 0, 0, 0, 2, 1, 1, 2, 2, 0, 1, 1, 0, 2, 0, 2, 2, 1,\n",
       "       0, 2, 1, 2, 2, 2, 2, 1, 2, 2, 1, 2, 1, 2, 0, 2, 0, 1, 2, 2, 1, 1,\n",
       "       2, 1, 0, 0, 1, 1, 2, 1, 2, 2, 2, 2, 0, 1, 0, 2, 0, 1, 2, 2, 2, 1,\n",
       "       2, 1, 2, 1, 2, 0, 1, 0, 0, 0, 2, 2, 1, 1, 2, 2, 2, 0, 1, 2, 2, 2,\n",
       "       1, 0, 0, 1, 0, 2, 1, 0, 0, 0, 2, 1, 2, 1, 0, 0, 0, 0, 1, 2, 0, 2,\n",
       "       1, 0, 2, 2, 0, 1, 0, 0, 2, 2, 1, 0, 1, 0, 2, 2, 1, 2, 2, 1, 1, 0,\n",
       "       2, 2, 2, 1, 0, 2, 2, 0, 0, 2, 2, 1, 2, 0, 0, 1, 2, 2, 0, 0, 1, 0,\n",
       "       2, 1, 0, 2, 1, 2, 2, 1, 2, 1, 0, 2, 2, 1, 2, 2, 2, 0, 2, 1, 1, 1,\n",
       "       1, 0, 2, 1, 0, 0, 0, 2, 0, 1, 1, 0, 1, 2, 0, 1, 2, 2, 2, 1, 1, 0,\n",
       "       1, 1, 0, 1, 2, 2, 2, 0, 0, 1, 1, 1, 2, 2, 2, 1, 0, 2, 0, 1, 2, 2,\n",
       "       1, 2, 1, 1, 1, 2, 0, 0, 1, 0, 0, 0, 2, 2, 2, 2, 0, 1, 1, 0, 0, 1,\n",
       "       0, 1, 0, 1, 2, 0, 2, 0, 1, 1, 0, 2, 2, 2, 1, 2, 2, 2, 2, 1, 2, 1,\n",
       "       2, 1, 2, 0, 0, 2, 2, 2, 0, 0, 2, 0, 1, 2, 2, 0, 0, 1, 2, 0, 2, 2,\n",
       "       1, 2, 1, 2, 1, 1, 0, 0, 1, 2, 0, 0, 2, 1, 1, 0, 2, 1, 1, 0, 1, 1,\n",
       "       1, 2, 2, 2, 2, 2, 1, 0, 0, 2, 1, 2, 2, 1, 2, 0, 1, 0, 0, 1, 2, 0,\n",
       "       1, 1, 1, 0, 1, 1, 0, 2, 0, 1, 1, 2, 2, 0, 0, 1, 2, 0, 1, 1, 2, 0,\n",
       "       1, 1, 2, 0, 0, 1, 1, 1, 0, 0, 1, 1, 1, 2, 2, 1, 0, 2, 1, 2, 0, 0,\n",
       "       2, 1, 0, 2, 2, 0, 2, 1, 2, 1, 1, 2, 0, 2, 1, 1, 0, 0, 2, 1, 2, 1,\n",
       "       1, 2, 2, 2, 2, 0, 0, 0, 2, 2, 1, 0, 0, 2, 0, 1, 2, 1, 0, 0, 1, 1,\n",
       "       2, 1, 2, 2, 2, 1, 2, 0, 2, 1, 2, 2, 0, 1, 1, 1, 1, 2, 0, 0, 0, 1,\n",
       "       1, 1, 2, 1, 0, 2, 1, 0, 0, 0, 2, 0, 1, 2, 2, 2, 2, 2, 2, 1, 2, 2,\n",
       "       1, 2, 2, 2, 0, 1, 0, 0, 2, 0, 2, 2, 0, 0, 1, 1, 0, 2, 1, 2, 1, 2,\n",
       "       2, 1, 2, 0, 1, 0, 1, 0, 0, 2, 0, 2, 1, 1, 0, 1, 2, 2, 0, 2, 0, 1,\n",
       "       2, 1, 0, 2, 2, 2, 0, 0, 0, 2, 1, 2, 1, 0, 2, 2, 2, 2, 1, 2, 0, 1,\n",
       "       2, 1, 2, 2, 1, 0, 1, 0, 2, 2, 2, 0, 1, 2, 0, 2, 1, 0, 1, 2, 2, 1,\n",
       "       0, 2, 0, 2, 2, 0, 2, 1, 1, 2, 2, 1, 1, 2, 2, 0, 2, 1, 1, 1, 1, 2,\n",
       "       1, 2, 2, 1, 1, 2, 1, 2, 1, 2, 0, 1, 2, 0, 1, 1, 1, 2, 1, 0, 0, 1,\n",
       "       1, 1, 2, 1, 2, 2, 1, 2, 0, 2, 0, 2, 1, 2, 0, 2, 2, 2, 0, 1, 0, 0,\n",
       "       0, 1, 1, 0, 1, 1, 0, 2, 2, 1, 2, 0, 1, 1, 0, 2, 2, 1, 1, 1, 0, 1,\n",
       "       2, 1, 1, 0, 0, 1, 0, 1, 2, 0, 2, 1, 1, 2, 0, 2, 1, 1, 2, 2, 0, 2,\n",
       "       2, 1, 0, 2, 1, 0, 0, 1, 0, 2, 0, 0, 0, 2, 1, 1, 2, 0, 1, 2, 1, 1,\n",
       "       0, 2, 1, 0, 0, 2, 2, 1, 0, 0, 1, 0, 2, 2, 2, 2, 2, 2, 1, 2, 0])"
      ]
     },
     "execution_count": 139,
     "metadata": {},
     "output_type": "execute_result"
    }
   ],
   "source": [
    "km.labels_"
   ]
  }
 ],
 "metadata": {
  "kernelspec": {
   "display_name": "Python 3",
   "language": "python",
   "name": "python3"
  },
  "language_info": {
   "codemirror_mode": {
    "name": "ipython",
    "version": 3
   },
   "file_extension": ".py",
   "mimetype": "text/x-python",
   "name": "python",
   "nbconvert_exporter": "python",
   "pygments_lexer": "ipython3",
   "version": "3.7.3"
  }
 },
 "nbformat": 4,
 "nbformat_minor": 2
}
