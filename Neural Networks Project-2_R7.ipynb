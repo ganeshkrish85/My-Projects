{
 "cells": [
  {
   "cell_type": "code",
   "execution_count": 0,
   "metadata": {
    "colab": {},
    "colab_type": "code",
    "id": "GqtdSwDusl0Y"
   },
   "outputs": [],
   "source": [
    "import tensorflow as tf"
   ]
  },
  {
   "cell_type": "code",
   "execution_count": 0,
   "metadata": {
    "colab": {},
    "colab_type": "code",
    "id": "8CaimMsJswC7"
   },
   "outputs": [],
   "source": [
    "from google.colab import drive"
   ]
  },
  {
   "cell_type": "code",
   "execution_count": 80,
   "metadata": {
    "colab": {
     "base_uri": "https://localhost:8080/",
     "height": 34
    },
    "colab_type": "code",
    "id": "9DI5CZoNsykR",
    "outputId": "fc2d4545-a339-487c-fc5e-b1bd6a86bd40"
   },
   "outputs": [
    {
     "name": "stdout",
     "output_type": "stream",
     "text": [
      "Drive already mounted at /content/drive; to attempt to forcibly remount, call drive.mount(\"/content/drive\", force_remount=True).\n"
     ]
    }
   ],
   "source": [
    "drive.mount(\"/content/drive\")"
   ]
  },
  {
   "cell_type": "code",
   "execution_count": 81,
   "metadata": {
    "colab": {
     "base_uri": "https://localhost:8080/",
     "height": 34
    },
    "colab_type": "code",
    "id": "IVyh5p10s-el",
    "outputId": "628e35ca-28fd-41cf-8799-33fece746d6c"
   },
   "outputs": [
    {
     "name": "stdout",
     "output_type": "stream",
     "text": [
      "-rw------- 1 root root 491644096 Oct  8 05:09 './drive/My Drive/SVHN_single_grey1.h5'\n"
     ]
    }
   ],
   "source": [
    "!ls -all  './drive/My Drive/SVHN_single_grey1.h5'"
   ]
  },
  {
   "cell_type": "code",
   "execution_count": 0,
   "metadata": {
    "colab": {},
    "colab_type": "code",
    "id": "ALtBTkZOyVuI"
   },
   "outputs": [],
   "source": [
    "File = './drive/My Drive/SVHN_single_grey1.h5'"
   ]
  },
  {
   "cell_type": "code",
   "execution_count": 83,
   "metadata": {
    "colab": {
     "base_uri": "https://localhost:8080/",
     "height": 34
    },
    "colab_type": "code",
    "id": "OkiTbJaNyofL",
    "outputId": "9990ab81-958b-437f-e402-e29198780887"
   },
   "outputs": [
    {
     "data": {
      "text/plain": [
       "'./drive/My Drive/SVHN_single_grey1.h5'"
      ]
     },
     "execution_count": 83,
     "metadata": {
      "tags": []
     },
     "output_type": "execute_result"
    }
   ],
   "source": [
    "File"
   ]
  },
  {
   "cell_type": "code",
   "execution_count": 0,
   "metadata": {
    "colab": {},
    "colab_type": "code",
    "id": "ko3i8OSWyuuM"
   },
   "outputs": [],
   "source": [
    "import h5py"
   ]
  },
  {
   "cell_type": "code",
   "execution_count": 0,
   "metadata": {
    "colab": {},
    "colab_type": "code",
    "id": "srR7jCChzCis"
   },
   "outputs": [],
   "source": [
    "f = h5py.File(File, 'r')"
   ]
  },
  {
   "cell_type": "code",
   "execution_count": 54,
   "metadata": {
    "colab": {
     "base_uri": "https://localhost:8080/",
     "height": 34
    },
    "colab_type": "code",
    "id": "-ZFLRu6pzCmM",
    "outputId": "551e461f-e878-473a-cb89-e79e37e84881"
   },
   "outputs": [
    {
     "name": "stdout",
     "output_type": "stream",
     "text": [
      "Keys: KeysView(<HDF5 file \"SVHN_single_grey1.h5\" (mode r)>)\n"
     ]
    }
   ],
   "source": [
    "print(\"Keys: %s\" % f.keys())\n",
    "a_group_key = list(f.keys())[0]"
   ]
  },
  {
   "cell_type": "code",
   "execution_count": 0,
   "metadata": {
    "colab": {},
    "colab_type": "code",
    "id": "MnemPzwUzLCM"
   },
   "outputs": [],
   "source": [
    "data = list(f[a_group_key])"
   ]
  },
  {
   "cell_type": "code",
   "execution_count": 86,
   "metadata": {
    "colab": {
     "base_uri": "https://localhost:8080/",
     "height": 34
    },
    "colab_type": "code",
    "id": "sVvDMvXtzObT",
    "outputId": "3faeb9cc-06ca-4192-a9bc-b1e0a5912c25"
   },
   "outputs": [
    {
     "data": {
      "text/plain": [
       "['X_test', 'X_train', 'X_val', 'y_test', 'y_train', 'y_val']"
      ]
     },
     "execution_count": 86,
     "metadata": {
      "tags": []
     },
     "output_type": "execute_result"
    }
   ],
   "source": [
    "\n",
    "#List the keys present in the dataset\n",
    "list(f.keys())"
   ]
  },
  {
   "cell_type": "code",
   "execution_count": 87,
   "metadata": {
    "colab": {
     "base_uri": "https://localhost:8080/",
     "height": 119
    },
    "colab_type": "code",
    "id": "P3qju3W_2Y5n",
    "outputId": "325ee91e-15c0-4c58-9ea8-804e88456b21"
   },
   "outputs": [
    {
     "name": "stdout",
     "output_type": "stream",
     "text": [
      "Key value  X_test\n",
      "Key value  X_train\n",
      "Key value  X_val\n",
      "Key value  y_test\n",
      "Key value  y_train\n",
      "Key value  y_val\n"
     ]
    }
   ],
   "source": [
    "#Printing the keys in the dataset\n",
    "for key in f.keys():\n",
    "  print(\"Key value \",key)"
   ]
  },
  {
   "cell_type": "code",
   "execution_count": 88,
   "metadata": {
    "colab": {
     "base_uri": "https://localhost:8080/",
     "height": 119
    },
    "colab_type": "code",
    "id": "bGc9kdTz2Y8T",
    "outputId": "ed6848fd-3c8a-44e2-b93f-0b0751a87158"
   },
   "outputs": [
    {
     "name": "stdout",
     "output_type": "stream",
     "text": [
      "key value is  1 X_test\n",
      "key value is  2 X_train\n",
      "key value is  3 X_val\n",
      "key value is  4 y_test\n",
      "key value is  5 y_train\n",
      "key value is  6 y_val\n"
     ]
    }
   ],
   "source": [
    "#Fetching the data for each of the keys present in the dataset\n",
    "for i, key in enumerate(f.keys()):\n",
    "  print('key value is ',i+1, key)\n",
    "  X_train = f['X_train'].value\n",
    "  if(key == 'X_test'):\n",
    "    X_test = f['X_test'].value\n",
    "  if(key == 'X_val'):\n",
    "    X_val = f['X_val'].value\n",
    "  if(key == 'y_test'):\n",
    "    y_test = f['y_test'].value\n",
    "  if(key == 'y_train'):\n",
    "    y_train = f['y_train'].value\n",
    "  if(key == 'y_val'):\n",
    "    y_val = f['y_val'].value"
   ]
  },
  {
   "cell_type": "code",
   "execution_count": 0,
   "metadata": {
    "colab": {},
    "colab_type": "code",
    "id": "IArZGPMI2ZEY"
   },
   "outputs": [],
   "source": [
    "#Creating a function to reshape 3D data to 2D data, as KNN will not accept 3D data\n",
    "#Reashaping by keeping the number of samples as the first dimension and the product of x and y as the second dimension.\n",
    "\n",
    "def reshape(X):\n",
    "  number_of_samples, nx, ny = X.shape\n",
    "  X = X.reshape((number_of_samples, nx*ny))\n",
    "  print(X.shape)\n",
    "  return X"
   ]
  },
  {
   "cell_type": "code",
   "execution_count": 90,
   "metadata": {
    "colab": {
     "base_uri": "https://localhost:8080/",
     "height": 119
    },
    "colab_type": "code",
    "id": "TgvKEs7C-iG5",
    "outputId": "71afb355-8d81-42c5-d888-849b57f584c7"
   },
   "outputs": [
    {
     "name": "stdout",
     "output_type": "stream",
     "text": [
      "(42000, 1024)\n",
      "Shape of X_train after reshaping  (42000, 1024)\n",
      "(18000, 1024)\n",
      "Shape of X_test after reshaping  (18000, 1024)\n",
      "(60000, 1024)\n",
      "Shape of X_val after reshaping  (60000, 1024)\n"
     ]
    }
   ],
   "source": [
    "X_train = reshape(X_train)\n",
    "print(\"Shape of X_train after reshaping \",X_train.shape)\n",
    "X_test = reshape(X_test)\n",
    "print(\"Shape of X_test after reshaping \",X_test.shape)\n",
    "X_val = reshape(X_val)\n",
    "print(\"Shape of X_val after reshaping \", X_val.shape)"
   ]
  },
  {
   "cell_type": "code",
   "execution_count": 0,
   "metadata": {
    "colab": {},
    "colab_type": "code",
    "id": "CbU9E1pL2Y-7"
   },
   "outputs": [],
   "source": [
    "import sklearn\n",
    "from sklearn import neighbors\n",
    "from sklearn.neighbors import KNeighborsClassifier"
   ]
  },
  {
   "cell_type": "code",
   "execution_count": 0,
   "metadata": {
    "colab": {},
    "colab_type": "code",
    "id": "m0nlvIEV2ZBu"
   },
   "outputs": [],
   "source": [
    "#Choosing optimum k value by square root of sample size by two (sqrt(42000)/2)\n",
    "\n",
    "knn = KNeighborsClassifier(n_neighbors=103, weights='uniform', algorithm='auto', n_jobs = -1)"
   ]
  },
  {
   "cell_type": "code",
   "execution_count": 93,
   "metadata": {
    "colab": {
     "base_uri": "https://localhost:8080/",
     "height": 68
    },
    "colab_type": "code",
    "id": "bJNLn5yZ-80r",
    "outputId": "db2d0ac4-79c0-4aef-d0db-d416994d02fe"
   },
   "outputs": [
    {
     "data": {
      "text/plain": [
       "KNeighborsClassifier(algorithm='auto', leaf_size=30, metric='minkowski',\n",
       "                     metric_params=None, n_jobs=-1, n_neighbors=103, p=2,\n",
       "                     weights='uniform')"
      ]
     },
     "execution_count": 93,
     "metadata": {
      "tags": []
     },
     "output_type": "execute_result"
    }
   ],
   "source": [
    "knn.fit(X_train, y_train)"
   ]
  },
  {
   "cell_type": "code",
   "execution_count": 0,
   "metadata": {
    "colab": {},
    "colab_type": "code",
    "id": "6ClnwNLG-_-G"
   },
   "outputs": [],
   "source": [
    "y_predict = knn.predict(X_test)"
   ]
  },
  {
   "cell_type": "code",
   "execution_count": 0,
   "metadata": {
    "colab": {},
    "colab_type": "code",
    "id": "Vobuz6hL_C6O"
   },
   "outputs": [],
   "source": [
    "from sklearn.metrics import accuracy_score, classification_report, f1_score, confusion_matrix"
   ]
  },
  {
   "cell_type": "code",
   "execution_count": 96,
   "metadata": {
    "colab": {
     "base_uri": "https://localhost:8080/",
     "height": 544
    },
    "colab_type": "code",
    "id": "sVjUFfd-_Dz6",
    "outputId": "0f5d6f40-19c8-4b9a-cef1-9bb505828ed4"
   },
   "outputs": [
    {
     "name": "stdout",
     "output_type": "stream",
     "text": [
      "Accuracy score  0.53 \n",
      "F1 score is  0.53\n",
      "Classification report\n",
      "              precision    recall  f1-score   support\n",
      "\n",
      "           0       0.43      0.71      0.53      1814\n",
      "           1       0.44      0.73      0.55      1828\n",
      "           2       0.66      0.50      0.57      1803\n",
      "           3       0.51      0.43      0.47      1719\n",
      "           4       0.65      0.64      0.65      1812\n",
      "           5       0.55      0.41      0.47      1768\n",
      "           6       0.54      0.40      0.46      1832\n",
      "           7       0.67      0.63      0.65      1808\n",
      "           8       0.51      0.39      0.44      1812\n",
      "           9       0.54      0.47      0.50      1804\n",
      "\n",
      "    accuracy                           0.53     18000\n",
      "   macro avg       0.55      0.53      0.53     18000\n",
      "weighted avg       0.55      0.53      0.53     18000\n",
      "\n",
      "Confusion matrix \n",
      "[[1287   82   25   43   52   29   90   39   51  116]\n",
      " [ 118 1328   53   62   68   31   36   66   30   36]\n",
      " [ 105  254  906   71   61   53   31  161   60  101]\n",
      " [ 131  282   90  740   51  149   31   78   95   72]\n",
      " [ 134  251   42   56 1167   21   51   17   26   47]\n",
      " [ 179  176   47  206   58  727  119   51  118   87]\n",
      " [ 367  155   31   52  152   85  738   22  168   62]\n",
      " [ 119  193   96   66   33   35   47 1132   31   56]\n",
      " [ 273  153   46  101   96  102  183   24  703  131]\n",
      " [ 294  170   45   62   63   92   45   92   95  846]]\n"
     ]
    }
   ],
   "source": [
    "print(\"Accuracy score %5.2f \" %(accuracy_score(y_true=y_test, y_pred=y_predict)))\n",
    "print(\"F1 score is %5.2f\" %(f1_score(y_true=y_test, y_pred=y_predict, average='weighted')))\n",
    "print(\"Classification report\")\n",
    "print(classification_report(y_test, y_predict))\n",
    "print(\"Confusion matrix \")\n",
    "print(confusion_matrix(y_test, y_predict))"
   ]
  },
  {
   "cell_type": "code",
   "execution_count": 0,
   "metadata": {
    "colab": {},
    "colab_type": "code",
    "id": "LxMuUdt-H1sY"
   },
   "outputs": [],
   "source": [
    "#Normalising the data\n",
    "X_train = X_train/1024\n",
    "X_test = X_test/1024\n",
    "X_val = X_val/1024"
   ]
  },
  {
   "cell_type": "code",
   "execution_count": 0,
   "metadata": {
    "colab": {},
    "colab_type": "code",
    "id": "L4znTpYzH8DQ"
   },
   "outputs": [],
   "source": [
    "#converting the classes to categorical\n",
    "y_train = tf.keras.utils.to_categorical(y_train, num_classes=10)\n",
    "y_test = tf.keras.utils.to_categorical(y_test, num_classes=10)\n",
    "y_val = tf.keras.utils.to_categorical(y_val, num_classes=10)"
   ]
  },
  {
   "cell_type": "code",
   "execution_count": 0,
   "metadata": {
    "colab": {},
    "colab_type": "code",
    "id": "VFR1FswMHt4D"
   },
   "outputs": [],
   "source": [
    "#Using Neural Networks\n",
    "\n",
    "model = tf.keras.models.Sequential()"
   ]
  },
  {
   "cell_type": "code",
   "execution_count": 100,
   "metadata": {
    "colab": {
     "base_uri": "https://localhost:8080/",
     "height": 34
    },
    "colab_type": "code",
    "id": "iJUiiLqZIRMZ",
    "outputId": "c1ce9bd3-924c-453a-e141-6363e2173d26"
   },
   "outputs": [
    {
     "data": {
      "text/plain": [
       "<tensorflow.python.keras.layers.core.Dense at 0x7f5a5a66aa20>"
      ]
     },
     "execution_count": 100,
     "metadata": {
      "tags": []
     },
     "output_type": "execute_result"
    }
   ],
   "source": [
    "#Batch normalisation and a dense layer with 200 neurons\n",
    "\n",
    "model.add(tf.keras.layers.BatchNormalization())\n",
    "tf.keras.layers.Dense(units=200, activation='relu', input_shape=(1024,))"
   ]
  },
  {
   "cell_type": "code",
   "execution_count": 0,
   "metadata": {
    "colab": {},
    "colab_type": "code",
    "id": "hsATjuyNIedx"
   },
   "outputs": [],
   "source": [
    "#Adding more layers\n",
    "model.add(tf.keras.layers.Dense(units=100, activation='relu'))\n",
    "model.add(tf.keras.layers.BatchNormalization())\n",
    "model.add(tf.keras.layers.Dense(units=50, activation='relu'))\n",
    "model.add(tf.keras.layers.BatchNormalization())\n",
    "model.add(tf.keras.layers.Dense(units=20, activation='relu'))\n",
    "model.add(tf.keras.layers.BatchNormalization())\n",
    "model.add(tf.keras.layers.Dense(units=10, activation='softmax'))"
   ]
  },
  {
   "cell_type": "code",
   "execution_count": 0,
   "metadata": {
    "colab": {},
    "colab_type": "code",
    "id": "A5I5Wi_qIrIZ"
   },
   "outputs": [],
   "source": [
    "model.compile(optimizer='adam', loss='categorical_crossentropy', metrics=['accuracy'])"
   ]
  },
  {
   "cell_type": "code",
   "execution_count": 103,
   "metadata": {
    "colab": {
     "base_uri": "https://localhost:8080/",
     "height": 1000
    },
    "colab_type": "code",
    "id": "dWWegS_oIsy0",
    "outputId": "6726894c-5618-4dc3-96dc-64124efe9943"
   },
   "outputs": [
    {
     "name": "stdout",
     "output_type": "stream",
     "text": [
      "Train on 42000 samples, validate on 60000 samples\n",
      "Epoch 1/30\n",
      "42000/42000 [==============================] - 11s 250us/sample - loss: 1.5742 - acc: 0.4762 - val_loss: 1.1274 - val_acc: 0.6489\n",
      "Epoch 2/30\n",
      "42000/42000 [==============================] - 11s 259us/sample - loss: 1.0909 - acc: 0.6558 - val_loss: 0.9297 - val_acc: 0.7079\n",
      "Epoch 3/30\n",
      "42000/42000 [==============================] - 11s 261us/sample - loss: 0.9431 - acc: 0.7055 - val_loss: 0.8465 - val_acc: 0.7359\n",
      "Epoch 4/30\n",
      "42000/42000 [==============================] - 11s 255us/sample - loss: 0.8540 - acc: 0.7338 - val_loss: 0.7484 - val_acc: 0.7670\n",
      "Epoch 5/30\n",
      "42000/42000 [==============================] - 10s 237us/sample - loss: 0.8005 - acc: 0.7467 - val_loss: 0.6828 - val_acc: 0.7900\n",
      "Epoch 6/30\n",
      "42000/42000 [==============================] - 10s 240us/sample - loss: 0.7547 - acc: 0.7620 - val_loss: 0.6314 - val_acc: 0.8057\n",
      "Epoch 7/30\n",
      "42000/42000 [==============================] - 10s 227us/sample - loss: 0.7210 - acc: 0.7729 - val_loss: 0.6133 - val_acc: 0.8101\n",
      "Epoch 8/30\n",
      "42000/42000 [==============================] - 10s 236us/sample - loss: 0.6920 - acc: 0.7825 - val_loss: 0.5873 - val_acc: 0.8196\n",
      "Epoch 9/30\n",
      "42000/42000 [==============================] - 10s 231us/sample - loss: 0.6591 - acc: 0.7941 - val_loss: 0.5624 - val_acc: 0.8291\n",
      "Epoch 10/30\n",
      "42000/42000 [==============================] - 10s 239us/sample - loss: 0.6454 - acc: 0.7986 - val_loss: 0.5545 - val_acc: 0.8293\n",
      "Epoch 11/30\n",
      "42000/42000 [==============================] - 10s 242us/sample - loss: 0.6286 - acc: 0.8018 - val_loss: 0.5358 - val_acc: 0.8352\n",
      "Epoch 12/30\n",
      "42000/42000 [==============================] - 10s 249us/sample - loss: 0.6095 - acc: 0.8095 - val_loss: 0.5230 - val_acc: 0.8409\n",
      "Epoch 13/30\n",
      "42000/42000 [==============================] - 11s 253us/sample - loss: 0.5907 - acc: 0.8147 - val_loss: 0.5018 - val_acc: 0.8464\n",
      "Epoch 14/30\n",
      "42000/42000 [==============================] - 11s 253us/sample - loss: 0.5861 - acc: 0.8153 - val_loss: 0.5004 - val_acc: 0.8479\n",
      "Epoch 15/30\n",
      "42000/42000 [==============================] - 10s 244us/sample - loss: 0.5712 - acc: 0.8193 - val_loss: 0.4735 - val_acc: 0.8555\n",
      "Epoch 16/30\n",
      "42000/42000 [==============================] - 10s 249us/sample - loss: 0.5693 - acc: 0.8204 - val_loss: 0.4648 - val_acc: 0.8586\n",
      "Epoch 17/30\n",
      "42000/42000 [==============================] - 10s 238us/sample - loss: 0.5539 - acc: 0.8270 - val_loss: 0.4617 - val_acc: 0.8595\n",
      "Epoch 18/30\n",
      "42000/42000 [==============================] - 10s 246us/sample - loss: 0.5477 - acc: 0.8274 - val_loss: 0.4817 - val_acc: 0.8513\n",
      "Epoch 19/30\n",
      "42000/42000 [==============================] - 10s 242us/sample - loss: 0.5368 - acc: 0.8298 - val_loss: 0.4438 - val_acc: 0.8655\n",
      "Epoch 20/30\n",
      "42000/42000 [==============================] - 10s 242us/sample - loss: 0.5275 - acc: 0.8306 - val_loss: 0.4422 - val_acc: 0.8667\n",
      "Epoch 21/30\n",
      "42000/42000 [==============================] - 10s 242us/sample - loss: 0.5223 - acc: 0.8347 - val_loss: 0.4583 - val_acc: 0.8586\n",
      "Epoch 22/30\n",
      "42000/42000 [==============================] - 10s 242us/sample - loss: 0.5166 - acc: 0.8358 - val_loss: 0.4351 - val_acc: 0.8677\n",
      "Epoch 23/30\n",
      "42000/42000 [==============================] - 10s 232us/sample - loss: 0.5032 - acc: 0.8414 - val_loss: 0.4275 - val_acc: 0.8706\n",
      "Epoch 24/30\n",
      "42000/42000 [==============================] - 10s 233us/sample - loss: 0.5086 - acc: 0.8388 - val_loss: 0.4218 - val_acc: 0.8715\n",
      "Epoch 25/30\n",
      "42000/42000 [==============================] - 10s 234us/sample - loss: 0.4996 - acc: 0.8407 - val_loss: 0.4286 - val_acc: 0.8696\n",
      "Epoch 26/30\n",
      "42000/42000 [==============================] - 11s 261us/sample - loss: 0.4924 - acc: 0.8462 - val_loss: 0.4054 - val_acc: 0.8788\n",
      "Epoch 27/30\n",
      "42000/42000 [==============================] - 11s 261us/sample - loss: 0.4880 - acc: 0.8455 - val_loss: 0.4037 - val_acc: 0.8799\n",
      "Epoch 28/30\n",
      "42000/42000 [==============================] - 11s 262us/sample - loss: 0.4842 - acc: 0.8457 - val_loss: 0.4020 - val_acc: 0.8794\n",
      "Epoch 29/30\n",
      "42000/42000 [==============================] - 11s 262us/sample - loss: 0.4759 - acc: 0.8476 - val_loss: 0.4012 - val_acc: 0.8791\n",
      "Epoch 30/30\n",
      "42000/42000 [==============================] - 10s 243us/sample - loss: 0.4724 - acc: 0.8515 - val_loss: 0.4123 - val_acc: 0.8758\n"
     ]
    },
    {
     "data": {
      "text/plain": [
       "<tensorflow.python.keras.callbacks.History at 0x7f5a59644da0>"
      ]
     },
     "execution_count": 103,
     "metadata": {
      "tags": []
     },
     "output_type": "execute_result"
    }
   ],
   "source": [
    "model.fit(x=X_train, y=y_train, batch_size=64, epochs=30, validation_data=(X_val, y_val))"
   ]
  },
  {
   "cell_type": "code",
   "execution_count": 0,
   "metadata": {
    "colab": {},
    "colab_type": "code",
    "id": "S63kmIAeIuob"
   },
   "outputs": [],
   "source": [
    "\n",
    "y_pred = model.predict(X_test)"
   ]
  },
  {
   "cell_type": "code",
   "execution_count": 105,
   "metadata": {
    "colab": {
     "base_uri": "https://localhost:8080/",
     "height": 51
    },
    "colab_type": "code",
    "id": "-L_Y-ibsIwn2",
    "outputId": "a5994d8a-13f2-463e-f451-aa469c760146"
   },
   "outputs": [
    {
     "name": "stdout",
     "output_type": "stream",
     "text": [
      "18000/18000 [==============================] - 2s 109us/sample - loss: 0.5368 - acc: 0.8426\n"
     ]
    },
    {
     "data": {
      "text/plain": [
       "[0.536803988787863, 0.8425556]"
      ]
     },
     "execution_count": 105,
     "metadata": {
      "tags": []
     },
     "output_type": "execute_result"
    }
   ],
   "source": [
    "model.evaluate(X_test, y_test)"
   ]
  },
  {
   "cell_type": "code",
   "execution_count": 0,
   "metadata": {
    "colab": {},
    "colab_type": "code",
    "id": "tIVP5meehwE_"
   },
   "outputs": [],
   "source": [
    "#Differences and trade-offs between traditional and NN classifiers\n",
    "\n",
    "#The KNN classifer took a lot of time to predict the test values.\n",
    "#The accuracy score is just 53% which is very low when compared with the neural network model.\n",
    "#The Neural network model with batch normalization, RELU as activation function and ADAM as optimizer took less than 6 minutes to train the dataset.\n",
    "#The prediction and evaluation were even faster, unlike KNN which took more than 10 minutes to complete.\n",
    "#The model was not only faster, it also came up with more and a better accuracy.\n",
    "#The accuracy in the train data set was 85.15%, validation set was 87.58% and the test set gave an accuracy of 85.25% which is high when compared with the traditional ML models."
   ]
  }
 ],
 "metadata": {
  "accelerator": "GPU",
  "colab": {
   "collapsed_sections": [],
   "name": "Untitled6.ipynb",
   "provenance": []
  },
  "kernelspec": {
   "display_name": "Python 3",
   "language": "python",
   "name": "python3"
  },
  "language_info": {
   "codemirror_mode": {
    "name": "ipython",
    "version": 3
   },
   "file_extension": ".py",
   "mimetype": "text/x-python",
   "name": "python",
   "nbconvert_exporter": "python",
   "pygments_lexer": "ipython3",
   "version": "3.7.3"
  }
 },
 "nbformat": 4,
 "nbformat_minor": 1
}
