{
 "cells": [
  {
   "cell_type": "code",
   "execution_count": 0,
   "metadata": {
    "colab": {},
    "colab_type": "code",
    "id": "3Jtg8ESriIkT"
   },
   "outputs": [],
   "source": [
    "from google.colab import drive"
   ]
  },
  {
   "cell_type": "code",
   "execution_count": 2,
   "metadata": {
    "colab": {
     "base_uri": "https://localhost:8080/",
     "height": 122
    },
    "colab_type": "code",
    "id": "mvjcsrG02TL-",
    "outputId": "fc756cdc-f735-4e50-b9ae-fcb77b02946e"
   },
   "outputs": [
    {
     "name": "stdout",
     "output_type": "stream",
     "text": [
      "Go to this URL in a browser: https://accounts.google.com/o/oauth2/auth?client_id=947318989803-6bn6qk8qdgf4n4g3pfee6491hc0brc4i.apps.googleusercontent.com&redirect_uri=urn%3Aietf%3Awg%3Aoauth%3A2.0%3Aoob&scope=email%20https%3A%2F%2Fwww.googleapis.com%2Fauth%2Fdocs.test%20https%3A%2F%2Fwww.googleapis.com%2Fauth%2Fdrive%20https%3A%2F%2Fwww.googleapis.com%2Fauth%2Fdrive.photos.readonly%20https%3A%2F%2Fwww.googleapis.com%2Fauth%2Fpeopleapi.readonly&response_type=code\n",
      "\n",
      "Enter your authorization code:\n",
      "··········\n",
      "Mounted at /content/drive\n"
     ]
    }
   ],
   "source": [
    "drive.mount('/content/drive')"
   ]
  },
  {
   "cell_type": "code",
   "execution_count": 0,
   "metadata": {
    "colab": {},
    "colab_type": "code",
    "id": "2khfUBhK2XAV"
   },
   "outputs": [],
   "source": [
    "import os\n",
    "os.chdir('/content/drive/My Drive')"
   ]
  },
  {
   "cell_type": "code",
   "execution_count": 0,
   "metadata": {
    "colab": {},
    "colab_type": "code",
    "id": "l3kLkEqRDFDX"
   },
   "outputs": [],
   "source": [
    "from zipfile import ZipFile\n",
    "with ZipFile('train.zip', 'r') as z:z.extractall()"
   ]
  },
  {
   "cell_type": "code",
   "execution_count": 0,
   "metadata": {
    "colab": {},
    "colab_type": "code",
    "id": "HSxDatMQDFJU"
   },
   "outputs": [],
   "source": [
    "from zipfile import ZipFile\n",
    "with ZipFile('test.zip', 'r') as z:z.extractall()"
   ]
  },
  {
   "cell_type": "code",
   "execution_count": 0,
   "metadata": {
    "colab": {},
    "colab_type": "code",
    "id": "tVYnBpAzDFL-"
   },
   "outputs": [],
   "source": [
    "x_test=[]\n",
    "os.chdir('/content/drive/My Drive/test')\n",
    "import cv2\n",
    "for i in os.listdir():\n",
    "    dummy = cv2.imread(i)\n",
    "    dummy = cv2.resize(dummy,(128,128))\n",
    "    x_test.append(dummy)"
   ]
  },
  {
   "cell_type": "code",
   "execution_count": 0,
   "metadata": {
    "colab": {},
    "colab_type": "code",
    "id": "ae8TJK5SDFOz"
   },
   "outputs": [],
   "source": [
    "x_train = []\n",
    "y_train = []"
   ]
  },
  {
   "cell_type": "code",
   "execution_count": 0,
   "metadata": {
    "colab": {},
    "colab_type": "code",
    "id": "Wo7KPa3oMs7p"
   },
   "outputs": [],
   "source": [
    "os.chdir('/content/drive/My Drive/train')"
   ]
  },
  {
   "cell_type": "code",
   "execution_count": 22,
   "metadata": {
    "colab": {
     "base_uri": "https://localhost:8080/",
     "height": 221
    },
    "colab_type": "code",
    "id": "rJPYlM6WDYr8",
    "outputId": "dde4bc21-823c-41d2-8522-99ca94929160"
   },
   "outputs": [
    {
     "data": {
      "text/plain": [
       "['Fat Hen',\n",
       " 'Small-flowered Cranesbill',\n",
       " 'Cleavers',\n",
       " 'Black-grass',\n",
       " 'Sugar beet',\n",
       " 'Shepherds Purse',\n",
       " 'Charlock',\n",
       " 'Loose Silky-bent',\n",
       " 'Scentless Mayweed',\n",
       " 'Maize',\n",
       " 'Common Chickweed',\n",
       " 'Common wheat']"
      ]
     },
     "execution_count": 22,
     "metadata": {
      "tags": []
     },
     "output_type": "execute_result"
    }
   ],
   "source": [
    "os.listdir()"
   ]
  },
  {
   "cell_type": "code",
   "execution_count": 23,
   "metadata": {
    "colab": {
     "base_uri": "https://localhost:8080/",
     "height": 221
    },
    "colab_type": "code",
    "id": "wt_jnvdpDYul",
    "outputId": "260f0d03-4313-411f-d52b-5f152e1b09c4"
   },
   "outputs": [
    {
     "name": "stdout",
     "output_type": "stream",
     "text": [
      "Fat Hen\n",
      "Small-flowered Cranesbill\n",
      "Cleavers\n",
      "Black-grass\n",
      "Sugar beet\n",
      "Shepherds Purse\n",
      "Charlock\n",
      "Loose Silky-bent\n",
      "Scentless Mayweed\n",
      "Maize\n",
      "Common Chickweed\n",
      "Common wheat\n"
     ]
    }
   ],
   "source": [
    "x_train = []\n",
    "y_train = []\n",
    "import cv2\n",
    "for i in os.listdir():\n",
    "    print(i)\n",
    "    if (os.path.isdir(i)):\n",
    "            for j in os.listdir(i):\n",
    "                try:\n",
    "                    dummy = cv2.imread('/content/drive/My Drive/train/' + i + \"/\" + j)\n",
    "                    dummy = cv2.resize(dummy,(128,128))\n",
    "                    x_train.append(dummy)\n",
    "                    y_train.append(i)\n",
    "                except Exception as e:\n",
    "                    print(e)"
   ]
  },
  {
   "cell_type": "code",
   "execution_count": 24,
   "metadata": {
    "colab": {
     "base_uri": "https://localhost:8080/",
     "height": 34
    },
    "colab_type": "code",
    "id": "8MOToCXsDYxo",
    "outputId": "01f292bc-6240-471d-bec9-eaa0ced8ae95"
   },
   "outputs": [
    {
     "data": {
      "text/plain": [
       "(128, 128, 3)"
      ]
     },
     "execution_count": 24,
     "metadata": {
      "tags": []
     },
     "output_type": "execute_result"
    }
   ],
   "source": [
    "x_train[0].shape"
   ]
  },
  {
   "cell_type": "code",
   "execution_count": 0,
   "metadata": {
    "colab": {},
    "colab_type": "code",
    "id": "O6EwABO2DY0h"
   },
   "outputs": [],
   "source": [
    "import pandas as pd\n",
    "dum = pd.get_dummies(y_train)"
   ]
  },
  {
   "cell_type": "code",
   "execution_count": 0,
   "metadata": {
    "colab": {},
    "colab_type": "code",
    "id": "hLZUo7v5DzXt"
   },
   "outputs": [],
   "source": [
    "encoded_labels = dum\n",
    "y_train = dum"
   ]
  },
  {
   "cell_type": "code",
   "execution_count": 0,
   "metadata": {
    "colab": {},
    "colab_type": "code",
    "id": "cwl_E442DzaC"
   },
   "outputs": [],
   "source": [
    "import numpy as np\n",
    "y_train = np.array(y_train)"
   ]
  },
  {
   "cell_type": "code",
   "execution_count": 0,
   "metadata": {
    "colab": {},
    "colab_type": "code",
    "id": "zavI5_b-Dzc7"
   },
   "outputs": [],
   "source": [
    "\n",
    "x_train = np.array(x_train)"
   ]
  },
  {
   "cell_type": "code",
   "execution_count": 29,
   "metadata": {
    "colab": {
     "base_uri": "https://localhost:8080/",
     "height": 34
    },
    "colab_type": "code",
    "id": "SMOHHAVcDzfv",
    "outputId": "cd3a01eb-fd9a-4ac9-bf27-fb05ea15cf36"
   },
   "outputs": [
    {
     "data": {
      "text/plain": [
       "(128, 128, 3)"
      ]
     },
     "execution_count": 29,
     "metadata": {
      "tags": []
     },
     "output_type": "execute_result"
    }
   ],
   "source": [
    "x_train[0].shape"
   ]
  },
  {
   "cell_type": "code",
   "execution_count": 30,
   "metadata": {
    "colab": {
     "base_uri": "https://localhost:8080/",
     "height": 51
    },
    "colab_type": "code",
    "id": "G2HIg78-DFRb",
    "outputId": "ab2586ba-2c12-4558-b672-f808d20f6c52"
   },
   "outputs": [
    {
     "name": "stdout",
     "output_type": "stream",
     "text": [
      "3800\n",
      "950\n"
     ]
    }
   ],
   "source": [
    "from sklearn.model_selection import train_test_split\n",
    "x_train2, x_val, y_train2, y_val = train_test_split(x_train, y_train, test_size=0.2, random_state=2)\n",
    "print (len(x_train2))\n",
    "print (len(x_val))"
   ]
  },
  {
   "cell_type": "code",
   "execution_count": 31,
   "metadata": {
    "colab": {
     "base_uri": "https://localhost:8080/",
     "height": 34
    },
    "colab_type": "code",
    "id": "LjeNW2j5DFUM",
    "outputId": "a53b24be-7556-48c1-c594-c34cbe28313b"
   },
   "outputs": [
    {
     "data": {
      "text/plain": [
       "(128, 128, 3)"
      ]
     },
     "execution_count": 31,
     "metadata": {
      "tags": []
     },
     "output_type": "execute_result"
    }
   ],
   "source": [
    "x_train2[0].shape"
   ]
  },
  {
   "cell_type": "code",
   "execution_count": 0,
   "metadata": {
    "colab": {},
    "colab_type": "code",
    "id": "0P7KClIhD9E_"
   },
   "outputs": [],
   "source": [
    "x_train2 = x_train2.reshape(x_train2.shape[0],128,128,3)"
   ]
  },
  {
   "cell_type": "code",
   "execution_count": 0,
   "metadata": {
    "colab": {},
    "colab_type": "code",
    "id": "dFDWfHn0D9Hi"
   },
   "outputs": [],
   "source": [
    "x_val = x_val.reshape(x_val.shape[0],128,128,3)"
   ]
  },
  {
   "cell_type": "code",
   "execution_count": 34,
   "metadata": {
    "colab": {
     "base_uri": "https://localhost:8080/",
     "height": 51
    },
    "colab_type": "code",
    "id": "0ECXM4r-D9KY",
    "outputId": "e3896f24-7f29-4feb-ee94-3b2811736dee"
   },
   "outputs": [
    {
     "name": "stdout",
     "output_type": "stream",
     "text": [
      "(3800, 128, 128, 3)\n",
      "(950, 128, 128, 3)\n"
     ]
    }
   ],
   "source": [
    "print (x_train2.shape)\n",
    "print (x_val.shape)"
   ]
  },
  {
   "cell_type": "code",
   "execution_count": 35,
   "metadata": {
    "colab": {
     "base_uri": "https://localhost:8080/",
     "height": 51
    },
    "colab_type": "code",
    "id": "byYjLu9_D9Pg",
    "outputId": "1ed08c4e-3f5a-4d05-923a-365c002fb61f"
   },
   "outputs": [
    {
     "name": "stdout",
     "output_type": "stream",
     "text": [
      "(3800, 12)\n",
      "(950, 12)\n"
     ]
    }
   ],
   "source": [
    "print(y_train2.shape)\n",
    "print(y_val.shape)"
   ]
  },
  {
   "cell_type": "code",
   "execution_count": 36,
   "metadata": {
    "colab": {
     "base_uri": "https://localhost:8080/",
     "height": 34
    },
    "colab_type": "code",
    "id": "UAH9dCnMD9SW",
    "outputId": "57c8e19d-5d68-4ed6-b4a6-2e7bb6108651"
   },
   "outputs": [
    {
     "name": "stderr",
     "output_type": "stream",
     "text": [
      "Using TensorFlow backend.\n"
     ]
    }
   ],
   "source": [
    "from keras.models import Sequential\n",
    "from keras.layers import Convolution2D, Dropout, Dense"
   ]
  },
  {
   "cell_type": "code",
   "execution_count": 0,
   "metadata": {
    "colab": {},
    "colab_type": "code",
    "id": "ytq0CW_AD9VO"
   },
   "outputs": [],
   "source": [
    "from keras.layers import BatchNormalization\n",
    "from keras.layers import MaxPooling2D\n",
    "from keras.layers import Flatten\n",
    "from keras.optimizers import adam"
   ]
  },
  {
   "cell_type": "code",
   "execution_count": 38,
   "metadata": {
    "colab": {
     "base_uri": "https://localhost:8080/",
     "height": 445
    },
    "colab_type": "code",
    "id": "lEqcZL3GD9N3",
    "outputId": "7860050b-0ab0-4ee4-ef87-0c51519ee8c6"
   },
   "outputs": [
    {
     "name": "stdout",
     "output_type": "stream",
     "text": [
      "WARNING:tensorflow:From /usr/local/lib/python3.6/dist-packages/keras/backend/tensorflow_backend.py:66: The name tf.get_default_graph is deprecated. Please use tf.compat.v1.get_default_graph instead.\n",
      "\n",
      "WARNING:tensorflow:From /usr/local/lib/python3.6/dist-packages/keras/backend/tensorflow_backend.py:541: The name tf.placeholder is deprecated. Please use tf.compat.v1.placeholder instead.\n",
      "\n",
      "WARNING:tensorflow:From /usr/local/lib/python3.6/dist-packages/keras/backend/tensorflow_backend.py:190: The name tf.get_default_session is deprecated. Please use tf.compat.v1.get_default_session instead.\n",
      "\n",
      "WARNING:tensorflow:From /usr/local/lib/python3.6/dist-packages/keras/backend/tensorflow_backend.py:197: The name tf.ConfigProto is deprecated. Please use tf.compat.v1.ConfigProto instead.\n",
      "\n",
      "WARNING:tensorflow:From /usr/local/lib/python3.6/dist-packages/keras/backend/tensorflow_backend.py:203: The name tf.Session is deprecated. Please use tf.compat.v1.Session instead.\n",
      "\n",
      "WARNING:tensorflow:From /usr/local/lib/python3.6/dist-packages/keras/backend/tensorflow_backend.py:207: The name tf.global_variables is deprecated. Please use tf.compat.v1.global_variables instead.\n",
      "\n",
      "WARNING:tensorflow:From /usr/local/lib/python3.6/dist-packages/keras/backend/tensorflow_backend.py:216: The name tf.is_variable_initialized is deprecated. Please use tf.compat.v1.is_variable_initialized instead.\n",
      "\n",
      "WARNING:tensorflow:From /usr/local/lib/python3.6/dist-packages/keras/backend/tensorflow_backend.py:223: The name tf.variables_initializer is deprecated. Please use tf.compat.v1.variables_initializer instead.\n",
      "\n",
      "WARNING:tensorflow:From /usr/local/lib/python3.6/dist-packages/keras/backend/tensorflow_backend.py:2041: The name tf.nn.fused_batch_norm is deprecated. Please use tf.compat.v1.nn.fused_batch_norm instead.\n",
      "\n",
      "WARNING:tensorflow:From /usr/local/lib/python3.6/dist-packages/keras/backend/tensorflow_backend.py:148: The name tf.placeholder_with_default is deprecated. Please use tf.compat.v1.placeholder_with_default instead.\n",
      "\n",
      "WARNING:tensorflow:From /usr/local/lib/python3.6/dist-packages/keras/backend/tensorflow_backend.py:4432: The name tf.random_uniform is deprecated. Please use tf.random.uniform instead.\n",
      "\n",
      "WARNING:tensorflow:From /usr/local/lib/python3.6/dist-packages/keras/backend/tensorflow_backend.py:4267: The name tf.nn.max_pool is deprecated. Please use tf.nn.max_pool2d instead.\n",
      "\n"
     ]
    }
   ],
   "source": [
    "model = Sequential()\n",
    "model.add(BatchNormalization(input_shape = (128,128,3)))\n",
    "model.add(Convolution2D(32, (3,3), activation ='relu', input_shape = (128, 128, 3))) \n",
    "model.add(MaxPooling2D(pool_size=2))\n",
    "#model.add(Dropout(0.8))\n",
    "\n",
    "model.add(Convolution2D(filters=64, kernel_size=4, padding='same', activation='relu'))\n",
    "model.add(MaxPooling2D(pool_size=2))\n",
    "#model.add(Dropout(0.8))\n",
    "\n",
    "model.add(Convolution2D(filters=128, kernel_size=3, padding='same', activation='relu'))\n",
    "model.add(MaxPooling2D(pool_size=2))\n",
    "#model.add(Dropout(0.8))\n",
    "\n",
    "model.add(Convolution2D(filters=128, kernel_size=2, padding='same', activation='relu'))\n",
    "model.add(MaxPooling2D(pool_size=2))\n",
    "#model.add(Dropout(0.8))\n",
    "\n",
    "model.add(Flatten()) \n",
    "\n",
    "# fully connected layer\n",
    "model.add(Dense(units=128,activation = 'relu'))\n",
    "model.add(Dense(units = 64, activation = 'relu'))\n",
    "#model.add(Dropout(0.3))\n",
    "model.add(Dense(units = 32, activation = 'relu'))\n",
    "#model.add(Dropout(0.3))\n",
    "model.add(Dense(units = 12, activation = 'softmax'))"
   ]
  },
  {
   "cell_type": "code",
   "execution_count": 39,
   "metadata": {
    "colab": {
     "base_uri": "https://localhost:8080/",
     "height": 85
    },
    "colab_type": "code",
    "id": "0h6oMXngEHmX",
    "outputId": "c0f68e8d-d866-4c84-b459-3d0c2e987432"
   },
   "outputs": [
    {
     "name": "stdout",
     "output_type": "stream",
     "text": [
      "WARNING:tensorflow:From /usr/local/lib/python3.6/dist-packages/keras/optimizers.py:793: The name tf.train.Optimizer is deprecated. Please use tf.compat.v1.train.Optimizer instead.\n",
      "\n",
      "WARNING:tensorflow:From /usr/local/lib/python3.6/dist-packages/keras/backend/tensorflow_backend.py:3576: The name tf.log is deprecated. Please use tf.math.log instead.\n",
      "\n"
     ]
    }
   ],
   "source": [
    "optimizer = adam(lr=0.001)\n",
    "model.compile(optimizer='adam', loss = 'categorical_crossentropy',metrics = ['accuracy'])"
   ]
  },
  {
   "cell_type": "code",
   "execution_count": 40,
   "metadata": {
    "colab": {
     "base_uri": "https://localhost:8080/",
     "height": 629
    },
    "colab_type": "code",
    "id": "vTXueLq2EHo1",
    "outputId": "19fd61e0-cde1-4d18-cdd8-dc448285bf88"
   },
   "outputs": [
    {
     "name": "stdout",
     "output_type": "stream",
     "text": [
      "Model: \"sequential_1\"\n",
      "_________________________________________________________________\n",
      "Layer (type)                 Output Shape              Param #   \n",
      "=================================================================\n",
      "batch_normalization_1 (Batch (None, 128, 128, 3)       12        \n",
      "_________________________________________________________________\n",
      "conv2d_1 (Conv2D)            (None, 126, 126, 32)      896       \n",
      "_________________________________________________________________\n",
      "max_pooling2d_1 (MaxPooling2 (None, 63, 63, 32)        0         \n",
      "_________________________________________________________________\n",
      "conv2d_2 (Conv2D)            (None, 63, 63, 64)        32832     \n",
      "_________________________________________________________________\n",
      "max_pooling2d_2 (MaxPooling2 (None, 31, 31, 64)        0         \n",
      "_________________________________________________________________\n",
      "conv2d_3 (Conv2D)            (None, 31, 31, 128)       73856     \n",
      "_________________________________________________________________\n",
      "max_pooling2d_3 (MaxPooling2 (None, 15, 15, 128)       0         \n",
      "_________________________________________________________________\n",
      "conv2d_4 (Conv2D)            (None, 15, 15, 128)       65664     \n",
      "_________________________________________________________________\n",
      "max_pooling2d_4 (MaxPooling2 (None, 7, 7, 128)         0         \n",
      "_________________________________________________________________\n",
      "flatten_1 (Flatten)          (None, 6272)              0         \n",
      "_________________________________________________________________\n",
      "dense_1 (Dense)              (None, 128)               802944    \n",
      "_________________________________________________________________\n",
      "dense_2 (Dense)              (None, 64)                8256      \n",
      "_________________________________________________________________\n",
      "dense_3 (Dense)              (None, 32)                2080      \n",
      "_________________________________________________________________\n",
      "dense_4 (Dense)              (None, 12)                396       \n",
      "=================================================================\n",
      "Total params: 986,936\n",
      "Trainable params: 986,930\n",
      "Non-trainable params: 6\n",
      "_________________________________________________________________\n"
     ]
    }
   ],
   "source": [
    "model.summary()"
   ]
  },
  {
   "cell_type": "code",
   "execution_count": 41,
   "metadata": {
    "colab": {
     "base_uri": "https://localhost:8080/",
     "height": 853
    },
    "colab_type": "code",
    "id": "AcdmXTGaEHs3",
    "outputId": "04295ea4-6da7-4616-b60d-3c905171a923"
   },
   "outputs": [
    {
     "name": "stdout",
     "output_type": "stream",
     "text": [
      "WARNING:tensorflow:From /usr/local/lib/python3.6/dist-packages/tensorflow_core/python/ops/math_grad.py:1424: where (from tensorflow.python.ops.array_ops) is deprecated and will be removed in a future version.\n",
      "Instructions for updating:\n",
      "Use tf.where in 2.0, which has the same broadcast rule as np.where\n",
      "WARNING:tensorflow:From /usr/local/lib/python3.6/dist-packages/keras/backend/tensorflow_backend.py:1033: The name tf.assign_add is deprecated. Please use tf.compat.v1.assign_add instead.\n",
      "\n",
      "WARNING:tensorflow:From /usr/local/lib/python3.6/dist-packages/keras/backend/tensorflow_backend.py:1020: The name tf.assign is deprecated. Please use tf.compat.v1.assign instead.\n",
      "\n",
      "Train on 4750 samples, validate on 950 samples\n",
      "Epoch 1/20\n",
      "4750/4750 [==============================] - 14s 3ms/step - loss: 1.8886 - acc: 0.3509 - val_loss: 1.4204 - val_acc: 0.5032\n",
      "Epoch 2/20\n",
      "4750/4750 [==============================] - 10s 2ms/step - loss: 1.1578 - acc: 0.5996 - val_loss: 0.8277 - val_acc: 0.6937\n",
      "Epoch 3/20\n",
      "4750/4750 [==============================] - 10s 2ms/step - loss: 0.7740 - acc: 0.7269 - val_loss: 0.6181 - val_acc: 0.7853\n",
      "Epoch 4/20\n",
      "4750/4750 [==============================] - 10s 2ms/step - loss: 0.5808 - acc: 0.8017 - val_loss: 0.5306 - val_acc: 0.8105\n",
      "Epoch 5/20\n",
      "4750/4750 [==============================] - 9s 2ms/step - loss: 0.4158 - acc: 0.8531 - val_loss: 0.4992 - val_acc: 0.8274\n",
      "Epoch 6/20\n",
      "4750/4750 [==============================] - 9s 2ms/step - loss: 0.3592 - acc: 0.8728 - val_loss: 0.3671 - val_acc: 0.8632\n",
      "Epoch 7/20\n",
      "4750/4750 [==============================] - 9s 2ms/step - loss: 0.3178 - acc: 0.8880 - val_loss: 0.2807 - val_acc: 0.8874\n",
      "Epoch 8/20\n",
      "4750/4750 [==============================] - 9s 2ms/step - loss: 0.2649 - acc: 0.8994 - val_loss: 0.2402 - val_acc: 0.8905\n",
      "Epoch 9/20\n",
      "4750/4750 [==============================] - 9s 2ms/step - loss: 0.2169 - acc: 0.9196 - val_loss: 0.1947 - val_acc: 0.9358\n",
      "Epoch 10/20\n",
      "4750/4750 [==============================] - 9s 2ms/step - loss: 0.2187 - acc: 0.9147 - val_loss: 0.1449 - val_acc: 0.9379\n",
      "Epoch 11/20\n",
      "4750/4750 [==============================] - 9s 2ms/step - loss: 0.1459 - acc: 0.9440 - val_loss: 0.1769 - val_acc: 0.9253\n",
      "Epoch 12/20\n",
      "4750/4750 [==============================] - 9s 2ms/step - loss: 0.1418 - acc: 0.9474 - val_loss: 0.0919 - val_acc: 0.9653\n",
      "Epoch 13/20\n",
      "4750/4750 [==============================] - 9s 2ms/step - loss: 0.1914 - acc: 0.9318 - val_loss: 0.2166 - val_acc: 0.9189\n",
      "Epoch 14/20\n",
      "4750/4750 [==============================] - 9s 2ms/step - loss: 0.1369 - acc: 0.9465 - val_loss: 0.1332 - val_acc: 0.9495\n",
      "Epoch 15/20\n",
      "4750/4750 [==============================] - 9s 2ms/step - loss: 0.0822 - acc: 0.9701 - val_loss: 0.0463 - val_acc: 0.9832\n",
      "Epoch 16/20\n",
      "4750/4750 [==============================] - 9s 2ms/step - loss: 0.0738 - acc: 0.9756 - val_loss: 0.2097 - val_acc: 0.9442\n",
      "Epoch 17/20\n",
      "4750/4750 [==============================] - 9s 2ms/step - loss: 0.1088 - acc: 0.9627 - val_loss: 0.0373 - val_acc: 0.9895\n",
      "Epoch 18/20\n",
      "4750/4750 [==============================] - 9s 2ms/step - loss: 0.0959 - acc: 0.9699 - val_loss: 0.0377 - val_acc: 0.9884\n",
      "Epoch 19/20\n",
      "4750/4750 [==============================] - 9s 2ms/step - loss: 0.0614 - acc: 0.9808 - val_loss: 0.0305 - val_acc: 0.9937\n",
      "Epoch 20/20\n",
      "4750/4750 [==============================] - 9s 2ms/step - loss: 0.0429 - acc: 0.9851 - val_loss: 0.0337 - val_acc: 0.9884\n"
     ]
    }
   ],
   "source": [
    "batch_size = 64\n",
    "nb_epochs = 10\n",
    "history = model.fit(x_train,y_train,\n",
    "                    epochs=20, \n",
    "                    validation_data=(x_val,y_val),\n",
    "                    verbose = 1,\n",
    "                    initial_epoch=0)"
   ]
  },
  {
   "cell_type": "code",
   "execution_count": 42,
   "metadata": {
    "colab": {
     "base_uri": "https://localhost:8080/",
     "height": 904
    },
    "colab_type": "code",
    "id": "qhvklWOTEHvo",
    "outputId": "fc79c7ae-83a5-4036-cdde-f62a4bb88ab3"
   },
   "outputs": [
    {
     "name": "stdout",
     "output_type": "stream",
     "text": [
      "WARNING:tensorflow:From /usr/local/lib/python3.6/dist-packages/keras/backend/tensorflow_backend.py:3733: calling dropout (from tensorflow.python.ops.nn_ops) with keep_prob is deprecated and will be removed in a future version.\n",
      "Instructions for updating:\n",
      "Please use `rate` instead of `keep_prob`. Rate should be set to `rate = 1 - keep_prob`.\n",
      "Model: \"sequential_2\"\n",
      "_________________________________________________________________\n",
      "Layer (type)                 Output Shape              Param #   \n",
      "=================================================================\n",
      "batch_normalization_2 (Batch (None, 128, 128, 3)       12        \n",
      "_________________________________________________________________\n",
      "conv2d_5 (Conv2D)            (None, 126, 126, 32)      896       \n",
      "_________________________________________________________________\n",
      "max_pooling2d_5 (MaxPooling2 (None, 63, 63, 32)        0         \n",
      "_________________________________________________________________\n",
      "dropout_1 (Dropout)          (None, 63, 63, 32)        0         \n",
      "_________________________________________________________________\n",
      "conv2d_6 (Conv2D)            (None, 63, 63, 64)        32832     \n",
      "_________________________________________________________________\n",
      "max_pooling2d_6 (MaxPooling2 (None, 31, 31, 64)        0         \n",
      "_________________________________________________________________\n",
      "dropout_2 (Dropout)          (None, 31, 31, 64)        0         \n",
      "_________________________________________________________________\n",
      "conv2d_7 (Conv2D)            (None, 31, 31, 128)       73856     \n",
      "_________________________________________________________________\n",
      "max_pooling2d_7 (MaxPooling2 (None, 15, 15, 128)       0         \n",
      "_________________________________________________________________\n",
      "dropout_3 (Dropout)          (None, 15, 15, 128)       0         \n",
      "_________________________________________________________________\n",
      "conv2d_8 (Conv2D)            (None, 15, 15, 128)       65664     \n",
      "_________________________________________________________________\n",
      "max_pooling2d_8 (MaxPooling2 (None, 7, 7, 128)         0         \n",
      "_________________________________________________________________\n",
      "dropout_4 (Dropout)          (None, 7, 7, 128)         0         \n",
      "_________________________________________________________________\n",
      "flatten_2 (Flatten)          (None, 6272)              0         \n",
      "_________________________________________________________________\n",
      "dense_5 (Dense)              (None, 128)               802944    \n",
      "_________________________________________________________________\n",
      "dense_6 (Dense)              (None, 64)                8256      \n",
      "_________________________________________________________________\n",
      "dropout_5 (Dropout)          (None, 64)                0         \n",
      "_________________________________________________________________\n",
      "dense_7 (Dense)              (None, 32)                2080      \n",
      "_________________________________________________________________\n",
      "dropout_6 (Dropout)          (None, 32)                0         \n",
      "_________________________________________________________________\n",
      "dense_8 (Dense)              (None, 12)                396       \n",
      "=================================================================\n",
      "Total params: 986,936\n",
      "Trainable params: 986,930\n",
      "Non-trainable params: 6\n",
      "_________________________________________________________________\n"
     ]
    }
   ],
   "source": [
    "model2 = Sequential()\n",
    "model2.add(BatchNormalization(input_shape = (128,128,3)))\n",
    "model2.add(Convolution2D(32, (3,3), activation ='relu', input_shape = (128, 128, 3))) \n",
    "model2.add(MaxPooling2D(pool_size=2))\n",
    "model2.add(Dropout(0.5))\n",
    "\n",
    "model2.add(Convolution2D(filters=64, kernel_size=4, padding='same', activation='relu'))\n",
    "model2.add(MaxPooling2D(pool_size=2))\n",
    "model2.add(Dropout(0.5))\n",
    "\n",
    "model2.add(Convolution2D(filters=128, kernel_size=3, padding='same', activation='relu'))\n",
    "model2.add(MaxPooling2D(pool_size=2))\n",
    "model2.add(Dropout(0.5))\n",
    "\n",
    "model2.add(Convolution2D(filters=128, kernel_size=2, padding='same', activation='relu'))\n",
    "model2.add(MaxPooling2D(pool_size=2))\n",
    "model2.add(Dropout(0.5))\n",
    "\n",
    "model2.add(Flatten()) \n",
    "\n",
    "# fully connected layer\n",
    "model2.add(Dense(units=128,activation = 'relu'))\n",
    "model2.add(Dense(units = 64, activation = 'relu'))\n",
    "model2.add(Dropout(0.3))\n",
    "model2.add(Dense(units = 32, activation = 'relu'))\n",
    "model2.add(Dropout(0.3))\n",
    "model2.add(Dense(units = 12, activation = 'softmax')) \n",
    "model2.compile(optimizer='sgd', loss = 'categorical_crossentropy',metrics = ['accuracy'])\n",
    "model2.summary()"
   ]
  },
  {
   "cell_type": "code",
   "execution_count": 43,
   "metadata": {
    "colab": {
     "base_uri": "https://localhost:8080/",
     "height": 374
    },
    "colab_type": "code",
    "id": "JdEbilYzDFW6",
    "outputId": "77972c98-8b18-4637-d9c7-56eeb9319870"
   },
   "outputs": [
    {
     "name": "stdout",
     "output_type": "stream",
     "text": [
      "Train on 4750 samples, validate on 950 samples\n",
      "Epoch 1/10\n",
      "4750/4750 [==============================] - 10s 2ms/step - loss: 2.5437 - acc: 0.0865 - val_loss: 2.4714 - val_acc: 0.1032\n",
      "Epoch 2/10\n",
      "4750/4750 [==============================] - 9s 2ms/step - loss: 2.4737 - acc: 0.1051 - val_loss: 2.4640 - val_acc: 0.1389\n",
      "Epoch 3/10\n",
      "4750/4750 [==============================] - 9s 2ms/step - loss: 2.4573 - acc: 0.1099 - val_loss: 2.4579 - val_acc: 0.1411\n",
      "Epoch 4/10\n",
      "4750/4750 [==============================] - 9s 2ms/step - loss: 2.4517 - acc: 0.1261 - val_loss: 2.4526 - val_acc: 0.1411\n",
      "Epoch 5/10\n",
      "4750/4750 [==============================] - 9s 2ms/step - loss: 2.4437 - acc: 0.1347 - val_loss: 2.4485 - val_acc: 0.1411\n",
      "Epoch 6/10\n",
      "4750/4750 [==============================] - 9s 2ms/step - loss: 2.4419 - acc: 0.1229 - val_loss: 2.4438 - val_acc: 0.1411\n",
      "Epoch 7/10\n",
      "4750/4750 [==============================] - 9s 2ms/step - loss: 2.4321 - acc: 0.1385 - val_loss: 2.4394 - val_acc: 0.1411\n",
      "Epoch 8/10\n",
      "4750/4750 [==============================] - 9s 2ms/step - loss: 2.4367 - acc: 0.1366 - val_loss: 2.4387 - val_acc: 0.1411\n",
      "Epoch 9/10\n",
      "4750/4750 [==============================] - 9s 2ms/step - loss: 2.4318 - acc: 0.1324 - val_loss: 2.4365 - val_acc: 0.1411\n",
      "Epoch 10/10\n",
      "4750/4750 [==============================] - 9s 2ms/step - loss: 2.4286 - acc: 0.1383 - val_loss: 2.4337 - val_acc: 0.1389\n"
     ]
    }
   ],
   "source": [
    "batch_size = 128\n",
    "nb_epochs = 10\n",
    "history2 = model2.fit(x_train,y_train,batch_size=64,\n",
    "                    epochs=10, \n",
    "                    validation_data=(x_val,y_val),\n",
    "                    verbose = 1,\n",
    "                    initial_epoch=0)"
   ]
  }
 ],
 "metadata": {
  "accelerator": "GPU",
  "colab": {
   "name": "Untitled8.ipynb",
   "provenance": []
  },
  "kernelspec": {
   "display_name": "Python 3",
   "language": "python",
   "name": "python3"
  },
  "language_info": {
   "codemirror_mode": {
    "name": "ipython",
    "version": 3
   },
   "file_extension": ".py",
   "mimetype": "text/x-python",
   "name": "python",
   "nbconvert_exporter": "python",
   "pygments_lexer": "ipython3",
   "version": "3.7.3"
  }
 },
 "nbformat": 4,
 "nbformat_minor": 1
}
