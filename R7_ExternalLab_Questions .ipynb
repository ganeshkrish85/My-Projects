{
 "cells": [
  {
   "cell_type": "markdown",
   "metadata": {
    "colab_type": "text",
    "id": "4WH1Pr4KQlCh"
   },
   "source": [
    "### Build a DNN using Keras with `RELU` and `ADAM`"
   ]
  },
  {
   "cell_type": "markdown",
   "metadata": {
    "colab_type": "text",
    "id": "TbvI8LqlQlCl"
   },
   "source": [
    "#### Load tensorflow"
   ]
  },
  {
   "cell_type": "code",
   "execution_count": 0,
   "metadata": {
    "colab": {},
    "colab_type": "code",
    "id": "SPW-a-qYQlCp"
   },
   "outputs": [],
   "source": [
    "import tensorflow as tf"
   ]
  },
  {
   "cell_type": "markdown",
   "metadata": {
    "colab_type": "text",
    "id": "74cQBsi5QlCw"
   },
   "source": [
    "#### Collect Fashion mnist data from tf.keras.datasets "
   ]
  },
  {
   "cell_type": "code",
   "execution_count": 0,
   "metadata": {
    "colab": {},
    "colab_type": "code",
    "id": "wVWy0oDTr2Kj"
   },
   "outputs": [],
   "source": [
    "(x_train, y_train), (x_test, y_test) = tf.keras.datasets.fashion_mnist.load_data()"
   ]
  },
  {
   "cell_type": "markdown",
   "metadata": {
    "colab_type": "text",
    "id": "no7aWYZyQlC1"
   },
   "source": [
    "#### Change train and test labels into one-hot vectors"
   ]
  },
  {
   "cell_type": "code",
   "execution_count": 0,
   "metadata": {
    "colab": {},
    "colab_type": "code",
    "id": "UX6otc4wQlC2"
   },
   "outputs": [],
   "source": [
    "trainY = tf.keras.utils.to_categorical(y_train, num_classes=10)\n",
    "testY = tf.keras.utils.to_categorical(y_test, num_classes=10)"
   ]
  },
  {
   "cell_type": "markdown",
   "metadata": {
    "colab_type": "text",
    "id": "QjNrRTdoQlC5"
   },
   "source": [
    "#### Build the Graph"
   ]
  },
  {
   "cell_type": "markdown",
   "metadata": {
    "colab_type": "text",
    "id": "CDJ9DHVNQlC7"
   },
   "source": [
    "#### Initialize model, reshape & normalize data"
   ]
  },
  {
   "cell_type": "code",
   "execution_count": 0,
   "metadata": {
    "colab": {},
    "colab_type": "code",
    "id": "pCDQs_g1QlC8"
   },
   "outputs": [],
   "source": [
    "#Initializing the model,reshaping & normalizing data\n",
    "\n",
    "tf.keras.backend.clear_session()\n",
    "model = tf.keras.models.Sequential()\n",
    "model.add(tf.keras.layers.Reshape((784,),input_shape=(28,28,)))\n",
    "model.add(tf.keras.layers.BatchNormalization())"
   ]
  },
  {
   "cell_type": "markdown",
   "metadata": {
    "colab_type": "text",
    "id": "kBGwTTilQlDD"
   },
   "source": [
    "#### Add two fully connected layers with 200 and 100 neurons respectively with `relu` activations. Add a dropout layer with `p=0.25`"
   ]
  },
  {
   "cell_type": "code",
   "execution_count": 0,
   "metadata": {
    "colab": {},
    "colab_type": "code",
    "id": "IXbfpfOzQlDF"
   },
   "outputs": [],
   "source": [
    "model.add(tf.keras.layers.Dense(200, activation='relu', name='Layer_1'))\n",
    "model.add(tf.keras.layers.BatchNormalization())\n",
    "model.add(tf.keras.layers.Dense(100, activation='relu', name='Layer_2'))\n",
    "model.add(tf.keras.layers.BatchNormalization())\n",
    "#Dropout layer\n",
    "model.add(tf.keras.layers.Dropout(0.25))"
   ]
  },
  {
   "cell_type": "markdown",
   "metadata": {
    "colab_type": "text",
    "id": "5I8f5otcQlDJ"
   },
   "source": [
    "### Add the output layer with a fully connected layer with 10 neurons with `softmax` activation. Use `categorical_crossentropy` loss and `adam` optimizer and train the network. And, report the final validation."
   ]
  },
  {
   "cell_type": "code",
   "execution_count": 0,
   "metadata": {
    "colab": {},
    "colab_type": "code",
    "id": "JZkvKymSd0Sr"
   },
   "outputs": [],
   "source": [
    "#Output layer\n",
    "model.add(tf.keras.layers.Dense(10, activation='softmax', name='Output'))"
   ]
  },
  {
   "cell_type": "code",
   "execution_count": 0,
   "metadata": {
    "colab": {},
    "colab_type": "code",
    "id": "kecZryKjCIf9"
   },
   "outputs": [],
   "source": [
    "model.compile(optimizer='adam', loss='categorical_crossentropy', metrics=['accuracy'])"
   ]
  },
  {
   "cell_type": "code",
   "execution_count": 72,
   "metadata": {
    "colab": {
     "base_uri": "https://localhost:8080/",
     "height": 425
    },
    "colab_type": "code",
    "id": "XQyz5WIqFxaM",
    "outputId": "7c03528e-2f86-4eba-8b18-7275206a9688"
   },
   "outputs": [
    {
     "name": "stdout",
     "output_type": "stream",
     "text": [
      "Model: \"sequential\"\n",
      "_________________________________________________________________\n",
      "Layer (type)                 Output Shape              Param #   \n",
      "=================================================================\n",
      "reshape (Reshape)            (None, 784)               0         \n",
      "_________________________________________________________________\n",
      "batch_normalization (BatchNo (None, 784)               3136      \n",
      "_________________________________________________________________\n",
      "Layer_1 (Dense)              (None, 200)               157000    \n",
      "_________________________________________________________________\n",
      "batch_normalization_1 (Batch (None, 200)               800       \n",
      "_________________________________________________________________\n",
      "Layer_2 (Dense)              (None, 100)               20100     \n",
      "_________________________________________________________________\n",
      "batch_normalization_2 (Batch (None, 100)               400       \n",
      "_________________________________________________________________\n",
      "dropout (Dropout)            (None, 100)               0         \n",
      "_________________________________________________________________\n",
      "Output (Dense)               (None, 10)                1010      \n",
      "=================================================================\n",
      "Total params: 182,446\n",
      "Trainable params: 180,278\n",
      "Non-trainable params: 2,168\n",
      "_________________________________________________________________\n"
     ]
    }
   ],
   "source": [
    "model.summary()"
   ]
  },
  {
   "cell_type": "code",
   "execution_count": 73,
   "metadata": {
    "colab": {
     "base_uri": "https://localhost:8080/",
     "height": 1000
    },
    "colab_type": "code",
    "id": "L82fGcucHI_b",
    "outputId": "d6bb4546-034d-412c-bbed-f184e680e8fb"
   },
   "outputs": [
    {
     "name": "stdout",
     "output_type": "stream",
     "text": [
      "Train on 60000 samples, validate on 10000 samples\n",
      "Epoch 1/40\n",
      "60000/60000 [==============================] - 14s 237us/sample - loss: 0.5250 - acc: 0.8151 - val_loss: 0.4087 - val_acc: 0.8546\n",
      "Epoch 2/40\n",
      "60000/60000 [==============================] - 14s 236us/sample - loss: 0.3983 - acc: 0.8550 - val_loss: 0.3683 - val_acc: 0.8680\n",
      "Epoch 3/40\n",
      "60000/60000 [==============================] - 14s 235us/sample - loss: 0.3606 - acc: 0.8694 - val_loss: 0.3585 - val_acc: 0.8721\n",
      "Epoch 4/40\n",
      "60000/60000 [==============================] - 14s 234us/sample - loss: 0.3344 - acc: 0.8780 - val_loss: 0.3526 - val_acc: 0.8775\n",
      "Epoch 5/40\n",
      "60000/60000 [==============================] - 14s 232us/sample - loss: 0.3164 - acc: 0.8836 - val_loss: 0.3643 - val_acc: 0.8800\n",
      "Epoch 6/40\n",
      "60000/60000 [==============================] - 14s 233us/sample - loss: 0.2983 - acc: 0.8906 - val_loss: 0.3332 - val_acc: 0.8853\n",
      "Epoch 7/40\n",
      "60000/60000 [==============================] - 14s 231us/sample - loss: 0.2890 - acc: 0.8942 - val_loss: 0.3573 - val_acc: 0.8806\n",
      "Epoch 8/40\n",
      "60000/60000 [==============================] - 14s 232us/sample - loss: 0.2755 - acc: 0.8981 - val_loss: 0.3279 - val_acc: 0.8874\n",
      "Epoch 9/40\n",
      "60000/60000 [==============================] - 14s 228us/sample - loss: 0.2656 - acc: 0.9017 - val_loss: 0.3360 - val_acc: 0.8834\n",
      "Epoch 10/40\n",
      "60000/60000 [==============================] - 14s 230us/sample - loss: 0.2576 - acc: 0.9042 - val_loss: 0.3616 - val_acc: 0.8863\n",
      "Epoch 11/40\n",
      "60000/60000 [==============================] - 14s 232us/sample - loss: 0.2448 - acc: 0.9075 - val_loss: 0.3502 - val_acc: 0.8845\n",
      "Epoch 12/40\n",
      "60000/60000 [==============================] - 14s 232us/sample - loss: 0.2398 - acc: 0.9115 - val_loss: 0.3541 - val_acc: 0.8901\n",
      "Epoch 13/40\n",
      "60000/60000 [==============================] - 14s 235us/sample - loss: 0.2346 - acc: 0.9131 - val_loss: 0.3606 - val_acc: 0.8891\n",
      "Epoch 14/40\n",
      "60000/60000 [==============================] - 14s 232us/sample - loss: 0.2274 - acc: 0.9145 - val_loss: 0.3283 - val_acc: 0.8934\n",
      "Epoch 15/40\n",
      "60000/60000 [==============================] - 14s 233us/sample - loss: 0.2201 - acc: 0.9174 - val_loss: 0.3588 - val_acc: 0.8912\n",
      "Epoch 16/40\n",
      "60000/60000 [==============================] - 14s 234us/sample - loss: 0.2137 - acc: 0.9202 - val_loss: 0.3573 - val_acc: 0.8925\n",
      "Epoch 17/40\n",
      "60000/60000 [==============================] - 14s 231us/sample - loss: 0.2098 - acc: 0.9214 - val_loss: 0.4042 - val_acc: 0.8877\n",
      "Epoch 18/40\n",
      "60000/60000 [==============================] - 14s 233us/sample - loss: 0.2039 - acc: 0.9227 - val_loss: 0.3478 - val_acc: 0.8887\n",
      "Epoch 19/40\n",
      "60000/60000 [==============================] - 14s 242us/sample - loss: 0.1991 - acc: 0.9250 - val_loss: 0.3567 - val_acc: 0.8897\n",
      "Epoch 20/40\n",
      "60000/60000 [==============================] - 14s 233us/sample - loss: 0.1972 - acc: 0.9254 - val_loss: 0.3557 - val_acc: 0.8934\n",
      "Epoch 21/40\n",
      "60000/60000 [==============================] - 14s 228us/sample - loss: 0.1914 - acc: 0.9281 - val_loss: 0.3608 - val_acc: 0.8900\n",
      "Epoch 22/40\n",
      "60000/60000 [==============================] - 14s 232us/sample - loss: 0.1892 - acc: 0.9288 - val_loss: 0.4055 - val_acc: 0.8917\n",
      "Epoch 23/40\n",
      "60000/60000 [==============================] - 14s 231us/sample - loss: 0.1809 - acc: 0.9323 - val_loss: 0.3652 - val_acc: 0.8960\n",
      "Epoch 24/40\n",
      "60000/60000 [==============================] - 14s 232us/sample - loss: 0.1825 - acc: 0.9317 - val_loss: 0.3761 - val_acc: 0.8908\n",
      "Epoch 25/40\n",
      "60000/60000 [==============================] - 14s 232us/sample - loss: 0.1753 - acc: 0.9335 - val_loss: 0.3563 - val_acc: 0.8929\n",
      "Epoch 26/40\n",
      "60000/60000 [==============================] - 14s 231us/sample - loss: 0.1715 - acc: 0.9358 - val_loss: 0.3772 - val_acc: 0.8904\n",
      "Epoch 27/40\n",
      "60000/60000 [==============================] - 14s 230us/sample - loss: 0.1690 - acc: 0.9366 - val_loss: 0.4300 - val_acc: 0.8937\n",
      "Epoch 28/40\n",
      "60000/60000 [==============================] - 14s 230us/sample - loss: 0.1659 - acc: 0.9375 - val_loss: 0.3886 - val_acc: 0.8942\n",
      "Epoch 29/40\n",
      "60000/60000 [==============================] - 14s 230us/sample - loss: 0.1622 - acc: 0.9381 - val_loss: 0.3841 - val_acc: 0.8911\n",
      "Epoch 30/40\n",
      "60000/60000 [==============================] - 14s 230us/sample - loss: 0.1597 - acc: 0.9402 - val_loss: 0.3740 - val_acc: 0.8926\n",
      "Epoch 31/40\n",
      "60000/60000 [==============================] - 14s 231us/sample - loss: 0.1569 - acc: 0.9402 - val_loss: 0.4584 - val_acc: 0.8915\n",
      "Epoch 32/40\n",
      "60000/60000 [==============================] - 14s 231us/sample - loss: 0.1572 - acc: 0.9405 - val_loss: 0.3468 - val_acc: 0.8971\n",
      "Epoch 33/40\n",
      "60000/60000 [==============================] - 14s 231us/sample - loss: 0.1531 - acc: 0.9421 - val_loss: 0.4052 - val_acc: 0.8951\n",
      "Epoch 34/40\n",
      "60000/60000 [==============================] - 14s 229us/sample - loss: 0.1498 - acc: 0.9440 - val_loss: 0.3829 - val_acc: 0.8985\n",
      "Epoch 35/40\n",
      "60000/60000 [==============================] - 14s 232us/sample - loss: 0.1486 - acc: 0.9439 - val_loss: 0.4438 - val_acc: 0.8959\n",
      "Epoch 36/40\n",
      "60000/60000 [==============================] - 14s 233us/sample - loss: 0.1439 - acc: 0.9459 - val_loss: 0.5209 - val_acc: 0.8932\n",
      "Epoch 37/40\n",
      "60000/60000 [==============================] - 14s 234us/sample - loss: 0.1443 - acc: 0.9457 - val_loss: 0.4486 - val_acc: 0.8940\n",
      "Epoch 38/40\n",
      "60000/60000 [==============================] - 14s 236us/sample - loss: 0.1428 - acc: 0.9461 - val_loss: 0.4219 - val_acc: 0.8940\n",
      "Epoch 39/40\n",
      "60000/60000 [==============================] - 14s 233us/sample - loss: 0.1391 - acc: 0.9474 - val_loss: 0.4237 - val_acc: 0.8931\n",
      "Epoch 40/40\n",
      "60000/60000 [==============================] - 14s 234us/sample - loss: 0.1370 - acc: 0.9484 - val_loss: 0.4578 - val_acc: 0.8942\n"
     ]
    },
    {
     "data": {
      "text/plain": [
       "<tensorflow.python.keras.callbacks.History at 0x7ff5fb18e080>"
      ]
     },
     "execution_count": 73,
     "metadata": {
      "tags": []
     },
     "output_type": "execute_result"
    }
   ],
   "source": [
    "#Train the model\n",
    "model.fit(x_train,trainY,\n",
    "          validation_data=(x_test,testY),\n",
    "          epochs=40,\n",
    "          batch_size=32)"
   ]
  }
 ],
 "metadata": {
  "accelerator": "GPU",
  "colab": {
   "collapsed_sections": [],
   "name": "R7_ExternalLab_Questions.ipynb",
   "provenance": []
  },
  "kernelspec": {
   "display_name": "Python 3",
   "language": "python",
   "name": "python3"
  },
  "language_info": {
   "codemirror_mode": {
    "name": "ipython",
    "version": 3
   },
   "file_extension": ".py",
   "mimetype": "text/x-python",
   "name": "python",
   "nbconvert_exporter": "python",
   "pygments_lexer": "ipython3",
   "version": "3.7.3"
  }
 },
 "nbformat": 4,
 "nbformat_minor": 1
}
