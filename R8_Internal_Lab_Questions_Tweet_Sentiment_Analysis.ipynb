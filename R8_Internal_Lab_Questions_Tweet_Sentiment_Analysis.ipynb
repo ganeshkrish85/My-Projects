{
  "nbformat": 4,
  "nbformat_minor": 0,
  "metadata": {
    "accelerator": "GPU",
    "colab": {
      "name": "R8_Internal_Lab_Questions_Tweet_Sentiment_Analysis.ipynb",
      "provenance": [],
      "collapsed_sections": []
    },
    "kernelspec": {
      "name": "python3",
      "display_name": "Python 3"
    },
    "language_info": {
      "codemirror_mode": {
        "name": "ipython",
        "version": 3
      },
      "file_extension": ".py",
      "mimetype": "text/x-python",
      "name": "python",
      "nbconvert_exporter": "python",
      "pygments_lexer": "ipython3",
      "version": "3.7.3"
    }
  },
  "cells": [
    {
      "cell_type": "markdown",
      "metadata": {
        "colab_type": "text",
        "id": "FU-HwvIdH0M-"
      },
      "source": [
        "## Sentiment analysis <br> \n",
        "\n",
        "The objective of the second problem is to perform Sentiment analysis from the tweets data collected from the users targeted at various mobile devices.\n",
        "Based on the tweet posted by a user (text), we will classify if the sentiment of the user targeted at a particular mobile device is positive or not."
      ]
    },
    {
      "cell_type": "markdown",
      "metadata": {
        "colab_type": "text",
        "id": "nAQDiZHRH0M_"
      },
      "source": [
        "### 1. Read the dataset (tweets.csv) and drop the NA's while reading the dataset"
      ]
    },
    {
      "cell_type": "code",
      "metadata": {
        "colab_type": "code",
        "id": "3eXGIe-SH0NA",
        "colab": {
          "base_uri": "https://localhost:8080/",
          "height": 34
        },
        "outputId": "ff30a9cc-5c0e-4ed7-efdc-f1aa3e76bbbd"
      },
      "source": [
        "import pandas as pd\n",
        "import numpy as np\n",
        "import matplotlib.pyplot as plt\n",
        "%matplotlib inline\n",
        "from google.colab import drive\n",
        "drive.mount('/content/gdrive',force_remount=True)"
      ],
      "execution_count": 25,
      "outputs": [
        {
          "output_type": "stream",
          "text": [
            "Mounted at /content/gdrive\n"
          ],
          "name": "stdout"
        }
      ]
    },
    {
      "cell_type": "code",
      "metadata": {
        "colab_type": "code",
        "id": "CWeWe1eJH0NF",
        "colab": {}
      },
      "source": [
        "data = pd.read_csv('/content/gdrive/My Drive/tweets.csv',encoding='unicode-escape')"
      ],
      "execution_count": 0,
      "outputs": []
    },
    {
      "cell_type": "code",
      "metadata": {
        "id": "v7PduiDgLoUq",
        "colab_type": "code",
        "colab": {
          "base_uri": "https://localhost:8080/",
          "height": 204
        },
        "outputId": "132f9d6d-11f0-4b80-c3cf-370d13dd2a9f"
      },
      "source": [
        "data.head()"
      ],
      "execution_count": 27,
      "outputs": [
        {
          "output_type": "execute_result",
          "data": {
            "text/html": [
              "<div>\n",
              "<style scoped>\n",
              "    .dataframe tbody tr th:only-of-type {\n",
              "        vertical-align: middle;\n",
              "    }\n",
              "\n",
              "    .dataframe tbody tr th {\n",
              "        vertical-align: top;\n",
              "    }\n",
              "\n",
              "    .dataframe thead th {\n",
              "        text-align: right;\n",
              "    }\n",
              "</style>\n",
              "<table border=\"1\" class=\"dataframe\">\n",
              "  <thead>\n",
              "    <tr style=\"text-align: right;\">\n",
              "      <th></th>\n",
              "      <th>tweet_text</th>\n",
              "      <th>emotion_in_tweet_is_directed_at</th>\n",
              "      <th>is_there_an_emotion_directed_at_a_brand_or_product</th>\n",
              "    </tr>\n",
              "  </thead>\n",
              "  <tbody>\n",
              "    <tr>\n",
              "      <th>0</th>\n",
              "      <td>.@wesley83 I have a 3G iPhone. After 3 hrs twe...</td>\n",
              "      <td>iPhone</td>\n",
              "      <td>Negative emotion</td>\n",
              "    </tr>\n",
              "    <tr>\n",
              "      <th>1</th>\n",
              "      <td>@jessedee Know about @fludapp ? Awesome iPad/i...</td>\n",
              "      <td>iPad or iPhone App</td>\n",
              "      <td>Positive emotion</td>\n",
              "    </tr>\n",
              "    <tr>\n",
              "      <th>2</th>\n",
              "      <td>@swonderlin Can not wait for #iPad 2 also. The...</td>\n",
              "      <td>iPad</td>\n",
              "      <td>Positive emotion</td>\n",
              "    </tr>\n",
              "    <tr>\n",
              "      <th>3</th>\n",
              "      <td>@sxsw I hope this year's festival isn't as cra...</td>\n",
              "      <td>iPad or iPhone App</td>\n",
              "      <td>Negative emotion</td>\n",
              "    </tr>\n",
              "    <tr>\n",
              "      <th>4</th>\n",
              "      <td>@sxtxstate great stuff on Fri #SXSW: Marissa M...</td>\n",
              "      <td>Google</td>\n",
              "      <td>Positive emotion</td>\n",
              "    </tr>\n",
              "  </tbody>\n",
              "</table>\n",
              "</div>"
            ],
            "text/plain": [
              "                                          tweet_text  ... is_there_an_emotion_directed_at_a_brand_or_product\n",
              "0  .@wesley83 I have a 3G iPhone. After 3 hrs twe...  ...                                   Negative emotion\n",
              "1  @jessedee Know about @fludapp ? Awesome iPad/i...  ...                                   Positive emotion\n",
              "2  @swonderlin Can not wait for #iPad 2 also. The...  ...                                   Positive emotion\n",
              "3  @sxsw I hope this year's festival isn't as cra...  ...                                   Negative emotion\n",
              "4  @sxtxstate great stuff on Fri #SXSW: Marissa M...  ...                                   Positive emotion\n",
              "\n",
              "[5 rows x 3 columns]"
            ]
          },
          "metadata": {
            "tags": []
          },
          "execution_count": 27
        }
      ]
    },
    {
      "cell_type": "code",
      "metadata": {
        "id": "8AdksbwuLxCH",
        "colab_type": "code",
        "colab": {
          "base_uri": "https://localhost:8080/",
          "height": 85
        },
        "outputId": "9d6657b7-9528-4935-f22f-db2e02fb094c"
      },
      "source": [
        "data.count()"
      ],
      "execution_count": 28,
      "outputs": [
        {
          "output_type": "execute_result",
          "data": {
            "text/plain": [
              "tweet_text                                            9092\n",
              "emotion_in_tweet_is_directed_at                       3291\n",
              "is_there_an_emotion_directed_at_a_brand_or_product    9093\n",
              "dtype: int64"
            ]
          },
          "metadata": {
            "tags": []
          },
          "execution_count": 28
        }
      ]
    },
    {
      "cell_type": "code",
      "metadata": {
        "id": "Oge7gm5kL2gH",
        "colab_type": "code",
        "colab": {}
      },
      "source": [
        "data.dropna(inplace=True)"
      ],
      "execution_count": 0,
      "outputs": []
    },
    {
      "cell_type": "code",
      "metadata": {
        "id": "slCZmVr-L5YS",
        "colab_type": "code",
        "colab": {
          "base_uri": "https://localhost:8080/",
          "height": 85
        },
        "outputId": "ec3385f2-b52d-4f39-cff3-c7dd020f1e9e"
      },
      "source": [
        "data.count()"
      ],
      "execution_count": 30,
      "outputs": [
        {
          "output_type": "execute_result",
          "data": {
            "text/plain": [
              "tweet_text                                            3291\n",
              "emotion_in_tweet_is_directed_at                       3291\n",
              "is_there_an_emotion_directed_at_a_brand_or_product    3291\n",
              "dtype: int64"
            ]
          },
          "metadata": {
            "tags": []
          },
          "execution_count": 30
        }
      ]
    },
    {
      "cell_type": "markdown",
      "metadata": {
        "colab_type": "text",
        "id": "jPJvTjefH0NI"
      },
      "source": [
        "### 2. Preprocess the text and add the preprocessed text in a column with name `text` in the dataframe."
      ]
    },
    {
      "cell_type": "code",
      "metadata": {
        "colab_type": "code",
        "id": "5iec5s9gH0NI",
        "colab": {}
      },
      "source": [
        "def preprocess(text):\n",
        "    try:\n",
        "        return text.decode('ascii')\n",
        "    except Exception as e:\n",
        "        return \"\""
      ],
      "execution_count": 0,
      "outputs": []
    },
    {
      "cell_type": "code",
      "metadata": {
        "colab_type": "code",
        "id": "EQSmqA-vH0NT",
        "colab": {}
      },
      "source": [
        "data['text'] = [preprocess(text) for text in data.tweet_text]"
      ],
      "execution_count": 0,
      "outputs": []
    },
    {
      "cell_type": "code",
      "metadata": {
        "colab_type": "code",
        "id": "7kX-WoJDH0NV",
        "colab": {
          "base_uri": "https://localhost:8080/",
          "height": 204
        },
        "outputId": "572e169b-11f3-490d-f69d-0e744d62f495"
      },
      "source": [
        "data.head()"
      ],
      "execution_count": 34,
      "outputs": [
        {
          "output_type": "execute_result",
          "data": {
            "text/html": [
              "<div>\n",
              "<style scoped>\n",
              "    .dataframe tbody tr th:only-of-type {\n",
              "        vertical-align: middle;\n",
              "    }\n",
              "\n",
              "    .dataframe tbody tr th {\n",
              "        vertical-align: top;\n",
              "    }\n",
              "\n",
              "    .dataframe thead th {\n",
              "        text-align: right;\n",
              "    }\n",
              "</style>\n",
              "<table border=\"1\" class=\"dataframe\">\n",
              "  <thead>\n",
              "    <tr style=\"text-align: right;\">\n",
              "      <th></th>\n",
              "      <th>tweet_text</th>\n",
              "      <th>emotion_in_tweet_is_directed_at</th>\n",
              "      <th>is_there_an_emotion_directed_at_a_brand_or_product</th>\n",
              "      <th>text</th>\n",
              "    </tr>\n",
              "  </thead>\n",
              "  <tbody>\n",
              "    <tr>\n",
              "      <th>0</th>\n",
              "      <td>.@wesley83 I have a 3G iPhone. After 3 hrs twe...</td>\n",
              "      <td>iPhone</td>\n",
              "      <td>Negative emotion</td>\n",
              "      <td></td>\n",
              "    </tr>\n",
              "    <tr>\n",
              "      <th>1</th>\n",
              "      <td>@jessedee Know about @fludapp ? Awesome iPad/i...</td>\n",
              "      <td>iPad or iPhone App</td>\n",
              "      <td>Positive emotion</td>\n",
              "      <td></td>\n",
              "    </tr>\n",
              "    <tr>\n",
              "      <th>2</th>\n",
              "      <td>@swonderlin Can not wait for #iPad 2 also. The...</td>\n",
              "      <td>iPad</td>\n",
              "      <td>Positive emotion</td>\n",
              "      <td></td>\n",
              "    </tr>\n",
              "    <tr>\n",
              "      <th>3</th>\n",
              "      <td>@sxsw I hope this year's festival isn't as cra...</td>\n",
              "      <td>iPad or iPhone App</td>\n",
              "      <td>Negative emotion</td>\n",
              "      <td></td>\n",
              "    </tr>\n",
              "    <tr>\n",
              "      <th>4</th>\n",
              "      <td>@sxtxstate great stuff on Fri #SXSW: Marissa M...</td>\n",
              "      <td>Google</td>\n",
              "      <td>Positive emotion</td>\n",
              "      <td></td>\n",
              "    </tr>\n",
              "  </tbody>\n",
              "</table>\n",
              "</div>"
            ],
            "text/plain": [
              "                                          tweet_text  ... text\n",
              "0  .@wesley83 I have a 3G iPhone. After 3 hrs twe...  ...     \n",
              "1  @jessedee Know about @fludapp ? Awesome iPad/i...  ...     \n",
              "2  @swonderlin Can not wait for #iPad 2 also. The...  ...     \n",
              "3  @sxsw I hope this year's festival isn't as cra...  ...     \n",
              "4  @sxtxstate great stuff on Fri #SXSW: Marissa M...  ...     \n",
              "\n",
              "[5 rows x 4 columns]"
            ]
          },
          "metadata": {
            "tags": []
          },
          "execution_count": 34
        }
      ]
    },
    {
      "cell_type": "markdown",
      "metadata": {
        "colab_type": "text",
        "id": "OGWB3P2WH0NY"
      },
      "source": [
        "### 3. Consider only rows having Positive emotion and Negative emotion and remove other rows from the dataframe."
      ]
    },
    {
      "cell_type": "code",
      "metadata": {
        "colab_type": "code",
        "id": "bdgA_8N2H0NY",
        "colab": {
          "base_uri": "https://localhost:8080/",
          "height": 102
        },
        "outputId": "e7f1c18e-0e65-416f-fe0e-dbe0cd8fa70c"
      },
      "source": [
        "data['is_there_an_emotion_directed_at_a_brand_or_product'].value_counts()"
      ],
      "execution_count": 35,
      "outputs": [
        {
          "output_type": "execute_result",
          "data": {
            "text/plain": [
              "Positive emotion                      2672\n",
              "Negative emotion                       519\n",
              "No emotion toward brand or product      91\n",
              "I can't tell                             9\n",
              "Name: is_there_an_emotion_directed_at_a_brand_or_product, dtype: int64"
            ]
          },
          "metadata": {
            "tags": []
          },
          "execution_count": 35
        }
      ]
    },
    {
      "cell_type": "code",
      "metadata": {
        "colab_type": "code",
        "id": "_Jlu-reIH0Na",
        "colab": {
          "base_uri": "https://localhost:8080/",
          "height": 102
        },
        "outputId": "214a67e9-0f8f-49fd-828e-266ca407a56f"
      },
      "source": [
        "data[np.logical_or(data['is_there_an_emotion_directed_at_a_brand_or_product']=='No emotion toward brand or product',\n",
        "data['is_there_an_emotion_directed_at_a_brand_or_product'] == \"I can't tell\")].count()"
      ],
      "execution_count": 36,
      "outputs": [
        {
          "output_type": "execute_result",
          "data": {
            "text/plain": [
              "tweet_text                                            100\n",
              "emotion_in_tweet_is_directed_at                       100\n",
              "is_there_an_emotion_directed_at_a_brand_or_product    100\n",
              "text                                                  100\n",
              "dtype: int64"
            ]
          },
          "metadata": {
            "tags": []
          },
          "execution_count": 36
        }
      ]
    },
    {
      "cell_type": "code",
      "metadata": {
        "id": "UYPcO6TmNWG2",
        "colab_type": "code",
        "colab": {
          "base_uri": "https://localhost:8080/",
          "height": 204
        },
        "outputId": "f9b9e09d-8ab0-463d-832b-bf71d06550c8"
      },
      "source": [
        "data=data[~np.logical_or(data['is_there_an_emotion_directed_at_a_brand_or_product']=='No emotion toward brand or product',\n",
        "data['is_there_an_emotion_directed_at_a_brand_or_product'] == \"I can't tell\")]\n",
        "data.head()"
      ],
      "execution_count": 37,
      "outputs": [
        {
          "output_type": "execute_result",
          "data": {
            "text/html": [
              "<div>\n",
              "<style scoped>\n",
              "    .dataframe tbody tr th:only-of-type {\n",
              "        vertical-align: middle;\n",
              "    }\n",
              "\n",
              "    .dataframe tbody tr th {\n",
              "        vertical-align: top;\n",
              "    }\n",
              "\n",
              "    .dataframe thead th {\n",
              "        text-align: right;\n",
              "    }\n",
              "</style>\n",
              "<table border=\"1\" class=\"dataframe\">\n",
              "  <thead>\n",
              "    <tr style=\"text-align: right;\">\n",
              "      <th></th>\n",
              "      <th>tweet_text</th>\n",
              "      <th>emotion_in_tweet_is_directed_at</th>\n",
              "      <th>is_there_an_emotion_directed_at_a_brand_or_product</th>\n",
              "      <th>text</th>\n",
              "    </tr>\n",
              "  </thead>\n",
              "  <tbody>\n",
              "    <tr>\n",
              "      <th>0</th>\n",
              "      <td>.@wesley83 I have a 3G iPhone. After 3 hrs twe...</td>\n",
              "      <td>iPhone</td>\n",
              "      <td>Negative emotion</td>\n",
              "      <td></td>\n",
              "    </tr>\n",
              "    <tr>\n",
              "      <th>1</th>\n",
              "      <td>@jessedee Know about @fludapp ? Awesome iPad/i...</td>\n",
              "      <td>iPad or iPhone App</td>\n",
              "      <td>Positive emotion</td>\n",
              "      <td></td>\n",
              "    </tr>\n",
              "    <tr>\n",
              "      <th>2</th>\n",
              "      <td>@swonderlin Can not wait for #iPad 2 also. The...</td>\n",
              "      <td>iPad</td>\n",
              "      <td>Positive emotion</td>\n",
              "      <td></td>\n",
              "    </tr>\n",
              "    <tr>\n",
              "      <th>3</th>\n",
              "      <td>@sxsw I hope this year's festival isn't as cra...</td>\n",
              "      <td>iPad or iPhone App</td>\n",
              "      <td>Negative emotion</td>\n",
              "      <td></td>\n",
              "    </tr>\n",
              "    <tr>\n",
              "      <th>4</th>\n",
              "      <td>@sxtxstate great stuff on Fri #SXSW: Marissa M...</td>\n",
              "      <td>Google</td>\n",
              "      <td>Positive emotion</td>\n",
              "      <td></td>\n",
              "    </tr>\n",
              "  </tbody>\n",
              "</table>\n",
              "</div>"
            ],
            "text/plain": [
              "                                          tweet_text  ... text\n",
              "0  .@wesley83 I have a 3G iPhone. After 3 hrs twe...  ...     \n",
              "1  @jessedee Know about @fludapp ? Awesome iPad/i...  ...     \n",
              "2  @swonderlin Can not wait for #iPad 2 also. The...  ...     \n",
              "3  @sxsw I hope this year's festival isn't as cra...  ...     \n",
              "4  @sxtxstate great stuff on Fri #SXSW: Marissa M...  ...     \n",
              "\n",
              "[5 rows x 4 columns]"
            ]
          },
          "metadata": {
            "tags": []
          },
          "execution_count": 37
        }
      ]
    },
    {
      "cell_type": "code",
      "metadata": {
        "id": "n1cCPQzfOAOi",
        "colab_type": "code",
        "colab": {
          "base_uri": "https://localhost:8080/",
          "height": 102
        },
        "outputId": "5ba6e83c-023d-4bfd-e933-83265b914bb1"
      },
      "source": [
        "data.count()"
      ],
      "execution_count": 38,
      "outputs": [
        {
          "output_type": "execute_result",
          "data": {
            "text/plain": [
              "tweet_text                                            3191\n",
              "emotion_in_tweet_is_directed_at                       3191\n",
              "is_there_an_emotion_directed_at_a_brand_or_product    3191\n",
              "text                                                  3191\n",
              "dtype: int64"
            ]
          },
          "metadata": {
            "tags": []
          },
          "execution_count": 38
        }
      ]
    },
    {
      "cell_type": "markdown",
      "metadata": {
        "colab_type": "text",
        "id": "SotCRvkDH0Nf"
      },
      "source": [
        "### 4. Represent text as numerical data using `CountVectorizer` and get the document term frequency matrix\n",
        "\n",
        "#### Use `vect` as the variable name for initialising CountVectorizer."
      ]
    },
    {
      "cell_type": "code",
      "metadata": {
        "colab_type": "code",
        "id": "YcbkY4sgH0Ng",
        "colab": {}
      },
      "source": [
        "from sklearn.feature_extraction.text import CountVectorizer\n",
        "vect = CountVectorizer(ngram_range=(1,2))"
      ],
      "execution_count": 0,
      "outputs": []
    },
    {
      "cell_type": "code",
      "metadata": {
        "colab_type": "code",
        "id": "KyXtZGr-H0Nl",
        "colab": {}
      },
      "source": [
        "dtm = vect.fit_transform(data['tweet_text']).toarray()"
      ],
      "execution_count": 0,
      "outputs": []
    },
    {
      "cell_type": "code",
      "metadata": {
        "colab_type": "code",
        "id": "Z4LUM-XPH0Nn",
        "colab": {
          "base_uri": "https://localhost:8080/",
          "height": 136
        },
        "outputId": "202442e9-68b0-450c-e5ba-8bcc808769d1"
      },
      "source": [
        "dtm"
      ],
      "execution_count": 42,
      "outputs": [
        {
          "output_type": "execute_result",
          "data": {
            "text/plain": [
              "array([[0, 0, 0, ..., 0, 0, 0],\n",
              "       [0, 0, 0, ..., 0, 0, 0],\n",
              "       [0, 0, 0, ..., 0, 0, 0],\n",
              "       ...,\n",
              "       [0, 0, 0, ..., 0, 0, 0],\n",
              "       [0, 0, 0, ..., 0, 0, 0],\n",
              "       [0, 0, 0, ..., 0, 0, 0]])"
            ]
          },
          "metadata": {
            "tags": []
          },
          "execution_count": 42
        }
      ]
    },
    {
      "cell_type": "code",
      "metadata": {
        "colab_type": "code",
        "id": "aIdZYxJtH0Nq",
        "colab": {
          "base_uri": "https://localhost:8080/",
          "height": 34
        },
        "outputId": "04bd1c3b-ece6-4741-fc07-cbd336053f18"
      },
      "source": [
        "np.count_nonzero(vect.get_feature_names())"
      ],
      "execution_count": 43,
      "outputs": [
        {
          "output_type": "execute_result",
          "data": {
            "text/plain": [
              "29892"
            ]
          },
          "metadata": {
            "tags": []
          },
          "execution_count": 43
        }
      ]
    },
    {
      "cell_type": "markdown",
      "metadata": {
        "colab_type": "text",
        "id": "5pxd5fSHH0Nt"
      },
      "source": [
        "### 5. Find number of different words in vocabulary"
      ]
    },
    {
      "cell_type": "code",
      "metadata": {
        "colab_type": "code",
        "id": "p1DQ2LdNH0Nu",
        "colab": {
          "base_uri": "https://localhost:8080/",
          "height": 1000
        },
        "outputId": "ec78fe3b-b320-42be-bfa9-4e6667b1df8b"
      },
      "source": [
        "vect.vocabulary_"
      ],
      "execution_count": 44,
      "outputs": [
        {
          "output_type": "execute_result",
          "data": {
            "text/plain": [
              "{'wesley83': 28452,\n",
              " 'have': 10663,\n",
              " '3g': 271,\n",
              " 'iphone': 12666,\n",
              " 'after': 722,\n",
              " 'hrs': 11419,\n",
              " 'tweeting': 27085,\n",
              " 'at': 2580,\n",
              " 'rise_austin': 21214,\n",
              " 'it': 13187,\n",
              " 'was': 28115,\n",
              " 'dead': 6219,\n",
              " 'need': 17094,\n",
              " 'to': 26229,\n",
              " 'upgrade': 27444,\n",
              " 'plugin': 19651,\n",
              " 'stations': 23050,\n",
              " 'sxsw': 23695,\n",
              " 'wesley83 have': 28453,\n",
              " 'have 3g': 10664,\n",
              " '3g iphone': 277,\n",
              " 'iphone after': 12672,\n",
              " 'after hrs': 733,\n",
              " 'hrs tweeting': 11420,\n",
              " 'tweeting at': 27087,\n",
              " 'at rise_austin': 2666,\n",
              " 'rise_austin it': 21215,\n",
              " 'it was': 13361,\n",
              " 'was dead': 28132,\n",
              " 'dead need': 6222,\n",
              " 'need to': 17118,\n",
              " 'to upgrade': 26550,\n",
              " 'upgrade plugin': 27446,\n",
              " 'plugin stations': 19653,\n",
              " 'stations at': 23051,\n",
              " 'at sxsw': 2678,\n",
              " 'jessedee': 13493,\n",
              " 'know': 13884,\n",
              " 'about': 465,\n",
              " 'fludapp': 8448,\n",
              " 'awesome': 2966,\n",
              " 'ipad': 12238,\n",
              " 'app': 1855,\n",
              " 'that': 24899,\n",
              " 'you': 29497,\n",
              " 'll': 14731,\n",
              " 'likely': 14420,\n",
              " 'appreciate': 2212,\n",
              " 'for': 8540,\n",
              " 'its': 13380,\n",
              " 'design': 6388,\n",
              " 'also': 990,\n",
              " 'they': 25737,\n",
              " 're': 20612,\n",
              " 'giving': 9532,\n",
              " 'free': 8855,\n",
              " 'ts': 26978,\n",
              " 'jessedee know': 13494,\n",
              " 'know about': 13885,\n",
              " 'about fludapp': 478,\n",
              " 'fludapp awesome': 8449,\n",
              " 'awesome ipad': 2984,\n",
              " 'ipad iphone': 12368,\n",
              " 'iphone app': 12682,\n",
              " 'app that': 1957,\n",
              " 'that you': 25022,\n",
              " 'you ll': 29571,\n",
              " 'll likely': 14741,\n",
              " 'likely appreciate': 14421,\n",
              " 'appreciate for': 2213,\n",
              " 'for its': 8640,\n",
              " 'its design': 13391,\n",
              " 'design also': 6390,\n",
              " 'also they': 1012,\n",
              " 'they re': 25768,\n",
              " 're giving': 20624,\n",
              " 'giving free': 9535,\n",
              " 'free ts': 8897,\n",
              " 'ts at': 26979,\n",
              " 'swonderlin': 23677,\n",
              " 'can': 4564,\n",
              " 'not': 17536,\n",
              " 'wait': 27994,\n",
              " 'should': 22152,\n",
              " 'sale': 21410,\n",
              " 'them': 25615,\n",
              " 'down': 6986,\n",
              " 'swonderlin can': 23678,\n",
              " 'can not': 4609,\n",
              " 'not wait': 17625,\n",
              " 'wait for': 27998,\n",
              " 'for ipad': 8635,\n",
              " 'ipad also': 12246,\n",
              " 'they should': 25775,\n",
              " 'should sale': 22169,\n",
              " 'sale them': 21417,\n",
              " 'them down': 25619,\n",
              " 'down at': 6987,\n",
              " 'hope': 11250,\n",
              " 'this': 25890,\n",
              " 'year': 29379,\n",
              " 'festival': 8182,\n",
              " 'isn': 13163,\n",
              " 'as': 2489,\n",
              " 'crashy': 5871,\n",
              " 'sxsw hope': 23935,\n",
              " 'hope this': 11259,\n",
              " 'this year': 25988,\n",
              " 'year festival': 29386,\n",
              " 'festival isn': 8187,\n",
              " 'isn as': 13165,\n",
              " 'as crashy': 2498,\n",
              " 'crashy as': 5872,\n",
              " 'as this': 2537,\n",
              " 'year iphone': 29390,\n",
              " 'app sxsw': 1953,\n",
              " 'sxtxstate': 24393,\n",
              " 'great': 10111,\n",
              " 'stuff': 23407,\n",
              " 'on': 18174,\n",
              " 'fri': 8909,\n",
              " 'marissa': 15418,\n",
              " 'mayer': 15542,\n",
              " 'google': 9751,\n",
              " 'tim': 26105,\n",
              " 'reilly': 20901,\n",
              " 'tech': 24644,\n",
              " 'books': 3907,\n",
              " 'conferences': 5475,\n",
              " 'amp': 1125,\n",
              " 'matt': 15503,\n",
              " 'mullenweg': 16838,\n",
              " 'wordpress': 29131,\n",
              " 'sxtxstate great': 24394,\n",
              " 'great stuff': 10174,\n",
              " 'stuff on': 23416,\n",
              " 'on fri': 18222,\n",
              " 'fri sxsw': 8911,\n",
              " 'sxsw marissa': 24005,\n",
              " 'marissa mayer': 15419,\n",
              " 'mayer google': 15554,\n",
              " 'google tim': 9940,\n",
              " 'tim reilly': 26109,\n",
              " 'reilly tech': 20903,\n",
              " 'tech books': 24649,\n",
              " 'books conferences': 3909,\n",
              " 'conferences amp': 5476,\n",
              " 'amp matt': 1186,\n",
              " 'matt mullenweg': 15505,\n",
              " 'mullenweg wordpress': 16840,\n",
              " 'is': 12900,\n",
              " 'just': 13597,\n",
              " 'starting': 23025,\n",
              " 'ctia': 5996,\n",
              " 'around': 2419,\n",
              " 'the': 25025,\n",
              " 'corner': 5731,\n",
              " 'and': 1310,\n",
              " 'googleio': 9976,\n",
              " 'only': 18403,\n",
              " 'hop': 11247,\n",
              " 'skip': 22373,\n",
              " 'jump': 13589,\n",
              " 'from': 8949,\n",
              " 'there': 25675,\n",
              " 'good': 9679,\n",
              " 'time': 26114,\n",
              " 'be': 3268,\n",
              " 'an': 1239,\n",
              " 'android': 1625,\n",
              " 'fan': 7964,\n",
              " 'sxsw is': 23959,\n",
              " 'is just': 13018,\n",
              " 'just starting': 13689,\n",
              " 'starting ctia': 23026,\n",
              " 'ctia is': 5997,\n",
              " 'is around': 12916,\n",
              " 'around the': 2441,\n",
              " 'the corner': 25129,\n",
              " 'corner and': 5732,\n",
              " 'and googleio': 1438,\n",
              " 'googleio is': 9977,\n",
              " 'is only': 13060,\n",
              " 'only hop': 18419,\n",
              " 'hop skip': 11249,\n",
              " 'skip and': 22374,\n",
              " 'and jump': 1471,\n",
              " 'jump from': 13590,\n",
              " 'from there': 9003,\n",
              " 'there good': 25691,\n",
              " 'good time': 9730,\n",
              " 'time to': 26154,\n",
              " 'to be': 26257,\n",
              " 'be an': 3277,\n",
              " 'an android': 1249,\n",
              " 'android fan': 1649,\n",
              " 'beautifully': 3411,\n",
              " 'smart': 22434,\n",
              " 'simple': 22276,\n",
              " 'idea': 11518,\n",
              " 'rt': 21318,\n",
              " 'madebymany': 15161,\n",
              " 'thenextweb': 25667,\n",
              " 'wrote': 29308,\n",
              " 'our': 18672,\n",
              " 'hollergram': 11183,\n",
              " 'http': 11438,\n",
              " 'bit': 3753,\n",
              " 'ly': 15081,\n",
              " 'ieavob': 11555,\n",
              " 'beautifully smart': 3412,\n",
              " 'smart and': 22435,\n",
              " 'and simple': 1558,\n",
              " 'simple idea': 22277,\n",
              " 'idea rt': 11529,\n",
              " 'rt madebymany': 21327,\n",
              " 'madebymany thenextweb': 15165,\n",
              " 'thenextweb wrote': 25668,\n",
              " 'wrote about': 29309,\n",
              " 'about our': 505,\n",
              " 'our hollergram': 18688,\n",
              " 'hollergram ipad': 11185,\n",
              " 'ipad app': 12253,\n",
              " 'app for': 1893,\n",
              " 'for sxsw': 8718,\n",
              " 'sxsw http': 23938,\n",
              " 'http bit': 11439,\n",
              " 'bit ly': 3757,\n",
              " 'ly ieavob': 15090,\n",
              " 'counting': 5789,\n",
              " 'days': 6200,\n",
              " 'plus': 19656,\n",
              " 'strong': 23382,\n",
              " 'canadian': 4642,\n",
              " 'dollar': 6872,\n",
              " 'means': 15669,\n",
              " 'stock': 23138,\n",
              " 'up': 27323,\n",
              " 'apple': 2008,\n",
              " 'gear': 9254,\n",
              " 'counting down': 5790,\n",
              " 'down the': 6997,\n",
              " 'the days': 25140,\n",
              " 'days to': 6214,\n",
              " 'to sxsw': 26520,\n",
              " 'sxsw plus': 24085,\n",
              " 'plus strong': 19662,\n",
              " 'strong canadian': 23383,\n",
              " 'canadian dollar': 4643,\n",
              " 'dollar means': 6873,\n",
              " 'means stock': 15675,\n",
              " 'stock up': 23141,\n",
              " 'up on': 27371,\n",
              " 'on apple': 18187,\n",
              " 'apple gear': 2065,\n",
              " 'excited': 7748,\n",
              " 'meet': 15704,\n",
              " 'samsungmobileus': 21455,\n",
              " 'so': 22521,\n",
              " 'show': 22184,\n",
              " 'my': 16901,\n",
              " 'sprint': 22949,\n",
              " 'galaxy': 9171,\n",
              " 'still': 23099,\n",
              " 'running': 21370,\n",
              " 'fail': 7931,\n",
              " 'excited to': 7753,\n",
              " 'to meet': 26428,\n",
              " 'meet the': 15710,\n",
              " 'the samsungmobileus': 25424,\n",
              " 'samsungmobileus at': 21456,\n",
              " 'sxsw so': 24160,\n",
              " 'so can': 22532,\n",
              " 'can show': 4621,\n",
              " 'show them': 22196,\n",
              " 'them my': 25623,\n",
              " 'my sprint': 17007,\n",
              " 'sprint galaxy': 22950,\n",
              " 'galaxy still': 9172,\n",
              " 'still running': 23121,\n",
              " 'running android': 21371,\n",
              " 'android fail': 1648,\n",
              " 'find': 8275,\n",
              " 'start': 23005,\n",
              " 'impromptu': 11677,\n",
              " 'parties': 19048,\n",
              " 'with': 28917,\n",
              " 'hurricaneparty': 11480,\n",
              " 'gvlrin': 10385,\n",
              " 'til': 26098,\n",
              " 'comes': 5328,\n",
              " 'out': 18719,\n",
              " 'find amp': 8276,\n",
              " 'amp start': 1214,\n",
              " 'start impromptu': 23008,\n",
              " 'impromptu parties': 11679,\n",
              " 'parties at': 19052,\n",
              " 'sxsw with': 24304,\n",
              " 'with hurricaneparty': 28954,\n",
              " 'hurricaneparty http': 11481,\n",
              " 'ly gvlrin': 15087,\n",
              " 'gvlrin can': 10386,\n",
              " 'can wait': 4633,\n",
              " 'wait til': 28007,\n",
              " 'til the': 26101,\n",
              " 'the android': 25047,\n",
              " 'android app': 1631,\n",
              " 'app comes': 1874,\n",
              " 'comes out': 5331,\n",
              " 'foursquare': 8820,\n",
              " 'ups': 27454,\n",
              " 'game': 9176,\n",
              " 'in': 11699,\n",
              " 'mp': 16800,\n",
              " 'grn7pk': 10214,\n",
              " 'prefer': 19851,\n",
              " 'gowalla': 10041,\n",
              " 'by': 4415,\n",
              " 'far': 7999,\n",
              " 'best': 3582,\n",
              " 'looking': 14880,\n",
              " 'date': 6140,\n",
              " 'foursquare ups': 8830,\n",
              " 'ups the': 27455,\n",
              " 'the game': 25196,\n",
              " 'game just': 9189,\n",
              " 'just in': 13650,\n",
              " 'in time': 11853,\n",
              " 'time for': 26127,\n",
              " 'http mp': 11442,\n",
              " 'mp grn7pk': 16801,\n",
              " 'grn7pk still': 10215,\n",
              " 'still prefer': 23120,\n",
              " 'prefer gowalla': 19853,\n",
              " 'gowalla by': 10043,\n",
              " 'by far': 4430,\n",
              " 'far best': 8002,\n",
              " 'best looking': 3595,\n",
              " 'looking android': 14881,\n",
              " 'app to': 1961,\n",
              " 'to date': 26305,\n",
              " 'gotta': 10026,\n",
              " 'love': 14959,\n",
              " 'calendar': 4495,\n",
              " 'featuring': 8127,\n",
              " 'top': 26726,\n",
              " 'cases': 4728,\n",
              " 'check': 4938,\n",
              " 'hamsandwich': 10475,\n",
              " 'via': 27810,\n",
              " 'ischafer': 13161,\n",
              " 'gt': 10275,\n",
              " 'axzwxb': 3029,\n",
              " 'gotta love': 10032,\n",
              " 'love this': 14984,\n",
              " 'this sxsw': 25968,\n",
              " 'sxsw google': 23902,\n",
              " 'google calendar': 9783,\n",
              " 'calendar featuring': 4497,\n",
              " 'featuring top': 8130,\n",
              " 'top parties': 26732,\n",
              " 'parties show': 19058,\n",
              " 'show cases': 22188,\n",
              " 'cases to': 4735,\n",
              " 'to check': 26283,\n",
              " 'check out': 4943,\n",
              " 'out rt': 18771,\n",
              " 'rt hamsandwich': 21324,\n",
              " 'hamsandwich via': 10476,\n",
              " 'via ischafer': 27817,\n",
              " 'ischafer gt': 13162,\n",
              " 'gt http': 10283,\n",
              " 'ly axzwxb': 15083,\n",
              " 'tinyurl': 26191,\n",
              " 'com': 5270,\n",
              " '4nqv92l': 319,\n",
              " 'great sxsw': 10176,\n",
              " 'sxsw ipad': 23954,\n",
              " 'app from': 1895,\n",
              " 'from madebymany': 8977,\n",
              " 'madebymany http': 15164,\n",
              " 'http tinyurl': 11443,\n",
              " 'tinyurl com': 26192,\n",
              " 'com 4nqv92l': 5272,\n",
              " 'haha': 10448,\n",
              " 'awesomely': 3013,\n",
              " 'rad': 20533,\n",
              " 'htdfim': 11423,\n",
              " 'haha awesomely': 10449,\n",
              " 'awesomely rad': 3014,\n",
              " 'rad ipad': 20536,\n",
              " 'app by': 1870,\n",
              " 'by madebymany': 4443,\n",
              " 'ly htdfim': 15088,\n",
              " 'htdfim hollergram': 11424,\n",
              " 'hollergram sxsw': 11186,\n",
              " 'noticed': 17664,\n",
              " 'dst': 7135,\n",
              " 'coming': 5338,\n",
              " 'weekend': 28371,\n",
              " 'how': 11368,\n",
              " 'many': 15309,\n",
              " 'users': 27600,\n",
              " 'will': 28755,\n",
              " 'hour': 11335,\n",
              " 'late': 14019,\n",
              " 'come': 5299,\n",
              " 'sunday': 23528,\n",
              " 'morning': 16716,\n",
              " 'just noticed': 13667,\n",
              " 'noticed dst': 17665,\n",
              " 'dst is': 7136,\n",
              " 'is coming': 12942,\n",
              " 'coming this': 5349,\n",
              " 'this weekend': 25982,\n",
              " 'weekend how': 28377,\n",
              " 'how many': 11393,\n",
              " 'many iphone': 15318,\n",
              " 'iphone users': 12836,\n",
              " 'users will': 27626,\n",
              " 'will be': 28758,\n",
              " 'an hour': 1270,\n",
              " 'hour late': 11341,\n",
              " 'late at': 14021,\n",
              " 'sxsw come': 23805,\n",
              " 'come sunday': 5318,\n",
              " 'sunday morning': 23531,\n",
              " 'morning sxsw': 16723,\n",
              " 'sxsw iphone': 23958,\n",
              " 'added': 651,\n",
              " 'flights': 8415,\n",
              " 'planely': 19554,\n",
              " 'matching': 15496,\n",
              " 'people': 19239,\n",
              " 'planes': 19556,\n",
              " 'airports': 834,\n",
              " 'downloaded': 7022,\n",
              " 'klm': 13870,\n",
              " 'nicely': 17399,\n",
              " 'done': 6917,\n",
              " 'just added': 13601,\n",
              " 'added my': 655,\n",
              " 'my sxsw': 17009,\n",
              " 'sxsw flights': 23875,\n",
              " 'flights to': 8419,\n",
              " 'to planely': 26456,\n",
              " 'planely matching': 19555,\n",
              " 'matching people': 15498,\n",
              " 'people on': 19267,\n",
              " 'on planes': 18275,\n",
              " 'planes airports': 19557,\n",
              " 'airports also': 835,\n",
              " 'also downloaded': 998,\n",
              " 'downloaded the': 7025,\n",
              " 'the klm': 25275,\n",
              " 'klm iphone': 13871,\n",
              " 'app nicely': 1928,\n",
              " 'nicely done': 17400,\n",
              " 'must': 16885,\n",
              " 'malbonster': 15270,\n",
              " 'lovely': 14998,\n",
              " 'review': 21122,\n",
              " 'forbes': 8755,\n",
              " 'holler': 11181,\n",
              " 'gram': 10074,\n",
              " 'co': 5213,\n",
              " 'g4gzypv': 9151,\n",
              " 'must have': 16889,\n",
              " 'have sxsw': 10748,\n",
              " 'sxsw app': 23733,\n",
              " 'app rt': 1942,\n",
              " 'rt malbonster': 21329,\n",
              " 'malbonster lovely': 15271,\n",
              " 'lovely review': 15001,\n",
              " 'review from': 21123,\n",
              " 'from forbes': 8966,\n",
              " 'forbes for': 8756,\n",
              " 'for our': 8683,\n",
              " 'our sxsw': 18711,\n",
              " 'app holler': 1906,\n",
              " 'holler gram': 11182,\n",
              " 'gram http': 10080,\n",
              " 'http co': 11440,\n",
              " 'co g4gzypv': 5216,\n",
              " 'buy': 4365,\n",
              " 'ipad2': 12552,\n",
              " 'while': 28593,\n",
              " 'austin': 2789,\n",
              " 'sure': 23573,\n",
              " 'if': 11556,\n",
              " 'store': 23171,\n",
              " 'to buy': 26273,\n",
              " 'buy an': 4368,\n",
              " 'an ipad2': 1283,\n",
              " 'ipad2 while': 12626,\n",
              " 'while in': 28599,\n",
              " 'in austin': 11718,\n",
              " 'austin at': 2797,\n",
              " 'sxsw not': 24045,\n",
              " 'not sure': 17614,\n",
              " 'sure if': 23577,\n",
              " 'if ll': 11568,\n",
              " 'll need': 14742,\n",
              " 'to up': 26548,\n",
              " 'up at': 27333,\n",
              " 'at an': 2603,\n",
              " 'an austin': 1255,\n",
              " 'austin apple': 2794,\n",
              " 'apple store': 2159,\n",
              " 'oh': 18104,\n",
              " 'god': 9606,\n",
              " 'pure': 20201,\n",
              " 'unadulterated': 27216,\n",
              " 'easier': 7237,\n",
              " 'browse': 4163,\n",
              " 'events': 7602,\n",
              " 'than': 24833,\n",
              " 'website': 28337,\n",
              " 'oh my': 18111,\n",
              " 'my god': 16951,\n",
              " 'god the': 9615,\n",
              " 'the sxsw': 25471,\n",
              " 'ipad is': 12371,\n",
              " 'is pure': 13085,\n",
              " 'pure unadulterated': 20206,\n",
              " 'unadulterated awesome': 27217,\n",
              " 'awesome it': 2987,\n",
              " 'it easier': 13238,\n",
              " 'easier to': 7241,\n",
              " 'to browse': 26269,\n",
              " 'browse events': 4164,\n",
              " 'events on': 7609,\n",
              " 'on ipad': 18237,\n",
              " 'ipad than': 12493,\n",
              " 'than on': 24863,\n",
              " 'on the': 18297,\n",
              " 'the website': 25530,\n",
              " 'okay': 18130,\n",
              " 'really': 20723,\n",
              " 'yay': 29359,\n",
              " 'new': 17199,\n",
              " '11': 53,\n",
              " 'kthxbai': 13925,\n",
              " 'okay this': 18133,\n",
              " 'this is': 25926,\n",
              " 'is really': 13092,\n",
              " 'really it': 20751,\n",
              " 'it yay': 13372,\n",
              " 'yay new': 29364,\n",
              " 'new foursquare': 17225,\n",
              " 'foursquare for': 8823,\n",
              " 'for android': 8550,\n",
              " 'app 11': 1856,\n",
              " '11 kthxbai': 56,\n",
              " 'kthxbai sxsw': 13926,\n",
              " 'photo': 19407,\n",
              " 'installed': 12030,\n",
              " 'which': 28579,\n",
              " 'nice': 17362,\n",
              " 'tumblr': 26996,\n",
              " 'x6t1pi6av7': 29326,\n",
              " 'photo just': 19413,\n",
              " 'just installed': 13651,\n",
              " 'installed the': 12033,\n",
              " 'app which': 1974,\n",
              " 'which is': 28585,\n",
              " 'really nice': 20762,\n",
              " 'nice http': 17373,\n",
              " 'http tumblr': 11444,\n",
              " 'tumblr com': 26997,\n",
              " 'com x6t1pi6av7': 5292,\n",
              " 'enjoying': 7422,\n",
              " 'changes': 4861,\n",
              " 'forward': 8801,\n",
              " 'seeing': 21778,\n",
              " 'what': 28460,\n",
              " 'else': 7321,\n",
              " 'their': 25569,\n",
              " 'sleeves': 22394,\n",
              " 'really enjoying': 20738,\n",
              " 'enjoying the': 7425,\n",
              " 'the changes': 25103,\n",
              " 'changes in': 4863,\n",
              " 'in gowalla': 11763,\n",
              " 'gowalla for': 10045,\n",
              " 'android looking': 1667,\n",
              " 'looking forward': 14884,\n",
              " 'forward to': 8804,\n",
              " 'to seeing': 26487,\n",
              " 'seeing what': 21790,\n",
              " 'what else': 28478,\n",
              " 'else they': 7328,\n",
              " 'they amp': 25740,\n",
              " 'amp foursquare': 1158,\n",
              " 'foursquare have': 8826,\n",
              " 'have up': 10761,\n",
              " 'up their': 27397,\n",
              " 'their sleeves': 25602,\n",
              " 'sleeves at': 22395,\n",
              " 'laurieshook': 14134,\n",
              " 'smcdallas': 22474,\n",
              " 'pre': 19845,\n",
              " 'party': 19071,\n",
              " 'wed': 28347,\n",
              " 'hoping': 11271,\n",
              " 'win': 28815,\n",
              " 'resulting': 21082,\n",
              " 'shameless': 22023,\n",
              " 'promotion': 20104,\n",
              " 'chevysmc': 4982,\n",
              " 'rt laurieshook': 21326,\n",
              " 'laurieshook looking': 14135,\n",
              " 'to the': 26530,\n",
              " 'the smcdallas': 25445,\n",
              " 'smcdallas pre': 22475,\n",
              " 'pre sxsw': 19847,\n",
              " 'sxsw party': 24073,\n",
              " 'party wed': 19126,\n",
              " 'wed and': 28348,\n",
              " 'and hoping': 1450,\n",
              " 'hoping ll': 11273,\n",
              " 'll win': 14753,\n",
              " 'win an': 28817,\n",
              " 'an ipad': 1282,\n",
              " 'ipad resulting': 12450,\n",
              " 'resulting from': 21083,\n",
              " 'from my': 8983,\n",
              " 'my shameless': 17002,\n",
              " 'shameless promotion': 22024,\n",
              " 'promotion chevysmc': 20105,\n",
              " 'michaelpiliero': 16342,\n",
              " 'rt haha': 21323,\n",
              " 'sxsw via': 24270,\n",
              " 'via michaelpiliero': 27822,\n",
              " 'someone': 22731,\n",
              " 'started': 23018,\n",
              " 'partnerhub': 19065,\n",
              " 'group': 10220,\n",
              " 'groups': 10243,\n",
              " 'someone started': 22743,\n",
              " 'started an': 23019,\n",
              " 'austin partnerhub': 2842,\n",
              " 'partnerhub group': 19066,\n",
              " 'group in': 10226,\n",
              " 'in google': 11762,\n",
              " 'google groups': 9817,\n",
              " 'groups pre': 10245,\n",
              " 'sxsw great': 23911,\n",
              " 'great idea': 10137,\n",
              " '4sq3': 324,\n",
              " 'looks': 14890,\n",
              " 'like': 14340,\n",
              " 'going': 9642,\n",
              " 'rock': 21238,\n",
              " 'update': 27413,\n",
              " 'push': 20213,\n",
              " 'tonight': 26657,\n",
              " 'etsbzk': 7543,\n",
              " 'keepaustinweird': 13751,\n",
              " 'the new': 25336,\n",
              " 'new 4sq3': 17201,\n",
              " '4sq3 looks': 325,\n",
              " 'looks like': 14898,\n",
              " 'like it': 14369,\n",
              " 'it is': 13276,\n",
              " 'is going': 12996,\n",
              " 'going to': 9655,\n",
              " 'to rock': 26480,\n",
              " 'rock update': 21248,\n",
              " 'update for': 27414,\n",
              " 'for iphone': 8638,\n",
              " 'iphone and': 12679,\n",
              " 'and android': 1330,\n",
              " 'android should': 1691,\n",
              " 'should push': 22167,\n",
              " 'push tonight': 20217,\n",
              " 'tonight http': 26664,\n",
              " 'ly etsbzk': 15085,\n",
              " 'etsbzk sxsw': 7544,\n",
              " 'sxsw keepaustinweird': 23968,\n",
              " 'were': 28432,\n",
              " 'right': 21173,\n",
              " 'sweeeeet': 23638,\n",
              " 'job': 13504,\n",
              " 'team': 24618,\n",
              " 'they were': 25785,\n",
              " 'were right': 28443,\n",
              " 'right the': 21190,\n",
              " 'the gowalla': 25208,\n",
              " 'gowalla app': 10042,\n",
              " 'app on': 1935,\n",
              " 'on android': 18185,\n",
              " 'android is': 1664,\n",
              " 'is sweeeeet': 13120,\n",
              " 'sweeeeet nice': 23639,\n",
              " 'nice job': 17376,\n",
              " 'job by': 13507,\n",
              " 'by the': 4472,\n",
              " 'the team': 25479,\n",
              " 'team there': 24631,\n",
              " 'there sxsw': 25711,\n",
              " 'very': 27778,\n",
              " 'a3xvwc6': 450,\n",
              " 'may': 15515,\n",
              " 'leave': 14204,\n",
              " 'vuvuzela': 27986,\n",
              " 'home': 11198,\n",
              " 'now': 17676,\n",
              " 'very smart': 27795,\n",
              " 'smart from': 22440,\n",
              " 'madebymany hollergram': 15163,\n",
              " 'co a3xvwc6': 5214,\n",
              " 'a3xvwc6 may': 451,\n",
              " 'may leave': 15527,\n",
              " 'leave my': 14207,\n",
              " 'my vuvuzela': 17019,\n",
              " 'vuvuzela at': 27987,\n",
              " 'at home': 2633,\n",
              " 'home now': 11205,\n",
              " 'your': 29638,\n",
              " 'are': 2288,\n",
              " 'itunes': 13415,\n",
              " 'us': 27473,\n",
              " 'id420666439': 11516,\n",
              " 'mt': 16814,\n",
              " 'you must': 29581,\n",
              " 'have this': 10755,\n",
              " 'this app': 25893,\n",
              " 'for your': 8754,\n",
              " 'your ipad': 29676,\n",
              " 'ipad if': 12355,\n",
              " 'if you': 11585,\n",
              " 'you are': 29506,\n",
              " 'are going': 2324,\n",
              " 'http itunes': 11441,\n",
              " 'itunes apple': 13418,\n",
              " 'apple com': 2034,\n",
              " 'com us': 5291,\n",
              " 'us app': 27476,\n",
              " 'gram id420666439': 10081,\n",
              " 'id420666439 mt': 11517,\n",
              " 'mt hollergram': 16815,\n",
              " 'mention': 15755,\n",
              " 'ha': 10401,\n",
              " 'first': 8323,\n",
              " 'line': 14440,\n",
              " 'quot': 20331,\n",
              " 'pop': 19713,\n",
              " 'event': 7587,\n",
              " 'planner': 19562,\n",
              " 'eventprofs': 7600,\n",
              " 'pcma': 19195,\n",
              " 'engage365': 7392,\n",
              " 'the best': 25076,\n",
              " 'best rt': 3604,\n",
              " 'rt mention': 21330,\n",
              " 'mention ha': 15957,\n",
              " 'ha first': 10403,\n",
              " 'first in': 8336,\n",
              " 'in line': 11786,\n",
              " 'line for': 14451,\n",
              " 'for ipad2': 8636,\n",
              " 'ipad2 at': 12558,\n",
              " 'sxsw quot': 24107,\n",
              " 'quot pop': 20466,\n",
              " 'pop up': 19716,\n",
              " 'up quot': 27379,\n",
              " 'quot apple': 20340,\n",
              " 'store was': 23288,\n",
              " 'was an': 28122,\n",
              " 'an event': 1263,\n",
              " 'event planner': 7595,\n",
              " 'planner eventprofs': 19563,\n",
              " 'eventprofs pcma': 7601,\n",
              " 'pcma engage365': 19196,\n",
              " 'false': 7956,\n",
              " 'alarm': 850,\n",
              " 'circles': 5052,\n",
              " 'ûòand': 29874,\n",
              " 'probably': 20002,\n",
              " 'ever': 7619,\n",
              " 'link': 14497,\n",
              " 'social': 22599,\n",
              " 'mention false': 15908,\n",
              " 'false alarm': 7957,\n",
              " 'alarm google': 852,\n",
              " 'google circles': 9790,\n",
              " 'circles not': 5070,\n",
              " 'not coming': 17555,\n",
              " 'coming now': 5346,\n",
              " 'now ûòand': 17744,\n",
              " 'ûòand probably': 29875,\n",
              " 'probably not': 20007,\n",
              " 'not ever': 17562,\n",
              " 'ever link': 7628,\n",
              " 'link google': 14547,\n",
              " 'circles social': 5077,\n",
              " 'social sxsw': 22627,\n",
              " 'weather': 28302,\n",
              " 'greet': 10198,\n",
              " 'sweater': 23636,\n",
              " 'night': 17409,\n",
              " 'putting': 20238,\n",
              " 'flash': 8384,\n",
              " 'downtown': 7035,\n",
              " 'sell': 21844,\n",
              " 'mention great': 15948,\n",
              " 'great weather': 10189,\n",
              " 'weather to': 28305,\n",
              " 'to greet': 26363,\n",
              " 'greet you': 10199,\n",
              " 'you for': 29537,\n",
              " 'sxsw still': 24179,\n",
              " 'still need': 23116,\n",
              " 'need sweater': 17114,\n",
              " 'sweater at': 23637,\n",
              " 'at night': 2655,\n",
              " 'night apple': 17413,\n",
              " 'apple putting': 2134,\n",
              " 'putting up': 20242,\n",
              " 'quot flash': 20385,\n",
              " 'flash store': 8391,\n",
              " 'store quot': 23261,\n",
              " 'quot downtown': 20377,\n",
              " 'downtown to': 7045,\n",
              " 'to sell': 26489,\n",
              " 'sell ipad2': 21848,\n",
              " 'smartcover': 22458,\n",
              " 'ûª': 29825,\n",
              " 'opens': 18504,\n",
              " 'instant': 12038,\n",
              " 'access': 548,\n",
              " 'waited': 28012,\n",
              " 'get': 9348,\n",
              " 'one': 18329,\n",
              " 'ipad2 smartcover': 12606,\n",
              " 'smartcover ûª': 22459,\n",
              " 'ûª opens': 29830,\n",
              " 'opens to': 18511,\n",
              " 'to instant': 26392,\n",
              " 'instant access': 12039,\n",
              " 'access should': 551,\n",
              " 'should have': 22162,\n",
              " 'have waited': 10765,\n",
              " 'waited to': 28016,\n",
              " 'to get': 26355,\n",
              " 'get one': 9384,\n",
              " 'one link': 18358,\n",
              " 'link apple': 14507,\n",
              " 'apple sxsw': 2165,\n",
              " 'hooray': 11233,\n",
              " 'ûï': 29849,\n",
              " 'opening': 18493,\n",
              " 'hooray rt': 11236,\n",
              " 'rt ûï': 21335,\n",
              " 'ûï mention': 29850,\n",
              " 'mention apple': 15789,\n",
              " 'apple is': 2088,\n",
              " 'is opening': 13062,\n",
              " 'opening pop': 18498,\n",
              " 'up store': 27388,\n",
              " 'store in': 23221,\n",
              " 'austin for': 2815,\n",
              " 'sxsw mention': 24014,\n",
              " 'mention link': 16032,\n",
              " 'wooooo': 29115,\n",
              " 'open': 18454,\n",
              " 'midnight': 16361,\n",
              " 'wooooo ûï': 29117,\n",
              " 'store downtown': 23203,\n",
              " 'downtown austin': 7039,\n",
              " 'austin open': 2839,\n",
              " 'open til': 18478,\n",
              " 'til midnight': 26100,\n",
              " 'midnight sxsw': 16363,\n",
              " 'talking': 24558,\n",
              " 'effort': 7289,\n",
              " 'allow': 938,\n",
              " 'systems': 24429,\n",
              " 'bettercloud': 3652,\n",
              " 'mention mention': 16058,\n",
              " 'mention talking': 16208,\n",
              " 'talking about': 24559,\n",
              " 'about link': 498,\n",
              " 'google effort': 9809,\n",
              " 'effort to': 7290,\n",
              " 'to allow': 26239,\n",
              " 'allow users': 941,\n",
              " 'users to': 27624,\n",
              " 'to have': 26373,\n",
              " 'have open': 10728,\n",
              " 'open systems': 18475,\n",
              " 'systems bettercloud': 24430,\n",
              " 'bettercloud sxsw': 3653,\n",
              " '1st': 134,\n",
              " 'stop': 23155,\n",
              " 'chaos': 4873,\n",
              " 'hunt': 11476,\n",
              " 'java': 13462,\n",
              " 'spy': 22951,\n",
              " 'chance': 4843,\n",
              " 'link rt': 14604,\n",
              " 'mention 1st': 15758,\n",
              " '1st stop': 139,\n",
              " 'stop on': 23158,\n",
              " 'sxsw chaos': 23790,\n",
              " 'chaos amp': 4874,\n",
              " 'amp mention': 1187,\n",
              " 'mention hunt': 15990,\n",
              " 'hunt austin': 11477,\n",
              " 'austin java': 2829,\n",
              " 'java get': 13463,\n",
              " 'get in': 9368,\n",
              " 'in the': 11847,\n",
              " 'the spy': 25455,\n",
              " 'spy game': 22952,\n",
              " 'game chance': 9179,\n",
              " 'chance win': 4846,\n",
              " 'omfg': 18156,\n",
              " 'heard': 10879,\n",
              " 'pics': 19460,\n",
              " 'already': 964,\n",
              " 'omfg rt': 18157,\n",
              " 'mention heard': 15970,\n",
              " 'heard about': 10880,\n",
              " 'about apple': 471,\n",
              " 'apple pop': 2125,\n",
              " 'in downtown': 11740,\n",
              " 'austin pics': 2843,\n",
              " 'pics are': 19462,\n",
              " 'are already': 2293,\n",
              " 'already on': 982,\n",
              " 'on gowalla': 18227,\n",
              " 'gowalla link': 10046,\n",
              " 'link sxsw': 14617,\n",
              " 'sxsw ipad2': 23955,\n",
              " 'attending': 2733,\n",
              " 'headaches': 10838,\n",
              " 'attending mention': 2735,\n",
              " 'mention ipad': 16003,\n",
              " 'ipad design': 12303,\n",
              " 'design headaches': 6401,\n",
              " 'headaches sxsw': 10844,\n",
              " 'sxsw link': 23982,\n",
              " 'power': 19802,\n",
              " 'sxswi': 24346,\n",
              " 'out mention': 18758,\n",
              " 'mention amp': 15779,\n",
              " 'mention in': 15994,\n",
              " 'for their': 8726,\n",
              " 'their ipad': 25585,\n",
              " 'ipad in': 12358,\n",
              " 'austin power': 2845,\n",
              " 'power to': 19810,\n",
              " 'to them': 26532,\n",
              " 'them sxswi': 25634,\n",
              " 'sxswi sxsw': 24364,\n",
              " 'do': 6762,\n",
              " 'bands': 3133,\n",
              " 'food': 8511,\n",
              " 'art': 2451,\n",
              " 'ice': 11507,\n",
              " 'cream': 5892,\n",
              " 'nifty': 17407,\n",
              " 'interactive': 12075,\n",
              " 'maps': 15350,\n",
              " 'do it': 6774,\n",
              " 'it rt': 13329,\n",
              " 'mention come': 15851,\n",
              " 'come party': 5312,\n",
              " 'party google': 19089,\n",
              " 'google tonight': 9943,\n",
              " 'tonight at': 26658,\n",
              " 'link bands': 14513,\n",
              " 'bands food': 3134,\n",
              " 'food art': 8514,\n",
              " 'art ice': 2455,\n",
              " 'ice cream': 11508,\n",
              " 'cream nifty': 5893,\n",
              " 'nifty interactive': 17408,\n",
              " 'interactive maps': 12087,\n",
              " 'holla': 11179,\n",
              " 'butt': 4352,\n",
              " 'over': 18813,\n",
              " 'here': 10974,\n",
              " 'holla rt': 11180,\n",
              " 'mention at': 15796,\n",
              " 'at google': 2627,\n",
              " 'google party': 9879,\n",
              " 'party best': 19075,\n",
              " 'best ever': 3587,\n",
              " 'ever get': 7623,\n",
              " 'get your': 9417,\n",
              " 'your butt': 29651,\n",
              " 'butt over': 4353,\n",
              " 'over here': 18827,\n",
              " 'here sxsw': 10996,\n",
              " 'case': 4704,\n",
              " 'but': 4271,\n",
              " 'phone': 19362,\n",
              " ...}"
            ]
          },
          "metadata": {
            "tags": []
          },
          "execution_count": 44
        }
      ]
    },
    {
      "cell_type": "markdown",
      "metadata": {
        "colab_type": "text",
        "id": "dwtgjTBeH0Ny"
      },
      "source": [
        "#### Tip: To see all available functions for an Object use dir"
      ]
    },
    {
      "cell_type": "code",
      "metadata": {
        "colab_type": "code",
        "id": "2n_iCcTNH0N0",
        "colab": {
          "base_uri": "https://localhost:8080/",
          "height": 1000
        },
        "outputId": "516b3dad-43c9-493f-97d3-16d2a5cd5e1f"
      },
      "source": [
        "dir(vect)"
      ],
      "execution_count": 45,
      "outputs": [
        {
          "output_type": "execute_result",
          "data": {
            "text/plain": [
              "['__class__',\n",
              " '__delattr__',\n",
              " '__dict__',\n",
              " '__dir__',\n",
              " '__doc__',\n",
              " '__eq__',\n",
              " '__format__',\n",
              " '__ge__',\n",
              " '__getattribute__',\n",
              " '__getstate__',\n",
              " '__gt__',\n",
              " '__hash__',\n",
              " '__init__',\n",
              " '__init_subclass__',\n",
              " '__le__',\n",
              " '__lt__',\n",
              " '__module__',\n",
              " '__ne__',\n",
              " '__new__',\n",
              " '__reduce__',\n",
              " '__reduce_ex__',\n",
              " '__repr__',\n",
              " '__setattr__',\n",
              " '__setstate__',\n",
              " '__sizeof__',\n",
              " '__str__',\n",
              " '__subclasshook__',\n",
              " '__weakref__',\n",
              " '_char_ngrams',\n",
              " '_char_wb_ngrams',\n",
              " '_check_stop_words_consistency',\n",
              " '_check_vocabulary',\n",
              " '_count_vocab',\n",
              " '_get_param_names',\n",
              " '_get_tags',\n",
              " '_limit_features',\n",
              " '_more_tags',\n",
              " '_sort_features',\n",
              " '_stop_words_id',\n",
              " '_validate_custom_analyzer',\n",
              " '_validate_params',\n",
              " '_validate_vocabulary',\n",
              " '_white_spaces',\n",
              " '_word_ngrams',\n",
              " 'analyzer',\n",
              " 'binary',\n",
              " 'build_analyzer',\n",
              " 'build_preprocessor',\n",
              " 'build_tokenizer',\n",
              " 'decode',\n",
              " 'decode_error',\n",
              " 'dtype',\n",
              " 'encoding',\n",
              " 'fit',\n",
              " 'fit_transform',\n",
              " 'fixed_vocabulary_',\n",
              " 'get_feature_names',\n",
              " 'get_params',\n",
              " 'get_stop_words',\n",
              " 'input',\n",
              " 'inverse_transform',\n",
              " 'lowercase',\n",
              " 'max_df',\n",
              " 'max_features',\n",
              " 'min_df',\n",
              " 'ngram_range',\n",
              " 'preprocessor',\n",
              " 'set_params',\n",
              " 'stop_words',\n",
              " 'stop_words_',\n",
              " 'strip_accents',\n",
              " 'token_pattern',\n",
              " 'tokenizer',\n",
              " 'transform',\n",
              " 'vocabulary',\n",
              " 'vocabulary_']"
            ]
          },
          "metadata": {
            "tags": []
          },
          "execution_count": 45
        }
      ]
    },
    {
      "cell_type": "markdown",
      "metadata": {
        "colab_type": "text",
        "id": "ShA6D8jKH0N5"
      },
      "source": [
        "### 6. Find out how many Positive and Negative emotions are there.\n",
        "\n",
        "Hint: Use value_counts on that column"
      ]
    },
    {
      "cell_type": "code",
      "metadata": {
        "colab_type": "code",
        "id": "q7LAl5pzH0N6",
        "colab": {
          "base_uri": "https://localhost:8080/",
          "height": 68
        },
        "outputId": "db267087-0818-41ca-c7a9-47f4e87dcc26"
      },
      "source": [
        "data['is_there_an_emotion_directed_at_a_brand_or_product'].value_counts()"
      ],
      "execution_count": 46,
      "outputs": [
        {
          "output_type": "execute_result",
          "data": {
            "text/plain": [
              "Positive emotion    2672\n",
              "Negative emotion     519\n",
              "Name: is_there_an_emotion_directed_at_a_brand_or_product, dtype: int64"
            ]
          },
          "metadata": {
            "tags": []
          },
          "execution_count": 46
        }
      ]
    },
    {
      "cell_type": "markdown",
      "metadata": {
        "colab_type": "text",
        "id": "IUvgj0FoH0N9"
      },
      "source": [
        "### 7. Change the labels for Positive and Negative emotions as 1 and 0 respectively and store in a different column in the same dataframe named 'Label'\n",
        "\n",
        "Hint: use map on that column and give labels"
      ]
    },
    {
      "cell_type": "code",
      "metadata": {
        "colab_type": "code",
        "id": "YftKwFv7H0N9",
        "colab": {}
      },
      "source": [
        "data['label'] = data.is_there_an_emotion_directed_at_a_brand_or_product.map({'Positive emotion':1,'Negative emotion':0})"
      ],
      "execution_count": 0,
      "outputs": []
    },
    {
      "cell_type": "code",
      "metadata": {
        "id": "pr9hUyDgO0M_",
        "colab_type": "code",
        "colab": {
          "base_uri": "https://localhost:8080/",
          "height": 204
        },
        "outputId": "215edf40-72b5-4328-ce5f-4e6739932e02"
      },
      "source": [
        "data.head()"
      ],
      "execution_count": 48,
      "outputs": [
        {
          "output_type": "execute_result",
          "data": {
            "text/html": [
              "<div>\n",
              "<style scoped>\n",
              "    .dataframe tbody tr th:only-of-type {\n",
              "        vertical-align: middle;\n",
              "    }\n",
              "\n",
              "    .dataframe tbody tr th {\n",
              "        vertical-align: top;\n",
              "    }\n",
              "\n",
              "    .dataframe thead th {\n",
              "        text-align: right;\n",
              "    }\n",
              "</style>\n",
              "<table border=\"1\" class=\"dataframe\">\n",
              "  <thead>\n",
              "    <tr style=\"text-align: right;\">\n",
              "      <th></th>\n",
              "      <th>tweet_text</th>\n",
              "      <th>emotion_in_tweet_is_directed_at</th>\n",
              "      <th>is_there_an_emotion_directed_at_a_brand_or_product</th>\n",
              "      <th>text</th>\n",
              "      <th>label</th>\n",
              "    </tr>\n",
              "  </thead>\n",
              "  <tbody>\n",
              "    <tr>\n",
              "      <th>0</th>\n",
              "      <td>.@wesley83 I have a 3G iPhone. After 3 hrs twe...</td>\n",
              "      <td>iPhone</td>\n",
              "      <td>Negative emotion</td>\n",
              "      <td></td>\n",
              "      <td>0</td>\n",
              "    </tr>\n",
              "    <tr>\n",
              "      <th>1</th>\n",
              "      <td>@jessedee Know about @fludapp ? Awesome iPad/i...</td>\n",
              "      <td>iPad or iPhone App</td>\n",
              "      <td>Positive emotion</td>\n",
              "      <td></td>\n",
              "      <td>1</td>\n",
              "    </tr>\n",
              "    <tr>\n",
              "      <th>2</th>\n",
              "      <td>@swonderlin Can not wait for #iPad 2 also. The...</td>\n",
              "      <td>iPad</td>\n",
              "      <td>Positive emotion</td>\n",
              "      <td></td>\n",
              "      <td>1</td>\n",
              "    </tr>\n",
              "    <tr>\n",
              "      <th>3</th>\n",
              "      <td>@sxsw I hope this year's festival isn't as cra...</td>\n",
              "      <td>iPad or iPhone App</td>\n",
              "      <td>Negative emotion</td>\n",
              "      <td></td>\n",
              "      <td>0</td>\n",
              "    </tr>\n",
              "    <tr>\n",
              "      <th>4</th>\n",
              "      <td>@sxtxstate great stuff on Fri #SXSW: Marissa M...</td>\n",
              "      <td>Google</td>\n",
              "      <td>Positive emotion</td>\n",
              "      <td></td>\n",
              "      <td>1</td>\n",
              "    </tr>\n",
              "  </tbody>\n",
              "</table>\n",
              "</div>"
            ],
            "text/plain": [
              "                                          tweet_text  ... label\n",
              "0  .@wesley83 I have a 3G iPhone. After 3 hrs twe...  ...     0\n",
              "1  @jessedee Know about @fludapp ? Awesome iPad/i...  ...     1\n",
              "2  @swonderlin Can not wait for #iPad 2 also. The...  ...     1\n",
              "3  @sxsw I hope this year's festival isn't as cra...  ...     0\n",
              "4  @sxtxstate great stuff on Fri #SXSW: Marissa M...  ...     1\n",
              "\n",
              "[5 rows x 5 columns]"
            ]
          },
          "metadata": {
            "tags": []
          },
          "execution_count": 48
        }
      ]
    },
    {
      "cell_type": "markdown",
      "metadata": {
        "colab_type": "text",
        "id": "3YErwYLCH0N_"
      },
      "source": [
        "### 8 Define the feature set (independent variable or X) to be `text` column and `labels` as target (or dependent variable)  and divide into train and test datasets"
      ]
    },
    {
      "cell_type": "code",
      "metadata": {
        "colab_type": "code",
        "id": "lNkwrGgEH0OA",
        "colab": {}
      },
      "source": [
        "X = data['tweet_text']\n",
        "Y = data['label']"
      ],
      "execution_count": 0,
      "outputs": []
    },
    {
      "cell_type": "code",
      "metadata": {
        "id": "eUnxh4WLTIEE",
        "colab_type": "code",
        "colab": {}
      },
      "source": [
        "from sklearn.model_selection import train_test_split\n",
        "X_train,X_test,Y_train,Y_test = train_test_split(X,Y,test_size=0.3,random_state=7)"
      ],
      "execution_count": 0,
      "outputs": []
    },
    {
      "cell_type": "code",
      "metadata": {
        "id": "BR9ZmOadTPwK",
        "colab_type": "code",
        "colab": {
          "base_uri": "https://localhost:8080/",
          "height": 85
        },
        "outputId": "adc17e75-a235-447e-d62d-a687b31f6a9a"
      },
      "source": [
        "print(X_train.shape)\n",
        "print(X_test.shape)\n",
        "print(Y_train.shape)\n",
        "print(Y_test.shape)"
      ],
      "execution_count": 53,
      "outputs": [
        {
          "output_type": "stream",
          "text": [
            "(2233,)\n",
            "(958,)\n",
            "(2233,)\n",
            "(958,)\n"
          ],
          "name": "stdout"
        }
      ]
    },
    {
      "cell_type": "markdown",
      "metadata": {
        "colab_type": "text",
        "id": "Q5nlCuaaH0OD"
      },
      "source": [
        "## 9. **Predicting the sentiment:**\n",
        "\n",
        "\n",
        "### Use Naive Bayes and Logistic Regression and their accuracy scores for predicting the sentiment of the given text"
      ]
    },
    {
      "cell_type": "code",
      "metadata": {
        "colab_type": "code",
        "id": "2AbVYssaH0OE",
        "colab": {}
      },
      "source": [
        "from sklearn.naive_bayes import MultinomialNB\n",
        "from sklearn.linear_model import LogisticRegression"
      ],
      "execution_count": 0,
      "outputs": []
    },
    {
      "cell_type": "code",
      "metadata": {
        "colab_type": "code",
        "id": "ktXrLhmOH0Of",
        "colab": {}
      },
      "source": [
        "nb = MultinomialNB()\n",
        "logr = LogisticRegression()"
      ],
      "execution_count": 0,
      "outputs": []
    },
    {
      "cell_type": "code",
      "metadata": {
        "colab_type": "code",
        "id": "clv2X0kKH0Ok",
        "colab": {}
      },
      "source": [
        "dtmTrain = vect.transform(X_train).toarray()\n",
        "dtmTest = vect.transform(X_test).toarray()"
      ],
      "execution_count": 0,
      "outputs": []
    },
    {
      "cell_type": "code",
      "metadata": {
        "colab_type": "code",
        "id": "K86LRMfdH0Ou",
        "colab": {
          "base_uri": "https://localhost:8080/",
          "height": 221
        },
        "outputId": "7c75a5b5-f712-4f1b-f26b-93fbb478544c"
      },
      "source": [
        "nb.fit(dtmTrain,Y_train)\n",
        "nb.score(dtmTest,Y_test)\n",
        "from sklearn.metrics import accuracy_score,classification_report,confusion_matrix\n",
        "Y_pred_nb = nb.predict(dtmTest)\n",
        "print(accuracy_score(Y_test,Y_pred_nb))\n",
        "print(classification_report(Y_test,Y_pred_nb))\n",
        "print(confusion_matrix(Y_test,Y_pred_nb))"
      ],
      "execution_count": 61,
      "outputs": [
        {
          "output_type": "stream",
          "text": [
            "0.8549060542797495\n",
            "              precision    recall  f1-score   support\n",
            "\n",
            "           0       0.54      0.45      0.49       149\n",
            "           1       0.90      0.93      0.92       809\n",
            "\n",
            "    accuracy                           0.85       958\n",
            "   macro avg       0.72      0.69      0.70       958\n",
            "weighted avg       0.85      0.85      0.85       958\n",
            "\n",
            "[[ 67  82]\n",
            " [ 57 752]]\n"
          ],
          "name": "stdout"
        }
      ]
    },
    {
      "cell_type": "code",
      "metadata": {
        "id": "sNSPwzQ7UXGk",
        "colab_type": "code",
        "colab": {
          "base_uri": "https://localhost:8080/",
          "height": 255
        },
        "outputId": "21924e06-fe4a-44f9-91ee-e5bad8b40a12"
      },
      "source": [
        "logr.fit(dtmTrain,Y_train)\n",
        "logr.score(dtmTest,Y_test)\n",
        "from sklearn.metrics import accuracy_score,classification_report,confusion_matrix\n",
        "Y_pred_logr = logr.predict(dtmTest)\n",
        "print(accuracy_score(Y_test,Y_pred_logr))\n",
        "print(classification_report(Y_test,Y_pred_logr))\n",
        "print(confusion_matrix(Y_test,Y_pred_logr))"
      ],
      "execution_count": 62,
      "outputs": [
        {
          "output_type": "stream",
          "text": [
            "/usr/local/lib/python3.6/dist-packages/sklearn/linear_model/logistic.py:432: FutureWarning: Default solver will be changed to 'lbfgs' in 0.22. Specify a solver to silence this warning.\n",
            "  FutureWarning)\n"
          ],
          "name": "stderr"
        },
        {
          "output_type": "stream",
          "text": [
            "0.8768267223382046\n",
            "              precision    recall  f1-score   support\n",
            "\n",
            "           0       0.75      0.31      0.44       149\n",
            "           1       0.89      0.98      0.93       809\n",
            "\n",
            "    accuracy                           0.88       958\n",
            "   macro avg       0.82      0.65      0.68       958\n",
            "weighted avg       0.86      0.88      0.85       958\n",
            "\n",
            "[[ 46 103]\n",
            " [ 15 794]]\n"
          ],
          "name": "stdout"
        }
      ]
    },
    {
      "cell_type": "markdown",
      "metadata": {
        "colab_type": "text",
        "id": "sw-0B33tH0Ox"
      },
      "source": [
        "## 10. Create a function called `tokenize_predict` which can take count vectorizer object as input and prints the accuracy for x (text) and y (labels)"
      ]
    },
    {
      "cell_type": "code",
      "metadata": {
        "colab_type": "code",
        "id": "okCTOs1TH0Oy",
        "colab": {}
      },
      "source": [
        "def tokenize_test(vect):\n",
        "    x_train_dtm = vect.fit_transform(x_train)\n",
        "    print('Features: ', x_train_dtm.shape[1])\n",
        "    x_test_dtm = vect.transform(x_test)\n",
        "    nb = MultinomialNB()\n",
        "    nb.fit(x_train_dtm, y_train)\n",
        "    y_pred_class = nb.predict(x_test_dtm)\n",
        "    print('Accuracy: ', metrics.accuracy_score(y_test, y_pred_class))  "
      ],
      "execution_count": 0,
      "outputs": []
    },
    {
      "cell_type": "code",
      "metadata": {
        "id": "bTt6Xro9VRSL",
        "colab_type": "code",
        "colab": {}
      },
      "source": [
        "def tokenize_predict(vect):\n",
        "  vect.fit(X_train)\n",
        "  dtmTr = vect.transform(X_train)\n",
        "  dtmTe = vect.transform(X_test)\n",
        "  nb.fit(dtmTr,Y_train)\n",
        "  nb.score(dtmTe,Y_test)\n",
        "  from sklearn.metrics import accuracy_score,classification_report,confusion_matrix\n",
        "  Y_pred_nb = nb.predict(dtmTe)\n",
        "  print(accuracy_score(Y_test,Y_pred_nb))\n",
        "  print(classification_report(Y_test,Y_pred_nb))\n",
        "  print(confusion_matrix(Y_test,Y_pred_nb))"
      ],
      "execution_count": 0,
      "outputs": []
    },
    {
      "cell_type": "markdown",
      "metadata": {
        "colab_type": "text",
        "id": "JxZ8jfPEH0O0"
      },
      "source": [
        "### 11 Create a count vectorizer function which includes n_grams = 1,2  and pass it to tokenize_predict function to print the accuracy score"
      ]
    },
    {
      "cell_type": "code",
      "metadata": {
        "colab_type": "code",
        "id": "kdCyAN_IH0O0",
        "colab": {
          "base_uri": "https://localhost:8080/",
          "height": 221
        },
        "outputId": "f2b49826-6292-47ab-ed7f-2df8b4af2f75"
      },
      "source": [
        "cv_12 = CountVectorizer(ngram_range=(1,2))\n",
        "tokenize_predict(cv_12)"
      ],
      "execution_count": 74,
      "outputs": [
        {
          "output_type": "stream",
          "text": [
            "0.8736951983298539\n",
            "              precision    recall  f1-score   support\n",
            "\n",
            "           0       0.94      0.20      0.33       149\n",
            "           1       0.87      1.00      0.93       809\n",
            "\n",
            "    accuracy                           0.87       958\n",
            "   macro avg       0.90      0.60      0.63       958\n",
            "weighted avg       0.88      0.87      0.84       958\n",
            "\n",
            "[[ 30 119]\n",
            " [  2 807]]\n"
          ],
          "name": "stdout"
        }
      ]
    },
    {
      "cell_type": "markdown",
      "metadata": {
        "colab_type": "text",
        "id": "axepytmgH0O4"
      },
      "source": [
        "### Q 12 Create a count vectorizer function with stopwords = 'english'  and pass it to tokenize_predict function to print the accuracy score"
      ]
    },
    {
      "cell_type": "code",
      "metadata": {
        "colab_type": "code",
        "id": "HToGkq7vH0O4",
        "colab": {
          "base_uri": "https://localhost:8080/",
          "height": 221
        },
        "outputId": "6b32c67d-5ff3-4c68-aca8-2fc8e3780707"
      },
      "source": [
        "cv_sw = CountVectorizer(stop_words='english')\n",
        "tokenize_predict(cv_sw)"
      ],
      "execution_count": 75,
      "outputs": [
        {
          "output_type": "stream",
          "text": [
            "0.8674321503131524\n",
            "              precision    recall  f1-score   support\n",
            "\n",
            "           0       0.76      0.21      0.34       149\n",
            "           1       0.87      0.99      0.93       809\n",
            "\n",
            "    accuracy                           0.87       958\n",
            "   macro avg       0.82      0.60      0.63       958\n",
            "weighted avg       0.86      0.87      0.83       958\n",
            "\n",
            "[[ 32 117]\n",
            " [ 10 799]]\n"
          ],
          "name": "stdout"
        }
      ]
    },
    {
      "cell_type": "markdown",
      "metadata": {
        "colab_type": "text",
        "id": "iOIlJRxoH0O7"
      },
      "source": [
        "### Q 13 Create a count vectorizer function with stopwords = 'english' and max_features =300  and pass it to tokenize_predict function to print the accuracy score"
      ]
    },
    {
      "cell_type": "code",
      "metadata": {
        "colab_type": "code",
        "id": "6fUhff-oH0O8",
        "colab": {
          "base_uri": "https://localhost:8080/",
          "height": 221
        },
        "outputId": "35f35e54-11b3-4409-ae6a-26a1ac08087e"
      },
      "source": [
        "cv_sw_300 = CountVectorizer(stop_words='english',max_features=300)\n",
        "tokenize_predict(cv_sw_300)"
      ],
      "execution_count": 76,
      "outputs": [
        {
          "output_type": "stream",
          "text": [
            "0.8402922755741128\n",
            "              precision    recall  f1-score   support\n",
            "\n",
            "           0       0.48      0.36      0.41       149\n",
            "           1       0.89      0.93      0.91       809\n",
            "\n",
            "    accuracy                           0.84       958\n",
            "   macro avg       0.68      0.65      0.66       958\n",
            "weighted avg       0.82      0.84      0.83       958\n",
            "\n",
            "[[ 54  95]\n",
            " [ 58 751]]\n"
          ],
          "name": "stdout"
        }
      ]
    },
    {
      "cell_type": "markdown",
      "metadata": {
        "colab_type": "text",
        "id": "S2KZNWVkH0PA"
      },
      "source": [
        "### Q 14 Create a count vectorizer function with n_grams = 1,2  and max_features = 15000  and pass it to tokenize_predict function to print the accuracy score"
      ]
    },
    {
      "cell_type": "code",
      "metadata": {
        "colab_type": "code",
        "id": "3v9XD082H0PB",
        "colab": {
          "base_uri": "https://localhost:8080/",
          "height": 221
        },
        "outputId": "e869a2f3-0ee7-4be6-a957-99f6add95b87"
      },
      "source": [
        "cv_sw_15000 = CountVectorizer(stop_words='english',max_features=15000)\n",
        "tokenize_predict(cv_sw_15000)"
      ],
      "execution_count": 77,
      "outputs": [
        {
          "output_type": "stream",
          "text": [
            "0.8674321503131524\n",
            "              precision    recall  f1-score   support\n",
            "\n",
            "           0       0.76      0.21      0.34       149\n",
            "           1       0.87      0.99      0.93       809\n",
            "\n",
            "    accuracy                           0.87       958\n",
            "   macro avg       0.82      0.60      0.63       958\n",
            "weighted avg       0.86      0.87      0.83       958\n",
            "\n",
            "[[ 32 117]\n",
            " [ 10 799]]\n"
          ],
          "name": "stdout"
        }
      ]
    },
    {
      "cell_type": "markdown",
      "metadata": {
        "colab_type": "text",
        "id": "We3JK_SRH0PO"
      },
      "source": [
        "### Q. 15 -Create a count vectorizer function with n_grams = 1,2  and include terms that appear at least 2 times (min_df = 2)  and pass it to tokenize_predict function to print the accuracy score"
      ]
    },
    {
      "cell_type": "code",
      "metadata": {
        "colab_type": "code",
        "id": "fUHrfDCyH0PP",
        "colab": {
          "base_uri": "https://localhost:8080/",
          "height": 221
        },
        "outputId": "4113ecd4-8de2-4c25-b126-9beb1cf716ce"
      },
      "source": [
        "cv_min = CountVectorizer(ngram_range=(1,2),min_df=2)\n",
        "tokenize_predict(cv_min)"
      ],
      "execution_count": 78,
      "outputs": [
        {
          "output_type": "stream",
          "text": [
            "0.8768267223382046\n",
            "              precision    recall  f1-score   support\n",
            "\n",
            "           0       0.69      0.38      0.49       149\n",
            "           1       0.89      0.97      0.93       809\n",
            "\n",
            "    accuracy                           0.88       958\n",
            "   macro avg       0.79      0.67      0.71       958\n",
            "weighted avg       0.86      0.88      0.86       958\n",
            "\n",
            "[[ 56  93]\n",
            " [ 25 784]]\n"
          ],
          "name": "stdout"
        }
      ]
    }
  ]
}