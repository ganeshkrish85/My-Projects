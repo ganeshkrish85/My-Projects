{
 "cells": [
  {
   "cell_type": "markdown",
   "metadata": {
    "colab_type": "text",
    "id": "QGIsF1ADyJ58"
   },
   "source": [
    "# Transfer Learning CIFAR10"
   ]
  },
  {
   "cell_type": "markdown",
   "metadata": {
    "colab_type": "text",
    "id": "E-n6tVFayGBe"
   },
   "source": [
    "* Train a simple convnet on the CIFAR dataset the first 5 output classes [0..4].\n",
    "* Freeze convolutional layers and fine-tune dense layers for the last 5 ouput classes [5..9].\n"
   ]
  },
  {
   "cell_type": "markdown",
   "metadata": {
    "colab_type": "text",
    "id": "Cq8ejXHJyGYq"
   },
   "source": [
    "### 1. Import CIFAR10 data and create 2 datasets with one dataset having classes from 0 to 4 and other having classes from 5 to 9 "
   ]
  },
  {
   "cell_type": "code",
   "execution_count": 0,
   "metadata": {
    "colab": {},
    "colab_type": "code",
    "id": "uWYbxnBayFUP"
   },
   "outputs": [],
   "source": [
    "import pandas as pd\n",
    "import numpy as np"
   ]
  },
  {
   "cell_type": "code",
   "execution_count": 2,
   "metadata": {
    "colab": {
     "base_uri": "https://localhost:8080/",
     "height": 80
    },
    "colab_type": "code",
    "id": "GQUjTbO7Tqaz",
    "outputId": "8f363dd0-18b6-4a03-c84e-01f0205aa078"
   },
   "outputs": [
    {
     "data": {
      "text/html": [
       "<p style=\"color: red;\">\n",
       "The default version of TensorFlow in Colab will soon switch to TensorFlow 2.x.<br>\n",
       "We recommend you <a href=\"https://www.tensorflow.org/guide/migrate\" target=\"_blank\">upgrade</a> now \n",
       "or ensure your notebook will continue to use TensorFlow 1.x via the <code>%tensorflow_version 1.x</code> magic:\n",
       "<a href=\"https://colab.research.google.com/notebooks/tensorflow_version.ipynb\" target=\"_blank\">more info</a>.</p>\n"
      ],
      "text/plain": [
       "<IPython.core.display.HTML object>"
      ]
     },
     "metadata": {
      "tags": []
     },
     "output_type": "display_data"
    },
    {
     "name": "stderr",
     "output_type": "stream",
     "text": [
      "Using TensorFlow backend.\n"
     ]
    }
   ],
   "source": [
    "import tensorflow as tf\n",
    "import keras"
   ]
  },
  {
   "cell_type": "code",
   "execution_count": 3,
   "metadata": {
    "colab": {
     "base_uri": "https://localhost:8080/",
     "height": 51
    },
    "colab_type": "code",
    "id": "hwNsySQ-TuKi",
    "outputId": "a7597985-74e4-4ee8-a0f6-737daf5f76b9"
   },
   "outputs": [
    {
     "name": "stdout",
     "output_type": "stream",
     "text": [
      "Downloading data from https://www.cs.toronto.edu/~kriz/cifar-10-python.tar.gz\n",
      "170500096/170498071 [==============================] - 6s 0us/step\n"
     ]
    }
   ],
   "source": [
    "from keras.datasets import cifar10\n",
    "cf10 = cifar10.load_data()"
   ]
  },
  {
   "cell_type": "code",
   "execution_count": 6,
   "metadata": {
    "colab": {
     "base_uri": "https://localhost:8080/",
     "height": 51
    },
    "colab_type": "code",
    "id": "qVj168BwTqe7",
    "outputId": "7cca91c5-dffa-4db8-be87-4fd0dda8b415"
   },
   "outputs": [
    {
     "name": "stdout",
     "output_type": "stream",
     "text": [
      "(50000, 32, 32, 3)\n",
      "(10000, 32, 32, 3)\n"
     ]
    }
   ],
   "source": [
    "print (cf10[0][0].shape)\n",
    "print (cf10[1][0].shape)"
   ]
  },
  {
   "cell_type": "code",
   "execution_count": 0,
   "metadata": {
    "colab": {},
    "colab_type": "code",
    "id": "UvLF1lScULZC"
   },
   "outputs": [],
   "source": [
    "X_train = cf10[0][0]\n",
    "Y_train = cf10[0][1]\n",
    "X_test = cf10[1][0]\n",
    "Y_test = cf10[1][1]"
   ]
  },
  {
   "cell_type": "code",
   "execution_count": 9,
   "metadata": {
    "colab": {
     "base_uri": "https://localhost:8080/",
     "height": 85
    },
    "colab_type": "code",
    "id": "BY5TezhwUxDY",
    "outputId": "eaf8aaa1-faf9-4a42-da7c-ae0dba7dc538"
   },
   "outputs": [
    {
     "name": "stdout",
     "output_type": "stream",
     "text": [
      "(50000, 32, 32, 3)\n",
      "(10000, 32, 32, 3)\n",
      "(50000, 1)\n",
      "(10000, 1)\n"
     ]
    }
   ],
   "source": [
    "print(X_train.shape)\n",
    "print(X_test.shape)\n",
    "print(Y_train.shape)\n",
    "print(Y_test.shape)"
   ]
  },
  {
   "cell_type": "code",
   "execution_count": 0,
   "metadata": {
    "colab": {},
    "colab_type": "code",
    "id": "MJH0Ez10VPH6"
   },
   "outputs": [],
   "source": [
    "X1_train = []\n",
    "Y1_train = []\n",
    "X2_train = []\n",
    "Y2_train = []\n",
    "for i in np.arange(0,Y_train.shape[0]):\n",
    "  if(Y_train[i] <= 4):\n",
    "    Y1_train.append(Y_train[i])\n",
    "    X1_train.append(X_train[i])\n",
    "  elif(Y_train[i] >= 5):\n",
    "    Y2_train.append(Y_train[i])\n",
    "    X2_train.append(X_train[i])"
   ]
  },
  {
   "cell_type": "code",
   "execution_count": 0,
   "metadata": {
    "colab": {},
    "colab_type": "code",
    "id": "kNLFu1pcVR9U"
   },
   "outputs": [],
   "source": [
    "X1_train = np.array(X1_train)\n",
    "X2_train = np.array(X2_train)\n",
    "Y1_train = np.array(Y1_train)\n",
    "Y2_train = np.array(Y2_train)"
   ]
  },
  {
   "cell_type": "code",
   "execution_count": 13,
   "metadata": {
    "colab": {
     "base_uri": "https://localhost:8080/",
     "height": 85
    },
    "colab_type": "code",
    "id": "Fjsk_-dZVT7K",
    "outputId": "cd977d9f-d76e-435f-b95f-ecc5f847c723"
   },
   "outputs": [
    {
     "name": "stdout",
     "output_type": "stream",
     "text": [
      "(25000, 32, 32, 3)\n",
      "(25000, 1)\n",
      "(25000, 32, 32, 3)\n",
      "(25000, 1)\n"
     ]
    }
   ],
   "source": [
    "print(X1_train.shape)\n",
    "print(Y1_train.shape)\n",
    "print(X2_train.shape)\n",
    "print(Y2_train.shape)"
   ]
  },
  {
   "cell_type": "code",
   "execution_count": 0,
   "metadata": {
    "colab": {},
    "colab_type": "code",
    "id": "JLunyJM0Vh70"
   },
   "outputs": [],
   "source": [
    "X1_test = []\n",
    "Y1_test = []\n",
    "X2_test = []\n",
    "Y2_test = []\n",
    "for i in np.arange(0,Y_test.shape[0]):\n",
    "  if(Y_test[i] <= 4):\n",
    "    Y1_test.append(Y_test[i])\n",
    "    X1_test.append(X_test[i])\n",
    "  elif(Y_test[i] >= 5):\n",
    "    Y2_test.append(Y_test[i])\n",
    "    X2_test.append(X_test[i])"
   ]
  },
  {
   "cell_type": "code",
   "execution_count": 0,
   "metadata": {
    "colab": {},
    "colab_type": "code",
    "id": "SFqzoHdCVlKt"
   },
   "outputs": [],
   "source": [
    "X1_test = np.array(X1_test)\n",
    "X2_test = np.array(X2_test)\n",
    "Y1_test = np.array(Y1_test)\n",
    "Y2_test = np.array(Y2_test)"
   ]
  },
  {
   "cell_type": "code",
   "execution_count": 16,
   "metadata": {
    "colab": {
     "base_uri": "https://localhost:8080/",
     "height": 85
    },
    "colab_type": "code",
    "id": "GeW00UpYVlPr",
    "outputId": "efb65d83-1b00-4220-9e1c-54900e27251e"
   },
   "outputs": [
    {
     "name": "stdout",
     "output_type": "stream",
     "text": [
      "(5000, 32, 32, 3)\n",
      "(5000, 1)\n",
      "(5000, 32, 32, 3)\n",
      "(5000, 1)\n"
     ]
    }
   ],
   "source": [
    "print(X1_test.shape)\n",
    "print(Y1_test.shape)\n",
    "print(X2_test.shape)\n",
    "print(Y2_test.shape)"
   ]
  },
  {
   "cell_type": "markdown",
   "metadata": {
    "colab_type": "text",
    "id": "xtCKmQh4yXhT"
   },
   "source": [
    "### 2. Use One-hot encoding to divide y_train and y_test into required no of output classes"
   ]
  },
  {
   "cell_type": "code",
   "execution_count": 0,
   "metadata": {
    "colab": {},
    "colab_type": "code",
    "id": "uN5O2kJ3yYa6"
   },
   "outputs": [],
   "source": [
    "Y11_train = tf.keras.utils.to_categorical(Y1_train,num_classes=10)\n",
    "Y22_train = tf.keras.utils.to_categorical(Y2_train,num_classes=10)\n",
    "Y11_test = tf.keras.utils.to_categorical(Y1_test,num_classes=10)\n",
    "Y22_test = tf.keras.utils.to_categorical(Y2_test,num_classes=10)"
   ]
  },
  {
   "cell_type": "code",
   "execution_count": 18,
   "metadata": {
    "colab": {
     "base_uri": "https://localhost:8080/",
     "height": 85
    },
    "colab_type": "code",
    "id": "afznyNYVV6RM",
    "outputId": "37daff3f-6a2d-4bb2-db38-1b8baef16153"
   },
   "outputs": [
    {
     "name": "stdout",
     "output_type": "stream",
     "text": [
      "(25000, 10)\n",
      "(25000, 10)\n",
      "(5000, 10)\n",
      "(5000, 10)\n"
     ]
    }
   ],
   "source": [
    "print(Y11_train.shape)\n",
    "print(Y22_train.shape)\n",
    "print(Y11_test.shape)\n",
    "print(Y22_test.shape)"
   ]
  },
  {
   "cell_type": "code",
   "execution_count": 0,
   "metadata": {
    "colab": {},
    "colab_type": "code",
    "id": "O5dj6wTvV6li"
   },
   "outputs": [],
   "source": [
    "X1_train = X1_train/255\n",
    "X1_test = X1_test/255"
   ]
  },
  {
   "cell_type": "markdown",
   "metadata": {
    "colab_type": "text",
    "id": "cuOiKWfeybAl"
   },
   "source": [
    "### 3. Build a sequential neural network model which can classify the classes 0 to 4 of CIFAR10 dataset with at least 80% accuracy on test data"
   ]
  },
  {
   "cell_type": "code",
   "execution_count": 0,
   "metadata": {
    "colab": {},
    "colab_type": "code",
    "id": "5HzxNbiiyoBD"
   },
   "outputs": [],
   "source": [
    "from keras.models import Sequential\n",
    "from keras.layers import Dense,Convolution2D,MaxPool2D,Dropout,BatchNormalization,Activation,Flatten\n",
    "from keras.optimizers import SGD\n",
    "import keras.metrics"
   ]
  },
  {
   "cell_type": "code",
   "execution_count": 21,
   "metadata": {
    "colab": {
     "base_uri": "https://localhost:8080/",
     "height": 513
    },
    "colab_type": "code",
    "id": "8-jnflGMWG0S",
    "outputId": "79644f29-f264-4f5a-e8ca-205d7033c33a"
   },
   "outputs": [
    {
     "name": "stdout",
     "output_type": "stream",
     "text": [
      "WARNING:tensorflow:From /usr/local/lib/python3.6/dist-packages/keras/backend/tensorflow_backend.py:66: The name tf.get_default_graph is deprecated. Please use tf.compat.v1.get_default_graph instead.\n",
      "\n",
      "WARNING:tensorflow:From /usr/local/lib/python3.6/dist-packages/keras/backend/tensorflow_backend.py:541: The name tf.placeholder is deprecated. Please use tf.compat.v1.placeholder instead.\n",
      "\n",
      "WARNING:tensorflow:From /usr/local/lib/python3.6/dist-packages/keras/backend/tensorflow_backend.py:4432: The name tf.random_uniform is deprecated. Please use tf.random.uniform instead.\n",
      "\n",
      "WARNING:tensorflow:From /usr/local/lib/python3.6/dist-packages/keras/backend/tensorflow_backend.py:4267: The name tf.nn.max_pool is deprecated. Please use tf.nn.max_pool2d instead.\n",
      "\n",
      "WARNING:tensorflow:From /usr/local/lib/python3.6/dist-packages/keras/backend/tensorflow_backend.py:190: The name tf.get_default_session is deprecated. Please use tf.compat.v1.get_default_session instead.\n",
      "\n",
      "WARNING:tensorflow:From /usr/local/lib/python3.6/dist-packages/keras/backend/tensorflow_backend.py:197: The name tf.ConfigProto is deprecated. Please use tf.compat.v1.ConfigProto instead.\n",
      "\n",
      "WARNING:tensorflow:From /usr/local/lib/python3.6/dist-packages/keras/backend/tensorflow_backend.py:203: The name tf.Session is deprecated. Please use tf.compat.v1.Session instead.\n",
      "\n",
      "WARNING:tensorflow:From /usr/local/lib/python3.6/dist-packages/keras/backend/tensorflow_backend.py:207: The name tf.global_variables is deprecated. Please use tf.compat.v1.global_variables instead.\n",
      "\n",
      "WARNING:tensorflow:From /usr/local/lib/python3.6/dist-packages/keras/backend/tensorflow_backend.py:216: The name tf.is_variable_initialized is deprecated. Please use tf.compat.v1.is_variable_initialized instead.\n",
      "\n",
      "WARNING:tensorflow:From /usr/local/lib/python3.6/dist-packages/keras/backend/tensorflow_backend.py:223: The name tf.variables_initializer is deprecated. Please use tf.compat.v1.variables_initializer instead.\n",
      "\n",
      "WARNING:tensorflow:From /usr/local/lib/python3.6/dist-packages/keras/backend/tensorflow_backend.py:2041: The name tf.nn.fused_batch_norm is deprecated. Please use tf.compat.v1.nn.fused_batch_norm instead.\n",
      "\n",
      "WARNING:tensorflow:From /usr/local/lib/python3.6/dist-packages/keras/backend/tensorflow_backend.py:148: The name tf.placeholder_with_default is deprecated. Please use tf.compat.v1.placeholder_with_default instead.\n",
      "\n",
      "WARNING:tensorflow:From /usr/local/lib/python3.6/dist-packages/keras/optimizers.py:793: The name tf.train.Optimizer is deprecated. Please use tf.compat.v1.train.Optimizer instead.\n",
      "\n",
      "WARNING:tensorflow:From /usr/local/lib/python3.6/dist-packages/keras/backend/tensorflow_backend.py:3576: The name tf.log is deprecated. Please use tf.math.log instead.\n",
      "\n"
     ]
    }
   ],
   "source": [
    "model = Sequential()\n",
    "model.add(Convolution2D(filters=256,kernel_size=(3,3),input_shape=(32,32,3),))\n",
    "model.add(MaxPool2D(pool_size=(2,2)))\n",
    "model.add(BatchNormalization())\n",
    "model.add(Convolution2D(filters=128,kernel_size=(3,3)))\n",
    "model.add(MaxPool2D(pool_size=(2,2)))\n",
    "model.add(BatchNormalization())\n",
    "model.add(Convolution2D(filters=64,kernel_size=(3,3)))\n",
    "model.add(MaxPool2D(pool_size=(2,2)))\n",
    "model.add(BatchNormalization())\n",
    "model.add(Flatten())\n",
    "model.add(Dense(256,activation='relu'))\n",
    "model.add(BatchNormalization())\n",
    "model.add(Dense(128,activation='relu'))\n",
    "model.add(BatchNormalization())\n",
    "model.add(Dense(64,activation='relu'))\n",
    "model.add(BatchNormalization())\n",
    "model.add(Dense(32,activation='relu'))\n",
    "model.add(BatchNormalization())\n",
    "model.add(Dense(16,activation='relu'))\n",
    "model.add(BatchNormalization())\n",
    "model.add(Dense(10,activation='softmax'))\n",
    "model.compile(optimizer='sgd',loss='categorical_crossentropy', metrics=['accuracy'])"
   ]
  },
  {
   "cell_type": "code",
   "execution_count": 22,
   "metadata": {
    "colab": {
     "base_uri": "https://localhost:8080/",
     "height": 867
    },
    "colab_type": "code",
    "id": "liHeX7fGWG9p",
    "outputId": "09604954-000f-4cf1-9c07-8e34866c0508"
   },
   "outputs": [
    {
     "name": "stdout",
     "output_type": "stream",
     "text": [
      "Model: \"sequential_1\"\n",
      "_________________________________________________________________\n",
      "Layer (type)                 Output Shape              Param #   \n",
      "=================================================================\n",
      "conv2d_1 (Conv2D)            (None, 30, 30, 256)       7168      \n",
      "_________________________________________________________________\n",
      "max_pooling2d_1 (MaxPooling2 (None, 15, 15, 256)       0         \n",
      "_________________________________________________________________\n",
      "batch_normalization_1 (Batch (None, 15, 15, 256)       1024      \n",
      "_________________________________________________________________\n",
      "conv2d_2 (Conv2D)            (None, 13, 13, 128)       295040    \n",
      "_________________________________________________________________\n",
      "max_pooling2d_2 (MaxPooling2 (None, 6, 6, 128)         0         \n",
      "_________________________________________________________________\n",
      "batch_normalization_2 (Batch (None, 6, 6, 128)         512       \n",
      "_________________________________________________________________\n",
      "conv2d_3 (Conv2D)            (None, 4, 4, 64)          73792     \n",
      "_________________________________________________________________\n",
      "max_pooling2d_3 (MaxPooling2 (None, 2, 2, 64)          0         \n",
      "_________________________________________________________________\n",
      "batch_normalization_3 (Batch (None, 2, 2, 64)          256       \n",
      "_________________________________________________________________\n",
      "flatten_1 (Flatten)          (None, 256)               0         \n",
      "_________________________________________________________________\n",
      "dense_1 (Dense)              (None, 256)               65792     \n",
      "_________________________________________________________________\n",
      "batch_normalization_4 (Batch (None, 256)               1024      \n",
      "_________________________________________________________________\n",
      "dense_2 (Dense)              (None, 128)               32896     \n",
      "_________________________________________________________________\n",
      "batch_normalization_5 (Batch (None, 128)               512       \n",
      "_________________________________________________________________\n",
      "dense_3 (Dense)              (None, 64)                8256      \n",
      "_________________________________________________________________\n",
      "batch_normalization_6 (Batch (None, 64)                256       \n",
      "_________________________________________________________________\n",
      "dense_4 (Dense)              (None, 32)                2080      \n",
      "_________________________________________________________________\n",
      "batch_normalization_7 (Batch (None, 32)                128       \n",
      "_________________________________________________________________\n",
      "dense_5 (Dense)              (None, 16)                528       \n",
      "_________________________________________________________________\n",
      "batch_normalization_8 (Batch (None, 16)                64        \n",
      "_________________________________________________________________\n",
      "dense_6 (Dense)              (None, 10)                170       \n",
      "=================================================================\n",
      "Total params: 489,498\n",
      "Trainable params: 487,610\n",
      "Non-trainable params: 1,888\n",
      "_________________________________________________________________\n"
     ]
    }
   ],
   "source": [
    "model.summary()"
   ]
  },
  {
   "cell_type": "code",
   "execution_count": 23,
   "metadata": {
    "colab": {
     "base_uri": "https://localhost:8080/",
     "height": 530
    },
    "colab_type": "code",
    "id": "udb5KQuIWHEk",
    "outputId": "62ba086d-f025-4f77-84e8-e84b4f2b23f2"
   },
   "outputs": [
    {
     "name": "stdout",
     "output_type": "stream",
     "text": [
      "WARNING:tensorflow:From /usr/local/lib/python3.6/dist-packages/tensorflow_core/python/ops/math_grad.py:1424: where (from tensorflow.python.ops.array_ops) is deprecated and will be removed in a future version.\n",
      "Instructions for updating:\n",
      "Use tf.where in 2.0, which has the same broadcast rule as np.where\n",
      "WARNING:tensorflow:From /usr/local/lib/python3.6/dist-packages/keras/backend/tensorflow_backend.py:1033: The name tf.assign_add is deprecated. Please use tf.compat.v1.assign_add instead.\n",
      "\n",
      "WARNING:tensorflow:From /usr/local/lib/python3.6/dist-packages/keras/backend/tensorflow_backend.py:1020: The name tf.assign is deprecated. Please use tf.compat.v1.assign instead.\n",
      "\n",
      "Train on 25000 samples, validate on 5000 samples\n",
      "Epoch 1/10\n",
      "25000/25000 [==============================] - 13s 528us/step - loss: 2.0979 - acc: 0.2464 - val_loss: 2.0911 - val_acc: 0.3110\n",
      "Epoch 2/10\n",
      "25000/25000 [==============================] - 7s 290us/step - loss: 1.6913 - acc: 0.4470 - val_loss: 1.9492 - val_acc: 0.3958\n",
      "Epoch 3/10\n",
      "25000/25000 [==============================] - 7s 291us/step - loss: 1.4714 - acc: 0.5408 - val_loss: 1.5778 - val_acc: 0.4782\n",
      "Epoch 4/10\n",
      "25000/25000 [==============================] - 7s 288us/step - loss: 1.3276 - acc: 0.5862 - val_loss: 1.4041 - val_acc: 0.5384\n",
      "Epoch 5/10\n",
      "25000/25000 [==============================] - 7s 289us/step - loss: 1.2171 - acc: 0.6095 - val_loss: 1.2957 - val_acc: 0.5658\n",
      "Epoch 6/10\n",
      "25000/25000 [==============================] - 7s 288us/step - loss: 1.1357 - acc: 0.6307 - val_loss: 1.3645 - val_acc: 0.5178\n",
      "Epoch 7/10\n",
      "25000/25000 [==============================] - 7s 291us/step - loss: 1.0696 - acc: 0.6498 - val_loss: 2.0688 - val_acc: 0.3966\n",
      "Epoch 8/10\n",
      "25000/25000 [==============================] - 7s 292us/step - loss: 1.0210 - acc: 0.6582 - val_loss: 1.8147 - val_acc: 0.4206\n",
      "Epoch 9/10\n",
      "25000/25000 [==============================] - 7s 293us/step - loss: 0.9689 - acc: 0.6734 - val_loss: 2.4413 - val_acc: 0.3188\n",
      "Epoch 10/10\n",
      "25000/25000 [==============================] - 7s 291us/step - loss: 0.9432 - acc: 0.6816 - val_loss: 1.4312 - val_acc: 0.5380\n"
     ]
    },
    {
     "data": {
      "text/plain": [
       "<keras.callbacks.History at 0x7f018e1d0e48>"
      ]
     },
     "execution_count": 23,
     "metadata": {
      "tags": []
     },
     "output_type": "execute_result"
    }
   ],
   "source": [
    "model.fit(x=X1_train,y=Y11_train,batch_size=520,epochs=10,validation_data=(X1_test,Y11_test))"
   ]
  },
  {
   "cell_type": "code",
   "execution_count": 0,
   "metadata": {
    "colab": {},
    "colab_type": "code",
    "id": "zhsCCpwRWHIQ"
   },
   "outputs": [],
   "source": [
    "model1 = Sequential()\n",
    "model1.add(Convolution2D(filters=256,kernel_size=(3,3),input_shape=(32,32,3),))\n",
    "model1.add(MaxPool2D(pool_size=(2,2)))\n",
    "model1.add(BatchNormalization())\n",
    "model1.add(Convolution2D(filters=128,kernel_size=(3,3)))\n",
    "model1.add(MaxPool2D(pool_size=(2,2)))\n",
    "model1.add(BatchNormalization())\n",
    "model1.add(Convolution2D(filters=64,kernel_size=(3,3)))\n",
    "model1.add(MaxPool2D(pool_size=(2,2)))\n",
    "model1.add(BatchNormalization())\n",
    "model1.add(Flatten())\n",
    "model1.add(Dense(1024,activation='relu'))\n",
    "model1.add(BatchNormalization())\n",
    "model1.add(Dense(512,activation='relu'))\n",
    "model1.add(BatchNormalization())\n",
    "model1.add(Dense(256,activation='relu'))\n",
    "model1.add(BatchNormalization())\n",
    "model1.add(Dense(128,activation='relu'))\n",
    "model1.add(BatchNormalization())\n",
    "model1.add(Dense(64,activation='relu'))\n",
    "model1.add(BatchNormalization())\n",
    "model1.add(Dense(32,activation='relu'))\n",
    "model1.add(BatchNormalization())\n",
    "model1.add(Dense(16,activation='relu'))\n",
    "model1.add(BatchNormalization())\n",
    "model1.add(Dense(10,activation='softmax'))\n",
    "model1.compile(optimizer='adam',loss='categorical_crossentropy', metrics=['accuracy'])"
   ]
  },
  {
   "cell_type": "code",
   "execution_count": 25,
   "metadata": {
    "colab": {
     "base_uri": "https://localhost:8080/",
     "height": 1000
    },
    "colab_type": "code",
    "id": "CrZLz-LEWHK6",
    "outputId": "ebdf12df-f7f9-464e-df74-a3c7d884fa7d"
   },
   "outputs": [
    {
     "name": "stdout",
     "output_type": "stream",
     "text": [
      "Model: \"sequential_2\"\n",
      "_________________________________________________________________\n",
      "Layer (type)                 Output Shape              Param #   \n",
      "=================================================================\n",
      "conv2d_4 (Conv2D)            (None, 30, 30, 256)       7168      \n",
      "_________________________________________________________________\n",
      "max_pooling2d_4 (MaxPooling2 (None, 15, 15, 256)       0         \n",
      "_________________________________________________________________\n",
      "batch_normalization_9 (Batch (None, 15, 15, 256)       1024      \n",
      "_________________________________________________________________\n",
      "conv2d_5 (Conv2D)            (None, 13, 13, 128)       295040    \n",
      "_________________________________________________________________\n",
      "max_pooling2d_5 (MaxPooling2 (None, 6, 6, 128)         0         \n",
      "_________________________________________________________________\n",
      "batch_normalization_10 (Batc (None, 6, 6, 128)         512       \n",
      "_________________________________________________________________\n",
      "conv2d_6 (Conv2D)            (None, 4, 4, 64)          73792     \n",
      "_________________________________________________________________\n",
      "max_pooling2d_6 (MaxPooling2 (None, 2, 2, 64)          0         \n",
      "_________________________________________________________________\n",
      "batch_normalization_11 (Batc (None, 2, 2, 64)          256       \n",
      "_________________________________________________________________\n",
      "flatten_2 (Flatten)          (None, 256)               0         \n",
      "_________________________________________________________________\n",
      "dense_7 (Dense)              (None, 1024)              263168    \n",
      "_________________________________________________________________\n",
      "batch_normalization_12 (Batc (None, 1024)              4096      \n",
      "_________________________________________________________________\n",
      "dense_8 (Dense)              (None, 512)               524800    \n",
      "_________________________________________________________________\n",
      "batch_normalization_13 (Batc (None, 512)               2048      \n",
      "_________________________________________________________________\n",
      "dense_9 (Dense)              (None, 256)               131328    \n",
      "_________________________________________________________________\n",
      "batch_normalization_14 (Batc (None, 256)               1024      \n",
      "_________________________________________________________________\n",
      "dense_10 (Dense)             (None, 128)               32896     \n",
      "_________________________________________________________________\n",
      "batch_normalization_15 (Batc (None, 128)               512       \n",
      "_________________________________________________________________\n",
      "dense_11 (Dense)             (None, 64)                8256      \n",
      "_________________________________________________________________\n",
      "batch_normalization_16 (Batc (None, 64)                256       \n",
      "_________________________________________________________________\n",
      "dense_12 (Dense)             (None, 32)                2080      \n",
      "_________________________________________________________________\n",
      "batch_normalization_17 (Batc (None, 32)                128       \n",
      "_________________________________________________________________\n",
      "dense_13 (Dense)             (None, 16)                528       \n",
      "_________________________________________________________________\n",
      "batch_normalization_18 (Batc (None, 16)                64        \n",
      "_________________________________________________________________\n",
      "dense_14 (Dense)             (None, 10)                170       \n",
      "=================================================================\n",
      "Total params: 1,349,146\n",
      "Trainable params: 1,344,186\n",
      "Non-trainable params: 4,960\n",
      "_________________________________________________________________\n"
     ]
    }
   ],
   "source": [
    "model1.summary()"
   ]
  },
  {
   "cell_type": "code",
   "execution_count": 26,
   "metadata": {
    "colab": {
     "base_uri": "https://localhost:8080/",
     "height": 731
    },
    "colab_type": "code",
    "id": "bY2Zd-ukZqnU",
    "outputId": "20fe630f-0567-4c36-cf5f-75b091d48b87"
   },
   "outputs": [
    {
     "name": "stdout",
     "output_type": "stream",
     "text": [
      "Train on 25000 samples, validate on 5000 samples\n",
      "Epoch 1/20\n",
      "25000/25000 [==============================] - 11s 421us/step - loss: 1.7644 - acc: 0.4604 - val_loss: 1.4990 - val_acc: 0.5664\n",
      "Epoch 2/20\n",
      "25000/25000 [==============================] - 8s 317us/step - loss: 1.1800 - acc: 0.6502 - val_loss: 1.7668 - val_acc: 0.5230\n",
      "Epoch 3/20\n",
      "25000/25000 [==============================] - 8s 318us/step - loss: 0.9373 - acc: 0.7065 - val_loss: 1.7102 - val_acc: 0.5584\n",
      "Epoch 4/20\n",
      "25000/25000 [==============================] - 8s 318us/step - loss: 0.7893 - acc: 0.7410 - val_loss: 1.5366 - val_acc: 0.5900\n",
      "Epoch 5/20\n",
      "25000/25000 [==============================] - 8s 320us/step - loss: 0.6539 - acc: 0.7801 - val_loss: 1.2313 - val_acc: 0.6130\n",
      "Epoch 6/20\n",
      "25000/25000 [==============================] - 8s 318us/step - loss: 0.5590 - acc: 0.8096 - val_loss: 1.1566 - val_acc: 0.6394\n",
      "Epoch 7/20\n",
      "25000/25000 [==============================] - 8s 320us/step - loss: 0.4763 - acc: 0.8360 - val_loss: 1.2623 - val_acc: 0.6258\n",
      "Epoch 8/20\n",
      "25000/25000 [==============================] - 8s 320us/step - loss: 0.4215 - acc: 0.8524 - val_loss: 1.2979 - val_acc: 0.6468\n",
      "Epoch 9/20\n",
      "25000/25000 [==============================] - 8s 320us/step - loss: 0.3724 - acc: 0.8706 - val_loss: 1.5815 - val_acc: 0.6190\n",
      "Epoch 10/20\n",
      "25000/25000 [==============================] - 8s 319us/step - loss: 0.3462 - acc: 0.8776 - val_loss: 1.4401 - val_acc: 0.6110\n",
      "Epoch 11/20\n",
      "25000/25000 [==============================] - 8s 320us/step - loss: 0.3191 - acc: 0.8877 - val_loss: 1.3745 - val_acc: 0.6356\n",
      "Epoch 12/20\n",
      "25000/25000 [==============================] - 8s 321us/step - loss: 0.3417 - acc: 0.8806 - val_loss: 0.8082 - val_acc: 0.7542\n",
      "Epoch 13/20\n",
      "25000/25000 [==============================] - 8s 322us/step - loss: 0.2047 - acc: 0.9298 - val_loss: 1.1900 - val_acc: 0.6922\n",
      "Epoch 14/20\n",
      "25000/25000 [==============================] - 8s 320us/step - loss: 0.1882 - acc: 0.9348 - val_loss: 0.8888 - val_acc: 0.7630\n",
      "Epoch 15/20\n",
      "25000/25000 [==============================] - 8s 321us/step - loss: 0.1673 - acc: 0.9427 - val_loss: 1.2168 - val_acc: 0.6844\n",
      "Epoch 16/20\n",
      "25000/25000 [==============================] - 8s 319us/step - loss: 0.2409 - acc: 0.9176 - val_loss: 0.8583 - val_acc: 0.7678\n",
      "Epoch 17/20\n",
      "25000/25000 [==============================] - 8s 321us/step - loss: 0.1465 - acc: 0.9485 - val_loss: 0.8962 - val_acc: 0.7702\n",
      "Epoch 18/20\n",
      "25000/25000 [==============================] - 8s 319us/step - loss: 0.1136 - acc: 0.9616 - val_loss: 0.8808 - val_acc: 0.7786\n",
      "Epoch 19/20\n",
      "25000/25000 [==============================] - 8s 319us/step - loss: 0.1420 - acc: 0.9508 - val_loss: 1.0411 - val_acc: 0.7446\n",
      "Epoch 20/20\n",
      "25000/25000 [==============================] - 8s 319us/step - loss: 0.1305 - acc: 0.9552 - val_loss: 1.0031 - val_acc: 0.7568\n"
     ]
    },
    {
     "data": {
      "text/plain": [
       "<keras.callbacks.History at 0x7f0140f6be10>"
      ]
     },
     "execution_count": 26,
     "metadata": {
      "tags": []
     },
     "output_type": "execute_result"
    }
   ],
   "source": [
    "model1.fit(x=X1_train,y=Y11_train,batch_size=520,epochs=20,validation_data=(X1_test,Y11_test))"
   ]
  },
  {
   "cell_type": "code",
   "execution_count": 0,
   "metadata": {
    "colab": {},
    "colab_type": "code",
    "id": "2kxGflENcX7g"
   },
   "outputs": [],
   "source": [
    "model2 = Sequential()\n",
    "model2.add(Convolution2D(filters=256,kernel_size=(3,3),input_shape=(32,32,3),))\n",
    "model2.add(MaxPool2D(pool_size=(2,2)))\n",
    "model2.add(BatchNormalization())\n",
    "model2.add(Convolution2D(filters=128,kernel_size=(3,3)))\n",
    "model2.add(MaxPool2D(pool_size=(2,2)))\n",
    "model2.add(BatchNormalization())\n",
    "model2.add(Convolution2D(filters=64,kernel_size=(3,3)))\n",
    "model2.add(MaxPool2D(pool_size=(2,2)))\n",
    "model2.add(BatchNormalization())\n",
    "model2.add(Flatten())\n",
    "model2.add(Dense(1024,activation='relu'))\n",
    "model2.add(BatchNormalization())\n",
    "model2.add(Dense(512,activation='relu'))\n",
    "model2.add(BatchNormalization())\n",
    "model2.add(Dense(256,activation='relu'))\n",
    "model2.add(BatchNormalization())\n",
    "model2.add(Dense(128,activation='relu'))\n",
    "model2.add(BatchNormalization())\n",
    "model2.add(Dense(64,activation='relu'))\n",
    "model2.add(BatchNormalization())\n",
    "model2.add(Dense(32,activation='relu'))\n",
    "model2.add(BatchNormalization())\n",
    "model2.add(Dense(16,activation='relu'))\n",
    "model2.add(BatchNormalization())\n",
    "model2.add(Dense(10,activation='softmax'))\n",
    "model2.compile(optimizer='adagrad',loss='categorical_crossentropy', metrics=['accuracy'])"
   ]
  },
  {
   "cell_type": "code",
   "execution_count": 28,
   "metadata": {
    "colab": {
     "base_uri": "https://localhost:8080/",
     "height": 1000
    },
    "colab_type": "code",
    "id": "mJL8PAJucd6F",
    "outputId": "568a53ca-1971-4175-afff-905fde797246"
   },
   "outputs": [
    {
     "name": "stdout",
     "output_type": "stream",
     "text": [
      "Model: \"sequential_3\"\n",
      "_________________________________________________________________\n",
      "Layer (type)                 Output Shape              Param #   \n",
      "=================================================================\n",
      "conv2d_7 (Conv2D)            (None, 30, 30, 256)       7168      \n",
      "_________________________________________________________________\n",
      "max_pooling2d_7 (MaxPooling2 (None, 15, 15, 256)       0         \n",
      "_________________________________________________________________\n",
      "batch_normalization_19 (Batc (None, 15, 15, 256)       1024      \n",
      "_________________________________________________________________\n",
      "conv2d_8 (Conv2D)            (None, 13, 13, 128)       295040    \n",
      "_________________________________________________________________\n",
      "max_pooling2d_8 (MaxPooling2 (None, 6, 6, 128)         0         \n",
      "_________________________________________________________________\n",
      "batch_normalization_20 (Batc (None, 6, 6, 128)         512       \n",
      "_________________________________________________________________\n",
      "conv2d_9 (Conv2D)            (None, 4, 4, 64)          73792     \n",
      "_________________________________________________________________\n",
      "max_pooling2d_9 (MaxPooling2 (None, 2, 2, 64)          0         \n",
      "_________________________________________________________________\n",
      "batch_normalization_21 (Batc (None, 2, 2, 64)          256       \n",
      "_________________________________________________________________\n",
      "flatten_3 (Flatten)          (None, 256)               0         \n",
      "_________________________________________________________________\n",
      "dense_15 (Dense)             (None, 1024)              263168    \n",
      "_________________________________________________________________\n",
      "batch_normalization_22 (Batc (None, 1024)              4096      \n",
      "_________________________________________________________________\n",
      "dense_16 (Dense)             (None, 512)               524800    \n",
      "_________________________________________________________________\n",
      "batch_normalization_23 (Batc (None, 512)               2048      \n",
      "_________________________________________________________________\n",
      "dense_17 (Dense)             (None, 256)               131328    \n",
      "_________________________________________________________________\n",
      "batch_normalization_24 (Batc (None, 256)               1024      \n",
      "_________________________________________________________________\n",
      "dense_18 (Dense)             (None, 128)               32896     \n",
      "_________________________________________________________________\n",
      "batch_normalization_25 (Batc (None, 128)               512       \n",
      "_________________________________________________________________\n",
      "dense_19 (Dense)             (None, 64)                8256      \n",
      "_________________________________________________________________\n",
      "batch_normalization_26 (Batc (None, 64)                256       \n",
      "_________________________________________________________________\n",
      "dense_20 (Dense)             (None, 32)                2080      \n",
      "_________________________________________________________________\n",
      "batch_normalization_27 (Batc (None, 32)                128       \n",
      "_________________________________________________________________\n",
      "dense_21 (Dense)             (None, 16)                528       \n",
      "_________________________________________________________________\n",
      "batch_normalization_28 (Batc (None, 16)                64        \n",
      "_________________________________________________________________\n",
      "dense_22 (Dense)             (None, 10)                170       \n",
      "=================================================================\n",
      "Total params: 1,349,146\n",
      "Trainable params: 1,344,186\n",
      "Non-trainable params: 4,960\n",
      "_________________________________________________________________\n"
     ]
    }
   ],
   "source": [
    "model2.summary()"
   ]
  },
  {
   "cell_type": "code",
   "execution_count": 29,
   "metadata": {
    "colab": {
     "base_uri": "https://localhost:8080/",
     "height": 391
    },
    "colab_type": "code",
    "id": "TSG2CmV2cfve",
    "outputId": "1670ce6b-002f-4516-9b74-1e4293a52b58"
   },
   "outputs": [
    {
     "name": "stdout",
     "output_type": "stream",
     "text": [
      "Train on 25000 samples, validate on 5000 samples\n",
      "Epoch 1/10\n",
      "25000/25000 [==============================] - 13s 514us/step - loss: 1.3267 - acc: 0.5613 - val_loss: 1.1761 - val_acc: 0.5868\n",
      "Epoch 2/10\n",
      "25000/25000 [==============================] - 10s 394us/step - loss: 0.8932 - acc: 0.6900 - val_loss: 0.8688 - val_acc: 0.6800\n",
      "Epoch 3/10\n",
      "25000/25000 [==============================] - 10s 392us/step - loss: 0.7230 - acc: 0.7425 - val_loss: 0.7695 - val_acc: 0.7230\n",
      "Epoch 4/10\n",
      "25000/25000 [==============================] - 10s 392us/step - loss: 0.5993 - acc: 0.7873 - val_loss: 0.7520 - val_acc: 0.7162\n",
      "Epoch 5/10\n",
      "25000/25000 [==============================] - 10s 394us/step - loss: 0.5024 - acc: 0.8207 - val_loss: 0.7227 - val_acc: 0.7382\n",
      "Epoch 6/10\n",
      "25000/25000 [==============================] - 10s 391us/step - loss: 0.4305 - acc: 0.8447 - val_loss: 0.6877 - val_acc: 0.7628\n",
      "Epoch 7/10\n",
      "25000/25000 [==============================] - 10s 392us/step - loss: 0.3478 - acc: 0.8786 - val_loss: 0.7047 - val_acc: 0.7618\n",
      "Epoch 8/10\n",
      "25000/25000 [==============================] - 10s 394us/step - loss: 0.2862 - acc: 0.8998 - val_loss: 0.7692 - val_acc: 0.7462\n",
      "Epoch 9/10\n",
      "25000/25000 [==============================] - 10s 394us/step - loss: 0.2315 - acc: 0.9209 - val_loss: 0.7602 - val_acc: 0.7584\n",
      "Epoch 10/10\n",
      "25000/25000 [==============================] - 10s 393us/step - loss: 0.1838 - acc: 0.9378 - val_loss: 0.9262 - val_acc: 0.7256\n"
     ]
    },
    {
     "data": {
      "text/plain": [
       "<keras.callbacks.History at 0x7f0140d28ef0>"
      ]
     },
     "execution_count": 29,
     "metadata": {
      "tags": []
     },
     "output_type": "execute_result"
    }
   ],
   "source": [
    "model2.fit(x=X1_train,y=Y11_train,batch_size=200,epochs=10,validation_data=(X1_test,Y11_test))"
   ]
  },
  {
   "cell_type": "code",
   "execution_count": 30,
   "metadata": {
    "colab": {
     "base_uri": "https://localhost:8080/",
     "height": 561
    },
    "colab_type": "code",
    "id": "TlY5zCw9c9mj",
    "outputId": "1c7aaad9-d299-4480-841b-78b0b0259470"
   },
   "outputs": [
    {
     "name": "stdout",
     "output_type": "stream",
     "text": [
      "Train on 25000 samples, validate on 5000 samples\n",
      "Epoch 1/15\n",
      "25000/25000 [==============================] - 10s 385us/step - loss: 0.1184 - acc: 0.9634 - val_loss: 0.7597 - val_acc: 0.7836\n",
      "Epoch 2/15\n",
      "25000/25000 [==============================] - 9s 367us/step - loss: 0.0850 - acc: 0.9758 - val_loss: 0.7806 - val_acc: 0.7838\n",
      "Epoch 3/15\n",
      "25000/25000 [==============================] - 9s 366us/step - loss: 0.0666 - acc: 0.9826 - val_loss: 0.8361 - val_acc: 0.7798\n",
      "Epoch 4/15\n",
      "25000/25000 [==============================] - 9s 365us/step - loss: 0.0492 - acc: 0.9879 - val_loss: 0.8698 - val_acc: 0.7790\n",
      "Epoch 5/15\n",
      "25000/25000 [==============================] - 9s 364us/step - loss: 0.0413 - acc: 0.9898 - val_loss: 0.8730 - val_acc: 0.7864\n",
      "Epoch 6/15\n",
      "25000/25000 [==============================] - 9s 365us/step - loss: 0.0432 - acc: 0.9884 - val_loss: 0.9662 - val_acc: 0.7682\n",
      "Epoch 7/15\n",
      "25000/25000 [==============================] - 9s 365us/step - loss: 0.0396 - acc: 0.9898 - val_loss: 0.9047 - val_acc: 0.7824\n",
      "Epoch 8/15\n",
      "25000/25000 [==============================] - 9s 364us/step - loss: 0.0276 - acc: 0.9936 - val_loss: 0.8968 - val_acc: 0.7868\n",
      "Epoch 9/15\n",
      "25000/25000 [==============================] - 9s 367us/step - loss: 0.0221 - acc: 0.9954 - val_loss: 0.9645 - val_acc: 0.7774\n",
      "Epoch 10/15\n",
      "25000/25000 [==============================] - 9s 365us/step - loss: 0.0151 - acc: 0.9973 - val_loss: 0.9226 - val_acc: 0.7872\n",
      "Epoch 11/15\n",
      "25000/25000 [==============================] - 9s 370us/step - loss: 0.0156 - acc: 0.9968 - val_loss: 0.9265 - val_acc: 0.7922\n",
      "Epoch 12/15\n",
      "25000/25000 [==============================] - 9s 366us/step - loss: 0.0181 - acc: 0.9959 - val_loss: 0.9365 - val_acc: 0.7948\n",
      "Epoch 13/15\n",
      "25000/25000 [==============================] - 9s 367us/step - loss: 0.0124 - acc: 0.9978 - val_loss: 0.9537 - val_acc: 0.7854\n",
      "Epoch 14/15\n",
      "25000/25000 [==============================] - 9s 363us/step - loss: 0.0160 - acc: 0.9964 - val_loss: 1.0539 - val_acc: 0.7726\n",
      "Epoch 15/15\n",
      "25000/25000 [==============================] - 9s 366us/step - loss: 0.0164 - acc: 0.9960 - val_loss: 1.1536 - val_acc: 0.7732\n"
     ]
    },
    {
     "data": {
      "text/plain": [
       "<keras.callbacks.History at 0x7f0140426e48>"
      ]
     },
     "execution_count": 30,
     "metadata": {
      "tags": []
     },
     "output_type": "execute_result"
    }
   ],
   "source": [
    "model2.fit(x=X1_train,y=Y11_train,batch_size=250,epochs=15,validation_data=(X1_test,Y11_test))"
   ]
  },
  {
   "cell_type": "code",
   "execution_count": 32,
   "metadata": {
    "colab": {
     "base_uri": "https://localhost:8080/",
     "height": 122
    },
    "colab_type": "code",
    "id": "RwbijQE0dDCE",
    "outputId": "f9f78e94-facf-4c30-96c2-13914620bdad"
   },
   "outputs": [
    {
     "name": "stdout",
     "output_type": "stream",
     "text": [
      "Go to this URL in a browser: https://accounts.google.com/o/oauth2/auth?client_id=947318989803-6bn6qk8qdgf4n4g3pfee6491hc0brc4i.apps.googleusercontent.com&redirect_uri=urn%3Aietf%3Awg%3Aoauth%3A2.0%3Aoob&scope=email%20https%3A%2F%2Fwww.googleapis.com%2Fauth%2Fdocs.test%20https%3A%2F%2Fwww.googleapis.com%2Fauth%2Fdrive%20https%3A%2F%2Fwww.googleapis.com%2Fauth%2Fdrive.photos.readonly%20https%3A%2F%2Fwww.googleapis.com%2Fauth%2Fpeopleapi.readonly&response_type=code\n",
      "\n",
      "Enter your authorization code:\n",
      "··········\n",
      "Mounted at /content/gdrive\n"
     ]
    }
   ],
   "source": [
    "from google.colab import drive\n",
    "drive.mount('/content/gdrive',force_remount=True)"
   ]
  },
  {
   "cell_type": "code",
   "execution_count": 0,
   "metadata": {
    "colab": {},
    "colab_type": "code",
    "id": "wuxaqSWpdE9l"
   },
   "outputs": [],
   "source": [
    "model2.save('/content/gdrive/My Drive/Model2-0-4.h5')"
   ]
  },
  {
   "cell_type": "markdown",
   "metadata": {
    "colab_type": "text",
    "id": "_D0irHlWhL8a"
   },
   "source": [
    "### Training and test data accuracy for cfar10 image data for 0-4 images using CNN\n",
    "\n"
   ]
  },
  {
   "cell_type": "code",
   "execution_count": 36,
   "metadata": {
    "colab": {
     "base_uri": "https://localhost:8080/",
     "height": 51
    },
    "colab_type": "code",
    "id": "CxYSPdURhVc2",
    "outputId": "95b37981-0e8d-4f1a-a073-d83ee751886a"
   },
   "outputs": [
    {
     "name": "stdout",
     "output_type": "stream",
     "text": [
      "5000/5000 [==============================] - 2s 344us/step\n"
     ]
    },
    {
     "data": {
      "text/plain": [
       "[1.1536062109947205, 0.7732]"
      ]
     },
     "execution_count": 36,
     "metadata": {
      "tags": []
     },
     "output_type": "execute_result"
    }
   ],
   "source": [
    "model2.evaluate(X1_test,Y11_test)"
   ]
  },
  {
   "cell_type": "code",
   "execution_count": 37,
   "metadata": {
    "colab": {
     "base_uri": "https://localhost:8080/",
     "height": 51
    },
    "colab_type": "code",
    "id": "ZmiCLawahW1Z",
    "outputId": "9d8ac5d6-048a-4217-84a7-5eb12ac1f7c8"
   },
   "outputs": [
    {
     "name": "stdout",
     "output_type": "stream",
     "text": [
      "25000/25000 [==============================] - 8s 304us/step\n"
     ]
    },
    {
     "data": {
      "text/plain": [
       "[0.15179859247952698, 0.969]"
      ]
     },
     "execution_count": 37,
     "metadata": {
      "tags": []
     },
     "output_type": "execute_result"
    }
   ],
   "source": [
    "model2.evaluate(X1_train,Y11_train)"
   ]
  },
  {
   "cell_type": "markdown",
   "metadata": {
    "colab_type": "text",
    "id": "woTfNst_ynRG"
   },
   "source": [
    "### 4. In the model which was built above (for classification of classes 0-4 in CIFAR10), make only the dense layers to be trainable and conv layers to be non-trainable"
   ]
  },
  {
   "cell_type": "code",
   "execution_count": 38,
   "metadata": {
    "colab": {
     "base_uri": "https://localhost:8080/",
     "height": 1000
    },
    "colab_type": "code",
    "id": "o_VCDB3Byb1a",
    "outputId": "23ca233d-460b-41ec-ec76-17fd52f671d2"
   },
   "outputs": [
    {
     "name": "stdout",
     "output_type": "stream",
     "text": [
      "WARNING:tensorflow:From /usr/local/lib/python3.6/dist-packages/tensorflow_core/python/ops/resource_variable_ops.py:1630: calling BaseResourceVariable.__init__ (from tensorflow.python.ops.resource_variable_ops) with constraint is deprecated and will be removed in a future version.\n",
      "Instructions for updating:\n",
      "If using Keras pass *_constraint arguments to layers.\n",
      "WARNING:tensorflow:From /usr/local/lib/python3.6/dist-packages/tensorflow_core/python/keras/optimizer_v2/adagrad.py:107: calling Constant.__init__ (from tensorflow.python.ops.init_ops) with dtype is deprecated and will be removed in a future version.\n",
      "Instructions for updating:\n",
      "Call initializer instance with the dtype argument instead of passing it to the constructor\n",
      "Model: \"sequential_3\"\n",
      "_________________________________________________________________\n",
      "Layer (type)                 Output Shape              Param #   \n",
      "=================================================================\n",
      "conv2d_7 (Conv2D)            (None, 30, 30, 256)       7168      \n",
      "_________________________________________________________________\n",
      "max_pooling2d_7 (MaxPooling2 (None, 15, 15, 256)       0         \n",
      "_________________________________________________________________\n",
      "batch_normalization_19 (Batc (None, 15, 15, 256)       1024      \n",
      "_________________________________________________________________\n",
      "conv2d_8 (Conv2D)            (None, 13, 13, 128)       295040    \n",
      "_________________________________________________________________\n",
      "max_pooling2d_8 (MaxPooling2 (None, 6, 6, 128)         0         \n",
      "_________________________________________________________________\n",
      "batch_normalization_20 (Batc (None, 6, 6, 128)         512       \n",
      "_________________________________________________________________\n",
      "conv2d_9 (Conv2D)            (None, 4, 4, 64)          73792     \n",
      "_________________________________________________________________\n",
      "max_pooling2d_9 (MaxPooling2 (None, 2, 2, 64)          0         \n",
      "_________________________________________________________________\n",
      "batch_normalization_21 (Batc (None, 2, 2, 64)          256       \n",
      "_________________________________________________________________\n",
      "flatten_3 (Flatten)          (None, 256)               0         \n",
      "_________________________________________________________________\n",
      "dense_15 (Dense)             (None, 1024)              263168    \n",
      "_________________________________________________________________\n",
      "batch_normalization_22 (Batc (None, 1024)              4096      \n",
      "_________________________________________________________________\n",
      "dense_16 (Dense)             (None, 512)               524800    \n",
      "_________________________________________________________________\n",
      "batch_normalization_23 (Batc (None, 512)               2048      \n",
      "_________________________________________________________________\n",
      "dense_17 (Dense)             (None, 256)               131328    \n",
      "_________________________________________________________________\n",
      "batch_normalization_24 (Batc (None, 256)               1024      \n",
      "_________________________________________________________________\n",
      "dense_18 (Dense)             (None, 128)               32896     \n",
      "_________________________________________________________________\n",
      "batch_normalization_25 (Batc (None, 128)               512       \n",
      "_________________________________________________________________\n",
      "dense_19 (Dense)             (None, 64)                8256      \n",
      "_________________________________________________________________\n",
      "batch_normalization_26 (Batc (None, 64)                256       \n",
      "_________________________________________________________________\n",
      "dense_20 (Dense)             (None, 32)                2080      \n",
      "_________________________________________________________________\n",
      "batch_normalization_27 (Batc (None, 32)                128       \n",
      "_________________________________________________________________\n",
      "dense_21 (Dense)             (None, 16)                528       \n",
      "_________________________________________________________________\n",
      "batch_normalization_28 (Batc (None, 16)                64        \n",
      "_________________________________________________________________\n",
      "dense_22 (Dense)             (None, 10)                170       \n",
      "=================================================================\n",
      "Total params: 1,349,146\n",
      "Trainable params: 1,344,186\n",
      "Non-trainable params: 4,960\n",
      "_________________________________________________________________\n"
     ]
    }
   ],
   "source": [
    "tmodel = tf.keras.models.load_model('/content/gdrive/My Drive/Model2-0-4.h5')\n",
    "tmodel.summary()"
   ]
  },
  {
   "cell_type": "code",
   "execution_count": 0,
   "metadata": {
    "colab": {},
    "colab_type": "code",
    "id": "jIrdY2Z_h6Zf"
   },
   "outputs": [],
   "source": [
    "tmodel.compile(optimizer='adagrad',loss='categorical_crossentropy', metrics=['accuracy'])"
   ]
  },
  {
   "cell_type": "code",
   "execution_count": 0,
   "metadata": {
    "colab": {},
    "colab_type": "code",
    "id": "ke_m5lExiWoV"
   },
   "outputs": [],
   "source": [
    "for layer in tmodel.layers:\n",
    "  if(layer.name.startswith('conv2d')):\n",
    "    layer.trainable = False"
   ]
  },
  {
   "cell_type": "code",
   "execution_count": 41,
   "metadata": {
    "colab": {
     "base_uri": "https://localhost:8080/",
     "height": 867
    },
    "colab_type": "code",
    "id": "A7X_lZMBieqw",
    "outputId": "b31229e6-d4a0-4f0e-afd4-4e086a8813ae"
   },
   "outputs": [
    {
     "name": "stdout",
     "output_type": "stream",
     "text": [
      "conv2d_7\n",
      "False\n",
      "max_pooling2d_7\n",
      "True\n",
      "batch_normalization_19\n",
      "True\n",
      "conv2d_8\n",
      "False\n",
      "max_pooling2d_8\n",
      "True\n",
      "batch_normalization_20\n",
      "True\n",
      "conv2d_9\n",
      "False\n",
      "max_pooling2d_9\n",
      "True\n",
      "batch_normalization_21\n",
      "True\n",
      "flatten_3\n",
      "True\n",
      "dense_15\n",
      "True\n",
      "batch_normalization_22\n",
      "True\n",
      "dense_16\n",
      "True\n",
      "batch_normalization_23\n",
      "True\n",
      "dense_17\n",
      "True\n",
      "batch_normalization_24\n",
      "True\n",
      "dense_18\n",
      "True\n",
      "batch_normalization_25\n",
      "True\n",
      "dense_19\n",
      "True\n",
      "batch_normalization_26\n",
      "True\n",
      "dense_20\n",
      "True\n",
      "batch_normalization_27\n",
      "True\n",
      "dense_21\n",
      "True\n",
      "batch_normalization_28\n",
      "True\n",
      "dense_22\n",
      "True\n"
     ]
    }
   ],
   "source": [
    "for layer in tmodel.layers:\n",
    "  print(layer.name)\n",
    "  print(layer.trainable)"
   ]
  },
  {
   "cell_type": "markdown",
   "metadata": {
    "colab_type": "text",
    "id": "1-uUPqWpyeyX"
   },
   "source": [
    "### 5. Utilize the the model trained on CIFAR 10 (classes 0 to 4) to classify the classes 5 to 9 of CIFAR 10  (Use Transfer Learning) <br>\n",
    "Achieve an accuracy of more than 85% on test data"
   ]
  },
  {
   "cell_type": "code",
   "execution_count": 0,
   "metadata": {
    "colab": {},
    "colab_type": "code",
    "id": "szHjJgDvyfCt"
   },
   "outputs": [],
   "source": [
    "X2_train = X2_train/255\n",
    "X2_test = X2_test/255"
   ]
  },
  {
   "cell_type": "code",
   "execution_count": 43,
   "metadata": {
    "colab": {
     "base_uri": "https://localhost:8080/",
     "height": 408
    },
    "colab_type": "code",
    "id": "So54XH6IjS3e",
    "outputId": "feaea261-8f03-4634-e197-10a1c6878388"
   },
   "outputs": [
    {
     "name": "stdout",
     "output_type": "stream",
     "text": [
      "WARNING:tensorflow:Discrepancy between trainable weights and collected trainable weights, did you set `model.trainable` without calling `model.compile` after ?\n",
      "Train on 25000 samples, validate on 5000 samples\n",
      "Epoch 1/10\n",
      "25000/25000 [==============================] - 9s 354us/sample - loss: 4.6223 - acc: 0.0220 - val_loss: 3.7818 - val_acc: 0.0410\n",
      "Epoch 2/10\n",
      "25000/25000 [==============================] - 7s 286us/sample - loss: 2.7054 - acc: 0.1450 - val_loss: 2.7021 - val_acc: 0.1592\n",
      "Epoch 3/10\n",
      "25000/25000 [==============================] - 7s 287us/sample - loss: 2.1795 - acc: 0.2720 - val_loss: 2.4865 - val_acc: 0.2002\n",
      "Epoch 4/10\n",
      "25000/25000 [==============================] - 7s 288us/sample - loss: 1.9159 - acc: 0.3733 - val_loss: 2.1084 - val_acc: 0.3354\n",
      "Epoch 5/10\n",
      "25000/25000 [==============================] - 7s 288us/sample - loss: 1.7368 - acc: 0.4635 - val_loss: 1.8103 - val_acc: 0.5028\n",
      "Epoch 6/10\n",
      "25000/25000 [==============================] - 7s 289us/sample - loss: 1.5987 - acc: 0.5464 - val_loss: 1.8521 - val_acc: 0.5288\n",
      "Epoch 7/10\n",
      "25000/25000 [==============================] - 7s 289us/sample - loss: 1.4874 - acc: 0.6214 - val_loss: 1.4946 - val_acc: 0.6564\n",
      "Epoch 8/10\n",
      "25000/25000 [==============================] - 7s 289us/sample - loss: 1.3926 - acc: 0.6834 - val_loss: 1.4279 - val_acc: 0.6960\n",
      "Epoch 9/10\n",
      "25000/25000 [==============================] - 7s 289us/sample - loss: 1.3133 - acc: 0.7303 - val_loss: 1.4846 - val_acc: 0.6838\n",
      "Epoch 10/10\n",
      "25000/25000 [==============================] - 7s 292us/sample - loss: 1.2401 - acc: 0.7634 - val_loss: 1.3144 - val_acc: 0.7404\n"
     ]
    },
    {
     "data": {
      "text/plain": [
       "<tensorflow.python.keras.callbacks.History at 0x7f013e8e5f98>"
      ]
     },
     "execution_count": 43,
     "metadata": {
      "tags": []
     },
     "output_type": "execute_result"
    }
   ],
   "source": [
    "tmodel.fit(x=X2_train,y=Y22_train,batch_size=520,epochs=10,validation_data=(X2_test,Y22_test))"
   ]
  },
  {
   "cell_type": "code",
   "execution_count": 0,
   "metadata": {
    "colab": {},
    "colab_type": "code",
    "id": "Od_ClA5GjeGu"
   },
   "outputs": [],
   "source": [
    "z = tmodel.output\n",
    "z = tf.keras.layers.Dense(255,activation='relu')(z)\n",
    "z = tf.keras.layers.Dense(127,activation='relu')(z)\n",
    "z = tf.keras.layers.Dense(63,activation='relu')(z)\n",
    "predictions = tf.keras.layers.Dense(10,activation='softmax')(z)\n",
    "tmodel_final = tf.keras.models.Model(inputs=tmodel.input,outputs=predictions)\n",
    "tmodel_final.compile(optimizer='adam',loss='categorical_crossentropy', metrics=['accuracy'])"
   ]
  },
  {
   "cell_type": "code",
   "execution_count": 45,
   "metadata": {
    "colab": {
     "base_uri": "https://localhost:8080/",
     "height": 391
    },
    "colab_type": "code",
    "id": "HYUlT35jjgI2",
    "outputId": "0fb1e288-7af0-4c23-981a-5c32699de737"
   },
   "outputs": [
    {
     "name": "stdout",
     "output_type": "stream",
     "text": [
      "Train on 25000 samples, validate on 5000 samples\n",
      "Epoch 1/10\n",
      "25000/25000 [==============================] - 7s 278us/sample - loss: 1.2858 - acc: 0.6864 - val_loss: 0.7201 - val_acc: 0.8056\n",
      "Epoch 2/10\n",
      "25000/25000 [==============================] - 5s 203us/sample - loss: 0.4881 - acc: 0.8456 - val_loss: 0.6398 - val_acc: 0.8118\n",
      "Epoch 3/10\n",
      "25000/25000 [==============================] - 5s 204us/sample - loss: 0.4079 - acc: 0.8670 - val_loss: 0.5184 - val_acc: 0.8430\n",
      "Epoch 4/10\n",
      "25000/25000 [==============================] - 5s 203us/sample - loss: 0.3537 - acc: 0.8840 - val_loss: 0.5151 - val_acc: 0.8374\n",
      "Epoch 5/10\n",
      "25000/25000 [==============================] - 5s 202us/sample - loss: 0.3216 - acc: 0.8952 - val_loss: 0.5201 - val_acc: 0.8406\n",
      "Epoch 6/10\n",
      "25000/25000 [==============================] - 5s 204us/sample - loss: 0.2754 - acc: 0.9109 - val_loss: 0.5177 - val_acc: 0.8480\n",
      "Epoch 7/10\n",
      "25000/25000 [==============================] - 5s 204us/sample - loss: 0.2426 - acc: 0.9182 - val_loss: 0.5313 - val_acc: 0.8346\n",
      "Epoch 8/10\n",
      "25000/25000 [==============================] - 5s 204us/sample - loss: 0.2067 - acc: 0.9310 - val_loss: 0.4949 - val_acc: 0.8520\n",
      "Epoch 9/10\n",
      "25000/25000 [==============================] - 5s 205us/sample - loss: 0.1777 - acc: 0.9414 - val_loss: 0.5279 - val_acc: 0.8530\n",
      "Epoch 10/10\n",
      "25000/25000 [==============================] - 5s 205us/sample - loss: 0.1801 - acc: 0.9395 - val_loss: 0.5793 - val_acc: 0.8394\n"
     ]
    },
    {
     "data": {
      "text/plain": [
       "<tensorflow.python.keras.callbacks.History at 0x7f013dc67080>"
      ]
     },
     "execution_count": 45,
     "metadata": {
      "tags": []
     },
     "output_type": "execute_result"
    }
   ],
   "source": [
    "tmodel_final.fit(x=X2_train,y=Y22_train,batch_size=520,epochs=10,validation_data=(X2_test,Y22_test))"
   ]
  },
  {
   "cell_type": "markdown",
   "metadata": {
    "colab_type": "text",
    "id": "I1rAzW1PkLg1"
   },
   "source": [
    "###Training and Test data accuracy for cfar10 dataset images from 5-9 with model that was developed using Transfer learning"
   ]
  },
  {
   "cell_type": "code",
   "execution_count": 46,
   "metadata": {
    "colab": {
     "base_uri": "https://localhost:8080/",
     "height": 51
    },
    "colab_type": "code",
    "id": "JFQpPOypkPIC",
    "outputId": "cc2f1e3a-d0a3-46cf-dc27-7ac81e7248ff"
   },
   "outputs": [
    {
     "name": "stdout",
     "output_type": "stream",
     "text": [
      "5000/5000 [==============================] - 2s 332us/sample - loss: 0.5793 - acc: 0.8394\n"
     ]
    },
    {
     "data": {
      "text/plain": [
       "[0.5792875322818756, 0.8394]"
      ]
     },
     "execution_count": 46,
     "metadata": {
      "tags": []
     },
     "output_type": "execute_result"
    }
   ],
   "source": [
    "tmodel_final.evaluate(X2_test,Y22_test)"
   ]
  },
  {
   "cell_type": "code",
   "execution_count": 47,
   "metadata": {
    "colab": {
     "base_uri": "https://localhost:8080/",
     "height": 51
    },
    "colab_type": "code",
    "id": "as6zTKxKkQub",
    "outputId": "741b8689-219f-4ce8-cee0-0a3b46cf25c8"
   },
   "outputs": [
    {
     "name": "stdout",
     "output_type": "stream",
     "text": [
      "25000/25000 [==============================] - 8s 330us/sample - loss: 0.1586 - acc: 0.9483\n"
     ]
    },
    {
     "data": {
      "text/plain": [
       "[0.15861094340920448, 0.94828]"
      ]
     },
     "execution_count": 47,
     "metadata": {
      "tags": []
     },
     "output_type": "execute_result"
    }
   ],
   "source": [
    "tmodel_final.evaluate(X2_train,Y22_train)"
   ]
  },
  {
   "cell_type": "markdown",
   "metadata": {
    "colab_type": "text",
    "id": "0zDuRecXzEtr"
   },
   "source": [
    "# Text classification using TF-IDF"
   ]
  },
  {
   "cell_type": "markdown",
   "metadata": {
    "colab_type": "text",
    "id": "xMPlEJhHzb6P"
   },
   "source": [
    "### 6. Load the dataset from sklearn.datasets"
   ]
  },
  {
   "cell_type": "code",
   "execution_count": 0,
   "metadata": {
    "colab": {},
    "colab_type": "code",
    "id": "Fe-B59u3zHNb"
   },
   "outputs": [],
   "source": [
    "from sklearn.datasets import fetch_20newsgroups"
   ]
  },
  {
   "cell_type": "code",
   "execution_count": 0,
   "metadata": {
    "colab": {},
    "colab_type": "code",
    "id": "PRrMemVQzbHU"
   },
   "outputs": [],
   "source": [
    "categories = ['alt.atheism', 'soc.religion.christian', 'comp.graphics', 'sci.med']"
   ]
  },
  {
   "cell_type": "markdown",
   "metadata": {
    "colab_type": "text",
    "id": "-sZX0UbJzmg5"
   },
   "source": [
    "### 7. Training data"
   ]
  },
  {
   "cell_type": "code",
   "execution_count": 50,
   "metadata": {
    "colab": {
     "base_uri": "https://localhost:8080/",
     "height": 51
    },
    "colab_type": "code",
    "id": "CITr_5aXziJ2",
    "outputId": "3a91f925-79fa-4365-cc79-4db23fea5721"
   },
   "outputs": [
    {
     "name": "stderr",
     "output_type": "stream",
     "text": [
      "Downloading 20news dataset. This may take a few minutes.\n",
      "Downloading dataset from https://ndownloader.figshare.com/files/5975967 (14 MB)\n"
     ]
    }
   ],
   "source": [
    "twenty_train = fetch_20newsgroups(subset='train', categories=categories, shuffle=True, random_state=42)"
   ]
  },
  {
   "cell_type": "markdown",
   "metadata": {
    "colab_type": "text",
    "id": "xcESc5QXzr6p"
   },
   "source": [
    "### 8. Test data"
   ]
  },
  {
   "cell_type": "code",
   "execution_count": 0,
   "metadata": {
    "colab": {},
    "colab_type": "code",
    "id": "ysInblUMzpvl"
   },
   "outputs": [],
   "source": [
    "twenty_test = fetch_20newsgroups(subset='test', categories=categories, shuffle=True, random_state=42)"
   ]
  },
  {
   "cell_type": "markdown",
   "metadata": {
    "colab_type": "text",
    "id": "DriL2yZ50DQq"
   },
   "source": [
    "###  a.  You can access the values for the target variable using .target attribute \n",
    "###  b. You can access the name of the class in the target variable with .target_names\n"
   ]
  },
  {
   "cell_type": "code",
   "execution_count": 52,
   "metadata": {
    "colab": {
     "base_uri": "https://localhost:8080/",
     "height": 34
    },
    "colab_type": "code",
    "id": "vlUuai99z1hX",
    "outputId": "d4de6855-dbf6-4956-d071-14f51f076eb9"
   },
   "outputs": [
    {
     "data": {
      "text/plain": [
       "array([1, 1, 3, ..., 2, 2, 2])"
      ]
     },
     "execution_count": 52,
     "metadata": {
      "tags": []
     },
     "output_type": "execute_result"
    }
   ],
   "source": [
    "twenty_train.target"
   ]
  },
  {
   "cell_type": "code",
   "execution_count": 53,
   "metadata": {
    "colab": {
     "base_uri": "https://localhost:8080/",
     "height": 34
    },
    "colab_type": "code",
    "id": "VEKzaDfSz5E-",
    "outputId": "2cc08044-8682-4217-eae3-70e7809a2081"
   },
   "outputs": [
    {
     "data": {
      "text/plain": [
       "['alt.atheism', 'comp.graphics', 'sci.med', 'soc.religion.christian']"
      ]
     },
     "execution_count": 53,
     "metadata": {
      "tags": []
     },
     "output_type": "execute_result"
    }
   ],
   "source": [
    "twenty_train.target_names"
   ]
  },
  {
   "cell_type": "code",
   "execution_count": 54,
   "metadata": {
    "colab": {
     "base_uri": "https://localhost:8080/",
     "height": 122
    },
    "colab_type": "code",
    "id": "clBMKHzC0_N1",
    "outputId": "6737512d-e3cc-441f-93a3-b6e64c3ab42d"
   },
   "outputs": [
    {
     "data": {
      "text/plain": [
       "['From: sd345@city.ac.uk (Michael Collier)\\nSubject: Converting images to HP LaserJet III?\\nNntp-Posting-Host: hampton\\nOrganization: The City University\\nLines: 14\\n\\nDoes anyone know of a good way (standard PC application/PD utility) to\\nconvert tif/img/tga files into LaserJet III format.  We would also like to\\ndo the same, converting to HPGL (HP plotter) files.\\n\\nPlease email any response.\\n\\nIs this the correct group?\\n\\nThanks in advance.  Michael.\\n-- \\nMichael Collier (Programmer)                 The Computer Unit,\\nEmail: M.P.Collier@uk.ac.city                The City University,\\nTel: 071 477-8000 x3769                      London,\\nFax: 071 477-8565                            EC1V 0HB.\\n',\n",
       " \"From: ani@ms.uky.edu (Aniruddha B. Deglurkar)\\nSubject: help: Splitting a trimming region along a mesh \\nOrganization: University Of Kentucky, Dept. of Math Sciences\\nLines: 28\\n\\n\\n\\n\\tHi,\\n\\n\\tI have a problem, I hope some of the 'gurus' can help me solve.\\n\\n\\tBackground of the problem:\\n\\tI have a rectangular mesh in the uv domain, i.e  the mesh is a \\n\\tmapping of a 3d Bezier patch into 2d. The area in this domain\\n\\twhich is inside a trimming loop had to be rendered. The trimming\\n\\tloop is a set of 2d Bezier curve segments.\\n\\tFor the sake of notation: the mesh is made up of cells.\\n\\n\\tMy problem is this :\\n\\tThe trimming area has to be split up into individual smaller\\n\\tcells bounded by the trimming curve segments. If a cell\\n\\tis wholly inside the area...then it is output as a whole ,\\n\\telse it is trivially rejected. \\n\\n\\tDoes any body know how thiss can be done, or is there any algo. \\n\\tsomewhere for doing this.\\n\\n\\tAny help would be appreciated.\\n\\n\\tThanks, \\n\\tAni.\\n-- \\nTo get irritated is human, to stay cool, divine.\\n\",\n",
       " \"From: djohnson@cs.ucsd.edu (Darin Johnson)\\nSubject: Re: harrassed at work, could use some prayers\\nOrganization: =CSE Dept., U.C. San Diego\\nLines: 63\\n\\n(Well, I'll email also, but this may apply to other people, so\\nI'll post also.)\\n\\n>I've been working at this company for eight years in various\\n>engineering jobs.  I'm female.  Yesterday I counted and realized that\\n>on seven different occasions I've been sexually harrassed at this\\n>company.\\n\\n>I dreaded coming back to work today.  What if my boss comes in to ask\\n>me some kind of question...\\n\\nYour boss should be the person bring these problems to.  If he/she\\ndoes not seem to take any action, keep going up higher and higher.\\nSexual harrassment does not need to be tolerated, and it can be an\\nenormous emotional support to discuss this with someone and know that\\nthey are trying to do something about it.  If you feel you can not\\ndiscuss this with your boss, perhaps your company has a personnel\\ndepartment that can work for you while preserving your privacy.  Most\\ncompanies will want to deal with this problem because constant anxiety\\ndoes seriously affect how effectively employees do their jobs.\\n\\nIt is unclear from your letter if you have done this or not.  It is\\nnot inconceivable that management remains ignorant of employee\\nproblems/strife even after eight years (it's a miracle if they do\\nnotice).  Perhaps your manager did not bring to the attention of\\nhigher ups?  If the company indeed does seem to want to ignore the\\nentire problem, there may be a state agency willing to fight with\\nyou.  (check with a lawyer, a women's resource center, etc to find out)\\n\\nYou may also want to discuss this with your paster, priest, husband,\\netc.  That is, someone you know will not be judgemental and that is\\nsupportive, comforting, etc.  This will bring a lot of healing.\\n\\n>So I returned at 11:25, only to find that ever single\\n>person had already left for lunch.  They left at 11:15 or so.  No one\\n>could be bothered to call me at the other building, even though my\\n>number was posted.\\n\\nThis happens to a lot of people.  Honest.  I believe it may seem\\nto be due to gross insensitivity because of the feelings you are\\ngoing through.  People in offices tend to be more insensitive while\\nworking than they normally are (maybe it's the hustle or stress or...)\\nI've had this happen to me a lot, often because they didn't realize\\nmy car was broken, etc.  Then they will come back and wonder why I\\ndidn't want to go (this would tend to make me stop being angry at\\nbeing ignored and make me laugh).  Once, we went off without our\\nboss, who was paying for the lunch :-)\\n\\n>For this\\n>reason I hope good Mr. Moderator allows me this latest indulgence.\\n\\nWell, if you can't turn to the computer for support, what would\\nwe do?  (signs of the computer age :-)\\n\\nIn closing, please don't let the hateful actions of a single person\\nharm you.  They are doing it because they are still the playground\\nbully and enjoy seeing the hurt they cause.  And you should not\\naccept the opinions of an imbecile that you are worthless - much\\nwiser people hold you in great esteem.\\n-- \\nDarin Johnson\\ndjohnson@ucsd.edu\\n  - Luxury!  In MY day, we had to make do with 5 bytes of swap...\\n\",\n",
       " 'From: s0612596@let.rug.nl (M.M. Zwart)\\nSubject: catholic church poland\\nOrganization: Faculteit der Letteren, Rijksuniversiteit Groningen, NL\\nLines: 10\\n\\nHello,\\n\\nI\\'m writing a paper on the role of the catholic church in Poland after 1989. \\nCan anyone tell me more about this, or fill me in on recent books/articles(\\nin english, german or french). Most important for me is the role of the \\nchurch concerning the abortion-law, religious education at schools,\\nbirth-control and the relation church-state(government). Thanx,\\n\\n                                                 Masja,\\n\"M.M.Zwart\"<s0612596@let.rug.nl>\\n',\n",
       " 'From: stanly@grok11.columbiasc.ncr.com (stanly)\\nSubject: Re: Elder Brother\\nOrganization: NCR Corp., Columbia SC\\nLines: 15\\n\\nIn article <Apr.8.00.57.41.1993.28246@athos.rutgers.edu> REXLEX@fnal.gov writes:\\n>In article <Apr.7.01.56.56.1993.22824@athos.rutgers.edu> shrum@hpfcso.fc.hp.com\\n>Matt. 22:9-14 \\'Go therefore to the main highways, and as many as you find\\n>there, invite to the wedding feast.\\'...\\n\\n>hmmmmmm.  Sounds like your theology and Christ\\'s are at odds. Which one am I \\n>to believe?\\n\\nIn this parable, Jesus tells the parable of the wedding feast. \"The kingdom\\nof heaven is like unto a certain king which made a marriage for his son\".\\nSo the wedding clothes were customary,  and \"given\" to those who \"chose\" to\\nattend.  This man \"refused\" to wear the clothes.  The wedding clothes are\\nequalivant to the \"clothes of righteousness\".  When Jesus died for our sins,\\nthose \"clothes\" were then provided.  Like that man, it is our decision to\\nput the clothes on.\\n']"
      ]
     },
     "execution_count": 54,
     "metadata": {
      "tags": []
     },
     "output_type": "execute_result"
    }
   ],
   "source": [
    "twenty_train.data[0:5]"
   ]
  },
  {
   "cell_type": "markdown",
   "metadata": {
    "colab_type": "text",
    "id": "hTz4EaN_1WGc"
   },
   "source": [
    "### 9.  Now with dependent and independent data available for both train and test datasets, using TfidfVectorizer fit and transform the training data and test data and get the tfidf features for both"
   ]
  },
  {
   "cell_type": "code",
   "execution_count": 0,
   "metadata": {
    "colab": {},
    "colab_type": "code",
    "id": "H5G477f81C0Z"
   },
   "outputs": [],
   "source": [
    "from sklearn.feature_extraction.text import TfidfVectorizer"
   ]
  },
  {
   "cell_type": "code",
   "execution_count": 0,
   "metadata": {
    "colab": {},
    "colab_type": "code",
    "id": "bNgGOatylh7T"
   },
   "outputs": [],
   "source": [
    "tfidf_train = TfidfVectorizer(stop_words='english',ngram_range=(1,2))\n",
    "dtmTrain = tfidf_train.fit_transform(twenty_train.data)"
   ]
  },
  {
   "cell_type": "code",
   "execution_count": 57,
   "metadata": {
    "colab": {
     "base_uri": "https://localhost:8080/",
     "height": 136
    },
    "colab_type": "code",
    "id": "uKZgsNIDliEn",
    "outputId": "b8cc96f1-20b1-40f3-dd57-41aaac6dea9b"
   },
   "outputs": [
    {
     "data": {
      "text/plain": [
       "array([[0., 0., 0., ..., 0., 0., 0.],\n",
       "       [0., 0., 0., ..., 0., 0., 0.],\n",
       "       [0., 0., 0., ..., 0., 0., 0.],\n",
       "       ...,\n",
       "       [0., 0., 0., ..., 0., 0., 0.],\n",
       "       [0., 0., 0., ..., 0., 0., 0.],\n",
       "       [0., 0., 0., ..., 0., 0., 0.]])"
      ]
     },
     "execution_count": 57,
     "metadata": {
      "tags": []
     },
     "output_type": "execute_result"
    }
   ],
   "source": [
    "dtmTrain = dtmTrain.toarray()\n",
    "dtmTrain"
   ]
  },
  {
   "cell_type": "code",
   "execution_count": 58,
   "metadata": {
    "colab": {
     "base_uri": "https://localhost:8080/",
     "height": 34
    },
    "colab_type": "code",
    "id": "LKzfW0N2lnUw",
    "outputId": "410ca458-3288-40ee-84d1-18fc12d3f133"
   },
   "outputs": [
    {
     "data": {
      "text/plain": [
       "(2257, 266963)"
      ]
     },
     "execution_count": 58,
     "metadata": {
      "tags": []
     },
     "output_type": "execute_result"
    }
   ],
   "source": [
    "dtmTrain.shape"
   ]
  },
  {
   "cell_type": "code",
   "execution_count": 59,
   "metadata": {
    "colab": {
     "base_uri": "https://localhost:8080/",
     "height": 136
    },
    "colab_type": "code",
    "id": "4CLH0eWrlqeO",
    "outputId": "6fb19d8f-c936-485c-905f-ce82681c8366"
   },
   "outputs": [
    {
     "data": {
      "text/plain": [
       "array([[0., 0., 0., ..., 0., 0., 0.],\n",
       "       [0., 0., 0., ..., 0., 0., 0.],\n",
       "       [0., 0., 0., ..., 0., 0., 0.],\n",
       "       ...,\n",
       "       [0., 0., 0., ..., 0., 0., 0.],\n",
       "       [0., 0., 0., ..., 0., 0., 0.],\n",
       "       [0., 0., 0., ..., 0., 0., 0.]])"
      ]
     },
     "execution_count": 59,
     "metadata": {
      "tags": []
     },
     "output_type": "execute_result"
    }
   ],
   "source": [
    "dtmTest = tfidf_train.transform(twenty_test.data)\n",
    "dtmTest = dtmTest.toarray()\n",
    "dtmTest"
   ]
  },
  {
   "cell_type": "code",
   "execution_count": 60,
   "metadata": {
    "colab": {
     "base_uri": "https://localhost:8080/",
     "height": 34
    },
    "colab_type": "code",
    "id": "OaAkYUITlvwo",
    "outputId": "8095b201-8ed7-442f-8421-cf6db13b83c1"
   },
   "outputs": [
    {
     "data": {
      "text/plain": [
       "(1502, 266963)"
      ]
     },
     "execution_count": 60,
     "metadata": {
      "tags": []
     },
     "output_type": "execute_result"
    }
   ],
   "source": [
    "dtmTest.shape"
   ]
  },
  {
   "cell_type": "code",
   "execution_count": 0,
   "metadata": {
    "colab": {},
    "colab_type": "code",
    "id": "DL0c3O9Cl6Xu"
   },
   "outputs": [],
   "source": [
    "Y_train = twenty_train.target\n",
    "Y_test = twenty_test.target"
   ]
  },
  {
   "cell_type": "code",
   "execution_count": 62,
   "metadata": {
    "colab": {
     "base_uri": "https://localhost:8080/",
     "height": 51
    },
    "colab_type": "code",
    "id": "ErP63Zyll6bO",
    "outputId": "e26653cb-4f10-4bb8-f49e-2db94db1e0c3"
   },
   "outputs": [
    {
     "name": "stdout",
     "output_type": "stream",
     "text": [
      "(2257,)\n",
      "(1502,)\n"
     ]
    }
   ],
   "source": [
    "print(Y_train.shape)\n",
    "print(Y_test.shape)"
   ]
  },
  {
   "cell_type": "markdown",
   "metadata": {
    "colab_type": "text",
    "id": "tp_fDINJ1t4L"
   },
   "source": [
    "### 10. Use logisticRegression with tfidf features as input and targets as output and train the model and report the train and test accuracy score"
   ]
  },
  {
   "cell_type": "code",
   "execution_count": 0,
   "metadata": {
    "colab": {},
    "colab_type": "code",
    "id": "THlN2b5d1yQp"
   },
   "outputs": [],
   "source": [
    "from sklearn.linear_model import LogisticRegression"
   ]
  },
  {
   "cell_type": "code",
   "execution_count": 64,
   "metadata": {
    "colab": {
     "base_uri": "https://localhost:8080/",
     "height": 122
    },
    "colab_type": "code",
    "id": "qR6RYe-UmDgu",
    "outputId": "87edd8d5-6fd5-46b2-e88f-61ee71ebdc2d"
   },
   "outputs": [
    {
     "name": "stderr",
     "output_type": "stream",
     "text": [
      "/usr/local/lib/python3.6/dist-packages/sklearn/linear_model/logistic.py:432: FutureWarning: Default solver will be changed to 'lbfgs' in 0.22. Specify a solver to silence this warning.\n",
      "  FutureWarning)\n",
      "/usr/local/lib/python3.6/dist-packages/sklearn/linear_model/logistic.py:469: FutureWarning: Default multi_class will be changed to 'auto' in 0.22. Specify the multi_class option to silence this warning.\n",
      "  \"this warning.\", FutureWarning)\n"
     ]
    },
    {
     "name": "stdout",
     "output_type": "stream",
     "text": [
      "0.8974700399467377\n"
     ]
    }
   ],
   "source": [
    "logR = LogisticRegression()\n",
    "logR.fit(dtmTrain,Y_train)\n",
    "print(logR.score(dtmTest,Y_test))\n",
    "Y_pred = logR.predict(dtmTest)"
   ]
  },
  {
   "cell_type": "code",
   "execution_count": 0,
   "metadata": {
    "colab": {},
    "colab_type": "code",
    "id": "MUI_hkb3mGDT"
   },
   "outputs": [],
   "source": [
    "from sklearn.metrics import accuracy_score,classification_report,confusion_matrix"
   ]
  },
  {
   "cell_type": "code",
   "execution_count": 66,
   "metadata": {
    "colab": {
     "base_uri": "https://localhost:8080/",
     "height": 289
    },
    "colab_type": "code",
    "id": "uzXgXoNrmIRD",
    "outputId": "4319f334-85b5-41b0-d751-c09920e88970"
   },
   "outputs": [
    {
     "name": "stdout",
     "output_type": "stream",
     "text": [
      "0.8974700399467377\n",
      "              precision    recall  f1-score   support\n",
      "\n",
      "           0       0.96      0.77      0.86       319\n",
      "           1       0.85      0.97      0.91       389\n",
      "           2       0.94      0.86      0.90       396\n",
      "           3       0.87      0.96      0.91       398\n",
      "\n",
      "    accuracy                           0.90      1502\n",
      "   macro avg       0.91      0.89      0.89      1502\n",
      "weighted avg       0.90      0.90      0.90      1502\n",
      "\n",
      "[[247  14  14  44]\n",
      " [  2 379   4   4]\n",
      " [  4  42 340  10]\n",
      " [  3  11   2 382]]\n"
     ]
    }
   ],
   "source": [
    "print(accuracy_score(Y_test,Y_pred))\n",
    "print(classification_report(Y_test,Y_pred))\n",
    "print(confusion_matrix(Y_test,Y_pred))"
   ]
  }
 ],
 "metadata": {
  "accelerator": "GPU",
  "colab": {
   "collapsed_sections": [],
   "name": "R8_External_Lab_Questions_CIFAR10_Transfer_Learning_TFIDF_Text_Classification-1.ipynb",
   "provenance": []
  },
  "kernelspec": {
   "display_name": "Python 3",
   "language": "python",
   "name": "python3"
  },
  "language_info": {
   "codemirror_mode": {
    "name": "ipython",
    "version": 3
   },
   "file_extension": ".py",
   "mimetype": "text/x-python",
   "name": "python",
   "nbconvert_exporter": "python",
   "pygments_lexer": "ipython3",
   "version": "3.7.3"
  }
 },
 "nbformat": 4,
 "nbformat_minor": 1
}
