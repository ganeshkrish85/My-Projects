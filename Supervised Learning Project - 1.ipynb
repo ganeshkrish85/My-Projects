{
 "cells": [
  {
   "cell_type": "code",
   "execution_count": null,
   "metadata": {},
   "outputs": [],
   "source": [
    "#Import and store the data in a data frame\n",
    "\n",
    "import pandas as pd\n",
    "air = pd.read_csv('airline.csv')\n",
    "print(air.shape)"
   ]
  },
  {
   "cell_type": "code",
   "execution_count": null,
   "metadata": {},
   "outputs": [],
   "source": [
    "#Remove the outliers from the dataRemove the outliers from the data\n",
    "\n",
    "import numpy as np\n",
    "import pandas as pd\n",
    "Q1 = air.quantile(0.25)\n",
    "Q3 = air.quantile(0.75)\n",
    "IQR = Q3-Q1\n",
    "air= air[~((air< (Q1 - 1.5 * IQR)) | (air> (Q3 + 1.5 * IQR))).any(axis=1)]\n",
    "print(air.shape)"
   ]
  },
  {
   "cell_type": "code",
   "execution_count": null,
   "metadata": {},
   "outputs": [],
   "source": [
    "#Treat “Average Fare” – 3rdColumn as your Dependent Variable and Rest of the columns as Independent Variable.\n",
    "\n",
    "x=air.loc[:, air.columns != 'Average Fare']\n",
    "y=air.loc[:, air.columns == 'Average Fare']\n",
    "x= x.fillna(0)\n",
    "y=y.fillna(0)"
   ]
  },
  {
   "cell_type": "code",
   "execution_count": null,
   "metadata": {},
   "outputs": [],
   "source": [
    "#Drop the independent variables which has less than 0.1 correlation with the dependent variable \n",
    "\n",
    "to_drop= air.corr() ['Average Fare'] .abs()\n",
    "to_drop = to_drop.fillna(0)\n",
    "for i in range(to_drop.shape[0]):\n",
    "    if to_drop[i] < 0.1:\n",
    "        col=to_drop.index[i]\n",
    "        x.drop([col], axis='columns',inplace=True)"
   ]
  },
  {
   "cell_type": "code",
   "execution_count": null,
   "metadata": {},
   "outputs": [],
   "source": [
    "#Create scatter Plot of Independent Variable vs Dependent Variable.\n",
    "\n",
    "%matplotlib inline\n",
    "import matplotlib.pyplot as plt\n",
    "#import matplotlib\n",
    "for i in range(len(x.columns)):\n",
    "    if x[x.columns[i]].dtype in ('int64','float64'):\n",
    "        air.plot.scatter(x=x.columns[i],y='Average Fare')"
   ]
  },
  {
   "cell_type": "code",
   "execution_count": null,
   "metadata": {},
   "outputs": [],
   "source": [
    "#Divide the data set into training and test data set and build a Multiple Linear Regression model\n",
    "\n",
    "import pandas as pd\n",
    "from sklearn.model_selection import train_test_split\n",
    "from sklearn.linear_model import LinearRegression  \n",
    "\n",
    "x_train, x_test, y_train, y_test = train_test_split(x,y,test_size=0.2, random_state=1)\n",
    "regressor = LinearRegression()\n",
    "regressor.fit(x_train, y_train)\n",
    "y_pred = regressor.predict(x_test)\n",
    "\n",
    "results = pd.DataFrame({'Actual': [y_test], 'Predicted': [y_pred]})\n",
    "print(results)"
   ]
  },
  {
   "cell_type": "code",
   "execution_count": null,
   "metadata": {},
   "outputs": [],
   "source": [
    "#Print the coefficients & intercepts of the linear regression model \n",
    "\n",
    "print(\"Coefficient: \",regressor.coef_)\n",
    "print(\"Intercept: \",regressor.intercept_)"
   ]
  },
  {
   "cell_type": "code",
   "execution_count": null,
   "metadata": {},
   "outputs": [],
   "source": [
    "#Print the accuracy of the overall model\n",
    "\n",
    "from sklearn.metrics import r2_score\n",
    "print('Accuracy Score: ', (r2_score(y_test, y_pred)))"
   ]
  }
 ],
 "metadata": {
  "kernelspec": {
   "display_name": "Python 3",
   "language": "python",
   "name": "python3"
  },
  "language_info": {
   "codemirror_mode": {
    "name": "ipython",
    "version": 3
   },
   "file_extension": ".py",
   "mimetype": "text/x-python",
   "name": "python",
   "nbconvert_exporter": "python",
   "pygments_lexer": "ipython3",
   "version": "3.7.3"
  }
 },
 "nbformat": 4,
 "nbformat_minor": 2
}
